{
 "cells": [
  {
   "cell_type": "markdown",
   "metadata": {},
   "source": [
    "<a href=\"https://colab.research.google.com/github/Ian326/TI3001C/blob/main/E5_Construcci%C3%B3n_y_transformaci%C3%B3n_de_datos.ipynb\" target=\"_parent\"><img src=\"https://colab.research.google.com/assets/colab-badge.svg\" alt=\"Open In Colab\"/></a>"
   ]
  },
  {
   "cell_type": "markdown",
   "metadata": {},
   "source": [
    "# Recolección y descripción de datos\n",
    "---\n",
    "***Equipo:***\n",
    "\n",
    "**Ruth Jiménez Vázquez - A01351923**\n",
    "\n",
    "**José Ignacio Gómez Moreno - A01067362**\n",
    "\n",
    "**Harry Hernández Grande - A01736341**\n",
    "\n",
    "**Ian Joab Padrón Corona - A01708940**\n",
    "\n",
    "---\n",
    "\n"
   ]
  },
  {
   "cell_type": "markdown",
   "metadata": {},
   "source": [
    "## Carga de datos"
   ]
  },
  {
   "cell_type": "code",
   "execution_count": null,
   "metadata": {},
   "outputs": [],
   "source": [
    "import pandas as pd\n",
    "import numpy as np\n",
    "import missingno as msno"
   ]
  },
  {
   "cell_type": "code",
   "execution_count": null,
   "metadata": {},
   "outputs": [],
   "source": [
    "print(pd.read_csv('../content/vista_repdetail_tec.csv', low_memory=False).info())\n",
    "# Como se puede observar, el csv no contiene el nombre de las columnas a utilizar\n",
    "# Por tanto se debera asignar manualmente el nombre de las columnas\n",
    "# segun el diccionario de datos proporcionado por el cliente."
   ]
  },
  {
   "cell_type": "code",
   "execution_count": null,
   "metadata": {},
   "outputs": [],
   "source": [
    "# Columnas dadas en el Diccionario de Datos proporcionado\n",
    "columns = [\n",
    "    \"Column\", \"Taller\", \"OrderID\", \"kMS\", \"OpenedDate\", \"ClosedDate\", \"Status\",\n",
    "    \"lagdias\", \"laghoras\", \"ClosedDay\", \"ClosedMonth\", \"ClosedYear\", \"OpenedDay\",\n",
    "    \"OpenedMonth\", \"OpenedYear\", \"CreatedBy\", \"ClosedBy\", \"RepReason\",\n",
    "    \"OrderType\", \"Supplier\", \"COMPCDKEY\", \"COMPCODE\", \"DESCRIP\", \"QTYRCVD\",\n",
    "    \"QTYREQD\", \"CHGAMT\", \"TAXAMT\", \"SUBTOTAL\", \"TOTAL\", \"UnitID\", \"UnitType\",\n",
    "    \"UnitYear\", \"EC\", \"Flota\", \"ReasonType\", \"COMPLAINT\", \"Jobcode\", \"TipoLinea\",\n",
    "    \"NumParte\", \"FechaPromesa\", \"Estimate\", \"CompleteDay\", \"CompleteMonth\",\n",
    "    \"CompleteYear\", \"CompleteDate\", \"MECHANIC\", \"CITA\"\n",
    "]\n",
    "\n",
    "data = pd.read_csv('../content/vista_repdetail_tec.csv', names=columns, low_memory=False)\n",
    "data.info()"
   ]
  },
  {
   "cell_type": "code",
   "execution_count": null,
   "metadata": {},
   "outputs": [],
   "source": [
    "data.sample(3)"
   ]
  },
  {
   "cell_type": "markdown",
   "metadata": {},
   "source": [
    "## Documentacion de los esquemas de datos"
   ]
  },
  {
   "cell_type": "markdown",
   "metadata": {},
   "source": [
    "* ¿Cuál es nuestra fuente de datos?\n",
    "\n",
    "Actualmente, la informacion es recabada por nuestro SocioFormador TDR. Tenemos acceso a un escritorio remoto que esta a su vez conectado con un servidor de Microsoft SQL Server.\n",
    "\n",
    "A partir de dicho servidor, llamamos a una de las vistas a las que nos dieron acceso, para recabar toda la informacion sobre las reparaciones de su flota.\n",
    "\n",
    "\n",
    "* ¿Cómo obtenemos la información?\n",
    "\n",
    "A traves de una Query de SQL a la que nos autorizaron, que seria la siguiente:\n",
    "\n",
    "\n",
    "```\n",
    "SELECT * FROM [TMWSuite].[dbo].[vista_repdetail_tec]\n",
    "```\n",
    "\n",
    "\n"
   ]
  },
  {
   "cell_type": "markdown",
   "metadata": {},
   "source": [
    "## Diccionario de datos"
   ]
  },
  {
   "cell_type": "markdown",
   "metadata": {},
   "source": [
    "| Column        | Descripción                                                                                       |\n",
    "| ------------- | ------------------------------------------------------------------------------------------------- |\n",
    "| OrderID       | ID de la orden de reparación                                                                      |\n",
    "| Taller        | Acrónimo del taller donde se realizó la reparación                                                |\n",
    "| kMS         | Kilometros viajados por la unidad                                                                     |\n",
    "| OpenedDate    | Fecha de apertura de la orden de reparación                                                       |\n",
    "| ClosedDate    | Fecha de cierre de la orden de reparación                                                         |\n",
    "| Status        | Estatus de la orden de reparación                                                                 |\n",
    "| lagdias       | Días entre cierre y apertura de la orden de reparación                                            |\n",
    "| laghoras      | Horas entre cierre y apertura de la orden de reparación                                           |\n",
    "| ClosedDay     | Día del mes en que se cerró la orden de reparación                                                |\n",
    "| ClosedMonth   | Mes que se cerró la orden de reparación                                                           |\n",
    "| ClosedYear    | Año en que se cerró la orden de reparación                                                        |\n",
    "| OpenedDay     | Día del mes en que se abrió la orden de reparación                                                |\n",
    "| OpenedMonth   | Mes que se abrió la orden de reparación                                                           |\n",
    "| OpenedYear    | Año en que se abrió la orden de reparación                                                        |\n",
    "| CreatedBy     | Usuario que creó la orden de reparación                                                           |\n",
    "| ClosedBy      | Usuario que cerro la orden de reparación                                                          |\n",
    "| RepReason     | Razón de reparación                                                                               |\n",
    "| OrderType     | Tipo de orden. Standar es en uno de nuestros talleres propios. Vendor es con un proveedor externo |\n",
    "| Supplier      | Proveedor que realizó la reparación                                                               |\n",
    "| COMPCDKEY     | Codigo de componente (No aporta info importante)                                                  |\n",
    "| COMPCODE      | Codigo utilizado para identificar el tipo de reparación                                           |\n",
    "| DESCRIP       | Descripción de la reparación                                                                      |\n",
    "| QTYRCVD       | Cantidad de piezas o trabajo recibidas                                                            |\n",
    "| QTYREQD       | Cantidad de piezas o trabajo requeridas                                                           |\n",
    "| CHGAMT        | Costo unitario                                                                                    |\n",
    "| TAXAMT        | IVA                                                                                               |\n",
    "| SUBTOTAL      | Subtotal de la reparación (No incluye IVA)                                                        |\n",
    "| TOTAL         | Total de la reparación (Incluye IVA)                                                              |\n",
    "| UnitID        | Numero de unidad                                                                                  |\n",
    "| UnitType      | Tipo de unidad (Tracto, Caja Seca, Dolly, etc.)                                                   |\n",
    "| UnitYear      | Año del modelo de la unidad                                                                       |\n",
    "| EC            | Equipo administrativo que se encarga de la operación de un conjunto de proyectos                  |\n",
    "| Flota         | Nombre del proyecto en que trabaja el tracto. (Cliente)                                           |\n",
    "| ReasonType    | Razón (No aporta info importante)                                                                 |\n",
    "| COMPLAINT     | Queja reportada                                                                                   |\n",
    "| Jobcode       | Numero para identificar el tipo de reparación                                                     |\n",
    "| TipoLinea     | Describe el tipo de línea en la orden de reparación (Piezas, mano de obra, servicios, etc.)       |\n",
    "| NumParte      | Numero de parte descarga en la línea de reparación                                                |\n",
    "| FechaPromesa  | Fecha de promesa para terminar las reparaciones de la unidad                                      |\n",
    "| Estimate      | Monto estimado (No lo utilizamos)                                                                 |\n",
    "| CompleteDay   | Día del mes en que se completó la orden                                                           |\n",
    "| CompleteMonth | Mes que se completó la orden de reparación                                                        |\n",
    "| CompleteYear  | Año en que se completó la orden de reparación                                                     |\n",
    "| CompleteDate  | Fecha en que se completó la orden de reparación                                                   |\n",
    "| MECHANIC      | Mecánico interno que realizó la reparación                                                        |\n",
    "| CITA          | Indica si la unidad tenía una cita agenda previamente                                             |"
   ]
  },
  {
   "cell_type": "markdown",
   "metadata": {},
   "source": [
    "## Analisis de la estructura de los datos"
   ]
  },
  {
   "cell_type": "markdown",
   "metadata": {},
   "source": [
    "* ¿Que tipo de datos tenemos? **Tenemos 13 de tipo float, 4 int, y 30 object.**\n",
    "* ¿Requerimos modificar el tipo de datos de alguna columna? **Si, para ser precisos, debemos convertir las siguientes columnas:**\n",
    "  * **A int64**:\n",
    "    * lagdias: Son cantidad de dias, no pueden venir con decimales\n",
    "    * laghoras: Son cantidad de horas, no pueden venir con decimales\n",
    "    * ClosedDay: Es el numero del dia en que fue cerrada (puede ser de 1 - 31)\n",
    "    * QTYRCVD: Es una cantidad de piezas, no puede venir con decimales\n",
    "    * QTYREQD: Es una cantidad de piezas, no puede venir con decimales\n",
    "    * CompleteDay: Es el numero del dia en que fue cerrada (puede ser de 1 - 31)\n",
    "    * CompleteYear: Es un año (no puede tener punto decimal o ser un string)\n",
    "  \n",
    "  * **A datetime64**\n",
    "    * OpenedDate: Actualmente es un object, debe ser fecha\n",
    "    * ClosedDate: Actualmente es un object, debe ser fecha\n",
    "    * FechaPromesa: Actualmente es un object, debe ser fecha\n",
    "    * CompleteDate: Actualmente es un object, debe ser fecha\n",
    "\n",
    "* ¿Existen nulos? **Si, actualmente hay 689,643 registros faltantes en toda la informacion que tenemos**"
   ]
  },
  {
   "cell_type": "code",
   "execution_count": null,
   "metadata": {},
   "outputs": [],
   "source": [
    "data.dtypes.head(10)"
   ]
  },
  {
   "cell_type": "code",
   "execution_count": null,
   "metadata": {},
   "outputs": [],
   "source": [
    "data.isnull().sum()"
   ]
  },
  {
   "cell_type": "code",
   "execution_count": null,
   "metadata": {},
   "outputs": [],
   "source": [
    "data.isnull().sum().sum() # <- Cantidad de nulos"
   ]
  },
  {
   "cell_type": "markdown",
   "metadata": {},
   "source": [
    "## Perfiles involucrados"
   ]
  },
  {
   "cell_type": "markdown",
   "metadata": {},
   "source": [
    "*   Equipo de TDR que nos puede ayudar con los datos (Identificar por nombre y cargo)\n",
    "\n",
    "\n",
    "### Ing. Emmanuel Vargas Pérez\n",
    "\n",
    "**Jefe de Administración de Equipo**\n",
    "\n",
    "Nos proporcionará información sobre el proyecto que desarrollaremos (Sayer), incluyendo configuraciones de las flotas de tractocamiones y las fallas más comunes que suelen presentar estos vehículos.\n",
    "\n",
    "\n"
   ]
  },
  {
   "cell_type": "markdown",
   "metadata": {},
   "source": [
    "\n",
    "\n",
    "### Ing. Mauricio Romo Ávila\n",
    "\n",
    "**Subdirector de Mantenimiento**\n",
    "\n",
    "Nos brindará información sobre el mantenimiento de los tractocamiones, incluyendo las fallas comunes, los costos asociados a estas fallas, las ubicaciones donde ocurren con mayor frecuencia, el número de talleres disponibles (tanto propios como generales), y responderá dudas sobre sus mantenimientos correctivos."
   ]
  },
  {
   "cell_type": "markdown",
   "metadata": {},
   "source": [
    "\n",
    "### Ing. Brandon Velazco\n",
    "\n",
    "**Jefe de Taller**\n",
    "\n",
    "Aportará información relevante sobre los tractocamiones, incluyendo detalles sobre las partes y componentes específicos que suelen fallar, en qué consisten estas fallas, así como la duración y el costo de las mismas."
   ]
  },
  {
   "cell_type": "markdown",
   "metadata": {},
   "source": [
    "*   Los profesores nos brindarán las herramientas y conocimientos\n",
    "necesarios para lograr las metas y objetivos."
   ]
  },
  {
   "cell_type": "markdown",
   "metadata": {},
   "source": [
    "## Limpieza de Indices y Columnas"
   ]
  },
  {
   "cell_type": "markdown",
   "metadata": {},
   "source": [
    "* ¿Que indices vamos a utilizar?\n",
    " **La mejor opcion seria el OrderID, ya que es un valor unico para identificar cada orden de mantenimiento**\n",
    "\n",
    "* ¿Que columnas requieren un cambio de Tipo de Dato?\n",
    "  * **A int64**:\n",
    "      * lagdias: Son cantidad de dias, no pueden venir con decimales\n",
    "      * laghoras: Son cantidad de horas, no pueden venir con decimales\n",
    "      * ClosedDay: Es el numero del dia en que fue cerrada (puede ser de 1 - 31)\n",
    "      * QTYRCVD: Es una cantidad de piezas, no puede venir con decimales\n",
    "      * QTYREQD: Es una cantidad de piezas, no puede venir con decimales\n",
    "      * CompleteDay: Es el numero del dia en que fue cerrada (puede ser de 1 - 31)\n",
    "      * CompleteYear: Es un año (no puede tener punto decimal o ser un string)\n",
    "\n",
    "    * **A float64**:\n",
    "      * Estimate: Se encuentra como object actualmente, debe ser un precio en decimal\n",
    "    \n",
    "    * **A datetime64**\n",
    "      * OpenedDate: Actualmente es un object, debe ser fecha\n",
    "      * ClosedDate: Actualmente es un object, debe ser fecha\n",
    "      * FechaPromesa: Actualmente es un object, debe ser fecha\n",
    "      * CompleteDate: Actualmente es un object, debe ser fecha"
   ]
  },
  {
   "cell_type": "code",
   "execution_count": null,
   "metadata": {},
   "outputs": [],
   "source": [
    "# Nombrando columna 'OrderID' como índice\n",
    "data.set_index('OrderID', inplace=True)\n",
    "data"
   ]
  },
  {
   "cell_type": "code",
   "execution_count": null,
   "metadata": {},
   "outputs": [],
   "source": [
    "# Convirtiendo tipos de datos a DateTime\n",
    "data['OpenedDate'] = pd.to_datetime(data['OpenedDate'])\n",
    "data['ClosedDate'] = pd.to_datetime(data['ClosedDate'])\n",
    "data['FechaPromesa'] = pd.to_datetime(data['FechaPromesa'])\n",
    "data['CompleteDate'] = pd.to_datetime(data['CompleteDate'])"
   ]
  },
  {
   "cell_type": "code",
   "execution_count": null,
   "metadata": {},
   "outputs": [],
   "source": [
    "# Redondeando todos los decimales a enteros\n",
    "data['lagdias'] = data['lagdias'].round(0)\n",
    "data['laghoras'] = data['laghoras'].round(0)\n",
    "data['ClosedDay'] = data['ClosedDay'].round(0)\n",
    "data['ClosedYear'] = data['ClosedYear'].round(0)\n",
    "data['QTYRCVD'] = data['QTYRCVD'].round(0)\n",
    "data['QTYREQD'] = data['QTYREQD'].round(0)\n",
    "data['CompleteDay'] = data['CompleteDay'].round(0)\n",
    "data['CompleteYear'] = data['CompleteYear'].round(0)"
   ]
  },
  {
   "cell_type": "code",
   "execution_count": null,
   "metadata": {},
   "outputs": [],
   "source": [
    "# Convirtiendo datos nulos a 0s\n",
    "data['lagdias'] = data['lagdias'].fillna(0)\n",
    "data['laghoras'] = data['laghoras'].fillna(0)\n",
    "data['ClosedDay'] = data['ClosedDay'].fillna(0)\n",
    "data['ClosedYear'] = data['ClosedYear'].fillna(0)\n",
    "data['QTYRCVD'] = data['QTYRCVD'].fillna(0)\n",
    "data['QTYREQD'] = data['QTYREQD'].fillna(0)\n",
    "data['CompleteDay'] = data['CompleteDay'].fillna(0)\n",
    "data['CompleteYear'] = data['CompleteYear'].fillna(0)"
   ]
  },
  {
   "cell_type": "code",
   "execution_count": null,
   "metadata": {},
   "outputs": [],
   "source": [
    "# Convertir tipos de datos a enteros\n",
    "data['lagdias'] = data['lagdias'].astype(int)\n",
    "data['laghoras'] = data['laghoras'].astype(int)\n",
    "data['ClosedDay'] = data['ClosedDay'].astype(int)\n",
    "data['ClosedYear'] = data['ClosedYear'].astype(int)\n",
    "data['QTYRCVD'] = data['QTYRCVD'].astype(int)\n",
    "data['QTYREQD'] = data['QTYREQD'].astype(int)\n",
    "data['CompleteDay'] = data['CompleteDay'].astype(int)\n",
    "data['CompleteYear'] = data['CompleteYear'].astype(int)"
   ]
  },
  {
   "cell_type": "code",
   "execution_count": null,
   "metadata": {},
   "outputs": [],
   "source": [
    "# Convertir tipos de datos a float\n",
    "# data['Estimate'] = data['Estimate'].astype(float)\n",
    "# No se puede, porque la informacion en la columna 'Estimate' no es realmente un estimado"
   ]
  },
  {
   "cell_type": "code",
   "execution_count": null,
   "metadata": {},
   "outputs": [],
   "source": [
    "# Volver a revisar el tipo de dato de las columnas\n",
    "data.info()"
   ]
  },
  {
   "cell_type": "markdown",
   "metadata": {},
   "source": [
    "## Analisis de los datos (Descriptiores Estadisticos)"
   ]
  },
  {
   "cell_type": "code",
   "execution_count": null,
   "metadata": {},
   "outputs": [],
   "source": [
    "# Seleccionar sólo las variables relevantes para las estadisticas\n",
    "data_descript = data[['lagdias', 'laghoras','TOTAL','UnitYear',\n",
    "                      'RepReason', 'UnitType', 'TipoLinea', 'CITA']]\n",
    "\n",
    "data_descript.sample(10)"
   ]
  },
  {
   "cell_type": "markdown",
   "metadata": {},
   "source": [
    "**Estadística descriptiva de las variables numéricas**"
   ]
  },
  {
   "cell_type": "code",
   "execution_count": null,
   "metadata": {},
   "outputs": [],
   "source": [
    "# Estadística descriptiva de las variables numéricas\n",
    "data_descript.describe()"
   ]
  },
  {
   "cell_type": "markdown",
   "metadata": {},
   "source": [
    "| Variable numérica | Descripción | Rango | Desviación estándar |\n",
    "|-----------|-----------|-----------|-----------|\n",
    "| lagdias    | Días entre cierre y apertura de la orden de reparación   | 655    | Datos no tan dispersos    |\n",
    "| laghoras    | Horas entre cierre y apertura de la orden de reparación    | 15,720    | Datos muy dispersos    |\n",
    "| TOTAL    | Total de la reparación (Incluye IVA)   | 1,086,544   | Datos demasiado dispersos   |\n",
    "| UnitYear    | Año del modelo de la unidad   | 116   | Datos no dispersos   |\n"
   ]
  },
  {
   "cell_type": "markdown",
   "metadata": {},
   "source": [
    "\n",
    "\n",
    "*   **lagdias**: Los días de apertura y cierre de una reparación están ligeramente dispersos\n",
    "*   **laghoras**: Las horas de apertura y cierre de una reparación presentan un gran rango de diferencia entre el valor máximo y mínimo, además de que están muy dispersas.\n",
    "*   **TOTAL**: El costo total de las reparaciones tienen el rango más amplio, y con una alta desviación estándar.\n",
    "*   **UnitYear**: Al tratarse de los años del modelo de cada unidad, no se presenta tanta dispersión.\n",
    "\n",
    "\n",
    "\n"
   ]
  },
  {
   "cell_type": "code",
   "execution_count": null,
   "metadata": {},
   "outputs": [],
   "source": [
    "msno.matrix(data_descript[['lagdias', 'laghoras', 'TOTAL', 'UnitYear']])\n",
    "#No hay notoria presencia de valores null"
   ]
  },
  {
   "cell_type": "code",
   "execution_count": null,
   "metadata": {},
   "outputs": [],
   "source": [
    "data_descript.boxplot(figsize = (20,30))\n",
    "#El costo total de una reparación presenta la mayor cantidad de outliers, valores extremos\n",
    "#Es importante consultar si estos valores son correctos, o pudiera tratarse de un error, de lo contrario se deberían eliminarse o imputarse\n",
    "\n",
    "#El resto de variables no presentan tantos valores extremos"
   ]
  },
  {
   "cell_type": "code",
   "execution_count": null,
   "metadata": {},
   "outputs": [],
   "source": [
    "#Histograma para analizar la variable más dispersa, TOTAL\n",
    "\n",
    "data_descript.hist(['TOTAL'], figsize = (10,10))"
   ]
  },
  {
   "cell_type": "markdown",
   "metadata": {},
   "source": [
    "**Estadística descripctiva de variables categóricas**"
   ]
  },
  {
   "cell_type": "code",
   "execution_count": null,
   "metadata": {},
   "outputs": [],
   "source": [
    "# Estadística descripctiva de variables categóricas\n",
    "data_descript.describe(include='object')"
   ]
  },
  {
   "cell_type": "code",
   "execution_count": null,
   "metadata": {},
   "outputs": [],
   "source": [
    "# Valores más repetidos en las variables cuantitativas\n",
    "dataquant = data_descript.select_dtypes(include=object)\n",
    "\n",
    "for i in range(dataquant.shape[1]):\n",
    "  print(dataquant.iloc[:,i].value_counts().head(5))\n",
    "  print()"
   ]
  },
  {
   "cell_type": "markdown",
   "metadata": {},
   "source": [
    "Identificar si hay columnas comunes en los dataframes empleados que permitan “enlazar” los registros en las siguientes fases.\n",
    "\n",
    "**Debido a que solo utilizamos un dataframe para esta parte inicial del proyecto, no contamos con columnas por las que se pueda enlazar a otros dataframes. A futuro sería posible que tengamos más de uno que sí valdría la pena enlazar a traves de llaves o columnas en común.**"
   ]
  },
  {
   "cell_type": "markdown",
   "metadata": {},
   "source": [
    "# **Selección y limpieza de datos**"
   ]
  },
  {
   "cell_type": "markdown",
   "metadata": {},
   "source": [
    "## Eliminar las columnas no relevantes"
   ]
  },
  {
   "cell_type": "markdown",
   "metadata": {},
   "source": [
    "Columna|Justificacion\n",
    "------|--------------\n",
    "Column| No sabemos que es\n",
    "Taller| Viene implicito en el OrderID (nuestro index)\n",
    "ClosedDate| Tenemos una metrica mas precisa (laghoras)\n",
    "ClosedDay| \"\"\n",
    "ClosedMonth| \"\"\n",
    "ClosedYear| \"\"\n",
    "OpenedDay| Tenemos una metrica mas general (OpenedDate)\n",
    "OpenedMonth| \"\"\n",
    "OpenedYear| \"\"\n",
    "CreatedBy| No afecta realmente quien inicio la orden de reparacion\n",
    "ClosedBy| No afecta realmente quien cerro la orden de reparacion\n",
    "OrderType| Solo existen 2 tipos 'Standard' & 'Vendor'. Asumimos que no tiene efecto en la reparacion\n",
    "Supplier| No afecta realmente de donde se obtuvo la pieza de reparacion\n",
    "**COMPCDKEY**| **No sabemos si tiene utilidad o no**\n",
    "**COMPCODE**| **No sabemos si tiene utilidad o no**\n",
    "DESCRIP| Tiene informacion demasiado especifica para cada caso, no nos seria util\n",
    "QTYRCVD| No afecta realmente si se daño 1 o mas piezas, si no, que fallaron\n",
    "QTYREQD| Similar al anterior.\n",
    "CHGAMT| Lo importante es la metrica del costo por reparacion (TOTAL)\n",
    "TAXAMT| \"\"\n",
    "SUBTOTAL| \"\"\n",
    "EC| No afecta realmente el equipo administrativo del proyecto\n",
    "ReasonType| Segun el diccionario de datos, no aporta informacion relevante\n",
    "FechaPromesa| No genera impacto en la reparacion\n",
    "Estimate| \" \"\n",
    "CompleteDay| Tenemos una metrica mas precisa (laghoras)\n",
    "CompleteMonth| \"\"\n",
    "CompleteYear| \"\"\n",
    "CompleteDate| \"\"\n",
    "MECHANIC| Asumimos que no genera impacto en la reparacion quien la hizo"
   ]
  },
  {
   "cell_type": "code",
   "execution_count": null,
   "metadata": {},
   "outputs": [],
   "source": [
    "# Seleccionar sólo las columnas relevantes para las estadisticas\n",
    "data_filtered_cols = data.drop(['Column', 'Taller', 'ClosedDate', 'Status',\n",
    "                   'ClosedDay', 'ClosedMonth', 'ClosedYear', 'OpenedDay', 'OpenedMonth', 'OpenedYear',\n",
    "                   'CreatedBy', 'ClosedBy', 'OrderType', 'Supplier', 'COMPCDKEY', 'COMPCODE',\n",
    "                   'DESCRIP', 'QTYRCVD', 'QTYREQD', 'CHGAMT', 'TAXAMT', 'SUBTOTAL', 'EC',\n",
    "                   'ReasonType', 'FechaPromesa', 'Estimate', 'CompleteDay',\n",
    "                   'CompleteMonth', 'CompleteYear', 'CompleteDate', 'MECHANIC'], axis=1)\n",
    "\n",
    "data_filtered_cols.sample(10)"
   ]
  },
  {
   "cell_type": "code",
   "execution_count": null,
   "metadata": {},
   "outputs": [],
   "source": [
    "data_filtered_cols.info()"
   ]
  },
  {
   "cell_type": "code",
   "execution_count": null,
   "metadata": {},
   "outputs": [],
   "source": [
    "data_filtered_cols.isnull().sum()"
   ]
  },
  {
   "cell_type": "markdown",
   "metadata": {},
   "source": [
    "## Limpieza de las columnas (Trim)"
   ]
  },
  {
   "cell_type": "markdown",
   "metadata": {},
   "source": [
    "Notamos que algunas de las columnas extraidas desde el archivo .csv tenian espacios en blanco que deben ser removidos para evitar complicaciones mas adelante en la agrupacion y filtrado de informacion. Es por eso que se procedera a arreglar dichos errores en la captura de la informacion"
   ]
  },
  {
   "cell_type": "code",
   "execution_count": null,
   "metadata": {},
   "outputs": [],
   "source": [
    "data_filtered_cols.info()"
   ]
  },
  {
   "cell_type": "code",
   "execution_count": null,
   "metadata": {},
   "outputs": [],
   "source": [
    "data_filtered_cols.head(5)"
   ]
  },
  {
   "cell_type": "code",
   "execution_count": null,
   "metadata": {},
   "outputs": [],
   "source": [
    "# Trim 'RepReason' column\n",
    "data_filtered_cols['RepReason'] = data_filtered_cols['RepReason'].str.strip()\n",
    "# Verificar que se haya hecho correctamente\n",
    "data_filtered_cols['RepReason'].value_counts().index[0:5]"
   ]
  },
  {
   "cell_type": "code",
   "execution_count": null,
   "metadata": {},
   "outputs": [],
   "source": [
    "# Trim 'UnitType' column\n",
    "data_filtered_cols['UnitType'] = data_filtered_cols['UnitType'].str.strip()\n",
    "# Verificar que se haya hecho correctamente\n",
    "data_filtered_cols['UnitType'].value_counts().index"
   ]
  },
  {
   "cell_type": "code",
   "execution_count": null,
   "metadata": {},
   "outputs": [],
   "source": [
    "# Trim 'Flota' column\n",
    "data_filtered_cols['Flota'] = data_filtered_cols['Flota'].str.strip()\n",
    "# Verificar que se haya hecho correctamente\n",
    "data_filtered_cols['Flota'].value_counts().index[0:5]"
   ]
  },
  {
   "cell_type": "code",
   "execution_count": null,
   "metadata": {},
   "outputs": [],
   "source": [
    "# Trim 'COMPLAINT' column\n",
    "data_filtered_cols['COMPLAINT'] = data_filtered_cols['COMPLAINT'].str.strip()\n",
    "# Verificar que se haya hecho correctamente\n",
    "data_filtered_cols['COMPLAINT'].value_counts().index[0:5]"
   ]
  },
  {
   "cell_type": "code",
   "execution_count": null,
   "metadata": {},
   "outputs": [],
   "source": [
    "# Trim 'Jobcode' column\n",
    "data_filtered_cols['Jobcode'] = data_filtered_cols['Jobcode'].str.strip()\n",
    "# Verificar que se haya hecho correctamente\n",
    "data_filtered_cols['Jobcode'].value_counts().index[0:5]"
   ]
  },
  {
   "cell_type": "code",
   "execution_count": null,
   "metadata": {},
   "outputs": [],
   "source": [
    "# Trim 'TipoLinea' column\n",
    "data_filtered_cols['TipoLinea'] = data_filtered_cols['TipoLinea'].str.strip()\n",
    "# Verificar que se haya hecho correctamente\n",
    "data_filtered_cols['TipoLinea'].value_counts().index"
   ]
  },
  {
   "cell_type": "code",
   "execution_count": null,
   "metadata": {},
   "outputs": [],
   "source": [
    "# Trim 'NumParte' column\n",
    "data_filtered_cols['NumParte'] = data_filtered_cols['NumParte'].str.strip()\n",
    "# Verificar que se haya hecho correctamente\n",
    "data_filtered_cols['NumParte'].value_counts().index[0:5]"
   ]
  },
  {
   "cell_type": "code",
   "execution_count": null,
   "metadata": {},
   "outputs": [],
   "source": [
    "# Trim 'CITA' column\n",
    "data_filtered_cols['CITA'] = data_filtered_cols['CITA'].str.strip()\n",
    "# Verificar que se haya hecho correctamente\n",
    "data_filtered_cols['CITA'].value_counts().index"
   ]
  },
  {
   "cell_type": "markdown",
   "metadata": {},
   "source": [
    "Para la ultima columna 'CITA' se observa que existen registros con un campo vacio, por lo que se procede a sustituir este campo N/A por un texto de referencia (DESCONOCIDO)"
   ]
  },
  {
   "cell_type": "code",
   "execution_count": null,
   "metadata": {},
   "outputs": [],
   "source": [
    "# Sustituir valores de 'CITA' con un string vacio por 'Desconocido'\n",
    "data_filtered_cols['CITA'] = data_filtered_cols['CITA'].replace('', 'DESCONOCIDO')\n",
    "# Verificar que se haya hecho correctamente\n",
    "data_filtered_cols['CITA'].value_counts().index"
   ]
  },
  {
   "cell_type": "markdown",
   "metadata": {},
   "source": [
    "## Restablecer los índices con identificadores adecuados."
   ]
  },
  {
   "cell_type": "markdown",
   "metadata": {},
   "source": [
    "La columna OrderID ya ha sido colocada como el índice del dataframe, y de esta manera resulta útil para el análisis."
   ]
  },
  {
   "cell_type": "markdown",
   "metadata": {},
   "source": [
    "## Seleccionar o filtrar los registros u observaciones de interés\n",
    "Con la finalidad de operar dataframes de menor complejidad."
   ]
  },
  {
   "cell_type": "markdown",
   "metadata": {},
   "source": [
    "Dado el proyecto asignado al equipo, nos centraremos en la informacion sobre todas las reparaciones de la flota 'Sayer', por lo que deberemos filtrar dicha informacion."
   ]
  },
  {
   "cell_type": "code",
   "execution_count": null,
   "metadata": {},
   "outputs": [],
   "source": [
    "# Extraemos la informacion del proyecto Sayer Full\n",
    "data_sayer = data_filtered_cols[data_filtered_cols['Flota'] == 'Sayer Full'][:]\n",
    "data_sayer.info()"
   ]
  },
  {
   "cell_type": "markdown",
   "metadata": {},
   "source": [
    "## Identificar valores faltantes y eliminarlos\n",
    "(Tambien se pueden imputar según la naturaleza de la omisión. Justificar cada caso.)"
   ]
  },
  {
   "cell_type": "code",
   "execution_count": null,
   "metadata": {},
   "outputs": [],
   "source": [
    "data_sayer[['kMS', 'TipoLinea', 'CITA', 'NumParte']].isnull().sum()"
   ]
  },
  {
   "cell_type": "code",
   "execution_count": null,
   "metadata": {},
   "outputs": [],
   "source": [
    "filas_null = data_sayer[data_sayer.isnull().any(axis=1)]\n",
    "filas_null"
   ]
  },
  {
   "cell_type": "code",
   "execution_count": null,
   "metadata": {},
   "outputs": [],
   "source": [
    "data_sayer['CITA'] = data_sayer['CITA'].fillna('DESCONOCIDO')\n",
    "data_sayer['CITA'].isnull().sum()"
   ]
  },
  {
   "cell_type": "code",
   "execution_count": null,
   "metadata": {},
   "outputs": [],
   "source": [
    "data_sayer['TipoLinea'] = data_sayer['TipoLinea'].fillna('DESCONOCIDO')\n",
    "data_sayer['TipoLinea'].isnull().sum()"
   ]
  },
  {
   "cell_type": "code",
   "execution_count": null,
   "metadata": {},
   "outputs": [],
   "source": [
    "data_sayer['NumParte'] = data_sayer['NumParte'].fillna('DESCONOCIDO')\n",
    "data_sayer['NumParte'].isnull().sum()"
   ]
  },
  {
   "cell_type": "code",
   "execution_count": null,
   "metadata": {},
   "outputs": [],
   "source": [
    "data_sayer.isnull().sum()"
   ]
  },
  {
   "cell_type": "markdown",
   "metadata": {},
   "source": [
    "## Detectar valores atípicos para su posterior transformación.\n"
   ]
  },
  {
   "cell_type": "code",
   "execution_count": null,
   "metadata": {},
   "outputs": [],
   "source": [
    "data_sayer.boxplot(vert=False)\n",
    "#Observamos que en la columna de TOTAL es la que aparentemente hay mas datos\n",
    "#atipicos, por lo que vamos a anilizarla a detalle\n"
   ]
  },
  {
   "cell_type": "code",
   "execution_count": null,
   "metadata": {},
   "outputs": [],
   "source": [
    "data_sayer[['TOTAL']].boxplot(vert=False)"
   ]
  },
  {
   "cell_type": "code",
   "execution_count": null,
   "metadata": {},
   "outputs": [],
   "source": [
    "data_sayer.describe()"
   ]
  },
  {
   "cell_type": "code",
   "execution_count": null,
   "metadata": {},
   "outputs": [],
   "source": [
    "data_sayer[data_sayer['TOTAL'] > 30000]"
   ]
  },
  {
   "cell_type": "code",
   "execution_count": null,
   "metadata": {},
   "outputs": [],
   "source": [
    "# Masks\n",
    "bajos = data_sayer['TOTAL'] <= 0 #consideramos que no es congruente que la columna de total tenga valores negativos\n",
    "\n",
    "altos = data_sayer['TOTAL'] >= 30000 #consideramos que es posbile que una reparacion sea\n",
    "#bastante costosa de manera que consideramos mantener los datos elevados, exeptuando,\n",
    "#los que ya estan muy alejados que podemos ver en la grafica que son mas de 30000\n",
    "\n",
    "\n",
    "valores_atipicos = bajos | altos\n",
    "valores_atipicos.sum()"
   ]
  },
  {
   "cell_type": "code",
   "execution_count": null,
   "metadata": {},
   "outputs": [],
   "source": [
    "data_sayer_clean = data_sayer[~valores_atipicos]\n",
    "data_sayer_clean.info()"
   ]
  },
  {
   "cell_type": "code",
   "execution_count": null,
   "metadata": {},
   "outputs": [],
   "source": [
    "data_sayer_clean[['TOTAL']].boxplot(vert=False)"
   ]
  },
  {
   "cell_type": "code",
   "execution_count": null,
   "metadata": {},
   "outputs": [],
   "source": [
    "data_sayer_clean[['laghoras']].boxplot(vert=False)"
   ]
  },
  {
   "cell_type": "code",
   "execution_count": null,
   "metadata": {},
   "outputs": [],
   "source": [
    "data_sayer_clean[data_sayer_clean['laghoras'] < 0]"
   ]
  },
  {
   "cell_type": "code",
   "execution_count": null,
   "metadata": {},
   "outputs": [],
   "source": [
    "data_sayer_clean['laghoras'].describe()"
   ]
  },
  {
   "cell_type": "code",
   "execution_count": null,
   "metadata": {},
   "outputs": [],
   "source": [
    "bajos = data_sayer_clean['laghoras'] <= 0 #consideramos que no es congruente\n",
    "#que la columna de lagdias tenga valores negativos\n",
    "\n",
    "altos = data_sayer_clean['laghoras'] >= 2259 #la reparacion es probable que\n",
    "#lleve bastantes dias, de manera que consideramos dejar los datos de dias mas grandes\n",
    "\n",
    "\n",
    "valores_atipicos = bajos | altos\n",
    "valores_atipicos.sum()"
   ]
  },
  {
   "cell_type": "code",
   "execution_count": null,
   "metadata": {},
   "outputs": [],
   "source": [
    "data_sayer_clean = data_sayer_clean[~valores_atipicos]\n",
    "data_sayer_clean.info()"
   ]
  },
  {
   "cell_type": "code",
   "execution_count": null,
   "metadata": {},
   "outputs": [],
   "source": [
    "data_sayer_clean[['laghoras']].boxplot(vert=False)"
   ]
  },
  {
   "cell_type": "code",
   "execution_count": null,
   "metadata": {},
   "outputs": [],
   "source": [
    "data_sayer_clean[['lagdias']].boxplot(vert=False) #Al eliminar lo negativos de dias se eliminaron tambien\n",
    "#los de horas"
   ]
  },
  {
   "cell_type": "code",
   "execution_count": null,
   "metadata": {},
   "outputs": [],
   "source": [
    "data_sayer_clean['lagdias'].describe()"
   ]
  },
  {
   "cell_type": "code",
   "execution_count": null,
   "metadata": {},
   "outputs": [],
   "source": [
    "data_sayer_clean.describe() #eliminamos los valores que consideramos atipicos"
   ]
  },
  {
   "cell_type": "code",
   "execution_count": null,
   "metadata": {},
   "outputs": [],
   "source": [
    "data_sayer_clean[['kMS']].boxplot(vert=False)"
   ]
  },
  {
   "cell_type": "code",
   "execution_count": null,
   "metadata": {},
   "outputs": [],
   "source": [
    "bajos = data_sayer_clean['kMS'].isna()\n",
    "\n",
    "valores_atipicos = bajos\n",
    "valores_atipicos.sum()"
   ]
  },
  {
   "cell_type": "code",
   "execution_count": null,
   "metadata": {},
   "outputs": [],
   "source": [
    "data_sayer_clean = data_sayer_clean.fillna(data_sayer_clean['kMS'].median())\n",
    "data_sayer_clean.info()"
   ]
  },
  {
   "cell_type": "code",
   "execution_count": null,
   "metadata": {},
   "outputs": [],
   "source": [
    "data_sayer_clean['kMS'].describe()"
   ]
  },
  {
   "cell_type": "code",
   "execution_count": null,
   "metadata": {},
   "outputs": [],
   "source": [
    "data_sayer = data_sayer_clean"
   ]
  },
  {
   "cell_type": "markdown",
   "metadata": {},
   "source": [
    "## Eliminar registros duplicados."
   ]
  },
  {
   "cell_type": "code",
   "execution_count": null,
   "metadata": {},
   "outputs": [],
   "source": [
    "# Cantidad de elementos en el df\n",
    "data_sayer.index.size"
   ]
  },
  {
   "cell_type": "code",
   "execution_count": null,
   "metadata": {},
   "outputs": [],
   "source": [
    "# Cantidad de elementos en el df si se eliminan las filas con informacion identica\n",
    "data_sayer.drop_duplicates().index.size"
   ]
  },
  {
   "cell_type": "markdown",
   "metadata": {},
   "source": [
    "Haciendo una resta simple, podemos calcular que actualmente existen $6389-6072 = 317$ duplicados. Esto añade un gran sesgo al análisis posterior, por lo que se procede a eliminarlos."
   ]
  },
  {
   "cell_type": "code",
   "execution_count": null,
   "metadata": {},
   "outputs": [],
   "source": [
    "data_sayer.drop_duplicates(inplace=True)"
   ]
  },
  {
   "cell_type": "code",
   "execution_count": null,
   "metadata": {},
   "outputs": [],
   "source": [
    "data_sayer.info()"
   ]
  },
  {
   "cell_type": "markdown",
   "metadata": {},
   "source": [
    "# **Construcción y transformación de datos**"
   ]
  },
  {
   "cell_type": "markdown",
   "metadata": {},
   "source": [
    "## Integrar los dataframes\n",
    "Creando los enlaces o combinaciones relevantes al dominio o contexto del proyecto."
   ]
  },
  {
   "cell_type": "markdown",
   "metadata": {},
   "source": [
    "Debido a que sólo se ha estado utilizando un sólo dataframe para el proyecto, es que no es necesario realizar ningún enlade al dominio. Cabe resaltar que esta misma base de datos se ha sometido a distintas limpiezas y procesamientos para cumplir con los objetivos indicados en el entregable."
   ]
  },
  {
   "cell_type": "markdown",
   "metadata": {},
   "source": [
    "## Agregación y agrupamiento.\n",
    " Construir nuevas características o variables con las tecnicas descritas"
   ]
  },
  {
   "cell_type": "markdown",
   "metadata": {},
   "source": [
    "Primero, vamos a agrupar los valores de la columna 'COMPLAINT' para separar los siguientes tipos de\n",
    "mantenimiento:\n",
    "* PREVENTIVO\n",
    "* CORRECTIVO\n",
    "* DESCONOCIDO"
   ]
  },
  {
   "cell_type": "code",
   "execution_count": null,
   "metadata": {},
   "outputs": [],
   "source": [
    "#Analizar los tipos de reparaciones que se realizan a los tractos más comunes\n",
    "data_sayer['COMPLAINT'].value_counts().index"
   ]
  },
  {
   "cell_type": "code",
   "execution_count": null,
   "metadata": {},
   "outputs": [],
   "source": [
    "# Añadir una nueva columna para identificar claramente los tipos de 'COMPLAINT'\n",
    "# El valor por defecto de la columna sera 'CORRECTIVO' debido a que es el tipo de reparacion mas comun\n",
    "data_sayer['ComplaintType'] = 'CORRECTIVO'\n",
    "\n",
    "# Establecer en 'COMPLAINT' = 'PREVENTIVO' para los casos especficos que se pueden determinar\n",
    "ComplaintTypePreventive = ['PM', 'PREVENT VENC', 'GASTADO', 'DESGASTADO', 'SUCIO', 'BAJA PRESION', 'PRESIÓN BAJA', 'GOLPETEA']\n",
    "data_sayer.loc[data_sayer['COMPLAINT'].isin(ComplaintTypePreventive), 'ComplaintType'] = 'PREVENTIVO'\n",
    "# Excepto para los casos que no se pueden determinar por ser demasiado ambiguos.\n",
    "# Estos se clasificarán como 'DESCONOCIDO'\n",
    "ComplaintTypeUnknown = ['DAÑO OP', 'SE NEUTRALIZ', 'DESGASTE IRR', 'JALA DERECHA', 'SIN DIESEL', 'ACORTADO', 'OTROS', 'OTHER']\n",
    "data_sayer.loc[data_sayer['COMPLAINT'].isin(ComplaintTypeUnknown), 'ComplaintType'] = 'DESCONOCIDO'"
   ]
  },
  {
   "cell_type": "code",
   "execution_count": null,
   "metadata": {},
   "outputs": [],
   "source": [
    "# Muestreamos para verificar que el agrupamiento se haya hecho correctamente\n",
    "data_sayer['ComplaintType'].value_counts()"
   ]
  },
  {
   "cell_type": "code",
   "execution_count": null,
   "metadata": {},
   "outputs": [],
   "source": [
    "#¿Qué porcentaje representan los mantenimiento preventivos segun el ComplaintType respecto a todas las operaciones de mantenimiento?\n",
    "percent = (data_sayer.groupby('ComplaintType')['ComplaintType'].count() / data_sayer.shape[0] * 100).round(2)\n",
    "# Ordenar por porcentaje\n",
    "percent = percent.sort_values(ascending=False)\n",
    "\n",
    "# Imprimir los porcentajes de mantenimientos por tipo\n",
    "for i in range(len(percent)):\n",
    "    print(f\" (Complaint Type) Los mantenimientos de tipo '{percent.index[i]}' representan el {percent.iloc[i]}% de todas las operaciones de mantenimiento.\")\n"
   ]
  },
  {
   "cell_type": "markdown",
   "metadata": {},
   "source": [
    "Posteriormente, vamos a agrupar los valores de la columna 'RepReason' para identificar los tipos de\n",
    "mantenimiento:\n",
    "* PREVENTIVO\n",
    "* CORRECTIVO\n",
    "* DESCONOCIDO"
   ]
  },
  {
   "cell_type": "code",
   "execution_count": null,
   "metadata": {},
   "outputs": [],
   "source": [
    "#Analizar los tipos de reparaciones que se realizan a los tractos más comunes\n",
    "data_sayer['RepReason'].value_counts().index"
   ]
  },
  {
   "cell_type": "code",
   "execution_count": null,
   "metadata": {},
   "outputs": [],
   "source": [
    "# Añadir una nueva columna para identificar claramente los tipos de 'COMPLAINT'\n",
    "# El valor por defecto de la columna sera 'DESCONOCIDO' debido a que es el tipo de reparacion mas comun\n",
    "# Lamentablemente, es muy ambigua la informacion en esta columna, por lo que tendremos que clasificarla como 'DESCONOCIDO'\n",
    "data_sayer['RepReasonType'] = 'DESCONOCIDO'\n",
    "\n",
    "# Establecer en 'COMPLAINT' = 'PREVENTIVO' para los casos especificos que se pueden determinar\n",
    "ComplaintTypePreventive = ['PM', 'DESGASTE', 'LAVADO', 'FALTA PRESIÓ']\n",
    "data_sayer.loc[data_sayer['RepReason'].isin(ComplaintTypePreventive), 'RepReasonType'] = 'PREVENTIVO'\n",
    "# Establecer en 'COMPLAINT' = 'CORRECTIVO' para los casos especificos que se pueden determinar\n",
    "ComplaintTypeCorrective = ['MC', 'PERFORADA', 'PONCHADURA', 'FUGA AIRE', 'FOCOS', 'FUGA ACEITE', 'CAMBIO DAÑO', 'ROBO', '7 VIAS DAÑAD', 'BATERÍA DAÑA', 'GOLPE', 'CORTO', 'FALLA GPS']\n",
    "data_sayer.loc[data_sayer['RepReason'].isin(ComplaintTypeCorrective), 'RepReasonType'] = 'CORRECTIVO'"
   ]
  },
  {
   "cell_type": "code",
   "execution_count": null,
   "metadata": {},
   "outputs": [],
   "source": [
    "# Muestreamos para verificar que el agrupamiento se haya hecho correctamente\n",
    "data_sayer['RepReasonType'].value_counts()"
   ]
  },
  {
   "cell_type": "code",
   "execution_count": null,
   "metadata": {},
   "outputs": [],
   "source": [
    "#¿Qué porcentaje representan los mantenimiento preventivos segun el ComplaintType respecto a todas las operaciones de mantenimiento?\n",
    "percent = (data_sayer.groupby('RepReasonType')['RepReasonType'].count() / data_sayer.shape[0] * 100).round(2)\n",
    "# Ordenar por porcentaje\n",
    "percent = percent.sort_values(ascending=False)\n",
    "\n",
    "# Imprimir los porcentajes de mantenimientos por tipo\n",
    "for i in range(len(percent)):\n",
    "    print(f\" (RepReason Type) Los mantenimientos de tipo '{percent.index[i]}' representan el {percent.iloc[i]}% de todas las operaciones de mantenimiento.\")"
   ]
  },
  {
   "cell_type": "markdown",
   "metadata": {},
   "source": [
    "## Discretización o binning\n",
    "Reagrupar atributos de alta cardinalidad mediante los metodos descritos"
   ]
  },
  {
   "cell_type": "code",
   "execution_count": null,
   "metadata": {},
   "outputs": [],
   "source": [
    "#Elegimos el metodo de discretizacion qcut ya que no tenemos rangos bien definidos\n",
    "#de manera que con este metodo dividimos las variables en intervalos iguales,\n",
    "#a lo cual tomamos 3 criterios, Reparacion_rapida, Reparacion_Normal y\n",
    "#Reparacion_lenta con la finalidad de hacer mas descriptiva la variable de horas\n",
    "# y tener nocion si la reparacion tomo demasiado tiempo o fue muy lenta\n",
    "#Decidimos eligir la variable de horas, porque al analizar esta variable, observamos\n",
    "#que es mas exacta que la variable dias, ya que esta ultima son dias enteros.\n",
    "\n",
    "data_sayer['Clasif_rep'], cut_bin = pd.qcut(x=data_sayer['laghoras'],\n",
    "                                    q=3,\n",
    "                                    labels=['Reparacion_rapida','Reparacion_Normal','Reparacion_lenta'],\n",
    "                                    retbins=True)\n",
    "cut_bin"
   ]
  },
  {
   "cell_type": "code",
   "execution_count": null,
   "metadata": {},
   "outputs": [],
   "source": [
    "data_sayer['Clasif_rep'].value_counts()\n",
    "#Observamos que lo dividio casi exactamente en 3 partes iguales"
   ]
  },
  {
   "cell_type": "code",
   "execution_count": null,
   "metadata": {},
   "outputs": [],
   "source": [
    "#Similar al caso anterior, al no tener unos rangos bien definidos,\n",
    "#nos decidimos por el metodo de qcut para dividirlo en 3 partes,Costo_bajo\n",
    "# Costo_normal, Costo_elevado .\n",
    "\n",
    "data_sayer['Clasif_costo'], cut_bin = pd.qcut(x=data_sayer['TOTAL'],\n",
    "                                    q=3,\n",
    "                                    labels=['Costo_bajo','Costo_normal','Costo_elevado'],\n",
    "                                    retbins=True)\n",
    "cut_bin"
   ]
  },
  {
   "cell_type": "code",
   "execution_count": null,
   "metadata": {},
   "outputs": [],
   "source": [
    "data_sayer['Clasif_costo'].value_counts()"
   ]
  },
  {
   "cell_type": "markdown",
   "metadata": {},
   "source": [
    "## One-hot encoding\n",
    "Para las variables **categóricas** que consideren necesarias."
   ]
  },
  {
   "cell_type": "code",
   "execution_count": null,
   "metadata": {},
   "outputs": [],
   "source": [
    "data_sayer['CITA'] = data_sayer['CITA'].str.strip()\n",
    "print(list(data_sayer['CITA'].value_counts().index))"
   ]
  },
  {
   "cell_type": "code",
   "execution_count": null,
   "metadata": {},
   "outputs": [],
   "source": [
    "data_sayer['CITA'].replace([''], 'DESCONOCIDO', inplace=True)"
   ]
  },
  {
   "cell_type": "code",
   "execution_count": null,
   "metadata": {},
   "outputs": [],
   "source": [
    "!pip install category_encoders"
   ]
  },
  {
   "cell_type": "code",
   "execution_count": null,
   "metadata": {},
   "outputs": [],
   "source": [
    "col_cat = data_sayer.select_dtypes(include=['object', 'category'])\n",
    "col_cat.head(5)"
   ]
  },
  {
   "cell_type": "code",
   "execution_count": null,
   "metadata": {},
   "outputs": [],
   "source": [
    "from category_encoders import CountEncoder\n",
    "# codificación por conteo\n",
    "data_sayer = CountEncoder(cols=['CITA']).fit(data_sayer).transform(data_sayer)"
   ]
  },
  {
   "cell_type": "code",
   "execution_count": null,
   "metadata": {},
   "outputs": [],
   "source": [
    "from category_encoders import OneHotEncoder\n",
    "# codificación por OneHot\n",
    "data_sayer = OneHotEncoder(cols=['TipoLinea']).fit(data_sayer).transform(data_sayer)"
   ]
  },
  {
   "cell_type": "code",
   "execution_count": null,
   "metadata": {},
   "outputs": [],
   "source": [
    "from category_encoders import OneHotEncoder\n",
    "# codificación por OneHot\n",
    "data_sayer = OneHotEncoder(cols=['UnitType']).fit(data_sayer).transform(data_sayer)"
   ]
  },
  {
   "cell_type": "code",
   "execution_count": null,
   "metadata": {},
   "outputs": [],
   "source": [
    "data_sayer.rename(columns={'UnitType_1': 'TRACTOR', 'UnitType_2': 'TRAILER', 'UnitType_3': 'DOLLY', 'TipoLinea_1': 'PART', 'TipoLinea_2': 'SERVICES', 'TipoLinea_3': 'LABOR'}, inplace = True)\n",
    "data_sayer"
   ]
  },
  {
   "cell_type": "markdown",
   "metadata": {},
   "source": [
    "Para la parte de 'One-Hot Encoding' se decidio codificar unicamente 3 variables. 'CITA', 'TipoLinea', 'UnitType'.\n",
    "\n",
    "Para las variables 'TipoLinea' y 'UnitType' se decidio codificar con OneHot ya que de esta manera será mucho mas facil encontrar y leer que tipo de unidad de esta manejando y que tipo de linea.\n",
    "\n",
    "La variable 'CITA' se codificó con Count ya que de esta manera se podrá conocer la cantidad de registros por cada situación de las citas y así tener un mayor control."
   ]
  },
  {
   "cell_type": "markdown",
   "metadata": {},
   "source": [
    "## Feature transformation\n",
    "Para las variables con valores atípicos identificados."
   ]
  },
  {
   "cell_type": "code",
   "execution_count": null,
   "metadata": {},
   "outputs": [],
   "source": [
    "# Verificamos que columnas vamos a trabajar\n",
    "# (Deben ser numericas, para poder transformarlas)\n",
    "data_sayer.info()"
   ]
  },
  {
   "cell_type": "code",
   "execution_count": null,
   "metadata": {},
   "outputs": [],
   "source": [
    "# Analizamos cual es el valor minimo para cada una, es muy importante\n",
    "# para obtener el metodo para transformar\n",
    "data_sayer.describe()"
   ]
  },
  {
   "cell_type": "code",
   "execution_count": null,
   "metadata": {},
   "outputs": [],
   "source": [
    "# Importamos una libreria para la visualizacion de la distribucion de los datos en nuestras columnas\n",
    "# nominales\n",
    "import matplotlib.pyplot as plt"
   ]
  },
  {
   "cell_type": "code",
   "execution_count": null,
   "metadata": {},
   "outputs": [],
   "source": [
    "pd.plotting.scatter_matrix(data_sayer[['lagdias', 'laghoras', 'TOTAL', 'UnitYear']],\n",
    "                           figsize=(12,10))\n",
    "plt.show()\n",
    "\n",
    "# Aqui debemos identificar aquellas que no tienen una distribucion normal, y que tenga sentidos aplicarlas\n",
    "# una transformacion. En este caso, podriamos ocupar las variables 'dias, horas y TOTAL'"
   ]
  },
  {
   "cell_type": "code",
   "execution_count": null,
   "metadata": {},
   "outputs": [],
   "source": [
    "# Dada la naturaleza de nuestros datos, no seria posible aplicar una 'Transformada\n",
    "# Logaritmica', porque contamos con valores entre 0 y 1.\n",
    "# Ademas si intentamos utilizar un metodo como el de 'Box-Cox', nos daria un error\n",
    "# en la ejecucion, pues este solo permite valores mayores a 1.\n",
    "# Es por ello que nuestro unico metodo de transformacion plausible para utilizar\n",
    "# seria el de Yeo-johnson, que acepta un rango de valores de negativos, positivos\n",
    "# y 0.\n",
    "\n",
    "import seaborn as sns\n",
    "from sklearn.preprocessing import PowerTransformer\n",
    "\n",
    "scaler = PowerTransformer(method='yeo-johnson')\n",
    "\n",
    "pow_trans = scaler.fit_transform(data_sayer[['lagdias', 'laghoras', 'TOTAL']])\n",
    "data_sayer['pow_lagdias'] = pow_trans[:, 0]\n",
    "data_sayer['pow_laghoras'] = pow_trans[:, 1]\n",
    "data_sayer['pow_total'] = pow_trans[:, 2]"
   ]
  },
  {
   "cell_type": "code",
   "execution_count": null,
   "metadata": {},
   "outputs": [],
   "source": [
    "# Comparativa entre las distribuciones anteriores y posteriores a la transformacion\n",
    "fig, ax = plt.subplots(1, 2)\n",
    "ax[0].hist(data_sayer.lagdias)\n",
    "ax[0].set_title('LAGDIAS')\n",
    "ax[1].hist(np.log(data_sayer.pow_lagdias))\n",
    "ax[1].set_title('Pow LAGDIAS')"
   ]
  },
  {
   "cell_type": "code",
   "execution_count": null,
   "metadata": {},
   "outputs": [],
   "source": [
    "# Comparativa entre las distribuciones anteriores y posteriores a la transformacion\n",
    "fig, ax = plt.subplots(1, 2)\n",
    "ax[0].hist(data_sayer.laghoras)\n",
    "ax[0].set_title('LAGHORAS')\n",
    "ax[1].hist(np.log(data_sayer.pow_laghoras))\n",
    "ax[1].set_title('Pow LAGHORAS')"
   ]
  },
  {
   "cell_type": "code",
   "execution_count": null,
   "metadata": {},
   "outputs": [],
   "source": [
    "# Comparativa entre las distribuciones anteriores y posteriores a la transformacion\n",
    "fig, ax = plt.subplots(1, 2)\n",
    "ax[0].hist(data_sayer.TOTAL)\n",
    "ax[0].set_title('TOTAL')\n",
    "ax[1].hist(np.log(data_sayer.pow_total))\n",
    "ax[1].set_title('Pow TOTAL')"
   ]
  },
  {
   "cell_type": "code",
   "execution_count": null,
   "metadata": {},
   "outputs": [],
   "source": [
    "# Finalmente hacemos una comparativa con su covarianza, para afirmar el incremento\n",
    "# entre la variabilidad entre una y otra\n",
    "fig, (ax1, ax2) = plt.subplots(1, 2, figsize=(16,6))\n",
    "sns.heatmap(data_sayer[['lagdias', 'laghoras', 'TOTAL']].corr(), annot=True, ax=ax1).set_title('Original data')\n",
    "sns.heatmap(data_sayer[['pow_lagdias', 'pow_laghoras', 'pow_total']].corr(), annot=True, ax=ax2).set_title('Pow Transformed data')"
   ]
  },
  {
   "cell_type": "markdown",
   "metadata": {},
   "source": [
    "# RESULTADOS OBTENIDOS"
   ]
  },
  {
   "cell_type": "markdown",
   "metadata": {},
   "source": [
    "En este entregable se logró encontrar el porcentaje significativo del número de rescates en carretera respecto al total.\n",
    "\n",
    "Además, se clasificaron las reparaciones realizadas acorde a su periodo de tiempo, y los costos de las mismas según su rango.\n",
    "\n",
    "Por último, se trabajaron los valores atípicos afirmando el incremento entre la variabilidad de los valores importantes para el proyecto."
   ]
  },
  {
   "cell_type": "markdown",
   "metadata": {},
   "source": [
    "# Convertir a HTML"
   ]
  },
  {
   "cell_type": "code",
   "execution_count": null,
   "metadata": {},
   "outputs": [],
   "source": [
    "%%shell\n",
    "jupyter nbconvert --to html /content/E5_Construcción_y_transformación_de_datos.ipynb"
   ]
  }
 ],
 "metadata": {
  "language_info": {
   "name": "python",
   "pygments_lexer": "ipython3"
  }
 },
 "nbformat": 4,
 "nbformat_minor": 0
}
