{
  "cells": [
    {
      "cell_type": "markdown",
      "metadata": {
        "colab_type": "text",
        "id": "view-in-github"
      },
      "source": [
        "<a href=\"https://colab.research.google.com/github/Ian326/TI3001C/blob/main/E5_Construcci%C3%B3n_y_transformaci%C3%B3n_de_datos.ipynb\" target=\"_parent\"><img src=\"https://colab.research.google.com/assets/colab-badge.svg\" alt=\"Open In Colab\"/></a>"
      ]
    },
    {
      "cell_type": "markdown",
      "metadata": {
        "id": "Q1CjLfGQHfv4"
      },
      "source": [
        "# Recolección y descripción de datos\n",
        "---\n",
        "***Equipo:***\n",
        "\n",
        "**Ruth Jiménez Vázquez - A01351923**\n",
        "\n",
        "**José Ignacio Gómez Moreno - A01067362**\n",
        "\n",
        "**Harry Hernández Grande - A01736341**\n",
        "\n",
        "**Ian Joab Padrón Corona - A01708940**\n",
        "\n",
        "---\n",
        "\n"
      ]
    },
    {
      "cell_type": "markdown",
      "metadata": {
        "id": "jrMKKajRRwIf"
      },
      "source": [
        "## Carga de datos"
      ]
    },
    {
      "cell_type": "code",
      "execution_count": 2,
      "metadata": {
        "id": "xz8HIOzgR8Kv"
      },
      "outputs": [],
      "source": [
        "import pandas as pd\n",
        "import numpy as np\n",
        "import missingno as msno"
      ]
    },
    {
      "cell_type": "code",
      "execution_count": 3,
      "metadata": {
        "colab": {
          "base_uri": "https://localhost:8080/"
        },
        "id": "EB7HPpDLR9cM",
        "outputId": "89e012ce-18d0-405c-8c58-608fc6b2ba94"
      },
      "outputs": [
        {
          "name": "stdout",
          "output_type": "stream",
          "text": [
            "<class 'pandas.core.frame.DataFrame'>\n",
            "RangeIndex: 195635 entries, 0 to 195634\n",
            "Data columns (total 47 columns):\n",
            " #   Column                                                        Non-Null Count   Dtype  \n",
            "---  ------                                                        --------------   -----  \n",
            " 0   166140                                                        195635 non-null  int64  \n",
            " 1   MEX                                                           195635 non-null  object \n",
            " 2   MEX-00024316                                                  195635 non-null  object \n",
            " 3   691550.000000                                                 135429 non-null  float64\n",
            " 4   2022-01-07 11:13:00.000                                       195635 non-null  object \n",
            " 5   2022-01-07 11:14:00.000                                       193711 non-null  object \n",
            " 6   CLOSED                                                        195635 non-null  object \n",
            " 7   0                                                             193711 non-null  float64\n",
            " 8   0.1                                                           193711 non-null  float64\n",
            " 9   7                                                             193711 non-null  float64\n",
            " 10  January                                                       193711 non-null  object \n",
            " 11  2022                                                          193711 non-null  float64\n",
            " 12  7.1                                                           195635 non-null  int64  \n",
            " 13  January.1                                                     195635 non-null  object \n",
            " 14  2022.1                                                        195635 non-null  int64  \n",
            " 15  coormx                                                        195635 non-null  object \n",
            " 16  oalejandro                                                    191747 non-null  object \n",
            " 17  PM                                                            195635 non-null  object \n",
            " 18  Standard                                                      195635 non-null  object \n",
            " 19  Unnamed: 19                                                   71490 non-null   object \n",
            " 20  0033                                                          195635 non-null  object \n",
            " 21  044-002-004                                                   195635 non-null  object \n",
            " 22  FILTRO SEPARADOR COMBUSTIBLE / AGUA                           195635 non-null  object \n",
            " 23  1.000000                                                      195635 non-null  float64\n",
            " 24  1.000000.1                                                    195635 non-null  float64\n",
            " 25  201.700000                                                    195635 non-null  float64\n",
            " 26  30.660000                                                     195635 non-null  float64\n",
            " 27  201.700000.1                                                  195635 non-null  float64\n",
            " 28  232.360000                                                    195635 non-null  float64\n",
            " 29  1491                                                          195635 non-null  object \n",
            " 30  TRACTOR                                                       195635 non-null  object \n",
            " 31  2018                                                          195635 non-null  int64  \n",
            " 32  TTE                                                           195606 non-null  object \n",
            " 33  In&Out                                                        195635 non-null  object \n",
            " 34  MAINTENANCE REPAIR                                            190604 non-null  object \n",
            " 35  PREVENT VENC                                                  195635 non-null  object \n",
            " 36  000019 - Servicio preventivo A                                195635 non-null  object \n",
            " 37  PART                                                          190604 non-null  object \n",
            " 38  FF2200                                                        116135 non-null  object \n",
            " 39  2021-12-10 17:00:00.000                                       195226 non-null  object \n",
            " 40  NULL                                                          4 non-null       object \n",
            " 41  7.2                                                           192728 non-null  float64\n",
            " 42  January.2                                                     192728 non-null  object \n",
            " 43  2022.2                                                        192728 non-null  float64\n",
            " 44  2022-01-07 11:14:00                                           192728 non-null  object \n",
            " 45  NULL.1                                                        8068 non-null    object \n",
            " 46  CON CITA                                                      190604 non-null  object \n",
            "dtypes: float64(13), int64(4), object(30)\n",
            "memory usage: 70.2+ MB\n",
            "None\n"
          ]
        }
      ],
      "source": [
        "print(pd.read_csv('../content/vista_repdetail_tec.csv', low_memory=False).info())\n",
        "# Como se puede observar, el csv no contiene el nombre de las columnas a utilizar\n",
        "# Por tanto se debera asignar manualmente el nombre de las columnas\n",
        "# segun el diccionario de datos proporcionado por el cliente."
      ]
    },
    {
      "cell_type": "code",
      "execution_count": 4,
      "metadata": {
        "colab": {
          "base_uri": "https://localhost:8080/"
        },
        "id": "4MSuQw8TW4_c",
        "outputId": "8484b372-7fac-48c1-a1cd-5fa3dc018e97"
      },
      "outputs": [
        {
          "name": "stdout",
          "output_type": "stream",
          "text": [
            "<class 'pandas.core.frame.DataFrame'>\n",
            "RangeIndex: 195636 entries, 0 to 195635\n",
            "Data columns (total 47 columns):\n",
            " #   Column         Non-Null Count   Dtype  \n",
            "---  ------         --------------   -----  \n",
            " 0   Column         195636 non-null  int64  \n",
            " 1   Taller         195636 non-null  object \n",
            " 2   OrderID        195636 non-null  object \n",
            " 3   kMS            135430 non-null  float64\n",
            " 4   OpenedDate     195636 non-null  object \n",
            " 5   ClosedDate     193712 non-null  object \n",
            " 6   Status         195636 non-null  object \n",
            " 7   lagdias        193712 non-null  float64\n",
            " 8   laghoras       193712 non-null  float64\n",
            " 9   ClosedDay      193712 non-null  float64\n",
            " 10  ClosedMonth    193712 non-null  object \n",
            " 11  ClosedYear     193712 non-null  float64\n",
            " 12  OpenedDay      195636 non-null  int64  \n",
            " 13  OpenedMonth    195636 non-null  object \n",
            " 14  OpenedYear     195636 non-null  int64  \n",
            " 15  CreatedBy      195636 non-null  object \n",
            " 16  ClosedBy       191748 non-null  object \n",
            " 17  RepReason      195636 non-null  object \n",
            " 18  OrderType      195636 non-null  object \n",
            " 19  Supplier       71490 non-null   object \n",
            " 20  COMPCDKEY      195636 non-null  object \n",
            " 21  COMPCODE       195636 non-null  object \n",
            " 22  DESCRIP        195636 non-null  object \n",
            " 23  QTYRCVD        195636 non-null  float64\n",
            " 24  QTYREQD        195636 non-null  float64\n",
            " 25  CHGAMT         195636 non-null  float64\n",
            " 26  TAXAMT         195636 non-null  float64\n",
            " 27  SUBTOTAL       195636 non-null  float64\n",
            " 28  TOTAL          195636 non-null  float64\n",
            " 29  UnitID         195636 non-null  object \n",
            " 30  UnitType       195636 non-null  object \n",
            " 31  UnitYear       195636 non-null  int64  \n",
            " 32  EC             195607 non-null  object \n",
            " 33  Flota          195636 non-null  object \n",
            " 34  ReasonType     190605 non-null  object \n",
            " 35  COMPLAINT      195636 non-null  object \n",
            " 36  Jobcode        195636 non-null  object \n",
            " 37  TipoLinea      190605 non-null  object \n",
            " 38  NumParte       116136 non-null  object \n",
            " 39  FechaPromesa   195227 non-null  object \n",
            " 40  Estimate       4 non-null       object \n",
            " 41  CompleteDay    192729 non-null  float64\n",
            " 42  CompleteMonth  192729 non-null  object \n",
            " 43  CompleteYear   192729 non-null  float64\n",
            " 44  CompleteDate   192729 non-null  object \n",
            " 45  MECHANIC       8068 non-null    object \n",
            " 46  CITA           190605 non-null  object \n",
            "dtypes: float64(13), int64(4), object(30)\n",
            "memory usage: 70.2+ MB\n"
          ]
        }
      ],
      "source": [
        "# Columnas dadas en el Diccionario de Datos proporcionado\n",
        "columns = [\n",
        "    \"Column\", \"Taller\", \"OrderID\", \"kMS\", \"OpenedDate\", \"ClosedDate\", \"Status\",\n",
        "    \"lagdias\", \"laghoras\", \"ClosedDay\", \"ClosedMonth\", \"ClosedYear\", \"OpenedDay\",\n",
        "    \"OpenedMonth\", \"OpenedYear\", \"CreatedBy\", \"ClosedBy\", \"RepReason\",\n",
        "    \"OrderType\", \"Supplier\", \"COMPCDKEY\", \"COMPCODE\", \"DESCRIP\", \"QTYRCVD\",\n",
        "    \"QTYREQD\", \"CHGAMT\", \"TAXAMT\", \"SUBTOTAL\", \"TOTAL\", \"UnitID\", \"UnitType\",\n",
        "    \"UnitYear\", \"EC\", \"Flota\", \"ReasonType\", \"COMPLAINT\", \"Jobcode\", \"TipoLinea\",\n",
        "    \"NumParte\", \"FechaPromesa\", \"Estimate\", \"CompleteDay\", \"CompleteMonth\",\n",
        "    \"CompleteYear\", \"CompleteDate\", \"MECHANIC\", \"CITA\"\n",
        "]\n",
        "\n",
        "data = pd.read_csv('../content/vista_repdetail_tec.csv', names=columns, low_memory=False)\n",
        "data.info()"
      ]
    },
    {
      "cell_type": "code",
      "execution_count": 5,
      "metadata": {
        "colab": {
          "base_uri": "https://localhost:8080/",
          "height": 245
        },
        "id": "zUzDXg6yckVc",
        "outputId": "5c48852f-e3e7-4fda-fa08-54a8551f3a13"
      },
      "outputs": [
        {
          "data": {
            "text/html": [
              "<div>\n",
              "<style scoped>\n",
              "    .dataframe tbody tr th:only-of-type {\n",
              "        vertical-align: middle;\n",
              "    }\n",
              "\n",
              "    .dataframe tbody tr th {\n",
              "        vertical-align: top;\n",
              "    }\n",
              "\n",
              "    .dataframe thead th {\n",
              "        text-align: right;\n",
              "    }\n",
              "</style>\n",
              "<table border=\"1\" class=\"dataframe\">\n",
              "  <thead>\n",
              "    <tr style=\"text-align: right;\">\n",
              "      <th></th>\n",
              "      <th>Column</th>\n",
              "      <th>Taller</th>\n",
              "      <th>OrderID</th>\n",
              "      <th>kMS</th>\n",
              "      <th>OpenedDate</th>\n",
              "      <th>ClosedDate</th>\n",
              "      <th>Status</th>\n",
              "      <th>lagdias</th>\n",
              "      <th>laghoras</th>\n",
              "      <th>ClosedDay</th>\n",
              "      <th>...</th>\n",
              "      <th>TipoLinea</th>\n",
              "      <th>NumParte</th>\n",
              "      <th>FechaPromesa</th>\n",
              "      <th>Estimate</th>\n",
              "      <th>CompleteDay</th>\n",
              "      <th>CompleteMonth</th>\n",
              "      <th>CompleteYear</th>\n",
              "      <th>CompleteDate</th>\n",
              "      <th>MECHANIC</th>\n",
              "      <th>CITA</th>\n",
              "    </tr>\n",
              "  </thead>\n",
              "  <tbody>\n",
              "    <tr>\n",
              "      <th>46994</th>\n",
              "      <td>215911</td>\n",
              "      <td>VIL</td>\n",
              "      <td>VIL-00002282</td>\n",
              "      <td>527250.0</td>\n",
              "      <td>2022-09-09 12:11:00.000</td>\n",
              "      <td>2022-09-09 12:31:00.000</td>\n",
              "      <td>CLOSED</td>\n",
              "      <td>0.0</td>\n",
              "      <td>0.0</td>\n",
              "      <td>9.0</td>\n",
              "      <td>...</td>\n",
              "      <td>SERVICES</td>\n",
              "      <td>NaN</td>\n",
              "      <td>2022-09-09 14:00:00.000</td>\n",
              "      <td>NaN</td>\n",
              "      <td>9.0</td>\n",
              "      <td>September</td>\n",
              "      <td>2022.0</td>\n",
              "      <td>2022-09-09 12:31:00</td>\n",
              "      <td>NaN</td>\n",
              "      <td>SIN CITA</td>\n",
              "    </tr>\n",
              "    <tr>\n",
              "      <th>112970</th>\n",
              "      <td>273619</td>\n",
              "      <td>QRO</td>\n",
              "      <td>QRO-00042791</td>\n",
              "      <td>431927.0</td>\n",
              "      <td>2023-08-28 08:18:00.000</td>\n",
              "      <td>2023-08-28 10:30:00.000</td>\n",
              "      <td>CLOSED</td>\n",
              "      <td>0.0</td>\n",
              "      <td>2.0</td>\n",
              "      <td>28.0</td>\n",
              "      <td>...</td>\n",
              "      <td>PART</td>\n",
              "      <td>15W-40</td>\n",
              "      <td>2023-08-28 18:00:00.000</td>\n",
              "      <td>NaN</td>\n",
              "      <td>28.0</td>\n",
              "      <td>August</td>\n",
              "      <td>2023.0</td>\n",
              "      <td>2023-08-28 10:30:00</td>\n",
              "      <td>NaN</td>\n",
              "      <td>SIN CITA</td>\n",
              "    </tr>\n",
              "    <tr>\n",
              "      <th>92049</th>\n",
              "      <td>258823</td>\n",
              "      <td>QRO</td>\n",
              "      <td>QRO-00041166</td>\n",
              "      <td>NaN</td>\n",
              "      <td>2023-05-11 08:40:00.000</td>\n",
              "      <td>2023-05-12 13:32:00.000</td>\n",
              "      <td>CLOSED</td>\n",
              "      <td>1.0</td>\n",
              "      <td>29.0</td>\n",
              "      <td>12.0</td>\n",
              "      <td>...</td>\n",
              "      <td>PART</td>\n",
              "      <td>RFPLA564</td>\n",
              "      <td>2023-05-12 18:00:00.000</td>\n",
              "      <td>NaN</td>\n",
              "      <td>12.0</td>\n",
              "      <td>May</td>\n",
              "      <td>2023.0</td>\n",
              "      <td>2023-05-12 13:32:00</td>\n",
              "      <td>NaN</td>\n",
              "      <td>SIN CITA</td>\n",
              "    </tr>\n",
              "  </tbody>\n",
              "</table>\n",
              "<p>3 rows × 47 columns</p>\n",
              "</div>"
            ],
            "text/plain": [
              "        Column        Taller       OrderID       kMS               OpenedDate  \\\n",
              "46994   215911  VIL           VIL-00002282  527250.0  2022-09-09 12:11:00.000   \n",
              "112970  273619  QRO           QRO-00042791  431927.0  2023-08-28 08:18:00.000   \n",
              "92049   258823  QRO           QRO-00041166       NaN  2023-05-11 08:40:00.000   \n",
              "\n",
              "                     ClosedDate        Status  lagdias  laghoras  ClosedDay  \\\n",
              "46994   2022-09-09 12:31:00.000  CLOSED            0.0       0.0        9.0   \n",
              "112970  2023-08-28 10:30:00.000  CLOSED            0.0       2.0       28.0   \n",
              "92049   2023-05-12 13:32:00.000  CLOSED            1.0      29.0       12.0   \n",
              "\n",
              "        ...     TipoLinea  NumParte             FechaPromesa Estimate  \\\n",
              "46994   ...  SERVICES           NaN  2022-09-09 14:00:00.000      NaN   \n",
              "112970  ...  PART            15W-40  2023-08-28 18:00:00.000      NaN   \n",
              "92049   ...  PART          RFPLA564  2023-05-12 18:00:00.000      NaN   \n",
              "\n",
              "        CompleteDay CompleteMonth CompleteYear         CompleteDate MECHANIC  \\\n",
              "46994           9.0     September       2022.0  2022-09-09 12:31:00      NaN   \n",
              "112970         28.0        August       2023.0  2023-08-28 10:30:00      NaN   \n",
              "92049          12.0           May       2023.0  2023-05-12 13:32:00      NaN   \n",
              "\n",
              "                CITA  \n",
              "46994   SIN CITA      \n",
              "112970  SIN CITA      \n",
              "92049   SIN CITA      \n",
              "\n",
              "[3 rows x 47 columns]"
            ]
          },
          "execution_count": 5,
          "metadata": {},
          "output_type": "execute_result"
        }
      ],
      "source": [
        "data.sample(3)"
      ]
    },
    {
      "cell_type": "markdown",
      "metadata": {
        "id": "xVdJkhw7bF0k"
      },
      "source": [
        "## Documentacion de los esquemas de datos"
      ]
    },
    {
      "cell_type": "markdown",
      "metadata": {
        "id": "cAVXakbkbkCn"
      },
      "source": [
        "* ¿Cuál es nuestra fuente de datos?\n",
        "\n",
        "Actualmente, la informacion es recabada por nuestro SocioFormador TDR. Tenemos acceso a un escritorio remoto que esta a su vez conectado con un servidor de Microsoft SQL Server.\n",
        "\n",
        "A partir de dicho servidor, llamamos a una de las vistas a las que nos dieron acceso, para recabar toda la informacion sobre las reparaciones de su flota.\n",
        "\n",
        "\n",
        "* ¿Cómo obtenemos la información?\n",
        "\n",
        "A traves de una Query de SQL a la que nos autorizaron, que seria la siguiente:\n",
        "\n",
        "\n",
        "```\n",
        "SELECT * FROM [TMWSuite].[dbo].[vista_repdetail_tec]\n",
        "```\n",
        "\n",
        "\n"
      ]
    },
    {
      "cell_type": "markdown",
      "metadata": {
        "id": "QgPPikoMb1TU"
      },
      "source": [
        "## Diccionario de datos"
      ]
    },
    {
      "cell_type": "markdown",
      "metadata": {
        "id": "hbaqQlVQb3P9"
      },
      "source": [
        "| Column        | Descripción                                                                                       |\n",
        "| ------------- | ------------------------------------------------------------------------------------------------- |\n",
        "| OrderID       | ID de la orden de reparación                                                                      |\n",
        "| Taller        | Acrónimo del taller donde se realizó la reparación                                                |\n",
        "| kMS         | Kilometros viajados por la unidad                                                                     |\n",
        "| OpenedDate    | Fecha de apertura de la orden de reparación                                                       |\n",
        "| ClosedDate    | Fecha de cierre de la orden de reparación                                                         |\n",
        "| Status        | Estatus de la orden de reparación                                                                 |\n",
        "| lagdias       | Días entre cierre y apertura de la orden de reparación                                            |\n",
        "| laghoras      | Horas entre cierre y apertura de la orden de reparación                                           |\n",
        "| ClosedDay     | Día del mes en que se cerró la orden de reparación                                                |\n",
        "| ClosedMonth   | Mes que se cerró la orden de reparación                                                           |\n",
        "| ClosedYear    | Año en que se cerró la orden de reparación                                                        |\n",
        "| OpenedDay     | Día del mes en que se abrió la orden de reparación                                                |\n",
        "| OpenedMonth   | Mes que se abrió la orden de reparación                                                           |\n",
        "| OpenedYear    | Año en que se abrió la orden de reparación                                                        |\n",
        "| CreatedBy     | Usuario que creó la orden de reparación                                                           |\n",
        "| ClosedBy      | Usuario que cerro la orden de reparación                                                          |\n",
        "| RepReason     | Razón de reparación                                                                               |\n",
        "| OrderType     | Tipo de orden. Standar es en uno de nuestros talleres propios. Vendor es con un proveedor externo |\n",
        "| Supplier      | Proveedor que realizó la reparación                                                               |\n",
        "| COMPCDKEY     | Codigo de componente (No aporta info importante)                                                  |\n",
        "| COMPCODE      | Codigo utilizado para identificar el tipo de reparación                                           |\n",
        "| DESCRIP       | Descripción de la reparación                                                                      |\n",
        "| QTYRCVD       | Cantidad de piezas o trabajo recibidas                                                            |\n",
        "| QTYREQD       | Cantidad de piezas o trabajo requeridas                                                           |\n",
        "| CHGAMT        | Costo unitario                                                                                    |\n",
        "| TAXAMT        | IVA                                                                                               |\n",
        "| SUBTOTAL      | Subtotal de la reparación (No incluye IVA)                                                        |\n",
        "| TOTAL         | Total de la reparación (Incluye IVA)                                                              |\n",
        "| UnitID        | Numero de unidad                                                                                  |\n",
        "| UnitType      | Tipo de unidad (Tracto, Caja Seca, Dolly, etc.)                                                   |\n",
        "| UnitYear      | Año del modelo de la unidad                                                                       |\n",
        "| EC            | Equipo administrativo que se encarga de la operación de un conjunto de proyectos                  |\n",
        "| Flota         | Nombre del proyecto en que trabaja el tracto. (Cliente)                                           |\n",
        "| ReasonType    | Razón (No aporta info importante)                                                                 |\n",
        "| COMPLAINT     | Queja reportada                                                                                   |\n",
        "| Jobcode       | Numero para identificar el tipo de reparación                                                     |\n",
        "| TipoLinea     | Describe el tipo de línea en la orden de reparación (Piezas, mano de obra, servicios, etc.)       |\n",
        "| NumParte      | Numero de parte descarga en la línea de reparación                                                |\n",
        "| FechaPromesa  | Fecha de promesa para terminar las reparaciones de la unidad                                      |\n",
        "| Estimate      | Monto estimado (No lo utilizamos)                                                                 |\n",
        "| CompleteDay   | Día del mes en que se completó la orden                                                           |\n",
        "| CompleteMonth | Mes que se completó la orden de reparación                                                        |\n",
        "| CompleteYear  | Año en que se completó la orden de reparación                                                     |\n",
        "| CompleteDate  | Fecha en que se completó la orden de reparación                                                   |\n",
        "| MECHANIC      | Mecánico interno que realizó la reparación                                                        |\n",
        "| CITA          | Indica si la unidad tenía una cita agenda previamente                                             |"
      ]
    },
    {
      "cell_type": "markdown",
      "metadata": {
        "id": "m-xvaoEoc-5I"
      },
      "source": [
        "## Analisis de la estructura de los datos"
      ]
    },
    {
      "cell_type": "markdown",
      "metadata": {
        "id": "cNDHjFTadEL_"
      },
      "source": [
        "* ¿Que tipo de datos tenemos? **Tenemos 13 de tipo float, 4 int, y 30 object.**\n",
        "* ¿Requerimos modificar el tipo de datos de alguna columna? **Si, para ser precisos, debemos convertir las siguientes columnas:**\n",
        "  * **A int64**:\n",
        "    * lagdias: Son cantidad de dias, no pueden venir con decimales\n",
        "    * laghoras: Son cantidad de horas, no pueden venir con decimales\n",
        "    * ClosedDay: Es el numero del dia en que fue cerrada (puede ser de 1 - 31)\n",
        "    * QTYRCVD: Es una cantidad de piezas, no puede venir con decimales\n",
        "    * QTYREQD: Es una cantidad de piezas, no puede venir con decimales\n",
        "    * CompleteDay: Es el numero del dia en que fue cerrada (puede ser de 1 - 31)\n",
        "    * CompleteYear: Es un año (no puede tener punto decimal o ser un string)\n",
        "  \n",
        "  * **A datetime64**\n",
        "    * OpenedDate: Actualmente es un object, debe ser fecha\n",
        "    * ClosedDate: Actualmente es un object, debe ser fecha\n",
        "    * FechaPromesa: Actualmente es un object, debe ser fecha\n",
        "    * CompleteDate: Actualmente es un object, debe ser fecha\n",
        "\n",
        "* ¿Existen nulos? **Si, actualmente hay 689,643 registros faltantes en toda la informacion que tenemos**"
      ]
    },
    {
      "cell_type": "code",
      "execution_count": 6,
      "metadata": {
        "colab": {
          "base_uri": "https://localhost:8080/",
          "height": 397
        },
        "id": "fcWF1Mr1ZwiL",
        "outputId": "46a47392-de89-4fd9-f36f-3694ec27fe04"
      },
      "outputs": [
        {
          "data": {
            "text/plain": [
              "Column          int64\n",
              "Taller         object\n",
              "OrderID        object\n",
              "kMS           float64\n",
              "OpenedDate     object\n",
              "ClosedDate     object\n",
              "Status         object\n",
              "lagdias       float64\n",
              "laghoras      float64\n",
              "ClosedDay     float64\n",
              "dtype: object"
            ]
          },
          "execution_count": 6,
          "metadata": {},
          "output_type": "execute_result"
        }
      ],
      "source": [
        "data.dtypes.head(10)"
      ]
    },
    {
      "cell_type": "code",
      "execution_count": 7,
      "metadata": {
        "colab": {
          "base_uri": "https://localhost:8080/",
          "height": 1000
        },
        "id": "Ihz2EHLlbg_h",
        "outputId": "50e22b89-1226-4ffa-fd0d-0aea3961a956"
      },
      "outputs": [
        {
          "data": {
            "text/plain": [
              "Column                0\n",
              "Taller                0\n",
              "OrderID               0\n",
              "kMS               60206\n",
              "OpenedDate            0\n",
              "ClosedDate         1924\n",
              "Status                0\n",
              "lagdias            1924\n",
              "laghoras           1924\n",
              "ClosedDay          1924\n",
              "ClosedMonth        1924\n",
              "ClosedYear         1924\n",
              "OpenedDay             0\n",
              "OpenedMonth           0\n",
              "OpenedYear            0\n",
              "CreatedBy             0\n",
              "ClosedBy           3888\n",
              "RepReason             0\n",
              "OrderType             0\n",
              "Supplier         124146\n",
              "COMPCDKEY             0\n",
              "COMPCODE              0\n",
              "DESCRIP               0\n",
              "QTYRCVD               0\n",
              "QTYREQD               0\n",
              "CHGAMT                0\n",
              "TAXAMT                0\n",
              "SUBTOTAL              0\n",
              "TOTAL                 0\n",
              "UnitID                0\n",
              "UnitType              0\n",
              "UnitYear              0\n",
              "EC                   29\n",
              "Flota                 0\n",
              "ReasonType         5031\n",
              "COMPLAINT             0\n",
              "Jobcode               0\n",
              "TipoLinea          5031\n",
              "NumParte          79500\n",
              "FechaPromesa        409\n",
              "Estimate         195632\n",
              "CompleteDay        2907\n",
              "CompleteMonth      2907\n",
              "CompleteYear       2907\n",
              "CompleteDate       2907\n",
              "MECHANIC         187568\n",
              "CITA               5031\n",
              "dtype: int64"
            ]
          },
          "execution_count": 7,
          "metadata": {},
          "output_type": "execute_result"
        }
      ],
      "source": [
        "data.isnull().sum()"
      ]
    },
    {
      "cell_type": "code",
      "execution_count": 8,
      "metadata": {
        "colab": {
          "base_uri": "https://localhost:8080/"
        },
        "id": "T2BpREfjphza",
        "outputId": "6240e8b3-3dde-4edd-ad18-0457ddf32a27"
      },
      "outputs": [
        {
          "data": {
            "text/plain": [
              "np.int64(689643)"
            ]
          },
          "execution_count": 8,
          "metadata": {},
          "output_type": "execute_result"
        }
      ],
      "source": [
        "data.isnull().sum().sum() # <- Cantidad de nulos"
      ]
    },
    {
      "cell_type": "markdown",
      "metadata": {
        "id": "Nzxqkjl-drYu"
      },
      "source": [
        "## Perfiles involucrados"
      ]
    },
    {
      "cell_type": "markdown",
      "metadata": {
        "id": "ETWR34Widtjk"
      },
      "source": [
        "*   Equipo de TDR que nos puede ayudar con los datos (Identificar por nombre y cargo)\n",
        "\n",
        "\n",
        "### Ing. Emmanuel Vargas Pérez\n",
        "\n",
        "**Jefe de Administración de Equipo**\n",
        "\n",
        "Nos proporcionará información sobre el proyecto que desarrollaremos (Sayer), incluyendo configuraciones de las flotas de tractocamiones y las fallas más comunes que suelen presentar estos vehículos.\n",
        "\n",
        "\n"
      ]
    },
    {
      "cell_type": "markdown",
      "metadata": {
        "id": "lHGoGM4cbOFQ"
      },
      "source": [
        "\n",
        "\n",
        "### Ing. Mauricio Romo Ávila\n",
        "\n",
        "**Subdirector de Mantenimiento**\n",
        "\n",
        "Nos brindará información sobre el mantenimiento de los tractocamiones, incluyendo las fallas comunes, los costos asociados a estas fallas, las ubicaciones donde ocurren con mayor frecuencia, el número de talleres disponibles (tanto propios como generales), y responderá dudas sobre sus mantenimientos correctivos."
      ]
    },
    {
      "cell_type": "markdown",
      "metadata": {
        "id": "2PHzw79EbPRV"
      },
      "source": [
        "\n",
        "### Ing. Brandon Velazco\n",
        "\n",
        "**Jefe de Taller**\n",
        "\n",
        "Aportará información relevante sobre los tractocamiones, incluyendo detalles sobre las partes y componentes específicos que suelen fallar, en qué consisten estas fallas, así como la duración y el costo de las mismas."
      ]
    },
    {
      "cell_type": "markdown",
      "metadata": {
        "id": "sF0EQ6BdbSPm"
      },
      "source": [
        "*   Los profesores nos brindarán las herramientas y conocimientos\n",
        "necesarios para lograr las metas y objetivos."
      ]
    },
    {
      "cell_type": "markdown",
      "metadata": {
        "id": "pmW0BaMJd8xW"
      },
      "source": [
        "## Limpieza de Indices y Columnas"
      ]
    },
    {
      "cell_type": "markdown",
      "metadata": {
        "id": "1TigfBEdeKj6"
      },
      "source": [
        "* ¿Que indices vamos a utilizar?\n",
        " **La mejor opcion seria el OrderID, ya que es un valor unico para identificar cada orden de mantenimiento**\n",
        "\n",
        "* ¿Que columnas requieren un cambio de Tipo de Dato?\n",
        "  * **A int64**:\n",
        "      * lagdias: Son cantidad de dias, no pueden venir con decimales\n",
        "      * laghoras: Son cantidad de horas, no pueden venir con decimales\n",
        "      * ClosedDay: Es el numero del dia en que fue cerrada (puede ser de 1 - 31)\n",
        "      * QTYRCVD: Es una cantidad de piezas, no puede venir con decimales\n",
        "      * QTYREQD: Es una cantidad de piezas, no puede venir con decimales\n",
        "      * CompleteDay: Es el numero del dia en que fue cerrada (puede ser de 1 - 31)\n",
        "      * CompleteYear: Es un año (no puede tener punto decimal o ser un string)\n",
        "\n",
        "    * **A float64**:\n",
        "      * Estimate: Se encuentra como object actualmente, debe ser un precio en decimal\n",
        "    \n",
        "    * **A datetime64**\n",
        "      * OpenedDate: Actualmente es un object, debe ser fecha\n",
        "      * ClosedDate: Actualmente es un object, debe ser fecha\n",
        "      * FechaPromesa: Actualmente es un object, debe ser fecha\n",
        "      * CompleteDate: Actualmente es un object, debe ser fecha"
      ]
    },
    {
      "cell_type": "code",
      "execution_count": 9,
      "metadata": {
        "colab": {
          "base_uri": "https://localhost:8080/",
          "height": 648
        },
        "id": "_5EeYq5leVjY",
        "outputId": "31088d96-5028-47e0-8298-48824c09f7bd"
      },
      "outputs": [
        {
          "data": {
            "text/html": [
              "<div>\n",
              "<style scoped>\n",
              "    .dataframe tbody tr th:only-of-type {\n",
              "        vertical-align: middle;\n",
              "    }\n",
              "\n",
              "    .dataframe tbody tr th {\n",
              "        vertical-align: top;\n",
              "    }\n",
              "\n",
              "    .dataframe thead th {\n",
              "        text-align: right;\n",
              "    }\n",
              "</style>\n",
              "<table border=\"1\" class=\"dataframe\">\n",
              "  <thead>\n",
              "    <tr style=\"text-align: right;\">\n",
              "      <th></th>\n",
              "      <th>Column</th>\n",
              "      <th>Taller</th>\n",
              "      <th>kMS</th>\n",
              "      <th>OpenedDate</th>\n",
              "      <th>ClosedDate</th>\n",
              "      <th>Status</th>\n",
              "      <th>lagdias</th>\n",
              "      <th>laghoras</th>\n",
              "      <th>ClosedDay</th>\n",
              "      <th>ClosedMonth</th>\n",
              "      <th>...</th>\n",
              "      <th>TipoLinea</th>\n",
              "      <th>NumParte</th>\n",
              "      <th>FechaPromesa</th>\n",
              "      <th>Estimate</th>\n",
              "      <th>CompleteDay</th>\n",
              "      <th>CompleteMonth</th>\n",
              "      <th>CompleteYear</th>\n",
              "      <th>CompleteDate</th>\n",
              "      <th>MECHANIC</th>\n",
              "      <th>CITA</th>\n",
              "    </tr>\n",
              "    <tr>\n",
              "      <th>OrderID</th>\n",
              "      <th></th>\n",
              "      <th></th>\n",
              "      <th></th>\n",
              "      <th></th>\n",
              "      <th></th>\n",
              "      <th></th>\n",
              "      <th></th>\n",
              "      <th></th>\n",
              "      <th></th>\n",
              "      <th></th>\n",
              "      <th></th>\n",
              "      <th></th>\n",
              "      <th></th>\n",
              "      <th></th>\n",
              "      <th></th>\n",
              "      <th></th>\n",
              "      <th></th>\n",
              "      <th></th>\n",
              "      <th></th>\n",
              "      <th></th>\n",
              "      <th></th>\n",
              "    </tr>\n",
              "  </thead>\n",
              "  <tbody>\n",
              "    <tr>\n",
              "      <th>MEX-00024316</th>\n",
              "      <td>166140</td>\n",
              "      <td>MEX</td>\n",
              "      <td>691550.0</td>\n",
              "      <td>2022-01-07 11:13:00.000</td>\n",
              "      <td>2022-01-07 11:14:00.000</td>\n",
              "      <td>CLOSED</td>\n",
              "      <td>0.0</td>\n",
              "      <td>0.0</td>\n",
              "      <td>7.0</td>\n",
              "      <td>January</td>\n",
              "      <td>...</td>\n",
              "      <td>PART</td>\n",
              "      <td>FF2200</td>\n",
              "      <td>2021-12-10 17:00:00.000</td>\n",
              "      <td>NaN</td>\n",
              "      <td>7.0</td>\n",
              "      <td>January</td>\n",
              "      <td>2022.0</td>\n",
              "      <td>2022-01-07 11:14:00</td>\n",
              "      <td>NaN</td>\n",
              "      <td>CON CITA</td>\n",
              "    </tr>\n",
              "    <tr>\n",
              "      <th>MEX-00024316</th>\n",
              "      <td>166140</td>\n",
              "      <td>MEX</td>\n",
              "      <td>691550.0</td>\n",
              "      <td>2022-01-07 11:13:00.000</td>\n",
              "      <td>2022-01-07 11:14:00.000</td>\n",
              "      <td>CLOSED</td>\n",
              "      <td>0.0</td>\n",
              "      <td>0.0</td>\n",
              "      <td>7.0</td>\n",
              "      <td>January</td>\n",
              "      <td>...</td>\n",
              "      <td>PART</td>\n",
              "      <td>AF27958</td>\n",
              "      <td>2021-12-10 17:00:00.000</td>\n",
              "      <td>NaN</td>\n",
              "      <td>7.0</td>\n",
              "      <td>January</td>\n",
              "      <td>2022.0</td>\n",
              "      <td>2022-01-07 11:14:00</td>\n",
              "      <td>NaN</td>\n",
              "      <td>CON CITA</td>\n",
              "    </tr>\n",
              "    <tr>\n",
              "      <th>MEX-00024316</th>\n",
              "      <td>166140</td>\n",
              "      <td>MEX</td>\n",
              "      <td>691550.0</td>\n",
              "      <td>2022-01-07 11:13:00.000</td>\n",
              "      <td>2022-01-07 11:14:00.000</td>\n",
              "      <td>CLOSED</td>\n",
              "      <td>0.0</td>\n",
              "      <td>0.0</td>\n",
              "      <td>7.0</td>\n",
              "      <td>January</td>\n",
              "      <td>...</td>\n",
              "      <td>PART</td>\n",
              "      <td>LF14001NN</td>\n",
              "      <td>2021-12-10 17:00:00.000</td>\n",
              "      <td>NaN</td>\n",
              "      <td>7.0</td>\n",
              "      <td>January</td>\n",
              "      <td>2022.0</td>\n",
              "      <td>2022-01-07 11:14:00</td>\n",
              "      <td>NaN</td>\n",
              "      <td>CON CITA</td>\n",
              "    </tr>\n",
              "    <tr>\n",
              "      <th>MEX-00024316</th>\n",
              "      <td>166140</td>\n",
              "      <td>MEX</td>\n",
              "      <td>691550.0</td>\n",
              "      <td>2022-01-07 11:13:00.000</td>\n",
              "      <td>2022-01-07 11:14:00.000</td>\n",
              "      <td>CLOSED</td>\n",
              "      <td>0.0</td>\n",
              "      <td>0.0</td>\n",
              "      <td>7.0</td>\n",
              "      <td>January</td>\n",
              "      <td>...</td>\n",
              "      <td>PART</td>\n",
              "      <td>P550853</td>\n",
              "      <td>2021-12-10 17:00:00.000</td>\n",
              "      <td>NaN</td>\n",
              "      <td>7.0</td>\n",
              "      <td>January</td>\n",
              "      <td>2022.0</td>\n",
              "      <td>2022-01-07 11:14:00</td>\n",
              "      <td>NaN</td>\n",
              "      <td>CON CITA</td>\n",
              "    </tr>\n",
              "    <tr>\n",
              "      <th>MEX-00024316</th>\n",
              "      <td>166140</td>\n",
              "      <td>MEX</td>\n",
              "      <td>691550.0</td>\n",
              "      <td>2022-01-07 11:13:00.000</td>\n",
              "      <td>2022-01-07 11:14:00.000</td>\n",
              "      <td>CLOSED</td>\n",
              "      <td>0.0</td>\n",
              "      <td>0.0</td>\n",
              "      <td>7.0</td>\n",
              "      <td>January</td>\n",
              "      <td>...</td>\n",
              "      <td>PART</td>\n",
              "      <td>15W-40</td>\n",
              "      <td>2021-12-10 17:00:00.000</td>\n",
              "      <td>NaN</td>\n",
              "      <td>7.0</td>\n",
              "      <td>January</td>\n",
              "      <td>2022.0</td>\n",
              "      <td>2022-01-07 11:14:00</td>\n",
              "      <td>NaN</td>\n",
              "      <td>CON CITA</td>\n",
              "    </tr>\n",
              "    <tr>\n",
              "      <th>...</th>\n",
              "      <td>...</td>\n",
              "      <td>...</td>\n",
              "      <td>...</td>\n",
              "      <td>...</td>\n",
              "      <td>...</td>\n",
              "      <td>...</td>\n",
              "      <td>...</td>\n",
              "      <td>...</td>\n",
              "      <td>...</td>\n",
              "      <td>...</td>\n",
              "      <td>...</td>\n",
              "      <td>...</td>\n",
              "      <td>...</td>\n",
              "      <td>...</td>\n",
              "      <td>...</td>\n",
              "      <td>...</td>\n",
              "      <td>...</td>\n",
              "      <td>...</td>\n",
              "      <td>...</td>\n",
              "      <td>...</td>\n",
              "      <td>...</td>\n",
              "    </tr>\n",
              "    <tr>\n",
              "      <th>QRO-00046370</th>\n",
              "      <td>325470</td>\n",
              "      <td>QRO</td>\n",
              "      <td>534606.0</td>\n",
              "      <td>2024-09-04 10:15:00.000</td>\n",
              "      <td>NaN</td>\n",
              "      <td>OPEN</td>\n",
              "      <td>NaN</td>\n",
              "      <td>NaN</td>\n",
              "      <td>NaN</td>\n",
              "      <td>NaN</td>\n",
              "      <td>...</td>\n",
              "      <td>NaN</td>\n",
              "      <td>NaN</td>\n",
              "      <td>2024-09-04 17:00:00.000</td>\n",
              "      <td>NaN</td>\n",
              "      <td>NaN</td>\n",
              "      <td>NaN</td>\n",
              "      <td>NaN</td>\n",
              "      <td>NaN</td>\n",
              "      <td>MECHANIC</td>\n",
              "      <td>NaN</td>\n",
              "    </tr>\n",
              "    <tr>\n",
              "      <th>MEX-00060029</th>\n",
              "      <td>325484</td>\n",
              "      <td>MEX</td>\n",
              "      <td>NaN</td>\n",
              "      <td>2024-09-04 11:18:00.000</td>\n",
              "      <td>2024-09-04 11:19:16.000</td>\n",
              "      <td>CANCELED</td>\n",
              "      <td>0.0</td>\n",
              "      <td>0.0</td>\n",
              "      <td>4.0</td>\n",
              "      <td>September</td>\n",
              "      <td>...</td>\n",
              "      <td>NaN</td>\n",
              "      <td>NaN</td>\n",
              "      <td>2024-09-05 00:00:00.000</td>\n",
              "      <td>NaN</td>\n",
              "      <td>NaN</td>\n",
              "      <td>NaN</td>\n",
              "      <td>NaN</td>\n",
              "      <td>NaN</td>\n",
              "      <td>MECHANIC</td>\n",
              "      <td>NaN</td>\n",
              "    </tr>\n",
              "    <tr>\n",
              "      <th>MEX-00060032</th>\n",
              "      <td>325489</td>\n",
              "      <td>MEX</td>\n",
              "      <td>NaN</td>\n",
              "      <td>2024-09-04 11:21:00.000</td>\n",
              "      <td>NaN</td>\n",
              "      <td>OPEN</td>\n",
              "      <td>NaN</td>\n",
              "      <td>NaN</td>\n",
              "      <td>NaN</td>\n",
              "      <td>NaN</td>\n",
              "      <td>...</td>\n",
              "      <td>NaN</td>\n",
              "      <td>NaN</td>\n",
              "      <td>2024-09-05 00:00:00.000</td>\n",
              "      <td>NaN</td>\n",
              "      <td>NaN</td>\n",
              "      <td>NaN</td>\n",
              "      <td>NaN</td>\n",
              "      <td>NaN</td>\n",
              "      <td>MECHANIC</td>\n",
              "      <td>NaN</td>\n",
              "    </tr>\n",
              "    <tr>\n",
              "      <th>MEX-00060033</th>\n",
              "      <td>325502</td>\n",
              "      <td>MEX</td>\n",
              "      <td>NaN</td>\n",
              "      <td>2024-09-04 12:15:00.000</td>\n",
              "      <td>NaN</td>\n",
              "      <td>OPEN</td>\n",
              "      <td>NaN</td>\n",
              "      <td>NaN</td>\n",
              "      <td>NaN</td>\n",
              "      <td>NaN</td>\n",
              "      <td>...</td>\n",
              "      <td>NaN</td>\n",
              "      <td>NaN</td>\n",
              "      <td>2024-09-05 00:00:00.000</td>\n",
              "      <td>NaN</td>\n",
              "      <td>NaN</td>\n",
              "      <td>NaN</td>\n",
              "      <td>NaN</td>\n",
              "      <td>NaN</td>\n",
              "      <td>MECHANIC</td>\n",
              "      <td>NaN</td>\n",
              "    </tr>\n",
              "    <tr>\n",
              "      <th>QRO-00046374</th>\n",
              "      <td>325503</td>\n",
              "      <td>QRO</td>\n",
              "      <td>287588.0</td>\n",
              "      <td>2024-09-04 12:15:00.000</td>\n",
              "      <td>NaN</td>\n",
              "      <td>OPEN</td>\n",
              "      <td>NaN</td>\n",
              "      <td>NaN</td>\n",
              "      <td>NaN</td>\n",
              "      <td>NaN</td>\n",
              "      <td>...</td>\n",
              "      <td>NaN</td>\n",
              "      <td>NaN</td>\n",
              "      <td>2024-09-06 17:00:00.000</td>\n",
              "      <td>NaN</td>\n",
              "      <td>NaN</td>\n",
              "      <td>NaN</td>\n",
              "      <td>NaN</td>\n",
              "      <td>NaN</td>\n",
              "      <td>MECHANIC</td>\n",
              "      <td>NaN</td>\n",
              "    </tr>\n",
              "  </tbody>\n",
              "</table>\n",
              "<p>195636 rows × 46 columns</p>\n",
              "</div>"
            ],
            "text/plain": [
              "              Column        Taller       kMS               OpenedDate  \\\n",
              "OrderID                                                                 \n",
              "MEX-00024316  166140  MEX           691550.0  2022-01-07 11:13:00.000   \n",
              "MEX-00024316  166140  MEX           691550.0  2022-01-07 11:13:00.000   \n",
              "MEX-00024316  166140  MEX           691550.0  2022-01-07 11:13:00.000   \n",
              "MEX-00024316  166140  MEX           691550.0  2022-01-07 11:13:00.000   \n",
              "MEX-00024316  166140  MEX           691550.0  2022-01-07 11:13:00.000   \n",
              "...              ...           ...       ...                      ...   \n",
              "QRO-00046370  325470  QRO           534606.0  2024-09-04 10:15:00.000   \n",
              "MEX-00060029  325484  MEX                NaN  2024-09-04 11:18:00.000   \n",
              "MEX-00060032  325489  MEX                NaN  2024-09-04 11:21:00.000   \n",
              "MEX-00060033  325502  MEX                NaN  2024-09-04 12:15:00.000   \n",
              "QRO-00046374  325503  QRO           287588.0  2024-09-04 12:15:00.000   \n",
              "\n",
              "                           ClosedDate        Status  lagdias  laghoras  \\\n",
              "OrderID                                                                  \n",
              "MEX-00024316  2022-01-07 11:14:00.000  CLOSED            0.0       0.0   \n",
              "MEX-00024316  2022-01-07 11:14:00.000  CLOSED            0.0       0.0   \n",
              "MEX-00024316  2022-01-07 11:14:00.000  CLOSED            0.0       0.0   \n",
              "MEX-00024316  2022-01-07 11:14:00.000  CLOSED            0.0       0.0   \n",
              "MEX-00024316  2022-01-07 11:14:00.000  CLOSED            0.0       0.0   \n",
              "...                               ...           ...      ...       ...   \n",
              "QRO-00046370                      NaN  OPEN              NaN       NaN   \n",
              "MEX-00060029  2024-09-04 11:19:16.000  CANCELED          0.0       0.0   \n",
              "MEX-00060032                      NaN  OPEN              NaN       NaN   \n",
              "MEX-00060033                      NaN  OPEN              NaN       NaN   \n",
              "QRO-00046374                      NaN  OPEN              NaN       NaN   \n",
              "\n",
              "              ClosedDay ClosedMonth  ...     TipoLinea   NumParte  \\\n",
              "OrderID                              ...                            \n",
              "MEX-00024316        7.0     January  ...  PART             FF2200   \n",
              "MEX-00024316        7.0     January  ...  PART            AF27958   \n",
              "MEX-00024316        7.0     January  ...  PART          LF14001NN   \n",
              "MEX-00024316        7.0     January  ...  PART            P550853   \n",
              "MEX-00024316        7.0     January  ...  PART             15W-40   \n",
              "...                 ...         ...  ...           ...        ...   \n",
              "QRO-00046370        NaN         NaN  ...           NaN        NaN   \n",
              "MEX-00060029        4.0   September  ...           NaN        NaN   \n",
              "MEX-00060032        NaN         NaN  ...           NaN        NaN   \n",
              "MEX-00060033        NaN         NaN  ...           NaN        NaN   \n",
              "QRO-00046374        NaN         NaN  ...           NaN        NaN   \n",
              "\n",
              "                         FechaPromesa  Estimate CompleteDay CompleteMonth  \\\n",
              "OrderID                                                                     \n",
              "MEX-00024316  2021-12-10 17:00:00.000       NaN         7.0       January   \n",
              "MEX-00024316  2021-12-10 17:00:00.000       NaN         7.0       January   \n",
              "MEX-00024316  2021-12-10 17:00:00.000       NaN         7.0       January   \n",
              "MEX-00024316  2021-12-10 17:00:00.000       NaN         7.0       January   \n",
              "MEX-00024316  2021-12-10 17:00:00.000       NaN         7.0       January   \n",
              "...                               ...       ...         ...           ...   \n",
              "QRO-00046370  2024-09-04 17:00:00.000       NaN         NaN           NaN   \n",
              "MEX-00060029  2024-09-05 00:00:00.000       NaN         NaN           NaN   \n",
              "MEX-00060032  2024-09-05 00:00:00.000       NaN         NaN           NaN   \n",
              "MEX-00060033  2024-09-05 00:00:00.000       NaN         NaN           NaN   \n",
              "QRO-00046374  2024-09-06 17:00:00.000       NaN         NaN           NaN   \n",
              "\n",
              "             CompleteYear         CompleteDate  MECHANIC          CITA  \n",
              "OrderID                                                                 \n",
              "MEX-00024316       2022.0  2022-01-07 11:14:00       NaN  CON CITA      \n",
              "MEX-00024316       2022.0  2022-01-07 11:14:00       NaN  CON CITA      \n",
              "MEX-00024316       2022.0  2022-01-07 11:14:00       NaN  CON CITA      \n",
              "MEX-00024316       2022.0  2022-01-07 11:14:00       NaN  CON CITA      \n",
              "MEX-00024316       2022.0  2022-01-07 11:14:00       NaN  CON CITA      \n",
              "...                   ...                  ...       ...           ...  \n",
              "QRO-00046370          NaN                  NaN  MECHANIC           NaN  \n",
              "MEX-00060029          NaN                  NaN  MECHANIC           NaN  \n",
              "MEX-00060032          NaN                  NaN  MECHANIC           NaN  \n",
              "MEX-00060033          NaN                  NaN  MECHANIC           NaN  \n",
              "QRO-00046374          NaN                  NaN  MECHANIC           NaN  \n",
              "\n",
              "[195636 rows x 46 columns]"
            ]
          },
          "execution_count": 9,
          "metadata": {},
          "output_type": "execute_result"
        }
      ],
      "source": [
        "# Nombrando columna 'OrderID' como índice\n",
        "data.set_index('OrderID', inplace=True)\n",
        "data"
      ]
    },
    {
      "cell_type": "code",
      "execution_count": 10,
      "metadata": {
        "id": "TgmQDBKeeVqL"
      },
      "outputs": [],
      "source": [
        "# Convirtiendo tipos de datos a DateTime\n",
        "data['OpenedDate'] = pd.to_datetime(data['OpenedDate'])\n",
        "data['ClosedDate'] = pd.to_datetime(data['ClosedDate'])\n",
        "data['FechaPromesa'] = pd.to_datetime(data['FechaPromesa'])\n",
        "data['CompleteDate'] = pd.to_datetime(data['CompleteDate'])"
      ]
    },
    {
      "cell_type": "code",
      "execution_count": 11,
      "metadata": {
        "id": "N6FHpZySvxeO"
      },
      "outputs": [],
      "source": [
        "# Redondeando todos los decimales a enteros\n",
        "data['lagdias'] = data['lagdias'].round(0)\n",
        "data['laghoras'] = data['laghoras'].round(0)\n",
        "data['ClosedDay'] = data['ClosedDay'].round(0)\n",
        "data['ClosedYear'] = data['ClosedYear'].round(0)\n",
        "data['QTYRCVD'] = data['QTYRCVD'].round(0)\n",
        "data['QTYREQD'] = data['QTYREQD'].round(0)\n",
        "data['CompleteDay'] = data['CompleteDay'].round(0)\n",
        "data['CompleteYear'] = data['CompleteYear'].round(0)"
      ]
    },
    {
      "cell_type": "code",
      "execution_count": 12,
      "metadata": {
        "id": "zoapBYjbvzz6"
      },
      "outputs": [],
      "source": [
        "# Convirtiendo datos nulos a 0s\n",
        "data['lagdias'] = data['lagdias'].fillna(0)\n",
        "data['laghoras'] = data['laghoras'].fillna(0)\n",
        "data['ClosedDay'] = data['ClosedDay'].fillna(0)\n",
        "data['ClosedYear'] = data['ClosedYear'].fillna(0)\n",
        "data['QTYRCVD'] = data['QTYRCVD'].fillna(0)\n",
        "data['QTYREQD'] = data['QTYREQD'].fillna(0)\n",
        "data['CompleteDay'] = data['CompleteDay'].fillna(0)\n",
        "data['CompleteYear'] = data['CompleteYear'].fillna(0)"
      ]
    },
    {
      "cell_type": "code",
      "execution_count": 13,
      "metadata": {
        "id": "8ZUsu7lav16C"
      },
      "outputs": [],
      "source": [
        "# Convertir tipos de datos a enteros\n",
        "data['lagdias'] = data['lagdias'].astype(int)\n",
        "data['laghoras'] = data['laghoras'].astype(int)\n",
        "data['ClosedDay'] = data['ClosedDay'].astype(int)\n",
        "data['ClosedYear'] = data['ClosedYear'].astype(int)\n",
        "data['QTYRCVD'] = data['QTYRCVD'].astype(int)\n",
        "data['QTYREQD'] = data['QTYREQD'].astype(int)\n",
        "data['CompleteDay'] = data['CompleteDay'].astype(int)\n",
        "data['CompleteYear'] = data['CompleteYear'].astype(int)"
      ]
    },
    {
      "cell_type": "code",
      "execution_count": 14,
      "metadata": {
        "id": "k8DMH_YtwERN"
      },
      "outputs": [],
      "source": [
        "# Convertir tipos de datos a float\n",
        "# data['Estimate'] = data['Estimate'].astype(float)\n",
        "# No se puede, porque la informacion en la columna 'Estimate' no es realmente un estimado"
      ]
    },
    {
      "cell_type": "code",
      "execution_count": 15,
      "metadata": {
        "colab": {
          "base_uri": "https://localhost:8080/"
        },
        "id": "tL9SyPQvybO4",
        "outputId": "17e2e9fa-ae40-48b6-b7a7-b82741716033"
      },
      "outputs": [
        {
          "name": "stdout",
          "output_type": "stream",
          "text": [
            "<class 'pandas.core.frame.DataFrame'>\n",
            "Index: 195636 entries, MEX-00024316 to QRO-00046374\n",
            "Data columns (total 46 columns):\n",
            " #   Column         Non-Null Count   Dtype         \n",
            "---  ------         --------------   -----         \n",
            " 0   Column         195636 non-null  int64         \n",
            " 1   Taller         195636 non-null  object        \n",
            " 2   kMS            135430 non-null  float64       \n",
            " 3   OpenedDate     195636 non-null  datetime64[ns]\n",
            " 4   ClosedDate     193712 non-null  datetime64[ns]\n",
            " 5   Status         195636 non-null  object        \n",
            " 6   lagdias        195636 non-null  int64         \n",
            " 7   laghoras       195636 non-null  int64         \n",
            " 8   ClosedDay      195636 non-null  int64         \n",
            " 9   ClosedMonth    193712 non-null  object        \n",
            " 10  ClosedYear     195636 non-null  int64         \n",
            " 11  OpenedDay      195636 non-null  int64         \n",
            " 12  OpenedMonth    195636 non-null  object        \n",
            " 13  OpenedYear     195636 non-null  int64         \n",
            " 14  CreatedBy      195636 non-null  object        \n",
            " 15  ClosedBy       191748 non-null  object        \n",
            " 16  RepReason      195636 non-null  object        \n",
            " 17  OrderType      195636 non-null  object        \n",
            " 18  Supplier       71490 non-null   object        \n",
            " 19  COMPCDKEY      195636 non-null  object        \n",
            " 20  COMPCODE       195636 non-null  object        \n",
            " 21  DESCRIP        195636 non-null  object        \n",
            " 22  QTYRCVD        195636 non-null  int64         \n",
            " 23  QTYREQD        195636 non-null  int64         \n",
            " 24  CHGAMT         195636 non-null  float64       \n",
            " 25  TAXAMT         195636 non-null  float64       \n",
            " 26  SUBTOTAL       195636 non-null  float64       \n",
            " 27  TOTAL          195636 non-null  float64       \n",
            " 28  UnitID         195636 non-null  object        \n",
            " 29  UnitType       195636 non-null  object        \n",
            " 30  UnitYear       195636 non-null  int64         \n",
            " 31  EC             195607 non-null  object        \n",
            " 32  Flota          195636 non-null  object        \n",
            " 33  ReasonType     190605 non-null  object        \n",
            " 34  COMPLAINT      195636 non-null  object        \n",
            " 35  Jobcode        195636 non-null  object        \n",
            " 36  TipoLinea      190605 non-null  object        \n",
            " 37  NumParte       116136 non-null  object        \n",
            " 38  FechaPromesa   195227 non-null  datetime64[ns]\n",
            " 39  Estimate       4 non-null       object        \n",
            " 40  CompleteDay    195636 non-null  int64         \n",
            " 41  CompleteMonth  192729 non-null  object        \n",
            " 42  CompleteYear   195636 non-null  int64         \n",
            " 43  CompleteDate   192729 non-null  datetime64[ns]\n",
            " 44  MECHANIC       8068 non-null    object        \n",
            " 45  CITA           190605 non-null  object        \n",
            "dtypes: datetime64[ns](4), float64(5), int64(12), object(25)\n",
            "memory usage: 70.2+ MB\n"
          ]
        }
      ],
      "source": [
        "# Volver a revisar el tipo de dato de las columnas\n",
        "data.info()"
      ]
    },
    {
      "cell_type": "markdown",
      "metadata": {
        "id": "4gMF3bl8eWVH"
      },
      "source": [
        "## Analisis de los datos (Descriptiores Estadisticos)"
      ]
    },
    {
      "cell_type": "code",
      "execution_count": 16,
      "metadata": {
        "colab": {
          "base_uri": "https://localhost:8080/",
          "height": 394
        },
        "id": "etpCfScafH5P",
        "outputId": "693f439e-5c90-4344-ad4b-b8d307090532"
      },
      "outputs": [
        {
          "data": {
            "text/html": [
              "<div>\n",
              "<style scoped>\n",
              "    .dataframe tbody tr th:only-of-type {\n",
              "        vertical-align: middle;\n",
              "    }\n",
              "\n",
              "    .dataframe tbody tr th {\n",
              "        vertical-align: top;\n",
              "    }\n",
              "\n",
              "    .dataframe thead th {\n",
              "        text-align: right;\n",
              "    }\n",
              "</style>\n",
              "<table border=\"1\" class=\"dataframe\">\n",
              "  <thead>\n",
              "    <tr style=\"text-align: right;\">\n",
              "      <th></th>\n",
              "      <th>lagdias</th>\n",
              "      <th>laghoras</th>\n",
              "      <th>TOTAL</th>\n",
              "      <th>UnitYear</th>\n",
              "      <th>RepReason</th>\n",
              "      <th>UnitType</th>\n",
              "      <th>TipoLinea</th>\n",
              "      <th>CITA</th>\n",
              "    </tr>\n",
              "    <tr>\n",
              "      <th>OrderID</th>\n",
              "      <th></th>\n",
              "      <th></th>\n",
              "      <th></th>\n",
              "      <th></th>\n",
              "      <th></th>\n",
              "      <th></th>\n",
              "      <th></th>\n",
              "      <th></th>\n",
              "    </tr>\n",
              "  </thead>\n",
              "  <tbody>\n",
              "    <tr>\n",
              "      <th>MEX-00038220</th>\n",
              "      <td>0</td>\n",
              "      <td>0</td>\n",
              "      <td>90.00</td>\n",
              "      <td>2020</td>\n",
              "      <td>LAVADO</td>\n",
              "      <td>TRACTOR</td>\n",
              "      <td>SERVICES</td>\n",
              "      <td>SIN CITA</td>\n",
              "    </tr>\n",
              "    <tr>\n",
              "      <th>QRO-00041229</th>\n",
              "      <td>3</td>\n",
              "      <td>76</td>\n",
              "      <td>4.14</td>\n",
              "      <td>2021</td>\n",
              "      <td>MC</td>\n",
              "      <td>TRACTOR</td>\n",
              "      <td>PART</td>\n",
              "      <td>CON CITA</td>\n",
              "    </tr>\n",
              "    <tr>\n",
              "      <th>NLD-00000231</th>\n",
              "      <td>0</td>\n",
              "      <td>0</td>\n",
              "      <td>250.00</td>\n",
              "      <td>2016</td>\n",
              "      <td>LLANTA-CARR</td>\n",
              "      <td>TRAILER</td>\n",
              "      <td>SERVICES</td>\n",
              "      <td>CON CITA</td>\n",
              "    </tr>\n",
              "    <tr>\n",
              "      <th>MEX-00030068</th>\n",
              "      <td>3</td>\n",
              "      <td>66</td>\n",
              "      <td>310.00</td>\n",
              "      <td>2019</td>\n",
              "      <td>LAVADO</td>\n",
              "      <td>TRACTOR</td>\n",
              "      <td>SERVICES</td>\n",
              "      <td>SIN CITA</td>\n",
              "    </tr>\n",
              "    <tr>\n",
              "      <th>QRO-00041698</th>\n",
              "      <td>0</td>\n",
              "      <td>8</td>\n",
              "      <td>60.00</td>\n",
              "      <td>2021</td>\n",
              "      <td>ACC-REPORT</td>\n",
              "      <td>TRACTOR</td>\n",
              "      <td>LABOR</td>\n",
              "      <td>CON CITA</td>\n",
              "    </tr>\n",
              "    <tr>\n",
              "      <th>MEX-00027053</th>\n",
              "      <td>9</td>\n",
              "      <td>220</td>\n",
              "      <td>445.14</td>\n",
              "      <td>2019</td>\n",
              "      <td>PM</td>\n",
              "      <td>TRACTOR</td>\n",
              "      <td>PART</td>\n",
              "      <td>CON CITA</td>\n",
              "    </tr>\n",
              "    <tr>\n",
              "      <th>MEX-00047319</th>\n",
              "      <td>0</td>\n",
              "      <td>1</td>\n",
              "      <td>100.00</td>\n",
              "      <td>2020</td>\n",
              "      <td>LAVADO</td>\n",
              "      <td>TRACTOR</td>\n",
              "      <td>SERVICES</td>\n",
              "      <td>SIN CITA</td>\n",
              "    </tr>\n",
              "    <tr>\n",
              "      <th>QRO-00040245</th>\n",
              "      <td>0</td>\n",
              "      <td>5</td>\n",
              "      <td>1.78</td>\n",
              "      <td>2021</td>\n",
              "      <td>MC</td>\n",
              "      <td>TRACTOR</td>\n",
              "      <td>PART</td>\n",
              "      <td>EXPRES</td>\n",
              "    </tr>\n",
              "    <tr>\n",
              "      <th>QRO-00045339</th>\n",
              "      <td>5</td>\n",
              "      <td>125</td>\n",
              "      <td>1436.08</td>\n",
              "      <td>2021</td>\n",
              "      <td>DAÑO OP</td>\n",
              "      <td>TRACTOR</td>\n",
              "      <td>PART</td>\n",
              "      <td>CITA A TIEMP</td>\n",
              "    </tr>\n",
              "    <tr>\n",
              "      <th>MEX-00046362</th>\n",
              "      <td>2</td>\n",
              "      <td>56</td>\n",
              "      <td>1093.45</td>\n",
              "      <td>2018</td>\n",
              "      <td>PM</td>\n",
              "      <td>TRAILER</td>\n",
              "      <td>PART</td>\n",
              "      <td>CON CITA</td>\n",
              "    </tr>\n",
              "  </tbody>\n",
              "</table>\n",
              "</div>"
            ],
            "text/plain": [
              "              lagdias  laghoras    TOTAL  UnitYear     RepReason  \\\n",
              "OrderID                                                            \n",
              "MEX-00038220        0         0    90.00      2020  LAVADO         \n",
              "QRO-00041229        3        76     4.14      2021  MC             \n",
              "NLD-00000231        0         0   250.00      2016  LLANTA-CARR    \n",
              "MEX-00030068        3        66   310.00      2019  LAVADO         \n",
              "QRO-00041698        0         8    60.00      2021  ACC-REPORT     \n",
              "MEX-00027053        9       220   445.14      2019  PM             \n",
              "MEX-00047319        0         1   100.00      2020  LAVADO         \n",
              "QRO-00040245        0         5     1.78      2021  MC             \n",
              "QRO-00045339        5       125  1436.08      2021  DAÑO OP        \n",
              "MEX-00046362        2        56  1093.45      2018  PM             \n",
              "\n",
              "                  UnitType     TipoLinea          CITA  \n",
              "OrderID                                                 \n",
              "MEX-00038220  TRACTOR       SERVICES      SIN CITA      \n",
              "QRO-00041229  TRACTOR       PART          CON CITA      \n",
              "NLD-00000231  TRAILER       SERVICES      CON CITA      \n",
              "MEX-00030068  TRACTOR       SERVICES      SIN CITA      \n",
              "QRO-00041698  TRACTOR       LABOR         CON CITA      \n",
              "MEX-00027053  TRACTOR       PART          CON CITA      \n",
              "MEX-00047319  TRACTOR       SERVICES      SIN CITA      \n",
              "QRO-00040245  TRACTOR       PART          EXPRES        \n",
              "QRO-00045339  TRACTOR       PART          CITA A TIEMP  \n",
              "MEX-00046362  TRAILER       PART          CON CITA      "
            ]
          },
          "execution_count": 16,
          "metadata": {},
          "output_type": "execute_result"
        }
      ],
      "source": [
        "# Seleccionar sólo las variables relevantes para las estadisticas\n",
        "data_descript = data[['lagdias', 'laghoras','TOTAL','UnitYear',\n",
        "                      'RepReason', 'UnitType', 'TipoLinea', 'CITA']]\n",
        "\n",
        "data_descript.sample(10)"
      ]
    },
    {
      "cell_type": "markdown",
      "metadata": {
        "id": "H1zyw42FFswu"
      },
      "source": [
        "**Estadística descriptiva de las variables numéricas**"
      ]
    },
    {
      "cell_type": "code",
      "execution_count": 17,
      "metadata": {
        "colab": {
          "base_uri": "https://localhost:8080/",
          "height": 300
        },
        "id": "miArz-2kfIAF",
        "outputId": "b7f96df7-f2d7-473b-e83f-9258d7bdc4c1"
      },
      "outputs": [
        {
          "data": {
            "text/html": [
              "<div>\n",
              "<style scoped>\n",
              "    .dataframe tbody tr th:only-of-type {\n",
              "        vertical-align: middle;\n",
              "    }\n",
              "\n",
              "    .dataframe tbody tr th {\n",
              "        vertical-align: top;\n",
              "    }\n",
              "\n",
              "    .dataframe thead th {\n",
              "        text-align: right;\n",
              "    }\n",
              "</style>\n",
              "<table border=\"1\" class=\"dataframe\">\n",
              "  <thead>\n",
              "    <tr style=\"text-align: right;\">\n",
              "      <th></th>\n",
              "      <th>lagdias</th>\n",
              "      <th>laghoras</th>\n",
              "      <th>TOTAL</th>\n",
              "      <th>UnitYear</th>\n",
              "    </tr>\n",
              "  </thead>\n",
              "  <tbody>\n",
              "    <tr>\n",
              "      <th>count</th>\n",
              "      <td>195636.000000</td>\n",
              "      <td>195636.000000</td>\n",
              "      <td>195636.000000</td>\n",
              "      <td>195636.000000</td>\n",
              "    </tr>\n",
              "    <tr>\n",
              "      <th>mean</th>\n",
              "      <td>6.584984</td>\n",
              "      <td>159.523416</td>\n",
              "      <td>1273.548313</td>\n",
              "      <td>2018.569936</td>\n",
              "    </tr>\n",
              "    <tr>\n",
              "      <th>std</th>\n",
              "      <td>13.996067</td>\n",
              "      <td>335.843132</td>\n",
              "      <td>3810.736836</td>\n",
              "      <td>5.840994</td>\n",
              "    </tr>\n",
              "    <tr>\n",
              "      <th>min</th>\n",
              "      <td>-4.000000</td>\n",
              "      <td>-93.000000</td>\n",
              "      <td>-651469.230000</td>\n",
              "      <td>1909.000000</td>\n",
              "    </tr>\n",
              "    <tr>\n",
              "      <th>25%</th>\n",
              "      <td>0.000000</td>\n",
              "      <td>5.000000</td>\n",
              "      <td>86.000000</td>\n",
              "      <td>2018.000000</td>\n",
              "    </tr>\n",
              "    <tr>\n",
              "      <th>50%</th>\n",
              "      <td>2.000000</td>\n",
              "      <td>51.000000</td>\n",
              "      <td>320.000000</td>\n",
              "      <td>2020.000000</td>\n",
              "    </tr>\n",
              "    <tr>\n",
              "      <th>75%</th>\n",
              "      <td>7.000000</td>\n",
              "      <td>168.000000</td>\n",
              "      <td>1340.000000</td>\n",
              "      <td>2021.000000</td>\n",
              "    </tr>\n",
              "    <tr>\n",
              "      <th>max</th>\n",
              "      <td>651.000000</td>\n",
              "      <td>15627.000000</td>\n",
              "      <td>435075.270000</td>\n",
              "      <td>2025.000000</td>\n",
              "    </tr>\n",
              "  </tbody>\n",
              "</table>\n",
              "</div>"
            ],
            "text/plain": [
              "             lagdias       laghoras          TOTAL       UnitYear\n",
              "count  195636.000000  195636.000000  195636.000000  195636.000000\n",
              "mean        6.584984     159.523416    1273.548313    2018.569936\n",
              "std        13.996067     335.843132    3810.736836       5.840994\n",
              "min        -4.000000     -93.000000 -651469.230000    1909.000000\n",
              "25%         0.000000       5.000000      86.000000    2018.000000\n",
              "50%         2.000000      51.000000     320.000000    2020.000000\n",
              "75%         7.000000     168.000000    1340.000000    2021.000000\n",
              "max       651.000000   15627.000000  435075.270000    2025.000000"
            ]
          },
          "execution_count": 17,
          "metadata": {},
          "output_type": "execute_result"
        }
      ],
      "source": [
        "# Estadística descriptiva de las variables numéricas\n",
        "data_descript.describe()"
      ]
    },
    {
      "cell_type": "markdown",
      "metadata": {
        "id": "1S1nZYS-7l_0"
      },
      "source": [
        "| Variable numérica | Descripción | Rango | Desviación estándar |\n",
        "|-----------|-----------|-----------|-----------|\n",
        "| lagdias    | Días entre cierre y apertura de la orden de reparación   | 655    | Datos no tan dispersos    |\n",
        "| laghoras    | Horas entre cierre y apertura de la orden de reparación    | 15,720    | Datos muy dispersos    |\n",
        "| TOTAL    | Total de la reparación (Incluye IVA)   | 1,086,544   | Datos demasiado dispersos   |\n",
        "| UnitYear    | Año del modelo de la unidad   | 116   | Datos no dispersos   |\n"
      ]
    },
    {
      "cell_type": "markdown",
      "metadata": {
        "id": "UviNU0q6DPxo"
      },
      "source": [
        "\n",
        "\n",
        "*   **lagdias**: Los días de apertura y cierre de una reparación están ligeramente dispersos\n",
        "*   **laghoras**: Las horas de apertura y cierre de una reparación presentan un gran rango de diferencia entre el valor máximo y mínimo, además de que están muy dispersas.\n",
        "*   **TOTAL**: El costo total de las reparaciones tienen el rango más amplio, y con una alta desviación estándar.\n",
        "*   **UnitYear**: Al tratarse de los años del modelo de cada unidad, no se presenta tanta dispersión.\n",
        "\n",
        "\n",
        "\n"
      ]
    },
    {
      "cell_type": "code",
      "execution_count": 18,
      "metadata": {
        "colab": {
          "base_uri": "https://localhost:8080/",
          "height": 604
        },
        "id": "PP_8wxoY7odA",
        "outputId": "c917a521-fae7-4e0e-fdd3-c89c16608da2"
      },
      "outputs": [
        {
          "data": {
            "text/plain": [
              "<Axes: >"
            ]
          },
          "execution_count": 18,
          "metadata": {},
          "output_type": "execute_result"
        },
        {
          "data": {
            "image/png": "[encoded data removed]",
            "text/plain": [
              "<Figure size 2500x1000 with 2 Axes>"
            ]
          },
          "metadata": {},
          "output_type": "display_data"
        }
      ],
      "source": [
        "msno.matrix(data_descript[['lagdias', 'laghoras', 'TOTAL', 'UnitYear']])\n",
        "#No hay notoria presencia de valores null"
      ]
    },
    {
      "cell_type": "code",
      "execution_count": 19,
      "metadata": {
        "colab": {
          "base_uri": "https://localhost:8080/",
          "height": 1000
        },
        "id": "_AGqpCQi7p9y",
        "outputId": "e816c68f-ec29-4ef5-c2c9-95f11b58ca37"
      },
      "outputs": [
        {
          "data": {
            "text/plain": [
              "<Axes: >"
            ]
          },
          "execution_count": 19,
          "metadata": {},
          "output_type": "execute_result"
        },
        {
          "data": {
            "image/png": "[encoded data removed]",
            "text/plain": [
              "<Figure size 2000x3000 with 1 Axes>"
            ]
          },
          "metadata": {},
          "output_type": "display_data"
        }
      ],
      "source": [
        "data_descript.boxplot(figsize = (20,30))\n",
        "#El costo total de una reparación presenta la mayor cantidad de outliers, valores extremos\n",
        "#Es importante consultar si estos valores son correctos, o pudiera tratarse de un error, de lo contrario se deberían eliminarse o imputarse\n",
        "\n",
        "#El resto de variables no presentan tantos valores extremos"
      ]
    },
    {
      "cell_type": "code",
      "execution_count": 20,
      "metadata": {
        "colab": {
          "base_uri": "https://localhost:8080/",
          "height": 871
        },
        "id": "7sj-fDFC7r1y",
        "outputId": "07f7f2c6-649c-4f2a-d5a3-eff7881f6954"
      },
      "outputs": [
        {
          "data": {
            "text/plain": [
              "array([[<Axes: title={'center': 'TOTAL'}>]], dtype=object)"
            ]
          },
          "execution_count": 20,
          "metadata": {},
          "output_type": "execute_result"
        },
        {
          "data": {
            "image/png": "[encoded data removed]",
            "text/plain": [
              "<Figure size 1000x1000 with 1 Axes>"
            ]
          },
          "metadata": {},
          "output_type": "display_data"
        }
      ],
      "source": [
        "#Histograma para analizar la variable más dispersa, TOTAL\n",
        "\n",
        "data_descript.hist(['TOTAL'], figsize = (10,10))"
      ]
    },
    {
      "cell_type": "markdown",
      "metadata": {
        "id": "2SckA8qVFndy"
      },
      "source": [
        "**Estadística descripctiva de variables categóricas**"
      ]
    },
    {
      "cell_type": "code",
      "execution_count": 21,
      "metadata": {
        "colab": {
          "base_uri": "https://localhost:8080/",
          "height": 175
        },
        "id": "TAplm1Yq7tw8",
        "outputId": "2501849d-f811-47c2-fdaf-f5b2bbbaaf02"
      },
      "outputs": [
        {
          "data": {
            "text/html": [
              "<div>\n",
              "<style scoped>\n",
              "    .dataframe tbody tr th:only-of-type {\n",
              "        vertical-align: middle;\n",
              "    }\n",
              "\n",
              "    .dataframe tbody tr th {\n",
              "        vertical-align: top;\n",
              "    }\n",
              "\n",
              "    .dataframe thead th {\n",
              "        text-align: right;\n",
              "    }\n",
              "</style>\n",
              "<table border=\"1\" class=\"dataframe\">\n",
              "  <thead>\n",
              "    <tr style=\"text-align: right;\">\n",
              "      <th></th>\n",
              "      <th>RepReason</th>\n",
              "      <th>UnitType</th>\n",
              "      <th>TipoLinea</th>\n",
              "      <th>CITA</th>\n",
              "    </tr>\n",
              "  </thead>\n",
              "  <tbody>\n",
              "    <tr>\n",
              "      <th>count</th>\n",
              "      <td>195636</td>\n",
              "      <td>195636</td>\n",
              "      <td>190605</td>\n",
              "      <td>190605</td>\n",
              "    </tr>\n",
              "    <tr>\n",
              "      <th>unique</th>\n",
              "      <td>113</td>\n",
              "      <td>6</td>\n",
              "      <td>3</td>\n",
              "      <td>7</td>\n",
              "    </tr>\n",
              "    <tr>\n",
              "      <th>top</th>\n",
              "      <td>PM</td>\n",
              "      <td>TRACTOR</td>\n",
              "      <td>PART</td>\n",
              "      <td>SIN CITA</td>\n",
              "    </tr>\n",
              "    <tr>\n",
              "      <th>freq</th>\n",
              "      <td>55754</td>\n",
              "      <td>138455</td>\n",
              "      <td>116132</td>\n",
              "      <td>111491</td>\n",
              "    </tr>\n",
              "  </tbody>\n",
              "</table>\n",
              "</div>"
            ],
            "text/plain": [
              "           RepReason      UnitType     TipoLinea          CITA\n",
              "count         195636        195636        190605        190605\n",
              "unique           113             6             3             7\n",
              "top     PM            TRACTOR       PART          SIN CITA    \n",
              "freq           55754        138455        116132        111491"
            ]
          },
          "execution_count": 21,
          "metadata": {},
          "output_type": "execute_result"
        }
      ],
      "source": [
        "# Estadística descripctiva de variables categóricas\n",
        "data_descript.describe(include='object')"
      ]
    },
    {
      "cell_type": "code",
      "execution_count": 22,
      "metadata": {
        "colab": {
          "base_uri": "https://localhost:8080/"
        },
        "id": "nYwBFL_l8EeA",
        "outputId": "0823454b-6b00-47f6-b030-9b7143199fe9"
      },
      "outputs": [
        {
          "name": "stdout",
          "output_type": "stream",
          "text": [
            "RepReason\n",
            "PM              55754\n",
            "MC              44130\n",
            "OTROS           13888\n",
            "LAVADO          12066\n",
            "ENLLANTADO       8794\n",
            "Name: count, dtype: int64\n",
            "\n",
            "UnitType\n",
            "TRACTOR         138455\n",
            "TRAILER          50727\n",
            "DOLLY             5857\n",
            "TORTHON            527\n",
            "HERRAMIENTA         65\n",
            "Name: count, dtype: int64\n",
            "\n",
            "TipoLinea\n",
            "PART            116132\n",
            "SERVICES         71440\n",
            "LABOR             3033\n",
            "Name: count, dtype: int64\n",
            "\n",
            "CITA\n",
            "SIN CITA        111491\n",
            "CON CITA         49477\n",
            "EXPRES           13230\n",
            "                 10970\n",
            "CITA A TIEMP      4328\n",
            "Name: count, dtype: int64\n",
            "\n"
          ]
        }
      ],
      "source": [
        "# Valores más repetidos en las variables cuantitativas\n",
        "dataquant = data_descript.select_dtypes(include=object)\n",
        "\n",
        "for i in range(dataquant.shape[1]):\n",
        "  print(dataquant.iloc[:,i].value_counts().head(5))\n",
        "  print()"
      ]
    },
    {
      "cell_type": "markdown",
      "metadata": {
        "id": "O446adkjg1kT"
      },
      "source": [
        "Identificar si hay columnas comunes en los dataframes empleados que permitan “enlazar” los registros en las siguientes fases.\n",
        "\n",
        "**Debido a que solo utilizamos un dataframe para esta parte inicial del proyecto, no contamos con columnas por las que se pueda enlazar a otros dataframes. A futuro sería posible que tengamos más de uno que sí valdría la pena enlazar a traves de llaves o columnas en común.**"
      ]
    },
    {
      "cell_type": "markdown",
      "metadata": {
        "id": "83pDCilqrfBs"
      },
      "source": [
        "# **Selección y limpieza de datos**"
      ]
    },
    {
      "cell_type": "markdown",
      "metadata": {
        "id": "FQBrA7_irmwj"
      },
      "source": [
        "## Eliminar las columnas no relevantes"
      ]
    },
    {
      "cell_type": "markdown",
      "metadata": {},
      "source": [
        "Columna|Justificacion\n",
        "------|--------------\n",
        "Column| No sabemos que es\n",
        "Taller| Viene implicito en el OrderID (nuestro index)\n",
        "ClosedDate| Tenemos una metrica mas precisa (laghoras)\n",
        "ClosedDay| \"\"\n",
        "ClosedMonth| \"\"\n",
        "ClosedYear| \"\"\n",
        "OpenedDay| Tenemos una metrica mas general (OpenedDate)\n",
        "OpenedMonth| \"\"\n",
        "OpenedYear| \"\"\n",
        "CreatedBy| No afecta realmente quien inicio la orden de reparacion\n",
        "ClosedBy| No afecta realmente quien cerro la orden de reparacion\n",
        "OrderType| Solo existen 2 tipos 'Standard' & 'Vendor'. Asumimos que no tiene efecto en la reparacion\n",
        "Supplier| No afecta realmente de donde se obtuvo la pieza de reparacion\n",
        "**COMPCDKEY**| **No sabemos si tiene utilidad o no**\n",
        "**COMPCODE**| **No sabemos si tiene utilidad o no**\n",
        "DESCRIP| Tiene informacion demasiado especifica para cada caso, no nos seria util\n",
        "QTYRCVD| No afecta realmente si se daño 1 o mas piezas, si no, que fallaron\n",
        "QTYREQD| Similar al anterior.\n",
        "CHGAMT| Lo importante es la metrica del costo por reparacion (TOTAL)\n",
        "TAXAMT| \"\"\n",
        "SUBTOTAL| \"\"\n",
        "EC| No afecta realmente el equipo administrativo del proyecto\n",
        "ReasonType| Segun el diccionario de datos, no aporta informacion relevante\n",
        "FechaPromesa| No genera impacto en la reparacion\n",
        "Estimate| \" \"\n",
        "CompleteDay| Tenemos una metrica mas precisa (laghoras)\n",
        "CompleteMonth| \"\"\n",
        "CompleteYear| \"\"\n",
        "CompleteDate| \"\"\n",
        "MECHANIC| Asumimos que no genera impacto en la reparacion quien la hizo"
      ]
    },
    {
      "cell_type": "code",
      "execution_count": 119,
      "metadata": {
        "colab": {
          "base_uri": "https://localhost:8080/",
          "height": 568
        },
        "id": "8QbdM0wT3ZWi",
        "outputId": "83afad93-0efa-46b8-c8fa-b274d534d287"
      },
      "outputs": [
        {
          "data": {
            "text/html": [
              "<div>\n",
              "<style scoped>\n",
              "    .dataframe tbody tr th:only-of-type {\n",
              "        vertical-align: middle;\n",
              "    }\n",
              "\n",
              "    .dataframe tbody tr th {\n",
              "        vertical-align: top;\n",
              "    }\n",
              "\n",
              "    .dataframe thead th {\n",
              "        text-align: right;\n",
              "    }\n",
              "</style>\n",
              "<table border=\"1\" class=\"dataframe\">\n",
              "  <thead>\n",
              "    <tr style=\"text-align: right;\">\n",
              "      <th></th>\n",
              "      <th>kMS</th>\n",
              "      <th>OpenedDate</th>\n",
              "      <th>lagdias</th>\n",
              "      <th>laghoras</th>\n",
              "      <th>RepReason</th>\n",
              "      <th>TOTAL</th>\n",
              "      <th>UnitID</th>\n",
              "      <th>UnitType</th>\n",
              "      <th>UnitYear</th>\n",
              "      <th>Flota</th>\n",
              "      <th>COMPLAINT</th>\n",
              "      <th>Jobcode</th>\n",
              "      <th>TipoLinea</th>\n",
              "      <th>NumParte</th>\n",
              "      <th>CITA</th>\n",
              "    </tr>\n",
              "    <tr>\n",
              "      <th>OrderID</th>\n",
              "      <th></th>\n",
              "      <th></th>\n",
              "      <th></th>\n",
              "      <th></th>\n",
              "      <th></th>\n",
              "      <th></th>\n",
              "      <th></th>\n",
              "      <th></th>\n",
              "      <th></th>\n",
              "      <th></th>\n",
              "      <th></th>\n",
              "      <th></th>\n",
              "      <th></th>\n",
              "      <th></th>\n",
              "      <th></th>\n",
              "    </tr>\n",
              "  </thead>\n",
              "  <tbody>\n",
              "    <tr>\n",
              "      <th>VIL-00006988</th>\n",
              "      <td>625664.0</td>\n",
              "      <td>2024-04-17 10:21:00</td>\n",
              "      <td>5</td>\n",
              "      <td>126</td>\n",
              "      <td>MC</td>\n",
              "      <td>12.88</td>\n",
              "      <td>1714</td>\n",
              "      <td>TRACTOR</td>\n",
              "      <td>2020</td>\n",
              "      <td>Wm Sencillo                                   ...</td>\n",
              "      <td>CORRECTIVO</td>\n",
              "      <td>000013 - Correctivo Tractos</td>\n",
              "      <td>PART</td>\n",
              "      <td>1388504CIN</td>\n",
              "      <td>CITA A TIEMP</td>\n",
              "    </tr>\n",
              "    <tr>\n",
              "      <th>MEX-00025411</th>\n",
              "      <td>449166.0</td>\n",
              "      <td>2022-01-21 11:11:00</td>\n",
              "      <td>0</td>\n",
              "      <td>3</td>\n",
              "      <td>ENLLANTADO</td>\n",
              "      <td>0.00</td>\n",
              "      <td>1571</td>\n",
              "      <td>TRACTOR</td>\n",
              "      <td>2019</td>\n",
              "      <td>In&amp;Out                                        ...</td>\n",
              "      <td>DESGASTADO</td>\n",
              "      <td>000058 - Preventivo Llantas</td>\n",
              "      <td>PART</td>\n",
              "      <td>JETWAY JUL3</td>\n",
              "      <td>SIN CITA</td>\n",
              "    </tr>\n",
              "    <tr>\n",
              "      <th>SAAP-0004775</th>\n",
              "      <td>583917.0</td>\n",
              "      <td>2022-11-25 13:16:00</td>\n",
              "      <td>0</td>\n",
              "      <td>0</td>\n",
              "      <td>MC</td>\n",
              "      <td>3620.69</td>\n",
              "      <td>TT01</td>\n",
              "      <td>TRACTOR</td>\n",
              "      <td>2016</td>\n",
              "      <td>Sayer Patios y T.                             ...</td>\n",
              "      <td>CORRECTIVO</td>\n",
              "      <td>000013 - Correctivo Tractos</td>\n",
              "      <td>SERVICES</td>\n",
              "      <td>NaN</td>\n",
              "      <td>CON CITA</td>\n",
              "    </tr>\n",
              "    <tr>\n",
              "      <th>VIL-00006762</th>\n",
              "      <td>510617.0</td>\n",
              "      <td>2024-02-27 16:16:00</td>\n",
              "      <td>9</td>\n",
              "      <td>215</td>\n",
              "      <td>MC</td>\n",
              "      <td>800.00</td>\n",
              "      <td>1813</td>\n",
              "      <td>TRACTOR</td>\n",
              "      <td>2021</td>\n",
              "      <td>Wm Full                                       ...</td>\n",
              "      <td>CORRECTIVO</td>\n",
              "      <td>000013 - Correctivo Tractos</td>\n",
              "      <td>SERVICES</td>\n",
              "      <td>NaN</td>\n",
              "      <td>CON CITA</td>\n",
              "    </tr>\n",
              "    <tr>\n",
              "      <th>QRO-00037539</th>\n",
              "      <td>356997.0</td>\n",
              "      <td>2022-10-08 11:53:00</td>\n",
              "      <td>6</td>\n",
              "      <td>148</td>\n",
              "      <td>ACC-NO-REPO</td>\n",
              "      <td>1244.26</td>\n",
              "      <td>1756</td>\n",
              "      <td>TRACTOR</td>\n",
              "      <td>2020</td>\n",
              "      <td>PISA Gdl                                      ...</td>\n",
              "      <td>PM</td>\n",
              "      <td>000026 - Accidente</td>\n",
              "      <td>PART</td>\n",
              "      <td>EV100868</td>\n",
              "      <td>SIN CITA</td>\n",
              "    </tr>\n",
              "    <tr>\n",
              "      <th>QRO-00042347</th>\n",
              "      <td>522232.0</td>\n",
              "      <td>2023-07-21 08:53:00</td>\n",
              "      <td>7</td>\n",
              "      <td>175</td>\n",
              "      <td>BLC</td>\n",
              "      <td>6823.78</td>\n",
              "      <td>1796</td>\n",
              "      <td>TRACTOR</td>\n",
              "      <td>2021</td>\n",
              "      <td>PISA Gdl                                      ...</td>\n",
              "      <td>DESBALANCE</td>\n",
              "      <td>000059 - Correctivo Llantas</td>\n",
              "      <td>PART</td>\n",
              "      <td>FS591</td>\n",
              "      <td>SIN CITA</td>\n",
              "    </tr>\n",
              "    <tr>\n",
              "      <th>VIL-00003918</th>\n",
              "      <td>400451.0</td>\n",
              "      <td>2023-02-17 09:00:00</td>\n",
              "      <td>4</td>\n",
              "      <td>97</td>\n",
              "      <td>PM</td>\n",
              "      <td>146.00</td>\n",
              "      <td>1819</td>\n",
              "      <td>TRACTOR</td>\n",
              "      <td>2021</td>\n",
              "      <td>Wm Full                                       ...</td>\n",
              "      <td>PREVENT VENC</td>\n",
              "      <td>000041 - Servicio Preventivo A - LT</td>\n",
              "      <td>SERVICES</td>\n",
              "      <td>NaN</td>\n",
              "      <td>SIN CITA</td>\n",
              "    </tr>\n",
              "    <tr>\n",
              "      <th>TA-000014891</th>\n",
              "      <td>NaN</td>\n",
              "      <td>2022-12-01 15:21:00</td>\n",
              "      <td>0</td>\n",
              "      <td>0</td>\n",
              "      <td>OTROS</td>\n",
              "      <td>0.00</td>\n",
              "      <td>53573</td>\n",
              "      <td>TRAILER</td>\n",
              "      <td>2016</td>\n",
              "      <td>Circuitos                                     ...</td>\n",
              "      <td>FALTA LODERA</td>\n",
              "      <td>000057 - Informativos</td>\n",
              "      <td>SERVICES</td>\n",
              "      <td>NaN</td>\n",
              "      <td>EXPRES</td>\n",
              "    </tr>\n",
              "    <tr>\n",
              "      <th>MEX-00038546</th>\n",
              "      <td>40769.0</td>\n",
              "      <td>2023-03-24 12:18:00</td>\n",
              "      <td>1</td>\n",
              "      <td>24</td>\n",
              "      <td>MC</td>\n",
              "      <td>206.67</td>\n",
              "      <td>1887</td>\n",
              "      <td>TRACTOR</td>\n",
              "      <td>2023</td>\n",
              "      <td>Circuitos                                     ...</td>\n",
              "      <td>CORRECTIVO</td>\n",
              "      <td>000013 - Correctivo Tractos</td>\n",
              "      <td>PART</td>\n",
              "      <td>AF55839</td>\n",
              "      <td>SIN CITA</td>\n",
              "    </tr>\n",
              "    <tr>\n",
              "      <th>MEX-00027027</th>\n",
              "      <td>200000.0</td>\n",
              "      <td>2022-04-04 15:37:00</td>\n",
              "      <td>34</td>\n",
              "      <td>811</td>\n",
              "      <td>MC</td>\n",
              "      <td>1630.80</td>\n",
              "      <td>501</td>\n",
              "      <td>TRACTOR</td>\n",
              "      <td>1989</td>\n",
              "      <td>Available                                     ...</td>\n",
              "      <td>CORRECTIVO</td>\n",
              "      <td>000013 - Correctivo Tractos</td>\n",
              "      <td>PART</td>\n",
              "      <td>RFELI0522</td>\n",
              "      <td></td>\n",
              "    </tr>\n",
              "  </tbody>\n",
              "</table>\n",
              "</div>"
            ],
            "text/plain": [
              "                   kMS          OpenedDate  lagdias  laghoras     RepReason  \\\n",
              "OrderID                                                                       \n",
              "VIL-00006988  625664.0 2024-04-17 10:21:00        5       126  MC             \n",
              "MEX-00025411  449166.0 2022-01-21 11:11:00        0         3  ENLLANTADO     \n",
              "SAAP-0004775  583917.0 2022-11-25 13:16:00        0         0  MC             \n",
              "VIL-00006762  510617.0 2024-02-27 16:16:00        9       215  MC             \n",
              "QRO-00037539  356997.0 2022-10-08 11:53:00        6       148  ACC-NO-REPO    \n",
              "QRO-00042347  522232.0 2023-07-21 08:53:00        7       175  BLC            \n",
              "VIL-00003918  400451.0 2023-02-17 09:00:00        4        97  PM             \n",
              "TA-000014891       NaN 2022-12-01 15:21:00        0         0  OTROS          \n",
              "MEX-00038546   40769.0 2023-03-24 12:18:00        1        24  MC             \n",
              "MEX-00027027  200000.0 2022-04-04 15:37:00       34       811  MC             \n",
              "\n",
              "                TOTAL UnitID      UnitType  UnitYear  \\\n",
              "OrderID                                                \n",
              "VIL-00006988    12.88   1714  TRACTOR           2020   \n",
              "MEX-00025411     0.00   1571  TRACTOR           2019   \n",
              "SAAP-0004775  3620.69   TT01  TRACTOR           2016   \n",
              "VIL-00006762   800.00   1813  TRACTOR           2021   \n",
              "QRO-00037539  1244.26   1756  TRACTOR           2020   \n",
              "QRO-00042347  6823.78   1796  TRACTOR           2021   \n",
              "VIL-00003918   146.00   1819  TRACTOR           2021   \n",
              "TA-000014891     0.00  53573  TRAILER           2016   \n",
              "MEX-00038546   206.67   1887  TRACTOR           2023   \n",
              "MEX-00027027  1630.80    501  TRACTOR           1989   \n",
              "\n",
              "                                                          Flota     COMPLAINT  \\\n",
              "OrderID                                                                         \n",
              "VIL-00006988  Wm Sencillo                                   ...  CORRECTIVO     \n",
              "MEX-00025411  In&Out                                        ...  DESGASTADO     \n",
              "SAAP-0004775  Sayer Patios y T.                             ...  CORRECTIVO     \n",
              "VIL-00006762  Wm Full                                       ...  CORRECTIVO     \n",
              "QRO-00037539  PISA Gdl                                      ...  PM             \n",
              "QRO-00042347  PISA Gdl                                      ...  DESBALANCE     \n",
              "VIL-00003918  Wm Full                                       ...  PREVENT VENC   \n",
              "TA-000014891  Circuitos                                     ...  FALTA LODERA   \n",
              "MEX-00038546  Circuitos                                     ...  CORRECTIVO     \n",
              "MEX-00027027  Available                                     ...  CORRECTIVO     \n",
              "\n",
              "                                          Jobcode     TipoLinea     NumParte  \\\n",
              "OrderID                                                                        \n",
              "VIL-00006988          000013 - Correctivo Tractos  PART           1388504CIN   \n",
              "MEX-00025411          000058 - Preventivo Llantas  PART          JETWAY JUL3   \n",
              "SAAP-0004775          000013 - Correctivo Tractos  SERVICES              NaN   \n",
              "VIL-00006762          000013 - Correctivo Tractos  SERVICES              NaN   \n",
              "QRO-00037539                   000026 - Accidente  PART             EV100868   \n",
              "QRO-00042347          000059 - Correctivo Llantas  PART                FS591   \n",
              "VIL-00003918  000041 - Servicio Preventivo A - LT  SERVICES              NaN   \n",
              "TA-000014891                000057 - Informativos  SERVICES              NaN   \n",
              "MEX-00038546          000013 - Correctivo Tractos  PART              AF55839   \n",
              "MEX-00027027          000013 - Correctivo Tractos  PART            RFELI0522   \n",
              "\n",
              "                      CITA  \n",
              "OrderID                     \n",
              "VIL-00006988  CITA A TIEMP  \n",
              "MEX-00025411  SIN CITA      \n",
              "SAAP-0004775  CON CITA      \n",
              "VIL-00006762  CON CITA      \n",
              "QRO-00037539  SIN CITA      \n",
              "QRO-00042347  SIN CITA      \n",
              "VIL-00003918  SIN CITA      \n",
              "TA-000014891  EXPRES        \n",
              "MEX-00038546  SIN CITA      \n",
              "MEX-00027027                "
            ]
          },
          "execution_count": 119,
          "metadata": {},
          "output_type": "execute_result"
        }
      ],
      "source": [
        "# Seleccionar sólo las columnas relevantes para las estadisticas\n",
        "data_filtered_cols = data.drop(['Column', 'Taller', 'ClosedDate', 'Status',\n",
        "                   'ClosedDay', 'ClosedMonth', 'ClosedYear', 'OpenedDay', 'OpenedMonth', 'OpenedYear',\n",
        "                   'CreatedBy', 'ClosedBy', 'OrderType', 'Supplier', 'COMPCDKEY', 'COMPCODE',\n",
        "                   'DESCRIP', 'QTYRCVD', 'QTYREQD', 'CHGAMT', 'TAXAMT', 'SUBTOTAL', 'EC',\n",
        "                   'ReasonType', 'FechaPromesa', 'Estimate', 'CompleteDay',\n",
        "                   'CompleteMonth', 'CompleteYear', 'CompleteDate', 'MECHANIC'], axis=1)\n",
        "\n",
        "data_filtered_cols.sample(10)"
      ]
    },
    {
      "cell_type": "code",
      "execution_count": 120,
      "metadata": {
        "colab": {
          "base_uri": "https://localhost:8080/"
        },
        "id": "0ZE1p2itKtEn",
        "outputId": "6185a475-d412-4e92-86f3-15cf8e092ad8"
      },
      "outputs": [
        {
          "name": "stdout",
          "output_type": "stream",
          "text": [
            "<class 'pandas.core.frame.DataFrame'>\n",
            "Index: 195636 entries, MEX-00024316 to QRO-00046374\n",
            "Data columns (total 15 columns):\n",
            " #   Column      Non-Null Count   Dtype         \n",
            "---  ------      --------------   -----         \n",
            " 0   kMS         135430 non-null  float64       \n",
            " 1   OpenedDate  195636 non-null  datetime64[ns]\n",
            " 2   lagdias     195636 non-null  int64         \n",
            " 3   laghoras    195636 non-null  int64         \n",
            " 4   RepReason   195636 non-null  object        \n",
            " 5   TOTAL       195636 non-null  float64       \n",
            " 6   UnitID      195636 non-null  object        \n",
            " 7   UnitType    195636 non-null  object        \n",
            " 8   UnitYear    195636 non-null  int64         \n",
            " 9   Flota       195636 non-null  object        \n",
            " 10  COMPLAINT   195636 non-null  object        \n",
            " 11  Jobcode     195636 non-null  object        \n",
            " 12  TipoLinea   190605 non-null  object        \n",
            " 13  NumParte    116136 non-null  object        \n",
            " 14  CITA        190605 non-null  object        \n",
            "dtypes: datetime64[ns](1), float64(2), int64(3), object(9)\n",
            "memory usage: 27.9+ MB\n"
          ]
        }
      ],
      "source": [
        "data_filtered_cols.info()"
      ]
    },
    {
      "cell_type": "code",
      "execution_count": 121,
      "metadata": {
        "colab": {
          "base_uri": "https://localhost:8080/",
          "height": 491
        },
        "id": "VJmqTomsK8xe",
        "outputId": "e307ebfa-6c13-4e51-9979-92a1e0bf1042"
      },
      "outputs": [
        {
          "data": {
            "text/plain": [
              "kMS           60206\n",
              "OpenedDate        0\n",
              "lagdias           0\n",
              "laghoras          0\n",
              "RepReason         0\n",
              "TOTAL             0\n",
              "UnitID            0\n",
              "UnitType          0\n",
              "UnitYear          0\n",
              "Flota             0\n",
              "COMPLAINT         0\n",
              "Jobcode           0\n",
              "TipoLinea      5031\n",
              "NumParte      79500\n",
              "CITA           5031\n",
              "dtype: int64"
            ]
          },
          "execution_count": 121,
          "metadata": {},
          "output_type": "execute_result"
        }
      ],
      "source": [
        "data_filtered_cols.isnull().sum()"
      ]
    },
    {
      "cell_type": "markdown",
      "metadata": {},
      "source": [
        "## Limpieza de las columnas (Trim)"
      ]
    },
    {
      "cell_type": "markdown",
      "metadata": {},
      "source": [
        "Notamos que algunas de las columnas extraidas desde el archivo .csv tenian espacios en blanco que deben ser removidos para evitar complicaciones mas adelante en la agrupacion y filtrado de informacion. Es por eso que se procedera a arreglar dichos errores en la captura de la informacion"
      ]
    },
    {
      "cell_type": "code",
      "execution_count": 122,
      "metadata": {},
      "outputs": [
        {
          "name": "stdout",
          "output_type": "stream",
          "text": [
            "<class 'pandas.core.frame.DataFrame'>\n",
            "Index: 195636 entries, MEX-00024316 to QRO-00046374\n",
            "Data columns (total 15 columns):\n",
            " #   Column      Non-Null Count   Dtype         \n",
            "---  ------      --------------   -----         \n",
            " 0   kMS         135430 non-null  float64       \n",
            " 1   OpenedDate  195636 non-null  datetime64[ns]\n",
            " 2   lagdias     195636 non-null  int64         \n",
            " 3   laghoras    195636 non-null  int64         \n",
            " 4   RepReason   195636 non-null  object        \n",
            " 5   TOTAL       195636 non-null  float64       \n",
            " 6   UnitID      195636 non-null  object        \n",
            " 7   UnitType    195636 non-null  object        \n",
            " 8   UnitYear    195636 non-null  int64         \n",
            " 9   Flota       195636 non-null  object        \n",
            " 10  COMPLAINT   195636 non-null  object        \n",
            " 11  Jobcode     195636 non-null  object        \n",
            " 12  TipoLinea   190605 non-null  object        \n",
            " 13  NumParte    116136 non-null  object        \n",
            " 14  CITA        190605 non-null  object        \n",
            "dtypes: datetime64[ns](1), float64(2), int64(3), object(9)\n",
            "memory usage: 27.9+ MB\n"
          ]
        }
      ],
      "source": [
        "data_filtered_cols.info()"
      ]
    },
    {
      "cell_type": "code",
      "execution_count": 170,
      "metadata": {},
      "outputs": [
        {
          "data": {
            "text/html": [
              "<div>\n",
              "<style scoped>\n",
              "    .dataframe tbody tr th:only-of-type {\n",
              "        vertical-align: middle;\n",
              "    }\n",
              "\n",
              "    .dataframe tbody tr th {\n",
              "        vertical-align: top;\n",
              "    }\n",
              "\n",
              "    .dataframe thead th {\n",
              "        text-align: right;\n",
              "    }\n",
              "</style>\n",
              "<table border=\"1\" class=\"dataframe\">\n",
              "  <thead>\n",
              "    <tr style=\"text-align: right;\">\n",
              "      <th></th>\n",
              "      <th>kMS</th>\n",
              "      <th>OpenedDate</th>\n",
              "      <th>lagdias</th>\n",
              "      <th>laghoras</th>\n",
              "      <th>RepReason</th>\n",
              "      <th>TOTAL</th>\n",
              "      <th>UnitID</th>\n",
              "      <th>UnitType</th>\n",
              "      <th>UnitYear</th>\n",
              "      <th>Flota</th>\n",
              "      <th>COMPLAINT</th>\n",
              "      <th>Jobcode</th>\n",
              "      <th>TipoLinea</th>\n",
              "      <th>NumParte</th>\n",
              "      <th>CITA</th>\n",
              "    </tr>\n",
              "    <tr>\n",
              "      <th>OrderID</th>\n",
              "      <th></th>\n",
              "      <th></th>\n",
              "      <th></th>\n",
              "      <th></th>\n",
              "      <th></th>\n",
              "      <th></th>\n",
              "      <th></th>\n",
              "      <th></th>\n",
              "      <th></th>\n",
              "      <th></th>\n",
              "      <th></th>\n",
              "      <th></th>\n",
              "      <th></th>\n",
              "      <th></th>\n",
              "      <th></th>\n",
              "    </tr>\n",
              "  </thead>\n",
              "  <tbody>\n",
              "    <tr>\n",
              "      <th>MEX-00024316</th>\n",
              "      <td>691550.0</td>\n",
              "      <td>2022-01-07 11:13:00</td>\n",
              "      <td>0</td>\n",
              "      <td>0</td>\n",
              "      <td>PM</td>\n",
              "      <td>232.360</td>\n",
              "      <td>1491</td>\n",
              "      <td>TRACTOR</td>\n",
              "      <td>2018</td>\n",
              "      <td>In&amp;Out</td>\n",
              "      <td>PREVENT VENC</td>\n",
              "      <td>000019 - Servicio preventivo A</td>\n",
              "      <td>PART</td>\n",
              "      <td>FF2200</td>\n",
              "      <td>CON CITA</td>\n",
              "    </tr>\n",
              "    <tr>\n",
              "      <th>MEX-00024316</th>\n",
              "      <td>691550.0</td>\n",
              "      <td>2022-01-07 11:13:00</td>\n",
              "      <td>0</td>\n",
              "      <td>0</td>\n",
              "      <td>PM</td>\n",
              "      <td>124.120</td>\n",
              "      <td>1491</td>\n",
              "      <td>TRACTOR</td>\n",
              "      <td>2018</td>\n",
              "      <td>In&amp;Out</td>\n",
              "      <td>PREVENT VENC</td>\n",
              "      <td>000019 - Servicio preventivo A</td>\n",
              "      <td>PART</td>\n",
              "      <td>AF27958</td>\n",
              "      <td>CON CITA</td>\n",
              "    </tr>\n",
              "    <tr>\n",
              "      <th>MEX-00024316</th>\n",
              "      <td>691550.0</td>\n",
              "      <td>2022-01-07 11:13:00</td>\n",
              "      <td>0</td>\n",
              "      <td>0</td>\n",
              "      <td>PM</td>\n",
              "      <td>366.410</td>\n",
              "      <td>1491</td>\n",
              "      <td>TRACTOR</td>\n",
              "      <td>2018</td>\n",
              "      <td>In&amp;Out</td>\n",
              "      <td>PREVENT VENC</td>\n",
              "      <td>000019 - Servicio preventivo A</td>\n",
              "      <td>PART</td>\n",
              "      <td>LF14001NN</td>\n",
              "      <td>CON CITA</td>\n",
              "    </tr>\n",
              "    <tr>\n",
              "      <th>MEX-00024316</th>\n",
              "      <td>691550.0</td>\n",
              "      <td>2022-01-07 11:13:00</td>\n",
              "      <td>0</td>\n",
              "      <td>0</td>\n",
              "      <td>PM</td>\n",
              "      <td>255.340</td>\n",
              "      <td>1491</td>\n",
              "      <td>TRACTOR</td>\n",
              "      <td>2018</td>\n",
              "      <td>In&amp;Out</td>\n",
              "      <td>PREVENT VENC</td>\n",
              "      <td>000019 - Servicio preventivo A</td>\n",
              "      <td>PART</td>\n",
              "      <td>P550853</td>\n",
              "      <td>CON CITA</td>\n",
              "    </tr>\n",
              "    <tr>\n",
              "      <th>MEX-00024316</th>\n",
              "      <td>691550.0</td>\n",
              "      <td>2022-01-07 11:13:00</td>\n",
              "      <td>0</td>\n",
              "      <td>0</td>\n",
              "      <td>PM</td>\n",
              "      <td>2323.934</td>\n",
              "      <td>1491</td>\n",
              "      <td>TRACTOR</td>\n",
              "      <td>2018</td>\n",
              "      <td>In&amp;Out</td>\n",
              "      <td>PREVENT VENC</td>\n",
              "      <td>000019 - Servicio preventivo A</td>\n",
              "      <td>PART</td>\n",
              "      <td>15W-40</td>\n",
              "      <td>CON CITA</td>\n",
              "    </tr>\n",
              "  </tbody>\n",
              "</table>\n",
              "</div>"
            ],
            "text/plain": [
              "                   kMS          OpenedDate  lagdias  laghoras RepReason  \\\n",
              "OrderID                                                                   \n",
              "MEX-00024316  691550.0 2022-01-07 11:13:00        0         0        PM   \n",
              "MEX-00024316  691550.0 2022-01-07 11:13:00        0         0        PM   \n",
              "MEX-00024316  691550.0 2022-01-07 11:13:00        0         0        PM   \n",
              "MEX-00024316  691550.0 2022-01-07 11:13:00        0         0        PM   \n",
              "MEX-00024316  691550.0 2022-01-07 11:13:00        0         0        PM   \n",
              "\n",
              "                 TOTAL UnitID UnitType  UnitYear   Flota     COMPLAINT  \\\n",
              "OrderID                                                                  \n",
              "MEX-00024316   232.360   1491  TRACTOR      2018  In&Out  PREVENT VENC   \n",
              "MEX-00024316   124.120   1491  TRACTOR      2018  In&Out  PREVENT VENC   \n",
              "MEX-00024316   366.410   1491  TRACTOR      2018  In&Out  PREVENT VENC   \n",
              "MEX-00024316   255.340   1491  TRACTOR      2018  In&Out  PREVENT VENC   \n",
              "MEX-00024316  2323.934   1491  TRACTOR      2018  In&Out  PREVENT VENC   \n",
              "\n",
              "                                     Jobcode TipoLinea   NumParte      CITA  \n",
              "OrderID                                                                      \n",
              "MEX-00024316  000019 - Servicio preventivo A      PART     FF2200  CON CITA  \n",
              "MEX-00024316  000019 - Servicio preventivo A      PART    AF27958  CON CITA  \n",
              "MEX-00024316  000019 - Servicio preventivo A      PART  LF14001NN  CON CITA  \n",
              "MEX-00024316  000019 - Servicio preventivo A      PART    P550853  CON CITA  \n",
              "MEX-00024316  000019 - Servicio preventivo A      PART     15W-40  CON CITA  "
            ]
          },
          "execution_count": 170,
          "metadata": {},
          "output_type": "execute_result"
        }
      ],
      "source": [
        "data_filtered_cols.head(5)"
      ]
    },
    {
      "cell_type": "code",
      "execution_count": 124,
      "metadata": {},
      "outputs": [
        {
          "data": {
            "text/plain": [
              "Index(['PM', 'MC', 'OTROS', 'LAVADO', 'ENLLANTADO'], dtype='object', name='RepReason')"
            ]
          },
          "execution_count": 124,
          "metadata": {},
          "output_type": "execute_result"
        }
      ],
      "source": [
        "# Trim 'RepReason' column\n",
        "data_filtered_cols['RepReason'] = data_filtered_cols['RepReason'].str.strip()\n",
        "# Verificar que se haya hecho correctamente\n",
        "data_filtered_cols['RepReason'].value_counts().index[0:5]"
      ]
    },
    {
      "cell_type": "code",
      "execution_count": 125,
      "metadata": {},
      "outputs": [
        {
          "data": {
            "text/plain": [
              "Index(['TRACTOR', 'TRAILER', 'DOLLY', 'TORTHON', 'HERRAMIENTA', 'AUTOU'], dtype='object', name='UnitType')"
            ]
          },
          "execution_count": 125,
          "metadata": {},
          "output_type": "execute_result"
        }
      ],
      "source": [
        "# Trim 'UnitType' column\n",
        "data_filtered_cols['UnitType'] = data_filtered_cols['UnitType'].str.strip()\n",
        "# Verificar que se haya hecho correctamente\n",
        "data_filtered_cols['UnitType'].value_counts().index"
      ]
    },
    {
      "cell_type": "code",
      "execution_count": 126,
      "metadata": {},
      "outputs": [
        {
          "data": {
            "text/plain": [
              "Index(['In&Out', 'Circuitos', 'Available', 'Liverpool Local', 'Wm Full'], dtype='object', name='Flota')"
            ]
          },
          "execution_count": 126,
          "metadata": {},
          "output_type": "execute_result"
        }
      ],
      "source": [
        "# Trim 'Flota' column\n",
        "data_filtered_cols['Flota'] = data_filtered_cols['Flota'].str.strip()\n",
        "# Verificar que se haya hecho correctamente\n",
        "data_filtered_cols['Flota'].value_counts().index[0:5]"
      ]
    },
    {
      "cell_type": "code",
      "execution_count": 127,
      "metadata": {},
      "outputs": [
        {
          "data": {
            "text/plain": [
              "Index(['PREVENT VENC', 'CORRECTIVO', 'PM', 'SUCIO', 'DESGASTADO'], dtype='object', name='COMPLAINT')"
            ]
          },
          "execution_count": 127,
          "metadata": {},
          "output_type": "execute_result"
        }
      ],
      "source": [
        "# Trim 'COMPLAINT' column\n",
        "data_filtered_cols['COMPLAINT'] = data_filtered_cols['COMPLAINT'].str.strip()\n",
        "# Verificar que se haya hecho correctamente\n",
        "data_filtered_cols['COMPLAINT'].value_counts().index[0:5]"
      ]
    },
    {
      "cell_type": "code",
      "execution_count": 128,
      "metadata": {},
      "outputs": [
        {
          "data": {
            "text/plain": [
              "Index(['000013 - Correctivo Tractos',\n",
              "       '000005 - Servicio Preventivo Caja Seca A1',\n",
              "       '000029 - Servicio De Lavado', '000058 - Preventivo Llantas',\n",
              "       '000059 - Correctivo Llantas'],\n",
              "      dtype='object', name='Jobcode')"
            ]
          },
          "execution_count": 128,
          "metadata": {},
          "output_type": "execute_result"
        }
      ],
      "source": [
        "# Trim 'Jobcode' column\n",
        "data_filtered_cols['Jobcode'] = data_filtered_cols['Jobcode'].str.strip()\n",
        "# Verificar que se haya hecho correctamente\n",
        "data_filtered_cols['Jobcode'].value_counts().index[0:5]"
      ]
    },
    {
      "cell_type": "code",
      "execution_count": 129,
      "metadata": {},
      "outputs": [
        {
          "data": {
            "text/plain": [
              "Index(['PART', 'SERVICES', 'LABOR'], dtype='object', name='TipoLinea')"
            ]
          },
          "execution_count": 129,
          "metadata": {},
          "output_type": "execute_result"
        }
      ],
      "source": [
        "# Trim 'TipoLinea' column\n",
        "data_filtered_cols['TipoLinea'] = data_filtered_cols['TipoLinea'].str.strip()\n",
        "# Verificar que se haya hecho correctamente\n",
        "data_filtered_cols['TipoLinea'].value_counts().index"
      ]
    },
    {
      "cell_type": "code",
      "execution_count": 130,
      "metadata": {},
      "outputs": [
        {
          "data": {
            "text/plain": [
              "Index(['KS481', 'AHS', '15W-40', 'RFTRA444', 'G CHASIS E-LIT GRAMOS'], dtype='object', name='NumParte')"
            ]
          },
          "execution_count": 130,
          "metadata": {},
          "output_type": "execute_result"
        }
      ],
      "source": [
        "# Trim 'NumParte' column\n",
        "data_filtered_cols['NumParte'] = data_filtered_cols['NumParte'].str.strip()\n",
        "# Verificar que se haya hecho correctamente\n",
        "data_filtered_cols['NumParte'].value_counts().index[0:5]"
      ]
    },
    {
      "cell_type": "code",
      "execution_count": 131,
      "metadata": {},
      "outputs": [
        {
          "data": {
            "text/plain": [
              "Index(['SIN CITA', 'CON CITA', 'EXPRES', '', 'CITA A TIEMP', 'CITA TARDE',\n",
              "       'SCHEDULED'],\n",
              "      dtype='object', name='CITA')"
            ]
          },
          "execution_count": 131,
          "metadata": {},
          "output_type": "execute_result"
        }
      ],
      "source": [
        "# Trim 'CITA' column\n",
        "data_filtered_cols['CITA'] = data_filtered_cols['CITA'].str.strip()\n",
        "# Verificar que se haya hecho correctamente\n",
        "data_filtered_cols['CITA'].value_counts().index"
      ]
    },
    {
      "cell_type": "markdown",
      "metadata": {},
      "source": [
        "Para la ultima columna 'CITA' se observa que existen registros con un campo vacio, por lo que se procede a sustituir este campo N/A por un texto de referencia (DESCONOCIDO)"
      ]
    },
    {
      "cell_type": "code",
      "execution_count": 133,
      "metadata": {},
      "outputs": [
        {
          "data": {
            "text/plain": [
              "Index(['SIN CITA', 'CON CITA', 'EXPRES', 'DESCONOCIDO', 'CITA A TIEMP',\n",
              "       'CITA TARDE', 'SCHEDULED'],\n",
              "      dtype='object', name='CITA')"
            ]
          },
          "execution_count": 133,
          "metadata": {},
          "output_type": "execute_result"
        }
      ],
      "source": [
        "# Sustituir valores de 'CITA' con un string vacio por 'Desconocido'\n",
        "data_filtered_cols['CITA'] = data_filtered_cols['CITA'].replace('', 'DESCONOCIDO')\n",
        "# Verificar que se haya hecho correctamente\n",
        "data_filtered_cols['CITA'].value_counts().index"
      ]
    },
    {
      "cell_type": "markdown",
      "metadata": {
        "id": "iytv346crqHl"
      },
      "source": [
        "## Restablecer los índices con identificadores adecuados."
      ]
    },
    {
      "cell_type": "markdown",
      "metadata": {
        "id": "K6xhNkfwZq3t"
      },
      "source": [
        "La columna OrderID ya ha sido colocada como el índice del dataframe, y de esta manera resulta útil para el análisis."
      ]
    },
    {
      "cell_type": "markdown",
      "metadata": {
        "id": "mp4mPK0grue5"
      },
      "source": [
        "## Seleccionar o filtrar los registros u observaciones de interés\n",
        "Con la finalidad de operar dataframes de menor complejidad."
      ]
    },
    {
      "cell_type": "markdown",
      "metadata": {
        "id": "Gr5E1FXtKiJv"
      },
      "source": [
        "Dado el proyecto asignado al equipo, nos centraremos en la informacion sobre todas las reparaciones de la flota 'Sayer', por lo que deberemos filtrar dicha informacion."
      ]
    },
    {
      "cell_type": "code",
      "execution_count": 134,
      "metadata": {
        "colab": {
          "base_uri": "https://localhost:8080/"
        },
        "id": "Dn_sypKdM1_E",
        "outputId": "9b975a01-c015-4f6d-c346-c6c33bd41d36"
      },
      "outputs": [
        {
          "name": "stdout",
          "output_type": "stream",
          "text": [
            "<class 'pandas.core.frame.DataFrame'>\n",
            "Index: 7695 entries, QRO-00032562 to SAAP-0007305\n",
            "Data columns (total 15 columns):\n",
            " #   Column      Non-Null Count  Dtype         \n",
            "---  ------      --------------  -----         \n",
            " 0   kMS         4169 non-null   float64       \n",
            " 1   OpenedDate  7695 non-null   datetime64[ns]\n",
            " 2   lagdias     7695 non-null   int64         \n",
            " 3   laghoras    7695 non-null   int64         \n",
            " 4   RepReason   7695 non-null   object        \n",
            " 5   TOTAL       7695 non-null   float64       \n",
            " 6   UnitID      7695 non-null   object        \n",
            " 7   UnitType    7695 non-null   object        \n",
            " 8   UnitYear    7695 non-null   int64         \n",
            " 9   Flota       7695 non-null   object        \n",
            " 10  COMPLAINT   7695 non-null   object        \n",
            " 11  Jobcode     7695 non-null   object        \n",
            " 12  TipoLinea   7515 non-null   object        \n",
            " 13  NumParte    5246 non-null   object        \n",
            " 14  CITA        7515 non-null   object        \n",
            "dtypes: datetime64[ns](1), float64(2), int64(3), object(9)\n",
            "memory usage: 961.9+ KB\n"
          ]
        }
      ],
      "source": [
        "# Extraemos la informacion del proyecto Sayer Full\n",
        "data_sayer = data_filtered_cols[data_filtered_cols['Flota'] == 'Sayer Full'][:]\n",
        "data_sayer.info()"
      ]
    },
    {
      "cell_type": "markdown",
      "metadata": {
        "id": "sLVXXGXDrxj8"
      },
      "source": [
        "## Identificar valores faltantes y eliminarlos\n",
        "(Tambien se pueden imputar según la naturaleza de la omisión. Justificar cada caso.)"
      ]
    },
    {
      "cell_type": "code",
      "execution_count": 135,
      "metadata": {
        "colab": {
          "base_uri": "https://localhost:8080/",
          "height": 178
        },
        "id": "qAQoXGXBYmZP",
        "outputId": "fbbbca6e-87b9-4c39-aa9c-d6f64eae8fff"
      },
      "outputs": [
        {
          "data": {
            "text/plain": [
              "kMS          3526\n",
              "TipoLinea     180\n",
              "CITA          180\n",
              "NumParte     2449\n",
              "dtype: int64"
            ]
          },
          "execution_count": 135,
          "metadata": {},
          "output_type": "execute_result"
        }
      ],
      "source": [
        "data_sayer[['kMS', 'TipoLinea', 'CITA', 'NumParte']].isnull().sum()"
      ]
    },
    {
      "cell_type": "code",
      "execution_count": 136,
      "metadata": {
        "colab": {
          "base_uri": "https://localhost:8080/",
          "height": 628
        },
        "id": "rwYVqdU4YnPE",
        "outputId": "380aa325-afe2-4e4b-a3f9-633e4303f74f"
      },
      "outputs": [
        {
          "data": {
            "text/html": [
              "<div>\n",
              "<style scoped>\n",
              "    .dataframe tbody tr th:only-of-type {\n",
              "        vertical-align: middle;\n",
              "    }\n",
              "\n",
              "    .dataframe tbody tr th {\n",
              "        vertical-align: top;\n",
              "    }\n",
              "\n",
              "    .dataframe thead th {\n",
              "        text-align: right;\n",
              "    }\n",
              "</style>\n",
              "<table border=\"1\" class=\"dataframe\">\n",
              "  <thead>\n",
              "    <tr style=\"text-align: right;\">\n",
              "      <th></th>\n",
              "      <th>kMS</th>\n",
              "      <th>OpenedDate</th>\n",
              "      <th>lagdias</th>\n",
              "      <th>laghoras</th>\n",
              "      <th>RepReason</th>\n",
              "      <th>TOTAL</th>\n",
              "      <th>UnitID</th>\n",
              "      <th>UnitType</th>\n",
              "      <th>UnitYear</th>\n",
              "      <th>Flota</th>\n",
              "      <th>COMPLAINT</th>\n",
              "      <th>Jobcode</th>\n",
              "      <th>TipoLinea</th>\n",
              "      <th>NumParte</th>\n",
              "      <th>CITA</th>\n",
              "    </tr>\n",
              "    <tr>\n",
              "      <th>OrderID</th>\n",
              "      <th></th>\n",
              "      <th></th>\n",
              "      <th></th>\n",
              "      <th></th>\n",
              "      <th></th>\n",
              "      <th></th>\n",
              "      <th></th>\n",
              "      <th></th>\n",
              "      <th></th>\n",
              "      <th></th>\n",
              "      <th></th>\n",
              "      <th></th>\n",
              "      <th></th>\n",
              "      <th></th>\n",
              "      <th></th>\n",
              "    </tr>\n",
              "  </thead>\n",
              "  <tbody>\n",
              "    <tr>\n",
              "      <th>SAAP-0000448</th>\n",
              "      <td>NaN</td>\n",
              "      <td>2022-01-05 10:12:00</td>\n",
              "      <td>9</td>\n",
              "      <td>217</td>\n",
              "      <td>DAÑO OP</td>\n",
              "      <td>1466.92</td>\n",
              "      <td>10191</td>\n",
              "      <td>TRAILER</td>\n",
              "      <td>2016</td>\n",
              "      <td>Sayer Full</td>\n",
              "      <td>DESGASTADO</td>\n",
              "      <td>-</td>\n",
              "      <td>PART</td>\n",
              "      <td>GRL11R22.5</td>\n",
              "      <td>SIN CITA</td>\n",
              "    </tr>\n",
              "    <tr>\n",
              "      <th>QRO-00032631</th>\n",
              "      <td>NaN</td>\n",
              "      <td>2022-01-05 09:00:00</td>\n",
              "      <td>14</td>\n",
              "      <td>343</td>\n",
              "      <td>PM</td>\n",
              "      <td>185.22</td>\n",
              "      <td>10190</td>\n",
              "      <td>TRAILER</td>\n",
              "      <td>2016</td>\n",
              "      <td>Sayer Full</td>\n",
              "      <td>PM</td>\n",
              "      <td>000029 - Servicio De Lavado</td>\n",
              "      <td>SERVICES</td>\n",
              "      <td>NaN</td>\n",
              "      <td>CON CITA</td>\n",
              "    </tr>\n",
              "    <tr>\n",
              "      <th>SAAP-0000463</th>\n",
              "      <td>NaN</td>\n",
              "      <td>2022-01-07 10:02:00</td>\n",
              "      <td>0</td>\n",
              "      <td>5</td>\n",
              "      <td>RENOVADO</td>\n",
              "      <td>2933.84</td>\n",
              "      <td>10173</td>\n",
              "      <td>TRAILER</td>\n",
              "      <td>2016</td>\n",
              "      <td>Sayer Full</td>\n",
              "      <td>DESGASTADO</td>\n",
              "      <td>-</td>\n",
              "      <td>PART</td>\n",
              "      <td>GRL11R22.5</td>\n",
              "      <td>DESCONOCIDO</td>\n",
              "    </tr>\n",
              "    <tr>\n",
              "      <th>SAAP-0000465</th>\n",
              "      <td>NaN</td>\n",
              "      <td>2022-01-07 10:07:00</td>\n",
              "      <td>14</td>\n",
              "      <td>339</td>\n",
              "      <td>RENOVADO</td>\n",
              "      <td>5867.68</td>\n",
              "      <td>10207</td>\n",
              "      <td>TRAILER</td>\n",
              "      <td>2018</td>\n",
              "      <td>Sayer Full</td>\n",
              "      <td>DESGASTADO</td>\n",
              "      <td>-</td>\n",
              "      <td>PART</td>\n",
              "      <td>GRL11R22.5</td>\n",
              "      <td>DESCONOCIDO</td>\n",
              "    </tr>\n",
              "    <tr>\n",
              "      <th>QRO-00032732</th>\n",
              "      <td>NaN</td>\n",
              "      <td>2022-01-14 09:50:00</td>\n",
              "      <td>0</td>\n",
              "      <td>3</td>\n",
              "      <td>RENOVADO</td>\n",
              "      <td>1680.20</td>\n",
              "      <td>10176</td>\n",
              "      <td>TRAILER</td>\n",
              "      <td>2016</td>\n",
              "      <td>Sayer Full</td>\n",
              "      <td>DESGASTADO</td>\n",
              "      <td>000058 - Preventivo Llantas</td>\n",
              "      <td>PART</td>\n",
              "      <td>GRL11R22.5</td>\n",
              "      <td>DESCONOCIDO</td>\n",
              "    </tr>\n",
              "    <tr>\n",
              "      <th>...</th>\n",
              "      <td>...</td>\n",
              "      <td>...</td>\n",
              "      <td>...</td>\n",
              "      <td>...</td>\n",
              "      <td>...</td>\n",
              "      <td>...</td>\n",
              "      <td>...</td>\n",
              "      <td>...</td>\n",
              "      <td>...</td>\n",
              "      <td>...</td>\n",
              "      <td>...</td>\n",
              "      <td>...</td>\n",
              "      <td>...</td>\n",
              "      <td>...</td>\n",
              "      <td>...</td>\n",
              "    </tr>\n",
              "    <tr>\n",
              "      <th>TA-000020872</th>\n",
              "      <td>715119.0</td>\n",
              "      <td>2024-07-23 10:25:00</td>\n",
              "      <td>0</td>\n",
              "      <td>0</td>\n",
              "      <td>ordersec.REPREASON jr</td>\n",
              "      <td>0.00</td>\n",
              "      <td>1808</td>\n",
              "      <td>TRACTOR</td>\n",
              "      <td>2021</td>\n",
              "      <td>Sayer Full</td>\n",
              "      <td>ORDERSEC.COMPLAINT jr</td>\n",
              "      <td>000053 - Auxilio Carretero - Mecánico</td>\n",
              "      <td>NaN</td>\n",
              "      <td>NaN</td>\n",
              "      <td>NaN</td>\n",
              "    </tr>\n",
              "    <tr>\n",
              "      <th>SAAP-0007185</th>\n",
              "      <td>NaN</td>\n",
              "      <td>2024-07-29 13:19:00</td>\n",
              "      <td>2</td>\n",
              "      <td>48</td>\n",
              "      <td>ordersec.REPREASON jr</td>\n",
              "      <td>0.00</td>\n",
              "      <td>D-2188</td>\n",
              "      <td>DOLLY</td>\n",
              "      <td>2022</td>\n",
              "      <td>Sayer Full</td>\n",
              "      <td>ORDERSEC.COMPLAINT jr</td>\n",
              "      <td>000018 - Correctivo Dolly</td>\n",
              "      <td>NaN</td>\n",
              "      <td>NaN</td>\n",
              "      <td>NaN</td>\n",
              "    </tr>\n",
              "    <tr>\n",
              "      <th>QRO-00046083</th>\n",
              "      <td>728399.0</td>\n",
              "      <td>2024-08-01 09:48:00</td>\n",
              "      <td>0</td>\n",
              "      <td>0</td>\n",
              "      <td>ordersec.REPREASON jr</td>\n",
              "      <td>0.00</td>\n",
              "      <td>1808</td>\n",
              "      <td>TRACTOR</td>\n",
              "      <td>2021</td>\n",
              "      <td>Sayer Full</td>\n",
              "      <td>ORDERSEC.COMPLAINT jr</td>\n",
              "      <td>-</td>\n",
              "      <td>NaN</td>\n",
              "      <td>NaN</td>\n",
              "      <td>NaN</td>\n",
              "    </tr>\n",
              "    <tr>\n",
              "      <th>QRO-00046102</th>\n",
              "      <td>728428.0</td>\n",
              "      <td>2024-08-15 09:12:00</td>\n",
              "      <td>0</td>\n",
              "      <td>0</td>\n",
              "      <td>ordersec.REPREASON jr</td>\n",
              "      <td>0.00</td>\n",
              "      <td>1808</td>\n",
              "      <td>TRACTOR</td>\n",
              "      <td>2021</td>\n",
              "      <td>Sayer Full</td>\n",
              "      <td>ORDERSEC.COMPLAINT jr</td>\n",
              "      <td>000013 - Correctivo Tractos</td>\n",
              "      <td>NaN</td>\n",
              "      <td>NaN</td>\n",
              "      <td>NaN</td>\n",
              "    </tr>\n",
              "    <tr>\n",
              "      <th>SAAP-0007305</th>\n",
              "      <td>NaN</td>\n",
              "      <td>2024-08-26 15:36:00</td>\n",
              "      <td>2</td>\n",
              "      <td>48</td>\n",
              "      <td>ordersec.REPREASON jr</td>\n",
              "      <td>0.00</td>\n",
              "      <td>10221</td>\n",
              "      <td>TRAILER</td>\n",
              "      <td>2018</td>\n",
              "      <td>Sayer Full</td>\n",
              "      <td>ORDERSEC.COMPLAINT jr</td>\n",
              "      <td>000014 - Correctivo Cajas</td>\n",
              "      <td>NaN</td>\n",
              "      <td>NaN</td>\n",
              "      <td>NaN</td>\n",
              "    </tr>\n",
              "  </tbody>\n",
              "</table>\n",
              "<p>4580 rows × 15 columns</p>\n",
              "</div>"
            ],
            "text/plain": [
              "                   kMS          OpenedDate  lagdias  laghoras  \\\n",
              "OrderID                                                         \n",
              "SAAP-0000448       NaN 2022-01-05 10:12:00        9       217   \n",
              "QRO-00032631       NaN 2022-01-05 09:00:00       14       343   \n",
              "SAAP-0000463       NaN 2022-01-07 10:02:00        0         5   \n",
              "SAAP-0000465       NaN 2022-01-07 10:07:00       14       339   \n",
              "QRO-00032732       NaN 2022-01-14 09:50:00        0         3   \n",
              "...                ...                 ...      ...       ...   \n",
              "TA-000020872  715119.0 2024-07-23 10:25:00        0         0   \n",
              "SAAP-0007185       NaN 2024-07-29 13:19:00        2        48   \n",
              "QRO-00046083  728399.0 2024-08-01 09:48:00        0         0   \n",
              "QRO-00046102  728428.0 2024-08-15 09:12:00        0         0   \n",
              "SAAP-0007305       NaN 2024-08-26 15:36:00        2        48   \n",
              "\n",
              "                          RepReason    TOTAL  UnitID UnitType  UnitYear  \\\n",
              "OrderID                                                                   \n",
              "SAAP-0000448                DAÑO OP  1466.92   10191  TRAILER      2016   \n",
              "QRO-00032631                     PM   185.22   10190  TRAILER      2016   \n",
              "SAAP-0000463               RENOVADO  2933.84   10173  TRAILER      2016   \n",
              "SAAP-0000465               RENOVADO  5867.68   10207  TRAILER      2018   \n",
              "QRO-00032732               RENOVADO  1680.20   10176  TRAILER      2016   \n",
              "...                             ...      ...     ...      ...       ...   \n",
              "TA-000020872  ordersec.REPREASON jr     0.00    1808  TRACTOR      2021   \n",
              "SAAP-0007185  ordersec.REPREASON jr     0.00  D-2188    DOLLY      2022   \n",
              "QRO-00046083  ordersec.REPREASON jr     0.00    1808  TRACTOR      2021   \n",
              "QRO-00046102  ordersec.REPREASON jr     0.00    1808  TRACTOR      2021   \n",
              "SAAP-0007305  ordersec.REPREASON jr     0.00   10221  TRAILER      2018   \n",
              "\n",
              "                   Flota              COMPLAINT  \\\n",
              "OrderID                                           \n",
              "SAAP-0000448  Sayer Full             DESGASTADO   \n",
              "QRO-00032631  Sayer Full                     PM   \n",
              "SAAP-0000463  Sayer Full             DESGASTADO   \n",
              "SAAP-0000465  Sayer Full             DESGASTADO   \n",
              "QRO-00032732  Sayer Full             DESGASTADO   \n",
              "...                  ...                    ...   \n",
              "TA-000020872  Sayer Full  ORDERSEC.COMPLAINT jr   \n",
              "SAAP-0007185  Sayer Full  ORDERSEC.COMPLAINT jr   \n",
              "QRO-00046083  Sayer Full  ORDERSEC.COMPLAINT jr   \n",
              "QRO-00046102  Sayer Full  ORDERSEC.COMPLAINT jr   \n",
              "SAAP-0007305  Sayer Full  ORDERSEC.COMPLAINT jr   \n",
              "\n",
              "                                            Jobcode TipoLinea    NumParte  \\\n",
              "OrderID                                                                     \n",
              "SAAP-0000448                                      -      PART  GRL11R22.5   \n",
              "QRO-00032631            000029 - Servicio De Lavado  SERVICES         NaN   \n",
              "SAAP-0000463                                      -      PART  GRL11R22.5   \n",
              "SAAP-0000465                                      -      PART  GRL11R22.5   \n",
              "QRO-00032732            000058 - Preventivo Llantas      PART  GRL11R22.5   \n",
              "...                                             ...       ...         ...   \n",
              "TA-000020872  000053 - Auxilio Carretero - Mecánico       NaN         NaN   \n",
              "SAAP-0007185              000018 - Correctivo Dolly       NaN         NaN   \n",
              "QRO-00046083                                      -       NaN         NaN   \n",
              "QRO-00046102            000013 - Correctivo Tractos       NaN         NaN   \n",
              "SAAP-0007305              000014 - Correctivo Cajas       NaN         NaN   \n",
              "\n",
              "                     CITA  \n",
              "OrderID                    \n",
              "SAAP-0000448     SIN CITA  \n",
              "QRO-00032631     CON CITA  \n",
              "SAAP-0000463  DESCONOCIDO  \n",
              "SAAP-0000465  DESCONOCIDO  \n",
              "QRO-00032732  DESCONOCIDO  \n",
              "...                   ...  \n",
              "TA-000020872          NaN  \n",
              "SAAP-0007185          NaN  \n",
              "QRO-00046083          NaN  \n",
              "QRO-00046102          NaN  \n",
              "SAAP-0007305          NaN  \n",
              "\n",
              "[4580 rows x 15 columns]"
            ]
          },
          "execution_count": 136,
          "metadata": {},
          "output_type": "execute_result"
        }
      ],
      "source": [
        "filas_null = data_sayer[data_sayer.isnull().any(axis=1)]\n",
        "filas_null"
      ]
    },
    {
      "cell_type": "code",
      "execution_count": 138,
      "metadata": {
        "colab": {
          "base_uri": "https://localhost:8080/"
        },
        "id": "5dSQaJJiYnII",
        "outputId": "0436c848-4edf-4da5-e507-ae6c1acf8674"
      },
      "outputs": [
        {
          "data": {
            "text/plain": [
              "np.int64(0)"
            ]
          },
          "execution_count": 138,
          "metadata": {},
          "output_type": "execute_result"
        }
      ],
      "source": [
        "data_sayer['CITA'] = data_sayer['CITA'].fillna('DESCONOCIDO')\n",
        "data_sayer['CITA'].isnull().sum()"
      ]
    },
    {
      "cell_type": "code",
      "execution_count": 140,
      "metadata": {
        "colab": {
          "base_uri": "https://localhost:8080/"
        },
        "id": "Vdvp3qIlYm6S",
        "outputId": "78a23ac4-b561-4d8d-fe73-63639611d65d"
      },
      "outputs": [
        {
          "data": {
            "text/plain": [
              "np.int64(0)"
            ]
          },
          "execution_count": 140,
          "metadata": {},
          "output_type": "execute_result"
        }
      ],
      "source": [
        "data_sayer['TipoLinea'] = data_sayer['TipoLinea'].fillna('DESCONOCIDO')\n",
        "data_sayer['TipoLinea'].isnull().sum()"
      ]
    },
    {
      "cell_type": "code",
      "execution_count": 141,
      "metadata": {
        "colab": {
          "base_uri": "https://localhost:8080/"
        },
        "id": "DAh8vo4RQ7lv",
        "outputId": "f841f790-9431-4716-ed46-1f9e9b38e6ab"
      },
      "outputs": [
        {
          "data": {
            "text/plain": [
              "np.int64(0)"
            ]
          },
          "execution_count": 141,
          "metadata": {},
          "output_type": "execute_result"
        }
      ],
      "source": [
        "data_sayer['NumParte'] = data_sayer['NumParte'].fillna('DESCONOCIDO')\n",
        "data_sayer['NumParte'].isnull().sum()"
      ]
    },
    {
      "cell_type": "code",
      "execution_count": 143,
      "metadata": {
        "colab": {
          "base_uri": "https://localhost:8080/",
          "height": 178
        },
        "id": "yHrfw-S9QnDU",
        "outputId": "238afff5-e8cc-423a-d322-975f514b798f"
      },
      "outputs": [
        {
          "data": {
            "text/plain": [
              "kMS           3526\n",
              "OpenedDate       0\n",
              "lagdias          0\n",
              "laghoras         0\n",
              "RepReason        0\n",
              "TOTAL            0\n",
              "UnitID           0\n",
              "UnitType         0\n",
              "UnitYear         0\n",
              "Flota            0\n",
              "COMPLAINT        0\n",
              "Jobcode          0\n",
              "TipoLinea        0\n",
              "NumParte         0\n",
              "CITA             0\n",
              "dtype: int64"
            ]
          },
          "execution_count": 143,
          "metadata": {},
          "output_type": "execute_result"
        }
      ],
      "source": [
        "data_sayer.isnull().sum()"
      ]
    },
    {
      "cell_type": "markdown",
      "metadata": {
        "id": "ZhfT6oSur0T6"
      },
      "source": [
        "## Detectar valores atípicos para su posterior transformación.\n"
      ]
    },
    {
      "cell_type": "code",
      "execution_count": 144,
      "metadata": {
        "colab": {
          "base_uri": "https://localhost:8080/",
          "height": 448
        },
        "id": "62KSLNKPR55f",
        "outputId": "642b0750-c47f-40fd-ee51-55b90d48c2e0"
      },
      "outputs": [
        {
          "data": {
            "text/plain": [
              "<Axes: >"
            ]
          },
          "execution_count": 144,
          "metadata": {},
          "output_type": "execute_result"
        },
        {
          "data": {
            "image/png": "[encoded data removed]",
            "text/plain": [
              "<Figure size 640x480 with 1 Axes>"
            ]
          },
          "metadata": {},
          "output_type": "display_data"
        }
      ],
      "source": [
        "data_sayer.boxplot(vert=False)\n",
        "#Observamos que en la columna de TOTAL es la que aparentemente hay mas datos\n",
        "#atipicos, por lo que vamos a anilizarla a detalle\n"
      ]
    },
    {
      "cell_type": "code",
      "execution_count": 145,
      "metadata": {
        "colab": {
          "base_uri": "https://localhost:8080/",
          "height": 448
        },
        "id": "0MttfXPfSB1W",
        "outputId": "04a5f7d0-38bc-4680-a626-3beaea6d55b8"
      },
      "outputs": [
        {
          "data": {
            "text/plain": [
              "<Axes: >"
            ]
          },
          "execution_count": 145,
          "metadata": {},
          "output_type": "execute_result"
        },
        {
          "data": {
            "image/png": "[encoded data removed]",
            "text/plain": [
              "<Figure size 640x480 with 1 Axes>"
            ]
          },
          "metadata": {},
          "output_type": "display_data"
        }
      ],
      "source": [
        "data_sayer[['TOTAL']].boxplot(vert=False)"
      ]
    },
    {
      "cell_type": "code",
      "execution_count": 146,
      "metadata": {
        "colab": {
          "base_uri": "https://localhost:8080/",
          "height": 300
        },
        "id": "oNaXpMqISSEH",
        "outputId": "bf22ae0b-0b2b-493b-dbc7-6baf68cde125"
      },
      "outputs": [
        {
          "data": {
            "text/html": [
              "<div>\n",
              "<style scoped>\n",
              "    .dataframe tbody tr th:only-of-type {\n",
              "        vertical-align: middle;\n",
              "    }\n",
              "\n",
              "    .dataframe tbody tr th {\n",
              "        vertical-align: top;\n",
              "    }\n",
              "\n",
              "    .dataframe thead th {\n",
              "        text-align: right;\n",
              "    }\n",
              "</style>\n",
              "<table border=\"1\" class=\"dataframe\">\n",
              "  <thead>\n",
              "    <tr style=\"text-align: right;\">\n",
              "      <th></th>\n",
              "      <th>kMS</th>\n",
              "      <th>OpenedDate</th>\n",
              "      <th>lagdias</th>\n",
              "      <th>laghoras</th>\n",
              "      <th>TOTAL</th>\n",
              "      <th>UnitYear</th>\n",
              "    </tr>\n",
              "  </thead>\n",
              "  <tbody>\n",
              "    <tr>\n",
              "      <th>count</th>\n",
              "      <td>4169.000000</td>\n",
              "      <td>7695</td>\n",
              "      <td>7695.000000</td>\n",
              "      <td>7695.000000</td>\n",
              "      <td>7695.000000</td>\n",
              "      <td>7695.000000</td>\n",
              "    </tr>\n",
              "    <tr>\n",
              "      <th>mean</th>\n",
              "      <td>498126.607340</td>\n",
              "      <td>2023-06-04 23:49:43.437322752</td>\n",
              "      <td>3.831059</td>\n",
              "      <td>93.498116</td>\n",
              "      <td>1084.940021</td>\n",
              "      <td>2019.863418</td>\n",
              "    </tr>\n",
              "    <tr>\n",
              "      <th>min</th>\n",
              "      <td>34105.000000</td>\n",
              "      <td>2022-01-03 13:34:00</td>\n",
              "      <td>-2.000000</td>\n",
              "      <td>-48.000000</td>\n",
              "      <td>-991.320000</td>\n",
              "      <td>2016.000000</td>\n",
              "    </tr>\n",
              "    <tr>\n",
              "      <th>25%</th>\n",
              "      <td>392846.000000</td>\n",
              "      <td>2022-10-12 13:21:00</td>\n",
              "      <td>0.000000</td>\n",
              "      <td>3.000000</td>\n",
              "      <td>60.340000</td>\n",
              "      <td>2019.000000</td>\n",
              "    </tr>\n",
              "    <tr>\n",
              "      <th>50%</th>\n",
              "      <td>510565.000000</td>\n",
              "      <td>2023-06-15 16:31:00</td>\n",
              "      <td>1.000000</td>\n",
              "      <td>25.000000</td>\n",
              "      <td>260.090000</td>\n",
              "      <td>2021.000000</td>\n",
              "    </tr>\n",
              "    <tr>\n",
              "      <th>75%</th>\n",
              "      <td>629765.000000</td>\n",
              "      <td>2024-01-22 17:38:30</td>\n",
              "      <td>5.000000</td>\n",
              "      <td>118.000000</td>\n",
              "      <td>1027.855000</td>\n",
              "      <td>2021.000000</td>\n",
              "    </tr>\n",
              "    <tr>\n",
              "      <th>max</th>\n",
              "      <td>770460.000000</td>\n",
              "      <td>2024-09-03 16:21:00</td>\n",
              "      <td>152.000000</td>\n",
              "      <td>3640.000000</td>\n",
              "      <td>45000.000000</td>\n",
              "      <td>2022.000000</td>\n",
              "    </tr>\n",
              "    <tr>\n",
              "      <th>std</th>\n",
              "      <td>151714.655346</td>\n",
              "      <td>NaN</td>\n",
              "      <td>8.890931</td>\n",
              "      <td>213.481538</td>\n",
              "      <td>2314.565872</td>\n",
              "      <td>2.133431</td>\n",
              "    </tr>\n",
              "  </tbody>\n",
              "</table>\n",
              "</div>"
            ],
            "text/plain": [
              "                 kMS                     OpenedDate      lagdias     laghoras  \\\n",
              "count    4169.000000                           7695  7695.000000  7695.000000   \n",
              "mean   498126.607340  2023-06-04 23:49:43.437322752     3.831059    93.498116   \n",
              "min     34105.000000            2022-01-03 13:34:00    -2.000000   -48.000000   \n",
              "25%    392846.000000            2022-10-12 13:21:00     0.000000     3.000000   \n",
              "50%    510565.000000            2023-06-15 16:31:00     1.000000    25.000000   \n",
              "75%    629765.000000            2024-01-22 17:38:30     5.000000   118.000000   \n",
              "max    770460.000000            2024-09-03 16:21:00   152.000000  3640.000000   \n",
              "std    151714.655346                            NaN     8.890931   213.481538   \n",
              "\n",
              "              TOTAL     UnitYear  \n",
              "count   7695.000000  7695.000000  \n",
              "mean    1084.940021  2019.863418  \n",
              "min     -991.320000  2016.000000  \n",
              "25%       60.340000  2019.000000  \n",
              "50%      260.090000  2021.000000  \n",
              "75%     1027.855000  2021.000000  \n",
              "max    45000.000000  2022.000000  \n",
              "std     2314.565872     2.133431  "
            ]
          },
          "execution_count": 146,
          "metadata": {},
          "output_type": "execute_result"
        }
      ],
      "source": [
        "data_sayer.describe()"
      ]
    },
    {
      "cell_type": "code",
      "execution_count": 147,
      "metadata": {
        "colab": {
          "base_uri": "https://localhost:8080/",
          "height": 237
        },
        "id": "qSZyT3pfS1Wn",
        "outputId": "3582a58e-9446-4b55-cf0a-816ef0abaddc"
      },
      "outputs": [
        {
          "data": {
            "text/html": [
              "<div>\n",
              "<style scoped>\n",
              "    .dataframe tbody tr th:only-of-type {\n",
              "        vertical-align: middle;\n",
              "    }\n",
              "\n",
              "    .dataframe tbody tr th {\n",
              "        vertical-align: top;\n",
              "    }\n",
              "\n",
              "    .dataframe thead th {\n",
              "        text-align: right;\n",
              "    }\n",
              "</style>\n",
              "<table border=\"1\" class=\"dataframe\">\n",
              "  <thead>\n",
              "    <tr style=\"text-align: right;\">\n",
              "      <th></th>\n",
              "      <th>kMS</th>\n",
              "      <th>OpenedDate</th>\n",
              "      <th>lagdias</th>\n",
              "      <th>laghoras</th>\n",
              "      <th>RepReason</th>\n",
              "      <th>TOTAL</th>\n",
              "      <th>UnitID</th>\n",
              "      <th>UnitType</th>\n",
              "      <th>UnitYear</th>\n",
              "      <th>Flota</th>\n",
              "      <th>COMPLAINT</th>\n",
              "      <th>Jobcode</th>\n",
              "      <th>TipoLinea</th>\n",
              "      <th>NumParte</th>\n",
              "      <th>CITA</th>\n",
              "    </tr>\n",
              "    <tr>\n",
              "      <th>OrderID</th>\n",
              "      <th></th>\n",
              "      <th></th>\n",
              "      <th></th>\n",
              "      <th></th>\n",
              "      <th></th>\n",
              "      <th></th>\n",
              "      <th></th>\n",
              "      <th></th>\n",
              "      <th></th>\n",
              "      <th></th>\n",
              "      <th></th>\n",
              "      <th></th>\n",
              "      <th></th>\n",
              "      <th></th>\n",
              "      <th></th>\n",
              "    </tr>\n",
              "  </thead>\n",
              "  <tbody>\n",
              "    <tr>\n",
              "      <th>QRO-00039294</th>\n",
              "      <td>496657.0</td>\n",
              "      <td>2022-12-23 11:07:00</td>\n",
              "      <td>6</td>\n",
              "      <td>149</td>\n",
              "      <td>MC</td>\n",
              "      <td>36912.29</td>\n",
              "      <td>1803</td>\n",
              "      <td>TRACTOR</td>\n",
              "      <td>2021</td>\n",
              "      <td>Sayer Full</td>\n",
              "      <td>CORRECTIVO</td>\n",
              "      <td>000013 - Correctivo Tractos</td>\n",
              "      <td>PART</td>\n",
              "      <td>4099730C94</td>\n",
              "      <td>SIN CITA</td>\n",
              "    </tr>\n",
              "    <tr>\n",
              "      <th>QRO-00043015</th>\n",
              "      <td>538111.0</td>\n",
              "      <td>2023-09-13 15:37:00</td>\n",
              "      <td>2</td>\n",
              "      <td>42</td>\n",
              "      <td>MC</td>\n",
              "      <td>45000.00</td>\n",
              "      <td>1808</td>\n",
              "      <td>TRACTOR</td>\n",
              "      <td>2021</td>\n",
              "      <td>Sayer Full</td>\n",
              "      <td>CORRECTIVO</td>\n",
              "      <td>000013 - Correctivo Tractos</td>\n",
              "      <td>SERVICES</td>\n",
              "      <td>DESCONOCIDO</td>\n",
              "      <td>CON CITA</td>\n",
              "    </tr>\n",
              "    <tr>\n",
              "      <th>QRO-00043451</th>\n",
              "      <td>NaN</td>\n",
              "      <td>2023-10-13 15:00:00</td>\n",
              "      <td>19</td>\n",
              "      <td>452</td>\n",
              "      <td>MC</td>\n",
              "      <td>40600.00</td>\n",
              "      <td>D-2165</td>\n",
              "      <td>DOLLY</td>\n",
              "      <td>2022</td>\n",
              "      <td>Sayer Full</td>\n",
              "      <td>CORREC DOLLY</td>\n",
              "      <td>000018 - Correctivo Dolly</td>\n",
              "      <td>PART</td>\n",
              "      <td>RFLAN1781</td>\n",
              "      <td>SIN CITA</td>\n",
              "    </tr>\n",
              "    <tr>\n",
              "      <th>QRO-00045391</th>\n",
              "      <td>NaN</td>\n",
              "      <td>2024-05-23 10:21:00</td>\n",
              "      <td>23</td>\n",
              "      <td>554</td>\n",
              "      <td>ACC-NO-REPO</td>\n",
              "      <td>44379.98</td>\n",
              "      <td>D-2172</td>\n",
              "      <td>DOLLY</td>\n",
              "      <td>2022</td>\n",
              "      <td>Sayer Full</td>\n",
              "      <td>PM</td>\n",
              "      <td>000026 - Accidente</td>\n",
              "      <td>PART</td>\n",
              "      <td>FW35S10504-2L</td>\n",
              "      <td>SIN CITA</td>\n",
              "    </tr>\n",
              "    <tr>\n",
              "      <th>QRO-00045676</th>\n",
              "      <td>668716.0</td>\n",
              "      <td>2024-06-26 13:28:00</td>\n",
              "      <td>2</td>\n",
              "      <td>48</td>\n",
              "      <td>MC</td>\n",
              "      <td>44379.98</td>\n",
              "      <td>1800</td>\n",
              "      <td>TRACTOR</td>\n",
              "      <td>2021</td>\n",
              "      <td>Sayer Full</td>\n",
              "      <td>CORRECTIVO</td>\n",
              "      <td>000013 - Correctivo Tractos</td>\n",
              "      <td>PART</td>\n",
              "      <td>FW35S10504-2L</td>\n",
              "      <td>SIN CITA</td>\n",
              "    </tr>\n",
              "  </tbody>\n",
              "</table>\n",
              "</div>"
            ],
            "text/plain": [
              "                   kMS          OpenedDate  lagdias  laghoras    RepReason  \\\n",
              "OrderID                                                                      \n",
              "QRO-00039294  496657.0 2022-12-23 11:07:00        6       149           MC   \n",
              "QRO-00043015  538111.0 2023-09-13 15:37:00        2        42           MC   \n",
              "QRO-00043451       NaN 2023-10-13 15:00:00       19       452           MC   \n",
              "QRO-00045391       NaN 2024-05-23 10:21:00       23       554  ACC-NO-REPO   \n",
              "QRO-00045676  668716.0 2024-06-26 13:28:00        2        48           MC   \n",
              "\n",
              "                 TOTAL  UnitID UnitType  UnitYear       Flota     COMPLAINT  \\\n",
              "OrderID                                                                       \n",
              "QRO-00039294  36912.29    1803  TRACTOR      2021  Sayer Full    CORRECTIVO   \n",
              "QRO-00043015  45000.00    1808  TRACTOR      2021  Sayer Full    CORRECTIVO   \n",
              "QRO-00043451  40600.00  D-2165    DOLLY      2022  Sayer Full  CORREC DOLLY   \n",
              "QRO-00045391  44379.98  D-2172    DOLLY      2022  Sayer Full            PM   \n",
              "QRO-00045676  44379.98    1800  TRACTOR      2021  Sayer Full    CORRECTIVO   \n",
              "\n",
              "                                  Jobcode TipoLinea       NumParte      CITA  \n",
              "OrderID                                                                       \n",
              "QRO-00039294  000013 - Correctivo Tractos      PART     4099730C94  SIN CITA  \n",
              "QRO-00043015  000013 - Correctivo Tractos  SERVICES    DESCONOCIDO  CON CITA  \n",
              "QRO-00043451    000018 - Correctivo Dolly      PART      RFLAN1781  SIN CITA  \n",
              "QRO-00045391           000026 - Accidente      PART  FW35S10504-2L  SIN CITA  \n",
              "QRO-00045676  000013 - Correctivo Tractos      PART  FW35S10504-2L  SIN CITA  "
            ]
          },
          "execution_count": 147,
          "metadata": {},
          "output_type": "execute_result"
        }
      ],
      "source": [
        "data_sayer[data_sayer['TOTAL'] > 30000]"
      ]
    },
    {
      "cell_type": "code",
      "execution_count": 148,
      "metadata": {
        "colab": {
          "base_uri": "https://localhost:8080/"
        },
        "id": "RIzDFS2iSo-k",
        "outputId": "fc8d429f-e16c-4949-a3d2-9f0151f01f08"
      },
      "outputs": [
        {
          "data": {
            "text/plain": [
              "np.int64(541)"
            ]
          },
          "execution_count": 148,
          "metadata": {},
          "output_type": "execute_result"
        }
      ],
      "source": [
        "# Masks\n",
        "bajos = data_sayer['TOTAL'] <= 0 #consideramos que no es congruente que la columna de total tenga valores negativos\n",
        "\n",
        "altos = data_sayer['TOTAL'] >= 30000 #consideramos que es posbile que una reparacion sea\n",
        "#bastante costosa de manera que consideramos mantener los datos elevados, exeptuando,\n",
        "#los que ya estan muy alejados que podemos ver en la grafica que son mas de 30000\n",
        "\n",
        "\n",
        "valores_atipicos = bajos | altos\n",
        "valores_atipicos.sum()"
      ]
    },
    {
      "cell_type": "code",
      "execution_count": 150,
      "metadata": {
        "colab": {
          "base_uri": "https://localhost:8080/"
        },
        "id": "QTemXt4LUKFj",
        "outputId": "0e2be435-52ca-43e6-8bb4-cddda793af9d"
      },
      "outputs": [
        {
          "name": "stdout",
          "output_type": "stream",
          "text": [
            "<class 'pandas.core.frame.DataFrame'>\n",
            "Index: 7154 entries, QRO-00032562 to QRO-00046364\n",
            "Data columns (total 15 columns):\n",
            " #   Column      Non-Null Count  Dtype         \n",
            "---  ------      --------------  -----         \n",
            " 0   kMS         3873 non-null   float64       \n",
            " 1   OpenedDate  7154 non-null   datetime64[ns]\n",
            " 2   lagdias     7154 non-null   int64         \n",
            " 3   laghoras    7154 non-null   int64         \n",
            " 4   RepReason   7154 non-null   object        \n",
            " 5   TOTAL       7154 non-null   float64       \n",
            " 6   UnitID      7154 non-null   object        \n",
            " 7   UnitType    7154 non-null   object        \n",
            " 8   UnitYear    7154 non-null   int64         \n",
            " 9   Flota       7154 non-null   object        \n",
            " 10  COMPLAINT   7154 non-null   object        \n",
            " 11  Jobcode     7154 non-null   object        \n",
            " 12  TipoLinea   7154 non-null   object        \n",
            " 13  NumParte    7154 non-null   object        \n",
            " 14  CITA        7154 non-null   object        \n",
            "dtypes: datetime64[ns](1), float64(2), int64(3), object(9)\n",
            "memory usage: 894.2+ KB\n"
          ]
        }
      ],
      "source": [
        "data_sayer_clean = data_sayer[~valores_atipicos]\n",
        "data_sayer_clean.info()"
      ]
    },
    {
      "cell_type": "code",
      "execution_count": 151,
      "metadata": {
        "colab": {
          "base_uri": "https://localhost:8080/",
          "height": 448
        },
        "id": "rT6QcZEEWka4",
        "outputId": "e8b661a8-d0a4-4ce8-fc22-db2fb1d733c4"
      },
      "outputs": [
        {
          "data": {
            "text/plain": [
              "<Axes: >"
            ]
          },
          "execution_count": 151,
          "metadata": {},
          "output_type": "execute_result"
        },
        {
          "data": {
            "image/png": "[encoded data removed]",
            "text/plain": [
              "<Figure size 640x480 with 1 Axes>"
            ]
          },
          "metadata": {},
          "output_type": "display_data"
        }
      ],
      "source": [
        "data_sayer_clean[['TOTAL']].boxplot(vert=False)"
      ]
    },
    {
      "cell_type": "code",
      "execution_count": 152,
      "metadata": {
        "colab": {
          "base_uri": "https://localhost:8080/",
          "height": 448
        },
        "id": "yeKBGjOLXimr",
        "outputId": "2ecf30a8-11cc-4342-986f-8d19ac6bef11"
      },
      "outputs": [
        {
          "data": {
            "text/plain": [
              "<Axes: >"
            ]
          },
          "execution_count": 152,
          "metadata": {},
          "output_type": "execute_result"
        },
        {
          "data": {
            "image/png": "[encoded data removed]",
            "text/plain": [
              "<Figure size 640x480 with 1 Axes>"
            ]
          },
          "metadata": {},
          "output_type": "display_data"
        }
      ],
      "source": [
        "data_sayer_clean[['laghoras']].boxplot(vert=False)"
      ]
    },
    {
      "cell_type": "code",
      "execution_count": 153,
      "metadata": {
        "colab": {
          "base_uri": "https://localhost:8080/",
          "height": 519
        },
        "id": "BlJKrLGKXmM-",
        "outputId": "29e8b7c4-65ef-4615-f789-da616054bf0a"
      },
      "outputs": [
        {
          "data": {
            "text/html": [
              "<div>\n",
              "<style scoped>\n",
              "    .dataframe tbody tr th:only-of-type {\n",
              "        vertical-align: middle;\n",
              "    }\n",
              "\n",
              "    .dataframe tbody tr th {\n",
              "        vertical-align: top;\n",
              "    }\n",
              "\n",
              "    .dataframe thead th {\n",
              "        text-align: right;\n",
              "    }\n",
              "</style>\n",
              "<table border=\"1\" class=\"dataframe\">\n",
              "  <thead>\n",
              "    <tr style=\"text-align: right;\">\n",
              "      <th></th>\n",
              "      <th>kMS</th>\n",
              "      <th>OpenedDate</th>\n",
              "      <th>lagdias</th>\n",
              "      <th>laghoras</th>\n",
              "      <th>RepReason</th>\n",
              "      <th>TOTAL</th>\n",
              "      <th>UnitID</th>\n",
              "      <th>UnitType</th>\n",
              "      <th>UnitYear</th>\n",
              "      <th>Flota</th>\n",
              "      <th>COMPLAINT</th>\n",
              "      <th>Jobcode</th>\n",
              "      <th>TipoLinea</th>\n",
              "      <th>NumParte</th>\n",
              "      <th>CITA</th>\n",
              "    </tr>\n",
              "    <tr>\n",
              "      <th>OrderID</th>\n",
              "      <th></th>\n",
              "      <th></th>\n",
              "      <th></th>\n",
              "      <th></th>\n",
              "      <th></th>\n",
              "      <th></th>\n",
              "      <th></th>\n",
              "      <th></th>\n",
              "      <th></th>\n",
              "      <th></th>\n",
              "      <th></th>\n",
              "      <th></th>\n",
              "      <th></th>\n",
              "      <th></th>\n",
              "      <th></th>\n",
              "    </tr>\n",
              "  </thead>\n",
              "  <tbody>\n",
              "    <tr>\n",
              "      <th>QRO-00043240</th>\n",
              "      <td>427592.0</td>\n",
              "      <td>2023-10-04 09:34:00</td>\n",
              "      <td>-2</td>\n",
              "      <td>-48</td>\n",
              "      <td>MC</td>\n",
              "      <td>60.00</td>\n",
              "      <td>1834</td>\n",
              "      <td>TRACTOR</td>\n",
              "      <td>2021</td>\n",
              "      <td>Sayer Full</td>\n",
              "      <td>CORRECTIVO</td>\n",
              "      <td>-</td>\n",
              "      <td>LABOR</td>\n",
              "      <td>DESCONOCIDO</td>\n",
              "      <td>EXPRES</td>\n",
              "    </tr>\n",
              "    <tr>\n",
              "      <th>QRO-00043240</th>\n",
              "      <td>427592.0</td>\n",
              "      <td>2023-10-04 09:34:00</td>\n",
              "      <td>-2</td>\n",
              "      <td>-48</td>\n",
              "      <td>MC</td>\n",
              "      <td>2043.03</td>\n",
              "      <td>1834</td>\n",
              "      <td>TRACTOR</td>\n",
              "      <td>2021</td>\n",
              "      <td>Sayer Full</td>\n",
              "      <td>CORRECTIVO</td>\n",
              "      <td>-</td>\n",
              "      <td>PART</td>\n",
              "      <td>57122-002</td>\n",
              "      <td>EXPRES</td>\n",
              "    </tr>\n",
              "    <tr>\n",
              "      <th>QRO-00043240</th>\n",
              "      <td>427592.0</td>\n",
              "      <td>2023-10-04 09:34:00</td>\n",
              "      <td>-2</td>\n",
              "      <td>-48</td>\n",
              "      <td>MC</td>\n",
              "      <td>176.23</td>\n",
              "      <td>1834</td>\n",
              "      <td>TRACTOR</td>\n",
              "      <td>2021</td>\n",
              "      <td>Sayer Full</td>\n",
              "      <td>CORRECTIVO</td>\n",
              "      <td>-</td>\n",
              "      <td>PART</td>\n",
              "      <td>RFCON0801</td>\n",
              "      <td>EXPRES</td>\n",
              "    </tr>\n",
              "    <tr>\n",
              "      <th>QRO-00043240</th>\n",
              "      <td>427592.0</td>\n",
              "      <td>2023-10-04 09:34:00</td>\n",
              "      <td>-2</td>\n",
              "      <td>-48</td>\n",
              "      <td>MC</td>\n",
              "      <td>468.91</td>\n",
              "      <td>1834</td>\n",
              "      <td>TRACTOR</td>\n",
              "      <td>2021</td>\n",
              "      <td>Sayer Full</td>\n",
              "      <td>CORRECTIVO</td>\n",
              "      <td>-</td>\n",
              "      <td>PART</td>\n",
              "      <td>RFUNI1345</td>\n",
              "      <td>EXPRES</td>\n",
              "    </tr>\n",
              "    <tr>\n",
              "      <th>QRO-00043240</th>\n",
              "      <td>427592.0</td>\n",
              "      <td>2023-10-04 09:34:00</td>\n",
              "      <td>-2</td>\n",
              "      <td>-48</td>\n",
              "      <td>MC</td>\n",
              "      <td>136.54</td>\n",
              "      <td>1834</td>\n",
              "      <td>TRACTOR</td>\n",
              "      <td>2021</td>\n",
              "      <td>Sayer Full</td>\n",
              "      <td>CORRECTIVO</td>\n",
              "      <td>-</td>\n",
              "      <td>PART</td>\n",
              "      <td>RFFOC012</td>\n",
              "      <td>EXPRES</td>\n",
              "    </tr>\n",
              "    <tr>\n",
              "      <th>QRO-00043240</th>\n",
              "      <td>427592.0</td>\n",
              "      <td>2023-10-04 09:34:00</td>\n",
              "      <td>-2</td>\n",
              "      <td>-48</td>\n",
              "      <td>MC</td>\n",
              "      <td>2.87</td>\n",
              "      <td>1834</td>\n",
              "      <td>TRACTOR</td>\n",
              "      <td>2021</td>\n",
              "      <td>Sayer Full</td>\n",
              "      <td>CORRECTIVO</td>\n",
              "      <td>-</td>\n",
              "      <td>PART</td>\n",
              "      <td>RFFUS0673</td>\n",
              "      <td>EXPRES</td>\n",
              "    </tr>\n",
              "    <tr>\n",
              "      <th>QRO-00043240</th>\n",
              "      <td>427592.0</td>\n",
              "      <td>2023-10-04 09:34:00</td>\n",
              "      <td>-2</td>\n",
              "      <td>-48</td>\n",
              "      <td>MC</td>\n",
              "      <td>1.45</td>\n",
              "      <td>1834</td>\n",
              "      <td>TRACTOR</td>\n",
              "      <td>2021</td>\n",
              "      <td>Sayer Full</td>\n",
              "      <td>CORRECTIVO</td>\n",
              "      <td>-</td>\n",
              "      <td>PART</td>\n",
              "      <td>RF195TER0</td>\n",
              "      <td>EXPRES</td>\n",
              "    </tr>\n",
              "    <tr>\n",
              "      <th>QRO-00043240</th>\n",
              "      <td>427592.0</td>\n",
              "      <td>2023-10-04 09:34:00</td>\n",
              "      <td>-2</td>\n",
              "      <td>-48</td>\n",
              "      <td>MC</td>\n",
              "      <td>8.45</td>\n",
              "      <td>1834</td>\n",
              "      <td>TRACTOR</td>\n",
              "      <td>2021</td>\n",
              "      <td>Sayer Full</td>\n",
              "      <td>CORRECTIVO</td>\n",
              "      <td>-</td>\n",
              "      <td>PART</td>\n",
              "      <td>RFTER206</td>\n",
              "      <td>EXPRES</td>\n",
              "    </tr>\n",
              "    <tr>\n",
              "      <th>QRO-00043240</th>\n",
              "      <td>427592.0</td>\n",
              "      <td>2023-10-04 09:34:00</td>\n",
              "      <td>-2</td>\n",
              "      <td>-48</td>\n",
              "      <td>MC</td>\n",
              "      <td>36.54</td>\n",
              "      <td>1834</td>\n",
              "      <td>TRACTOR</td>\n",
              "      <td>2021</td>\n",
              "      <td>Sayer Full</td>\n",
              "      <td>CORRECTIVO</td>\n",
              "      <td>-</td>\n",
              "      <td>PART</td>\n",
              "      <td>7493_REL</td>\n",
              "      <td>EXPRES</td>\n",
              "    </tr>\n",
              "    <tr>\n",
              "      <th>QRO-00043240</th>\n",
              "      <td>427592.0</td>\n",
              "      <td>2023-10-04 09:34:00</td>\n",
              "      <td>-2</td>\n",
              "      <td>-48</td>\n",
              "      <td>MC</td>\n",
              "      <td>51.64</td>\n",
              "      <td>1834</td>\n",
              "      <td>TRACTOR</td>\n",
              "      <td>2021</td>\n",
              "      <td>Sayer Full</td>\n",
              "      <td>CORRECTIVO</td>\n",
              "      <td>-</td>\n",
              "      <td>PART</td>\n",
              "      <td>2274</td>\n",
              "      <td>EXPRES</td>\n",
              "    </tr>\n",
              "    <tr>\n",
              "      <th>QRO-00043240</th>\n",
              "      <td>427592.0</td>\n",
              "      <td>2023-10-04 09:34:00</td>\n",
              "      <td>-2</td>\n",
              "      <td>-48</td>\n",
              "      <td>MC</td>\n",
              "      <td>4.43</td>\n",
              "      <td>1834</td>\n",
              "      <td>TRACTOR</td>\n",
              "      <td>2021</td>\n",
              "      <td>Sayer Full</td>\n",
              "      <td>CORRECTIVO</td>\n",
              "      <td>-</td>\n",
              "      <td>PART</td>\n",
              "      <td>4936</td>\n",
              "      <td>EXPRES</td>\n",
              "    </tr>\n",
              "    <tr>\n",
              "      <th>QRO-00043240</th>\n",
              "      <td>427592.0</td>\n",
              "      <td>2023-10-04 09:34:00</td>\n",
              "      <td>-2</td>\n",
              "      <td>-48</td>\n",
              "      <td>MC</td>\n",
              "      <td>293.26</td>\n",
              "      <td>1834</td>\n",
              "      <td>TRACTOR</td>\n",
              "      <td>2021</td>\n",
              "      <td>Sayer Full</td>\n",
              "      <td>CORRECTIVO</td>\n",
              "      <td>-</td>\n",
              "      <td>PART</td>\n",
              "      <td>2071298</td>\n",
              "      <td>EXPRES</td>\n",
              "    </tr>\n",
              "    <tr>\n",
              "      <th>QRO-00043240</th>\n",
              "      <td>427592.0</td>\n",
              "      <td>2023-10-04 09:34:00</td>\n",
              "      <td>-2</td>\n",
              "      <td>-48</td>\n",
              "      <td>MC</td>\n",
              "      <td>4.29</td>\n",
              "      <td>1834</td>\n",
              "      <td>TRACTOR</td>\n",
              "      <td>2021</td>\n",
              "      <td>Sayer Full</td>\n",
              "      <td>CORRECTIVO</td>\n",
              "      <td>-</td>\n",
              "      <td>PART</td>\n",
              "      <td>RFCHA214</td>\n",
              "      <td>EXPRES</td>\n",
              "    </tr>\n",
              "    <tr>\n",
              "      <th>QRO-00043240</th>\n",
              "      <td>427592.0</td>\n",
              "      <td>2023-10-04 09:34:00</td>\n",
              "      <td>-2</td>\n",
              "      <td>-48</td>\n",
              "      <td>MC</td>\n",
              "      <td>64.65</td>\n",
              "      <td>1834</td>\n",
              "      <td>TRACTOR</td>\n",
              "      <td>2021</td>\n",
              "      <td>Sayer Full</td>\n",
              "      <td>CORRECTIVO</td>\n",
              "      <td>-</td>\n",
              "      <td>PART</td>\n",
              "      <td>RFCHA213</td>\n",
              "      <td>EXPRES</td>\n",
              "    </tr>\n",
              "  </tbody>\n",
              "</table>\n",
              "</div>"
            ],
            "text/plain": [
              "                   kMS          OpenedDate  lagdias  laghoras RepReason  \\\n",
              "OrderID                                                                   \n",
              "QRO-00043240  427592.0 2023-10-04 09:34:00       -2       -48        MC   \n",
              "QRO-00043240  427592.0 2023-10-04 09:34:00       -2       -48        MC   \n",
              "QRO-00043240  427592.0 2023-10-04 09:34:00       -2       -48        MC   \n",
              "QRO-00043240  427592.0 2023-10-04 09:34:00       -2       -48        MC   \n",
              "QRO-00043240  427592.0 2023-10-04 09:34:00       -2       -48        MC   \n",
              "QRO-00043240  427592.0 2023-10-04 09:34:00       -2       -48        MC   \n",
              "QRO-00043240  427592.0 2023-10-04 09:34:00       -2       -48        MC   \n",
              "QRO-00043240  427592.0 2023-10-04 09:34:00       -2       -48        MC   \n",
              "QRO-00043240  427592.0 2023-10-04 09:34:00       -2       -48        MC   \n",
              "QRO-00043240  427592.0 2023-10-04 09:34:00       -2       -48        MC   \n",
              "QRO-00043240  427592.0 2023-10-04 09:34:00       -2       -48        MC   \n",
              "QRO-00043240  427592.0 2023-10-04 09:34:00       -2       -48        MC   \n",
              "QRO-00043240  427592.0 2023-10-04 09:34:00       -2       -48        MC   \n",
              "QRO-00043240  427592.0 2023-10-04 09:34:00       -2       -48        MC   \n",
              "\n",
              "                TOTAL UnitID UnitType  UnitYear       Flota   COMPLAINT  \\\n",
              "OrderID                                                                   \n",
              "QRO-00043240    60.00   1834  TRACTOR      2021  Sayer Full  CORRECTIVO   \n",
              "QRO-00043240  2043.03   1834  TRACTOR      2021  Sayer Full  CORRECTIVO   \n",
              "QRO-00043240   176.23   1834  TRACTOR      2021  Sayer Full  CORRECTIVO   \n",
              "QRO-00043240   468.91   1834  TRACTOR      2021  Sayer Full  CORRECTIVO   \n",
              "QRO-00043240   136.54   1834  TRACTOR      2021  Sayer Full  CORRECTIVO   \n",
              "QRO-00043240     2.87   1834  TRACTOR      2021  Sayer Full  CORRECTIVO   \n",
              "QRO-00043240     1.45   1834  TRACTOR      2021  Sayer Full  CORRECTIVO   \n",
              "QRO-00043240     8.45   1834  TRACTOR      2021  Sayer Full  CORRECTIVO   \n",
              "QRO-00043240    36.54   1834  TRACTOR      2021  Sayer Full  CORRECTIVO   \n",
              "QRO-00043240    51.64   1834  TRACTOR      2021  Sayer Full  CORRECTIVO   \n",
              "QRO-00043240     4.43   1834  TRACTOR      2021  Sayer Full  CORRECTIVO   \n",
              "QRO-00043240   293.26   1834  TRACTOR      2021  Sayer Full  CORRECTIVO   \n",
              "QRO-00043240     4.29   1834  TRACTOR      2021  Sayer Full  CORRECTIVO   \n",
              "QRO-00043240    64.65   1834  TRACTOR      2021  Sayer Full  CORRECTIVO   \n",
              "\n",
              "             Jobcode TipoLinea     NumParte    CITA  \n",
              "OrderID                                              \n",
              "QRO-00043240       -     LABOR  DESCONOCIDO  EXPRES  \n",
              "QRO-00043240       -      PART    57122-002  EXPRES  \n",
              "QRO-00043240       -      PART    RFCON0801  EXPRES  \n",
              "QRO-00043240       -      PART    RFUNI1345  EXPRES  \n",
              "QRO-00043240       -      PART     RFFOC012  EXPRES  \n",
              "QRO-00043240       -      PART    RFFUS0673  EXPRES  \n",
              "QRO-00043240       -      PART    RF195TER0  EXPRES  \n",
              "QRO-00043240       -      PART     RFTER206  EXPRES  \n",
              "QRO-00043240       -      PART     7493_REL  EXPRES  \n",
              "QRO-00043240       -      PART         2274  EXPRES  \n",
              "QRO-00043240       -      PART         4936  EXPRES  \n",
              "QRO-00043240       -      PART      2071298  EXPRES  \n",
              "QRO-00043240       -      PART     RFCHA214  EXPRES  \n",
              "QRO-00043240       -      PART     RFCHA213  EXPRES  "
            ]
          },
          "execution_count": 153,
          "metadata": {},
          "output_type": "execute_result"
        }
      ],
      "source": [
        "data_sayer_clean[data_sayer_clean['laghoras'] < 0]"
      ]
    },
    {
      "cell_type": "code",
      "execution_count": 154,
      "metadata": {
        "colab": {
          "base_uri": "https://localhost:8080/",
          "height": 335
        },
        "id": "CM7IKkMTZO-R",
        "outputId": "85fb5750-d470-4795-e233-580edf87159e"
      },
      "outputs": [
        {
          "data": {
            "text/plain": [
              "count    7154.000000\n",
              "mean       91.031032\n",
              "std       190.256972\n",
              "min       -48.000000\n",
              "25%         3.000000\n",
              "50%        25.000000\n",
              "75%       118.000000\n",
              "max      2259.000000\n",
              "Name: laghoras, dtype: float64"
            ]
          },
          "execution_count": 154,
          "metadata": {},
          "output_type": "execute_result"
        }
      ],
      "source": [
        "data_sayer_clean['laghoras'].describe()"
      ]
    },
    {
      "cell_type": "code",
      "execution_count": 155,
      "metadata": {
        "colab": {
          "base_uri": "https://localhost:8080/"
        },
        "id": "JDJm2X_5X-jt",
        "outputId": "05f4fe31-f3df-4c3e-f99c-720c21258aa8"
      },
      "outputs": [
        {
          "data": {
            "text/plain": [
              "np.int64(765)"
            ]
          },
          "execution_count": 155,
          "metadata": {},
          "output_type": "execute_result"
        }
      ],
      "source": [
        "bajos = data_sayer_clean['laghoras'] <= 0 #consideramos que no es congruente\n",
        "#que la columna de lagdias tenga valores negativos\n",
        "\n",
        "altos = data_sayer_clean['laghoras'] >= 2259 #la reparacion es probable que\n",
        "#lleve bastantes dias, de manera que consideramos dejar los datos de dias mas grandes\n",
        "\n",
        "\n",
        "valores_atipicos = bajos | altos\n",
        "valores_atipicos.sum()"
      ]
    },
    {
      "cell_type": "code",
      "execution_count": 156,
      "metadata": {
        "colab": {
          "base_uri": "https://localhost:8080/"
        },
        "id": "ioxAoTSvalc9",
        "outputId": "e068eee5-5f42-4754-c173-16c6b75dbfa1"
      },
      "outputs": [
        {
          "name": "stdout",
          "output_type": "stream",
          "text": [
            "<class 'pandas.core.frame.DataFrame'>\n",
            "Index: 6389 entries, QRO-00032562 to SAAP-0007347\n",
            "Data columns (total 15 columns):\n",
            " #   Column      Non-Null Count  Dtype         \n",
            "---  ------      --------------  -----         \n",
            " 0   kMS         3469 non-null   float64       \n",
            " 1   OpenedDate  6389 non-null   datetime64[ns]\n",
            " 2   lagdias     6389 non-null   int64         \n",
            " 3   laghoras    6389 non-null   int64         \n",
            " 4   RepReason   6389 non-null   object        \n",
            " 5   TOTAL       6389 non-null   float64       \n",
            " 6   UnitID      6389 non-null   object        \n",
            " 7   UnitType    6389 non-null   object        \n",
            " 8   UnitYear    6389 non-null   int64         \n",
            " 9   Flota       6389 non-null   object        \n",
            " 10  COMPLAINT   6389 non-null   object        \n",
            " 11  Jobcode     6389 non-null   object        \n",
            " 12  TipoLinea   6389 non-null   object        \n",
            " 13  NumParte    6389 non-null   object        \n",
            " 14  CITA        6389 non-null   object        \n",
            "dtypes: datetime64[ns](1), float64(2), int64(3), object(9)\n",
            "memory usage: 798.6+ KB\n"
          ]
        }
      ],
      "source": [
        "data_sayer_clean = data_sayer_clean[~valores_atipicos]\n",
        "data_sayer_clean.info()"
      ]
    },
    {
      "cell_type": "code",
      "execution_count": 157,
      "metadata": {
        "colab": {
          "base_uri": "https://localhost:8080/",
          "height": 448
        },
        "id": "VNhzXtHsarWp",
        "outputId": "5cdd0974-4413-4247-dc0f-c6741c808dd6"
      },
      "outputs": [
        {
          "data": {
            "text/plain": [
              "<Axes: >"
            ]
          },
          "execution_count": 157,
          "metadata": {},
          "output_type": "execute_result"
        },
        {
          "data": {
            "image/png": "[encoded data removed]",
            "text/plain": [
              "<Figure size 640x480 with 1 Axes>"
            ]
          },
          "metadata": {},
          "output_type": "display_data"
        }
      ],
      "source": [
        "data_sayer_clean[['laghoras']].boxplot(vert=False)"
      ]
    },
    {
      "cell_type": "code",
      "execution_count": 158,
      "metadata": {
        "colab": {
          "base_uri": "https://localhost:8080/",
          "height": 448
        },
        "id": "oLYYusUQavLI",
        "outputId": "eaeaf4a1-2b1a-46e3-ee6f-135724c2d034"
      },
      "outputs": [
        {
          "data": {
            "text/plain": [
              "<Axes: >"
            ]
          },
          "execution_count": 158,
          "metadata": {},
          "output_type": "execute_result"
        },
        {
          "data": {
            "image/png": "[encoded data removed]",
            "text/plain": [
              "<Figure size 640x480 with 1 Axes>"
            ]
          },
          "metadata": {},
          "output_type": "display_data"
        }
      ],
      "source": [
        "data_sayer_clean[['lagdias']].boxplot(vert=False) #Al eliminar lo negativos de dias se eliminaron tambien\n",
        "#los de horas"
      ]
    },
    {
      "cell_type": "code",
      "execution_count": 159,
      "metadata": {
        "colab": {
          "base_uri": "https://localhost:8080/",
          "height": 335
        },
        "id": "D1ZoV1oTay4K",
        "outputId": "a2fd7fa9-58d0-4ae3-c007-73eefc9071c3"
      },
      "outputs": [
        {
          "data": {
            "text/plain": [
              "count    6389.000000\n",
              "mean        4.029582\n",
              "std         7.471836\n",
              "min         0.000000\n",
              "25%         0.000000\n",
              "50%         1.000000\n",
              "75%         5.000000\n",
              "max        91.000000\n",
              "Name: lagdias, dtype: float64"
            ]
          },
          "execution_count": 159,
          "metadata": {},
          "output_type": "execute_result"
        }
      ],
      "source": [
        "data_sayer_clean['lagdias'].describe()"
      ]
    },
    {
      "cell_type": "code",
      "execution_count": 160,
      "metadata": {
        "colab": {
          "base_uri": "https://localhost:8080/",
          "height": 300
        },
        "id": "tZIHshUxbD6V",
        "outputId": "5ebf83d2-4802-4533-c189-1b39bf78a728"
      },
      "outputs": [
        {
          "data": {
            "text/html": [
              "<div>\n",
              "<style scoped>\n",
              "    .dataframe tbody tr th:only-of-type {\n",
              "        vertical-align: middle;\n",
              "    }\n",
              "\n",
              "    .dataframe tbody tr th {\n",
              "        vertical-align: top;\n",
              "    }\n",
              "\n",
              "    .dataframe thead th {\n",
              "        text-align: right;\n",
              "    }\n",
              "</style>\n",
              "<table border=\"1\" class=\"dataframe\">\n",
              "  <thead>\n",
              "    <tr style=\"text-align: right;\">\n",
              "      <th></th>\n",
              "      <th>kMS</th>\n",
              "      <th>OpenedDate</th>\n",
              "      <th>lagdias</th>\n",
              "      <th>laghoras</th>\n",
              "      <th>TOTAL</th>\n",
              "      <th>UnitYear</th>\n",
              "    </tr>\n",
              "  </thead>\n",
              "  <tbody>\n",
              "    <tr>\n",
              "      <th>count</th>\n",
              "      <td>3469.000000</td>\n",
              "      <td>6389</td>\n",
              "      <td>6389.000000</td>\n",
              "      <td>6389.000000</td>\n",
              "      <td>6389.000000</td>\n",
              "      <td>6389.000000</td>\n",
              "    </tr>\n",
              "    <tr>\n",
              "      <th>mean</th>\n",
              "      <td>495330.040069</td>\n",
              "      <td>2023-06-09 02:32:24.510877952</td>\n",
              "      <td>4.029582</td>\n",
              "      <td>98.500235</td>\n",
              "      <td>1118.738764</td>\n",
              "      <td>2019.884802</td>\n",
              "    </tr>\n",
              "    <tr>\n",
              "      <th>min</th>\n",
              "      <td>34105.000000</td>\n",
              "      <td>2022-01-03 13:34:00</td>\n",
              "      <td>0.000000</td>\n",
              "      <td>1.000000</td>\n",
              "      <td>0.090000</td>\n",
              "      <td>2016.000000</td>\n",
              "    </tr>\n",
              "    <tr>\n",
              "      <th>25%</th>\n",
              "      <td>396903.000000</td>\n",
              "      <td>2022-10-14 17:58:00</td>\n",
              "      <td>0.000000</td>\n",
              "      <td>5.000000</td>\n",
              "      <td>84.390000</td>\n",
              "      <td>2019.000000</td>\n",
              "    </tr>\n",
              "    <tr>\n",
              "      <th>50%</th>\n",
              "      <td>510974.000000</td>\n",
              "      <td>2023-06-28 13:00:00</td>\n",
              "      <td>1.000000</td>\n",
              "      <td>34.000000</td>\n",
              "      <td>300.000000</td>\n",
              "      <td>2021.000000</td>\n",
              "    </tr>\n",
              "    <tr>\n",
              "      <th>75%</th>\n",
              "      <td>620065.000000</td>\n",
              "      <td>2024-01-11 13:58:00</td>\n",
              "      <td>5.000000</td>\n",
              "      <td>121.000000</td>\n",
              "      <td>1200.000000</td>\n",
              "      <td>2021.000000</td>\n",
              "    </tr>\n",
              "    <tr>\n",
              "      <th>max</th>\n",
              "      <td>770460.000000</td>\n",
              "      <td>2024-09-02 15:20:00</td>\n",
              "      <td>91.000000</td>\n",
              "      <td>2183.000000</td>\n",
              "      <td>28156.220000</td>\n",
              "      <td>2022.000000</td>\n",
              "    </tr>\n",
              "    <tr>\n",
              "      <th>std</th>\n",
              "      <td>148809.331361</td>\n",
              "      <td>NaN</td>\n",
              "      <td>7.471836</td>\n",
              "      <td>179.208020</td>\n",
              "      <td>2090.902083</td>\n",
              "      <td>2.118264</td>\n",
              "    </tr>\n",
              "  </tbody>\n",
              "</table>\n",
              "</div>"
            ],
            "text/plain": [
              "                 kMS                     OpenedDate      lagdias     laghoras  \\\n",
              "count    3469.000000                           6389  6389.000000  6389.000000   \n",
              "mean   495330.040069  2023-06-09 02:32:24.510877952     4.029582    98.500235   \n",
              "min     34105.000000            2022-01-03 13:34:00     0.000000     1.000000   \n",
              "25%    396903.000000            2022-10-14 17:58:00     0.000000     5.000000   \n",
              "50%    510974.000000            2023-06-28 13:00:00     1.000000    34.000000   \n",
              "75%    620065.000000            2024-01-11 13:58:00     5.000000   121.000000   \n",
              "max    770460.000000            2024-09-02 15:20:00    91.000000  2183.000000   \n",
              "std    148809.331361                            NaN     7.471836   179.208020   \n",
              "\n",
              "              TOTAL     UnitYear  \n",
              "count   6389.000000  6389.000000  \n",
              "mean    1118.738764  2019.884802  \n",
              "min        0.090000  2016.000000  \n",
              "25%       84.390000  2019.000000  \n",
              "50%      300.000000  2021.000000  \n",
              "75%     1200.000000  2021.000000  \n",
              "max    28156.220000  2022.000000  \n",
              "std     2090.902083     2.118264  "
            ]
          },
          "execution_count": 160,
          "metadata": {},
          "output_type": "execute_result"
        }
      ],
      "source": [
        "data_sayer_clean.describe() #eliminamos los valores que consideramos atipicos"
      ]
    },
    {
      "cell_type": "code",
      "execution_count": 161,
      "metadata": {
        "colab": {
          "base_uri": "https://localhost:8080/",
          "height": 448
        },
        "id": "zam2nB1Yd076",
        "outputId": "cb2b4acc-7c06-414f-cb25-9c5b26a19f70"
      },
      "outputs": [
        {
          "data": {
            "text/plain": [
              "<Axes: >"
            ]
          },
          "execution_count": 161,
          "metadata": {},
          "output_type": "execute_result"
        },
        {
          "data": {
            "image/png": "[encoded data removed]",
            "text/plain": [
              "<Figure size 640x480 with 1 Axes>"
            ]
          },
          "metadata": {},
          "output_type": "display_data"
        }
      ],
      "source": [
        "data_sayer_clean[['kMS']].boxplot(vert=False)"
      ]
    },
    {
      "cell_type": "code",
      "execution_count": 162,
      "metadata": {
        "colab": {
          "base_uri": "https://localhost:8080/"
        },
        "id": "6pCSYrqFeQeF",
        "outputId": "2dabd196-169c-4877-9061-8d55ebabdb2a"
      },
      "outputs": [
        {
          "data": {
            "text/plain": [
              "np.int64(2920)"
            ]
          },
          "execution_count": 162,
          "metadata": {},
          "output_type": "execute_result"
        }
      ],
      "source": [
        "bajos = data_sayer_clean['kMS'].isna()\n",
        "\n",
        "valores_atipicos = bajos\n",
        "valores_atipicos.sum()"
      ]
    },
    {
      "cell_type": "code",
      "execution_count": 163,
      "metadata": {
        "colab": {
          "base_uri": "https://localhost:8080/"
        },
        "id": "cfEHR5E1ebmE",
        "outputId": "919e0992-0dba-4b5c-cb52-191a8673e04b"
      },
      "outputs": [
        {
          "name": "stdout",
          "output_type": "stream",
          "text": [
            "<class 'pandas.core.frame.DataFrame'>\n",
            "Index: 6389 entries, QRO-00032562 to SAAP-0007347\n",
            "Data columns (total 15 columns):\n",
            " #   Column      Non-Null Count  Dtype         \n",
            "---  ------      --------------  -----         \n",
            " 0   kMS         6389 non-null   float64       \n",
            " 1   OpenedDate  6389 non-null   datetime64[ns]\n",
            " 2   lagdias     6389 non-null   int64         \n",
            " 3   laghoras    6389 non-null   int64         \n",
            " 4   RepReason   6389 non-null   object        \n",
            " 5   TOTAL       6389 non-null   float64       \n",
            " 6   UnitID      6389 non-null   object        \n",
            " 7   UnitType    6389 non-null   object        \n",
            " 8   UnitYear    6389 non-null   int64         \n",
            " 9   Flota       6389 non-null   object        \n",
            " 10  COMPLAINT   6389 non-null   object        \n",
            " 11  Jobcode     6389 non-null   object        \n",
            " 12  TipoLinea   6389 non-null   object        \n",
            " 13  NumParte    6389 non-null   object        \n",
            " 14  CITA        6389 non-null   object        \n",
            "dtypes: datetime64[ns](1), float64(2), int64(3), object(9)\n",
            "memory usage: 798.6+ KB\n"
          ]
        }
      ],
      "source": [
        "data_sayer_clean = data_sayer_clean.fillna(data_sayer_clean['kMS'].median())\n",
        "data_sayer_clean.info()"
      ]
    },
    {
      "cell_type": "code",
      "execution_count": 164,
      "metadata": {
        "colab": {
          "base_uri": "https://localhost:8080/",
          "height": 335
        },
        "id": "an4fY5Y8gxjx",
        "outputId": "ff22b3c4-4f50-41bf-f466-1f07b7e15050"
      },
      "outputs": [
        {
          "data": {
            "text/plain": [
              "count      6389.000000\n",
              "mean     502479.885585\n",
              "std      109921.244031\n",
              "min       34105.000000\n",
              "25%      492345.000000\n",
              "50%      510974.000000\n",
              "75%      528716.000000\n",
              "max      770460.000000\n",
              "Name: kMS, dtype: float64"
            ]
          },
          "execution_count": 164,
          "metadata": {},
          "output_type": "execute_result"
        }
      ],
      "source": [
        "data_sayer_clean['kMS'].describe()"
      ]
    },
    {
      "cell_type": "code",
      "execution_count": 165,
      "metadata": {
        "id": "Lba-z9LOeamt"
      },
      "outputs": [],
      "source": [
        "data_sayer = data_sayer_clean"
      ]
    },
    {
      "cell_type": "markdown",
      "metadata": {
        "id": "-008Q9Gsr2p_"
      },
      "source": [
        "## Eliminar registros duplicados."
      ]
    },
    {
      "cell_type": "code",
      "execution_count": 166,
      "metadata": {
        "colab": {
          "base_uri": "https://localhost:8080/"
        },
        "id": "3y2Hfhm6dJ8a",
        "outputId": "f06dd798-11b9-4d9a-e1e2-e0d113404875"
      },
      "outputs": [
        {
          "data": {
            "text/plain": [
              "6389"
            ]
          },
          "execution_count": 166,
          "metadata": {},
          "output_type": "execute_result"
        }
      ],
      "source": [
        "# Cantidad de elementos en el df\n",
        "data_sayer.index.size"
      ]
    },
    {
      "cell_type": "code",
      "execution_count": 167,
      "metadata": {
        "colab": {
          "base_uri": "https://localhost:8080/"
        },
        "id": "SSR76SdBGL39",
        "outputId": "fb57c692-5ce8-42e2-9c46-edd0e4d37ed1"
      },
      "outputs": [
        {
          "data": {
            "text/plain": [
              "6072"
            ]
          },
          "execution_count": 167,
          "metadata": {},
          "output_type": "execute_result"
        }
      ],
      "source": [
        "# Cantidad de elementos en el df si se eliminan las filas con informacion identica\n",
        "data_sayer.drop_duplicates().index.size"
      ]
    },
    {
      "cell_type": "markdown",
      "metadata": {
        "id": "OpLKOo42HgtE"
      },
      "source": [
        "Haciendo una resta simple, podemos calcular que actualmente existen $6389-6072 = 317$ duplicados. Esto añade un gran sesgo al análisis posterior, por lo que se procede a eliminarlos."
      ]
    },
    {
      "cell_type": "code",
      "execution_count": 168,
      "metadata": {
        "id": "82GUjQcqIidP"
      },
      "outputs": [],
      "source": [
        "data_sayer.drop_duplicates(inplace=True)"
      ]
    },
    {
      "cell_type": "code",
      "execution_count": 169,
      "metadata": {
        "colab": {
          "base_uri": "https://localhost:8080/"
        },
        "id": "fbMaPHQlImjA",
        "outputId": "bdab6414-1ae5-4bbc-c1ca-493bb83fd164"
      },
      "outputs": [
        {
          "name": "stdout",
          "output_type": "stream",
          "text": [
            "<class 'pandas.core.frame.DataFrame'>\n",
            "Index: 6072 entries, QRO-00032562 to SAAP-0007347\n",
            "Data columns (total 15 columns):\n",
            " #   Column      Non-Null Count  Dtype         \n",
            "---  ------      --------------  -----         \n",
            " 0   kMS         6072 non-null   float64       \n",
            " 1   OpenedDate  6072 non-null   datetime64[ns]\n",
            " 2   lagdias     6072 non-null   int64         \n",
            " 3   laghoras    6072 non-null   int64         \n",
            " 4   RepReason   6072 non-null   object        \n",
            " 5   TOTAL       6072 non-null   float64       \n",
            " 6   UnitID      6072 non-null   object        \n",
            " 7   UnitType    6072 non-null   object        \n",
            " 8   UnitYear    6072 non-null   int64         \n",
            " 9   Flota       6072 non-null   object        \n",
            " 10  COMPLAINT   6072 non-null   object        \n",
            " 11  Jobcode     6072 non-null   object        \n",
            " 12  TipoLinea   6072 non-null   object        \n",
            " 13  NumParte    6072 non-null   object        \n",
            " 14  CITA        6072 non-null   object        \n",
            "dtypes: datetime64[ns](1), float64(2), int64(3), object(9)\n",
            "memory usage: 759.0+ KB\n"
          ]
        }
      ],
      "source": [
        "data_sayer.info()"
      ]
    },
    {
      "cell_type": "markdown",
      "metadata": {
        "id": "Tgiss8or9EvX"
      },
      "source": [
        "# **Construcción y transformación de datos**"
      ]
    },
    {
      "cell_type": "markdown",
      "metadata": {
        "id": "fNVvSdGY9Mng"
      },
      "source": [
        "## Integrar los dataframes\n",
        "Creando los enlaces o combinaciones relevantes al dominio o contexto del proyecto."
      ]
    },
    {
      "cell_type": "markdown",
      "metadata": {
        "id": "mLgdNNcYPuJi"
      },
      "source": [
        "Debido a que sólo se ha estado utilizando un sólo dataframe para el proyecto, es que no es necesario realizar ningún enlade al dominio. Cabe resaltar que esta misma base de datos se ha sometido a distintas limpiezas y procesamientos para cumplir con los objetivos indicados en el entregable."
      ]
    },
    {
      "cell_type": "markdown",
      "metadata": {
        "id": "NHzmwjiu9Srb"
      },
      "source": [
        "## Agregación y agrupamiento.\n",
        " Construir nuevas características o variables con las tecnicas descritas"
      ]
    },
    {
      "cell_type": "code",
      "execution_count": 171,
      "metadata": {
        "colab": {
          "base_uri": "https://localhost:8080/",
          "height": 1000
        },
        "id": "0MQ85v2OPxZF",
        "outputId": "617f3e7e-eb4a-41b0-825e-fcaef918307c"
      },
      "outputs": [
        {
          "data": {
            "text/plain": [
              "COMPLAINT\n",
              "PM              1987\n",
              "CORRECTIVO      1169\n",
              "PREVENT VENC    1049\n",
              "CORRECT CAJA     410\n",
              "CORREC DOLLY     286\n",
              "GASTADO          151\n",
              "PONCHADO         142\n",
              "ACCIDENTE        130\n",
              "DESGASTADO       129\n",
              "SUCIO             97\n",
              "DESBALANCE        73\n",
              "REP LLANTA        57\n",
              "FUGA              49\n",
              "FALTA LLANTA      45\n",
              "FALLA SUSPEN      41\n",
              "DAÑO OP           36\n",
              "PIERDE POTEN      35\n",
              "OTROS             31\n",
              "FALLA ELECTR      21\n",
              "SIS. DIRECC       15\n",
              "LLANTA VOLAD      13\n",
              "ROTO              13\n",
              "FALLA FRENOS      11\n",
              "SE NEUTRALIZ      10\n",
              "BAJA PRESION      10\n",
              "DESGASTE IRR       8\n",
              "PRESIÓN BAJA       8\n",
              "FALLA MOTOR        8\n",
              "GOLPETEA           7\n",
              "FALLA REFRIG       7\n",
              "OTHER              4\n",
              "INOPERATIVO        4\n",
              "ROBADA             3\n",
              "QUEBRADO           2\n",
              "JALA DERECHA       2\n",
              "FALLA TRANS        2\n",
              "NO TRANSMITE       1\n",
              "NO INFLA           1\n",
              "SIN DIESEL         1\n",
              "FALLA GPS          1\n",
              "ACORTADO           1\n",
              "FALLA CHASIS       1\n",
              "PERDIDO            1\n",
              "Name: count, dtype: int64"
            ]
          },
          "execution_count": 171,
          "metadata": {},
          "output_type": "execute_result"
        }
      ],
      "source": [
        "#Analizar los tipos de reparaciones que se realizan a los tractos más comunes\n",
        "data_sayer['COMPLAINT'].value_counts()"
      ]
    },
    {
      "cell_type": "code",
      "execution_count": null,
      "metadata": {
        "colab": {
          "base_uri": "https://localhost:8080/",
          "height": 585
        },
        "id": "xliPvyGhP75b",
        "outputId": "cbebdf1d-fef1-47f6-b4dd-51d056d8f82d"
      },
      "outputs": [
        {
          "data": {
            "application/vnd.google.colaboratory.intrinsic+json": {
              "summary": "{\n  \"name\": \"data_sayer\",\n  \"rows\": 10,\n  \"fields\": [\n    {\n      \"column\": \"OrderID\",\n      \"properties\": {\n        \"dtype\": \"string\",\n        \"num_unique_values\": 10,\n        \"samples\": [\n          \"QRO-00044764\",\n          \"QRO-00042415\",\n          \"QRO-00037483\"\n        ],\n        \"semantic_type\": \"\",\n        \"description\": \"\"\n      }\n    },\n    {\n      \"column\": \"kMS\",\n      \"properties\": {\n        \"dtype\": \"number\",\n        \"std\": 79512.60710303884,\n        \"min\": 402478.0,\n        \"max\": 657913.0,\n        \"num_unique_values\": 6,\n        \"samples\": [\n          510974.0,\n          447773.0,\n          634625.0\n        ],\n        \"semantic_type\": \"\",\n        \"description\": \"\"\n      }\n    },\n    {\n      \"column\": \"lagdias\",\n      \"properties\": {\n        \"dtype\": \"number\",\n        \"std\": 22,\n        \"min\": 0,\n        \"max\": 72,\n        \"num_unique_values\": 8,\n        \"samples\": [\n          1,\n          5,\n          17\n        ],\n        \"semantic_type\": \"\",\n        \"description\": \"\"\n      }\n    },\n    {\n      \"column\": \"laghoras\",\n      \"properties\": {\n        \"dtype\": \"number\",\n        \"std\": 532,\n        \"min\": 1,\n        \"max\": 1733,\n        \"num_unique_values\": 10,\n        \"samples\": [\n          26,\n          25,\n          118\n        ],\n        \"semantic_type\": \"\",\n        \"description\": \"\"\n      }\n    },\n    {\n      \"column\": \"RepReason\",\n      \"properties\": {\n        \"dtype\": \"string\",\n        \"num_unique_values\": 5,\n        \"samples\": [\n          \"OTROS       \",\n          \"PERFORADA   \",\n          \"ALR         \"\n        ],\n        \"semantic_type\": \"\",\n        \"description\": \"\"\n      }\n    },\n    {\n      \"column\": \"TOTAL\",\n      \"properties\": {\n        \"dtype\": \"number\",\n        \"std\": 1629.7509079188212,\n        \"min\": 7.12,\n        \"max\": 4993.2,\n        \"num_unique_values\": 10,\n        \"samples\": [\n          28.64,\n          2707.03,\n          1656.64\n        ],\n        \"semantic_type\": \"\",\n        \"description\": \"\"\n      }\n    },\n    {\n      \"column\": \"UnitID\",\n      \"properties\": {\n        \"dtype\": \"string\",\n        \"num_unique_values\": 8,\n        \"samples\": [\n          \"1800\",\n          \"1805\",\n          \"10191\"\n        ],\n        \"semantic_type\": \"\",\n        \"description\": \"\"\n      }\n    },\n    {\n      \"column\": \"UnitType\",\n      \"properties\": {\n        \"dtype\": \"category\",\n        \"num_unique_values\": 3,\n        \"samples\": [\n          \"TRAILER     \",\n          \"TRACTOR     \",\n          \"DOLLY       \"\n        ],\n        \"semantic_type\": \"\",\n        \"description\": \"\"\n      }\n    },\n    {\n      \"column\": \"UnitYear\",\n      \"properties\": {\n        \"dtype\": \"number\",\n        \"std\": 2,\n        \"min\": 2016,\n        \"max\": 2022,\n        \"num_unique_values\": 3,\n        \"samples\": [\n          2016,\n          2021,\n          2022\n        ],\n        \"semantic_type\": \"\",\n        \"description\": \"\"\n      }\n    },\n    {\n      \"column\": \"Flota\",\n      \"properties\": {\n        \"dtype\": \"category\",\n        \"num_unique_values\": 1,\n        \"samples\": [\n          \"Sayer Full\"\n        ],\n        \"semantic_type\": \"\",\n        \"description\": \"\"\n      }\n    },\n    {\n      \"column\": \"COMPLAINT\",\n      \"properties\": {\n        \"dtype\": \"string\",\n        \"num_unique_values\": 6,\n        \"samples\": [\n          \"PREVENT VENC\"\n        ],\n        \"semantic_type\": \"\",\n        \"description\": \"\"\n      }\n    },\n    {\n      \"column\": \"TipoLinea\",\n      \"properties\": {\n        \"dtype\": \"category\",\n        \"num_unique_values\": 2,\n        \"samples\": [\n          \"SERVICES    \"\n        ],\n        \"semantic_type\": \"\",\n        \"description\": \"\"\n      }\n    },\n    {\n      \"column\": \"NumParte\",\n      \"properties\": {\n        \"dtype\": \"string\",\n        \"num_unique_values\": 8,\n        \"samples\": [\n          \"2515573C1\"\n        ],\n        \"semantic_type\": \"\",\n        \"description\": \"\"\n      }\n    },\n    {\n      \"column\": \"CITA\",\n      \"properties\": {\n        \"dtype\": \"category\",\n        \"num_unique_values\": 3,\n        \"samples\": [\n          \"SIN CITA    \"\n        ],\n        \"semantic_type\": \"\",\n        \"description\": \"\"\n      }\n    },\n    {\n      \"column\": \"Falla carretera\",\n      \"properties\": {\n        \"dtype\": \"number\",\n        \"std\": 0,\n        \"min\": 0,\n        \"max\": 1,\n        \"num_unique_values\": 2,\n        \"samples\": [\n          1\n        ],\n        \"semantic_type\": \"\",\n        \"description\": \"\"\n      }\n    }\n  ]\n}",
              "type": "dataframe"
            },
            "text/html": [
              "\n",
              "  <div id=\"df-38212728-fb6b-4055-8843-13401acc86cb\" class=\"colab-df-container\">\n",
              "    <div>\n",
              "<style scoped>\n",
              "    .dataframe tbody tr th:only-of-type {\n",
              "        vertical-align: middle;\n",
              "    }\n",
              "\n",
              "    .dataframe tbody tr th {\n",
              "        vertical-align: top;\n",
              "    }\n",
              "\n",
              "    .dataframe thead th {\n",
              "        text-align: right;\n",
              "    }\n",
              "</style>\n",
              "<table border=\"1\" class=\"dataframe\">\n",
              "  <thead>\n",
              "    <tr style=\"text-align: right;\">\n",
              "      <th></th>\n",
              "      <th>kMS</th>\n",
              "      <th>lagdias</th>\n",
              "      <th>laghoras</th>\n",
              "      <th>RepReason</th>\n",
              "      <th>TOTAL</th>\n",
              "      <th>UnitID</th>\n",
              "      <th>UnitType</th>\n",
              "      <th>UnitYear</th>\n",
              "      <th>Flota</th>\n",
              "      <th>COMPLAINT</th>\n",
              "      <th>TipoLinea</th>\n",
              "      <th>NumParte</th>\n",
              "      <th>CITA</th>\n",
              "      <th>Falla carretera</th>\n",
              "    </tr>\n",
              "    <tr>\n",
              "      <th>OrderID</th>\n",
              "      <th></th>\n",
              "      <th></th>\n",
              "      <th></th>\n",
              "      <th></th>\n",
              "      <th></th>\n",
              "      <th></th>\n",
              "      <th></th>\n",
              "      <th></th>\n",
              "      <th></th>\n",
              "      <th></th>\n",
              "      <th></th>\n",
              "      <th></th>\n",
              "      <th></th>\n",
              "      <th></th>\n",
              "    </tr>\n",
              "  </thead>\n",
              "  <tbody>\n",
              "    <tr>\n",
              "      <th>MEX-00033390</th>\n",
              "      <td>510974.0</td>\n",
              "      <td>17</td>\n",
              "      <td>415</td>\n",
              "      <td>PM</td>\n",
              "      <td>4993.20</td>\n",
              "      <td>10191</td>\n",
              "      <td>TRAILER</td>\n",
              "      <td>2016</td>\n",
              "      <td>Sayer Full</td>\n",
              "      <td>PREVENT VENC</td>\n",
              "      <td>PART</td>\n",
              "      <td>6331</td>\n",
              "      <td>SIN CITA</td>\n",
              "      <td>0</td>\n",
              "    </tr>\n",
              "    <tr>\n",
              "      <th>QRO-00042415</th>\n",
              "      <td>447773.0</td>\n",
              "      <td>1</td>\n",
              "      <td>25</td>\n",
              "      <td>OTROS</td>\n",
              "      <td>2707.03</td>\n",
              "      <td>1800</td>\n",
              "      <td>TRACTOR</td>\n",
              "      <td>2021</td>\n",
              "      <td>Sayer Full</td>\n",
              "      <td>PM</td>\n",
              "      <td>PART</td>\n",
              "      <td>2515573C1</td>\n",
              "      <td>SIN CITA</td>\n",
              "      <td>1</td>\n",
              "    </tr>\n",
              "    <tr>\n",
              "      <th>QRO-00042340</th>\n",
              "      <td>444930.0</td>\n",
              "      <td>4</td>\n",
              "      <td>94</td>\n",
              "      <td>ALR</td>\n",
              "      <td>13.51</td>\n",
              "      <td>1800</td>\n",
              "      <td>TRACTOR</td>\n",
              "      <td>2021</td>\n",
              "      <td>Sayer Full</td>\n",
              "      <td>DESBALANCE</td>\n",
              "      <td>PART</td>\n",
              "      <td>10116002 (PZA)</td>\n",
              "      <td>SIN CITA</td>\n",
              "      <td>1</td>\n",
              "    </tr>\n",
              "    <tr>\n",
              "      <th>QRO-00045391</th>\n",
              "      <td>510974.0</td>\n",
              "      <td>23</td>\n",
              "      <td>554</td>\n",
              "      <td>OTROS</td>\n",
              "      <td>7.12</td>\n",
              "      <td>D-2172</td>\n",
              "      <td>DOLLY</td>\n",
              "      <td>2022</td>\n",
              "      <td>Sayer Full</td>\n",
              "      <td>PM</td>\n",
              "      <td>PART</td>\n",
              "      <td>RFSEG221</td>\n",
              "      <td>SIN CITA</td>\n",
              "      <td>1</td>\n",
              "    </tr>\n",
              "    <tr>\n",
              "      <th>SAAP-0007190</th>\n",
              "      <td>510974.0</td>\n",
              "      <td>6</td>\n",
              "      <td>152</td>\n",
              "      <td>OTROS</td>\n",
              "      <td>1300.00</td>\n",
              "      <td>D-2170</td>\n",
              "      <td>DOLLY</td>\n",
              "      <td>2022</td>\n",
              "      <td>Sayer Full</td>\n",
              "      <td>CORREC DOLLY</td>\n",
              "      <td>SERVICES</td>\n",
              "      <td>DESCONOCIDO</td>\n",
              "      <td>SIN CITA</td>\n",
              "      <td>1</td>\n",
              "    </tr>\n",
              "    <tr>\n",
              "      <th>QRO-00037483</th>\n",
              "      <td>402478.0</td>\n",
              "      <td>5</td>\n",
              "      <td>118</td>\n",
              "      <td>PM</td>\n",
              "      <td>1656.64</td>\n",
              "      <td>1801</td>\n",
              "      <td>TRACTOR</td>\n",
              "      <td>2021</td>\n",
              "      <td>Sayer Full</td>\n",
              "      <td>PM</td>\n",
              "      <td>PART</td>\n",
              "      <td>CHR 47691</td>\n",
              "      <td>SIN CITA</td>\n",
              "      <td>1</td>\n",
              "    </tr>\n",
              "    <tr>\n",
              "      <th>QRO-00042942</th>\n",
              "      <td>657913.0</td>\n",
              "      <td>0</td>\n",
              "      <td>9</td>\n",
              "      <td>PM</td>\n",
              "      <td>235.36</td>\n",
              "      <td>1805</td>\n",
              "      <td>TRACTOR</td>\n",
              "      <td>2021</td>\n",
              "      <td>Sayer Full</td>\n",
              "      <td>PREVENT VENC</td>\n",
              "      <td>PART</td>\n",
              "      <td>AS2474</td>\n",
              "      <td>SIN CITA</td>\n",
              "      <td>0</td>\n",
              "    </tr>\n",
              "    <tr>\n",
              "      <th>SAAP-0000773</th>\n",
              "      <td>510974.0</td>\n",
              "      <td>72</td>\n",
              "      <td>1733</td>\n",
              "      <td>PM</td>\n",
              "      <td>185.22</td>\n",
              "      <td>10196</td>\n",
              "      <td>TRAILER</td>\n",
              "      <td>2016</td>\n",
              "      <td>Sayer Full</td>\n",
              "      <td>PM</td>\n",
              "      <td>SERVICES</td>\n",
              "      <td>DESCONOCIDO</td>\n",
              "      <td>CON CITA</td>\n",
              "      <td>1</td>\n",
              "    </tr>\n",
              "    <tr>\n",
              "      <th>QRO-00044764</th>\n",
              "      <td>634625.0</td>\n",
              "      <td>1</td>\n",
              "      <td>26</td>\n",
              "      <td>MC</td>\n",
              "      <td>28.64</td>\n",
              "      <td>1799</td>\n",
              "      <td>TRACTOR</td>\n",
              "      <td>2021</td>\n",
              "      <td>Sayer Full</td>\n",
              "      <td>CORRECTIVO</td>\n",
              "      <td>PART</td>\n",
              "      <td>HS-24</td>\n",
              "      <td>EXPRES</td>\n",
              "      <td>1</td>\n",
              "    </tr>\n",
              "    <tr>\n",
              "      <th>TA-000018688</th>\n",
              "      <td>510974.0</td>\n",
              "      <td>0</td>\n",
              "      <td>1</td>\n",
              "      <td>PERFORADA</td>\n",
              "      <td>250.00</td>\n",
              "      <td>D-2170</td>\n",
              "      <td>DOLLY</td>\n",
              "      <td>2022</td>\n",
              "      <td>Sayer Full</td>\n",
              "      <td>REP LLANTA</td>\n",
              "      <td>SERVICES</td>\n",
              "      <td>DESCONOCIDO</td>\n",
              "      <td>SIN CITA</td>\n",
              "      <td>1</td>\n",
              "    </tr>\n",
              "  </tbody>\n",
              "</table>\n",
              "</div>\n",
              "    <div class=\"colab-df-buttons\">\n",
              "\n",
              "  <div class=\"colab-df-container\">\n",
              "    <button class=\"colab-df-convert\" onclick=\"convertToInteractive('df-38212728-fb6b-4055-8843-13401acc86cb')\"\n",
              "            title=\"Convert this dataframe to an interactive table.\"\n",
              "            style=\"display:none;\">\n",
              "\n",
              "  <svg xmlns=\"http://www.w3.org/2000/svg\" height=\"24px\" viewBox=\"0 -960 960 960\">\n",
              "    <path d=\"M120-120v-720h720v720H120Zm60-500h600v-160H180v160Zm220 220h160v-160H400v160Zm0 220h160v-160H400v160ZM180-400h160v-160H180v160Zm440 0h160v-160H620v160ZM180-180h160v-160H180v160Zm440 0h160v-160H620v160Z\"/>\n",
              "  </svg>\n",
              "    </button>\n",
              "\n",
              "  <style>\n",
              "    .colab-df-container {\n",
              "      display:flex;\n",
              "      gap: 12px;\n",
              "    }\n",
              "\n",
              "    .colab-df-convert {\n",
              "      background-color: #E8F0FE;\n",
              "      border: none;\n",
              "      border-radius: 50%;\n",
              "      cursor: pointer;\n",
              "      display: none;\n",
              "      fill: #1967D2;\n",
              "      height: 32px;\n",
              "      padding: 0 0 0 0;\n",
              "      width: 32px;\n",
              "    }\n",
              "\n",
              "    .colab-df-convert:hover {\n",
              "      background-color: #E2EBFA;\n",
              "      box-shadow: 0px 1px 2px rgba(60, 64, 67, 0.3), 0px 1px 3px 1px rgba(60, 64, 67, 0.15);\n",
              "      fill: #174EA6;\n",
              "    }\n",
              "\n",
              "    .colab-df-buttons div {\n",
              "      margin-bottom: 4px;\n",
              "    }\n",
              "\n",
              "    [theme=dark] .colab-df-convert {\n",
              "      background-color: #3B4455;\n",
              "      fill: #D2E3FC;\n",
              "    }\n",
              "\n",
              "    [theme=dark] .colab-df-convert:hover {\n",
              "      background-color: #434B5C;\n",
              "      box-shadow: 0px 1px 3px 1px rgba(0, 0, 0, 0.15);\n",
              "      filter: drop-shadow(0px 1px 2px rgba(0, 0, 0, 0.3));\n",
              "      fill: #FFFFFF;\n",
              "    }\n",
              "  </style>\n",
              "\n",
              "    <script>\n",
              "      const buttonEl =\n",
              "        document.querySelector('#df-38212728-fb6b-4055-8843-13401acc86cb button.colab-df-convert');\n",
              "      buttonEl.style.display =\n",
              "        google.colab.kernel.accessAllowed ? 'block' : 'none';\n",
              "\n",
              "      async function convertToInteractive(key) {\n",
              "        const element = document.querySelector('#df-38212728-fb6b-4055-8843-13401acc86cb');\n",
              "        const dataTable =\n",
              "          await google.colab.kernel.invokeFunction('convertToInteractive',\n",
              "                                                    [key], {});\n",
              "        if (!dataTable) return;\n",
              "\n",
              "        const docLinkHtml = 'Like what you see? Visit the ' +\n",
              "          '<a target=\"_blank\" href=https://colab.research.google.com/notebooks/data_table.ipynb>data table notebook</a>'\n",
              "          + ' to learn more about interactive tables.';\n",
              "        element.innerHTML = '';\n",
              "        dataTable['output_type'] = 'display_data';\n",
              "        await google.colab.output.renderOutput(dataTable, element);\n",
              "        const docLink = document.createElement('div');\n",
              "        docLink.innerHTML = docLinkHtml;\n",
              "        element.appendChild(docLink);\n",
              "      }\n",
              "    </script>\n",
              "  </div>\n",
              "\n",
              "\n",
              "<div id=\"df-65714a82-d940-4388-8334-975cba0b426d\">\n",
              "  <button class=\"colab-df-quickchart\" onclick=\"quickchart('df-65714a82-d940-4388-8334-975cba0b426d')\"\n",
              "            title=\"Suggest charts\"\n",
              "            style=\"display:none;\">\n",
              "\n",
              "<svg xmlns=\"http://www.w3.org/2000/svg\" height=\"24px\"viewBox=\"0 0 24 24\"\n",
              "     width=\"24px\">\n",
              "    <g>\n",
              "        <path d=\"M19 3H5c-1.1 0-2 .9-2 2v14c0 1.1.9 2 2 2h14c1.1 0 2-.9 2-2V5c0-1.1-.9-2-2-2zM9 17H7v-7h2v7zm4 0h-2V7h2v10zm4 0h-2v-4h2v4z\"/>\n",
              "    </g>\n",
              "</svg>\n",
              "  </button>\n",
              "\n",
              "<style>\n",
              "  .colab-df-quickchart {\n",
              "      --bg-color: #E8F0FE;\n",
              "      --fill-color: #1967D2;\n",
              "      --hover-bg-color: #E2EBFA;\n",
              "      --hover-fill-color: #174EA6;\n",
              "      --disabled-fill-color: #AAA;\n",
              "      --disabled-bg-color: #DDD;\n",
              "  }\n",
              "\n",
              "  [theme=dark] .colab-df-quickchart {\n",
              "      --bg-color: #3B4455;\n",
              "      --fill-color: #D2E3FC;\n",
              "      --hover-bg-color: #434B5C;\n",
              "      --hover-fill-color: #FFFFFF;\n",
              "      --disabled-bg-color: #3B4455;\n",
              "      --disabled-fill-color: #666;\n",
              "  }\n",
              "\n",
              "  .colab-df-quickchart {\n",
              "    background-color: var(--bg-color);\n",
              "    border: none;\n",
              "    border-radius: 50%;\n",
              "    cursor: pointer;\n",
              "    display: none;\n",
              "    fill: var(--fill-color);\n",
              "    height: 32px;\n",
              "    padding: 0;\n",
              "    width: 32px;\n",
              "  }\n",
              "\n",
              "  .colab-df-quickchart:hover {\n",
              "    background-color: var(--hover-bg-color);\n",
              "    box-shadow: 0 1px 2px rgba(60, 64, 67, 0.3), 0 1px 3px 1px rgba(60, 64, 67, 0.15);\n",
              "    fill: var(--button-hover-fill-color);\n",
              "  }\n",
              "\n",
              "  .colab-df-quickchart-complete:disabled,\n",
              "  .colab-df-quickchart-complete:disabled:hover {\n",
              "    background-color: var(--disabled-bg-color);\n",
              "    fill: var(--disabled-fill-color);\n",
              "    box-shadow: none;\n",
              "  }\n",
              "\n",
              "  .colab-df-spinner {\n",
              "    border: 2px solid var(--fill-color);\n",
              "    border-color: transparent;\n",
              "    border-bottom-color: var(--fill-color);\n",
              "    animation:\n",
              "      spin 1s steps(1) infinite;\n",
              "  }\n",
              "\n",
              "  @keyframes spin {\n",
              "    0% {\n",
              "      border-color: transparent;\n",
              "      border-bottom-color: var(--fill-color);\n",
              "      border-left-color: var(--fill-color);\n",
              "    }\n",
              "    20% {\n",
              "      border-color: transparent;\n",
              "      border-left-color: var(--fill-color);\n",
              "      border-top-color: var(--fill-color);\n",
              "    }\n",
              "    30% {\n",
              "      border-color: transparent;\n",
              "      border-left-color: var(--fill-color);\n",
              "      border-top-color: var(--fill-color);\n",
              "      border-right-color: var(--fill-color);\n",
              "    }\n",
              "    40% {\n",
              "      border-color: transparent;\n",
              "      border-right-color: var(--fill-color);\n",
              "      border-top-color: var(--fill-color);\n",
              "    }\n",
              "    60% {\n",
              "      border-color: transparent;\n",
              "      border-right-color: var(--fill-color);\n",
              "    }\n",
              "    80% {\n",
              "      border-color: transparent;\n",
              "      border-right-color: var(--fill-color);\n",
              "      border-bottom-color: var(--fill-color);\n",
              "    }\n",
              "    90% {\n",
              "      border-color: transparent;\n",
              "      border-bottom-color: var(--fill-color);\n",
              "    }\n",
              "  }\n",
              "</style>\n",
              "\n",
              "  <script>\n",
              "    async function quickchart(key) {\n",
              "      const quickchartButtonEl =\n",
              "        document.querySelector('#' + key + ' button');\n",
              "      quickchartButtonEl.disabled = true;  // To prevent multiple clicks.\n",
              "      quickchartButtonEl.classList.add('colab-df-spinner');\n",
              "      try {\n",
              "        const charts = await google.colab.kernel.invokeFunction(\n",
              "            'suggestCharts', [key], {});\n",
              "      } catch (error) {\n",
              "        console.error('Error during call to suggestCharts:', error);\n",
              "      }\n",
              "      quickchartButtonEl.classList.remove('colab-df-spinner');\n",
              "      quickchartButtonEl.classList.add('colab-df-quickchart-complete');\n",
              "    }\n",
              "    (() => {\n",
              "      let quickchartButtonEl =\n",
              "        document.querySelector('#df-65714a82-d940-4388-8334-975cba0b426d button');\n",
              "      quickchartButtonEl.style.display =\n",
              "        google.colab.kernel.accessAllowed ? 'block' : 'none';\n",
              "    })();\n",
              "  </script>\n",
              "</div>\n",
              "\n",
              "    </div>\n",
              "  </div>\n"
            ],
            "text/plain": [
              "                   kMS  lagdias  laghoras     RepReason    TOTAL  UnitID  \\\n",
              "OrderID                                                                    \n",
              "MEX-00033390  510974.0       17       415  PM            4993.20   10191   \n",
              "QRO-00042415  447773.0        1        25  OTROS         2707.03    1800   \n",
              "QRO-00042340  444930.0        4        94  ALR             13.51    1800   \n",
              "QRO-00045391  510974.0       23       554  OTROS            7.12  D-2172   \n",
              "SAAP-0007190  510974.0        6       152  OTROS         1300.00  D-2170   \n",
              "QRO-00037483  402478.0        5       118  PM            1656.64    1801   \n",
              "QRO-00042942  657913.0        0         9  PM             235.36    1805   \n",
              "SAAP-0000773  510974.0       72      1733  PM             185.22   10196   \n",
              "QRO-00044764  634625.0        1        26  MC              28.64    1799   \n",
              "TA-000018688  510974.0        0         1  PERFORADA      250.00  D-2170   \n",
              "\n",
              "                  UnitType  UnitYear       Flota     COMPLAINT     TipoLinea  \\\n",
              "OrderID                                                                        \n",
              "MEX-00033390  TRAILER           2016  Sayer Full  PREVENT VENC  PART           \n",
              "QRO-00042415  TRACTOR           2021  Sayer Full  PM            PART           \n",
              "QRO-00042340  TRACTOR           2021  Sayer Full  DESBALANCE    PART           \n",
              "QRO-00045391  DOLLY             2022  Sayer Full  PM            PART           \n",
              "SAAP-0007190  DOLLY             2022  Sayer Full  CORREC DOLLY  SERVICES       \n",
              "QRO-00037483  TRACTOR           2021  Sayer Full  PM            PART           \n",
              "QRO-00042942  TRACTOR           2021  Sayer Full  PREVENT VENC  PART           \n",
              "SAAP-0000773  TRAILER           2016  Sayer Full  PM            SERVICES       \n",
              "QRO-00044764  TRACTOR           2021  Sayer Full  CORRECTIVO    PART           \n",
              "TA-000018688  DOLLY             2022  Sayer Full  REP LLANTA    SERVICES       \n",
              "\n",
              "                    NumParte          CITA  Falla carretera  \n",
              "OrderID                                                      \n",
              "MEX-00033390            6331  SIN CITA                    0  \n",
              "QRO-00042415       2515573C1  SIN CITA                    1  \n",
              "QRO-00042340  10116002 (PZA)  SIN CITA                    1  \n",
              "QRO-00045391        RFSEG221  SIN CITA                    1  \n",
              "SAAP-0007190     DESCONOCIDO  SIN CITA                    1  \n",
              "QRO-00037483       CHR 47691  SIN CITA                    1  \n",
              "QRO-00042942          AS2474  SIN CITA                    0  \n",
              "SAAP-0000773     DESCONOCIDO  CON CITA                    1  \n",
              "QRO-00044764           HS-24  EXPRES                      1  \n",
              "TA-000018688     DESCONOCIDO  SIN CITA                    1  "
            ]
          },
          "execution_count": 130,
          "metadata": {},
          "output_type": "execute_result"
        }
      ],
      "source": [
        "# Añadir una nueva columna para identificar claramente los casos de auxilio en carretera\n",
        "data_sayer['Falla carretera'] = 1\n",
        "\n",
        "# Establecer en 'COMPLAINT' = 0 si se refiere a un mantenimiento predictivo o no está claro (otros)\n",
        "#   de lo contrario devolver valor 1, ya que se asocia a una operación en carretera\n",
        "data_sayer.loc[data_sayer['COMPLAINT'].isin(['PM', 'PREVENT VENC', 'OTROS', 'OTHER']), 'Falla carretera'] = 0\n",
        "data_sayer.sample(10)"
      ]
    },
    {
      "cell_type": "code",
      "execution_count": null,
      "metadata": {
        "colab": {
          "base_uri": "https://localhost:8080/",
          "height": 178
        },
        "id": "4uUISeMVP-pT",
        "outputId": "66f40d97-2084-4dce-e894-69f661659091"
      },
      "outputs": [
        {
          "data": {
            "text/html": [
              "<div>\n",
              "<style scoped>\n",
              "    .dataframe tbody tr th:only-of-type {\n",
              "        vertical-align: middle;\n",
              "    }\n",
              "\n",
              "    .dataframe tbody tr th {\n",
              "        vertical-align: top;\n",
              "    }\n",
              "\n",
              "    .dataframe thead th {\n",
              "        text-align: right;\n",
              "    }\n",
              "</style>\n",
              "<table border=\"1\" class=\"dataframe\">\n",
              "  <thead>\n",
              "    <tr style=\"text-align: right;\">\n",
              "      <th></th>\n",
              "      <th>Falla carretera</th>\n",
              "    </tr>\n",
              "    <tr>\n",
              "      <th>Falla carretera</th>\n",
              "      <th></th>\n",
              "    </tr>\n",
              "  </thead>\n",
              "  <tbody>\n",
              "    <tr>\n",
              "      <th>0</th>\n",
              "      <td>1049</td>\n",
              "    </tr>\n",
              "    <tr>\n",
              "      <th>1</th>\n",
              "      <td>4964</td>\n",
              "    </tr>\n",
              "  </tbody>\n",
              "</table>\n",
              "</div><br><label><b>dtype:</b> int64</label>"
            ],
            "text/plain": [
              "Falla carretera\n",
              "0    1049\n",
              "1    4964\n",
              "Name: Falla carretera, dtype: int64"
            ]
          },
          "execution_count": 131,
          "metadata": {},
          "output_type": "execute_result"
        }
      ],
      "source": [
        "# ¿Cuántos rescates en carretera se han realizado?\n",
        "# 0 = Mantenimiento predictivo\n",
        "# 1 = Rescate carretero\n",
        "data_sayer.groupby('Falla carretera')['Falla carretera'].count()"
      ]
    },
    {
      "cell_type": "code",
      "execution_count": null,
      "metadata": {
        "id": "aiGO_byPo-jh"
      },
      "outputs": [],
      "source": [
        "#Contar el total de incidentes de mantenimiento\n",
        "data_sayer['COMPLAINT'].value_counts()"
      ]
    },
    {
      "cell_type": "code",
      "execution_count": null,
      "metadata": {
        "colab": {
          "base_uri": "https://localhost:8080/"
        },
        "id": "Mdg7Co9DQBY9",
        "outputId": "85446b3e-d7af-4e6f-8077-de94a9540778"
      },
      "outputs": [
        {
          "name": "stdout",
          "output_type": "stream",
          "text": [
            "Los rescates en carretera representan el 82.55 por ciento \n",
            "de todas las operaciones de mantenimiento.\n"
          ]
        }
      ],
      "source": [
        "#¿Qué porcentaje representan los rescates en carretera respecto a todas las operaciones de mantenimiento?\n",
        "percent = data_sayer.groupby('Falla carretera')['Falla carretera'].count() / data_sayer.shape[0] * 100\n",
        "\n",
        "# Convertir los valores a una lista y extraer el valor obtenido en percent (index 1)\n",
        "percent = percent.tolist()[1]\n",
        "\n",
        "print(\"Los rescates en carretera representan el %.2f por ciento \\nde todas las operaciones de mantenimiento.\" % percent)"
      ]
    },
    {
      "cell_type": "markdown",
      "metadata": {
        "id": "Gvs0_EcJ9Yga"
      },
      "source": [
        "## Discretización o binning\n",
        "Reagrupar atributos de alta cardinalidad mediante los metodos descritos"
      ]
    },
    {
      "cell_type": "code",
      "execution_count": null,
      "metadata": {
        "colab": {
          "base_uri": "https://localhost:8080/"
        },
        "id": "X-xlrHcfXhCg",
        "outputId": "37869d3f-a1ed-42ab-dda1-a55e0326394f"
      },
      "outputs": [
        {
          "data": {
            "text/plain": [
              "array([1.000e+00, 1.800e+01, 9.500e+01, 2.183e+03])"
            ]
          },
          "execution_count": 133,
          "metadata": {},
          "output_type": "execute_result"
        }
      ],
      "source": [
        "#Elegimos el metodo de discretizacion qcut ya que no tenemos rangos bien definidos\n",
        "#de manera que con este metodo dividimos las variables en intervalos iguales,\n",
        "#a lo cual tomamos 3 criterios, Reparacion_rapida, Reparacion_Normal y\n",
        "#Reparacion_lenta con la finalidad de hacer mas descriptiva la variable de horas\n",
        "# y tener nocion si la reparacion tomo demasiado tiempo o fue muy lenta\n",
        "#Decidimos eligir la variable de horas, porque al analizar esta variable, observamos\n",
        "#que es mas exacta que la variable dias, ya que esta ultima son dias enteros.\n",
        "\n",
        "data_sayer['Clasif_rep'], cut_bin = pd.qcut(x=data_sayer['laghoras'],\n",
        "                                    q=3,\n",
        "                                    labels=['Reparacion_rapida','Reparacion_Normal','Reparacion_lenta'],\n",
        "                                    retbins=True)\n",
        "cut_bin"
      ]
    },
    {
      "cell_type": "code",
      "execution_count": null,
      "metadata": {
        "colab": {
          "base_uri": "https://localhost:8080/",
          "height": 209
        },
        "id": "nLtd8_YDXnVp",
        "outputId": "a131852f-6806-4884-ddc3-cdf83028babd"
      },
      "outputs": [
        {
          "data": {
            "text/html": [
              "<div>\n",
              "<style scoped>\n",
              "    .dataframe tbody tr th:only-of-type {\n",
              "        vertical-align: middle;\n",
              "    }\n",
              "\n",
              "    .dataframe tbody tr th {\n",
              "        vertical-align: top;\n",
              "    }\n",
              "\n",
              "    .dataframe thead th {\n",
              "        text-align: right;\n",
              "    }\n",
              "</style>\n",
              "<table border=\"1\" class=\"dataframe\">\n",
              "  <thead>\n",
              "    <tr style=\"text-align: right;\">\n",
              "      <th></th>\n",
              "      <th>count</th>\n",
              "    </tr>\n",
              "    <tr>\n",
              "      <th>Clasif_rep</th>\n",
              "      <th></th>\n",
              "    </tr>\n",
              "  </thead>\n",
              "  <tbody>\n",
              "    <tr>\n",
              "      <th>Reparacion_rapida</th>\n",
              "      <td>2036</td>\n",
              "    </tr>\n",
              "    <tr>\n",
              "      <th>Reparacion_Normal</th>\n",
              "      <td>2022</td>\n",
              "    </tr>\n",
              "    <tr>\n",
              "      <th>Reparacion_lenta</th>\n",
              "      <td>1955</td>\n",
              "    </tr>\n",
              "  </tbody>\n",
              "</table>\n",
              "</div><br><label><b>dtype:</b> int64</label>"
            ],
            "text/plain": [
              "Clasif_rep\n",
              "Reparacion_rapida    2036\n",
              "Reparacion_Normal    2022\n",
              "Reparacion_lenta     1955\n",
              "Name: count, dtype: int64"
            ]
          },
          "execution_count": 134,
          "metadata": {},
          "output_type": "execute_result"
        }
      ],
      "source": [
        "data_sayer['Clasif_rep'].value_counts()\n",
        "#Observamos que lo dividio casi exactamente en 3 partes iguales"
      ]
    },
    {
      "cell_type": "code",
      "execution_count": null,
      "metadata": {
        "colab": {
          "base_uri": "https://localhost:8080/"
        },
        "id": "ttrz2LjlXtEp",
        "outputId": "f9f9c869-9bb2-49af-e92a-33cfdea9bfff"
      },
      "outputs": [
        {
          "data": {
            "text/plain": [
              "array([9.000000e-02, 1.242000e+02, 6.360300e+02, 2.815622e+04])"
            ]
          },
          "execution_count": 135,
          "metadata": {},
          "output_type": "execute_result"
        }
      ],
      "source": [
        "#Similar al caso anterior, al no tener unos rangos bien definidos,\n",
        "#nos decidimos por el metodo de qcut para dividirlo en 3 partes,Costo_bajo\n",
        "# Costo_normal, Costo_elevado .\n",
        "\n",
        "data_sayer['Clasif_costo'], cut_bin = pd.qcut(x=data_sayer['TOTAL'],\n",
        "                                    q=3,\n",
        "                                    labels=['Costo_bajo','Costo_normal','Costo_elevado'],\n",
        "                                    retbins=True)\n",
        "cut_bin"
      ]
    },
    {
      "cell_type": "code",
      "execution_count": null,
      "metadata": {
        "colab": {
          "base_uri": "https://localhost:8080/",
          "height": 209
        },
        "id": "pi10uqzSXvQ3",
        "outputId": "f3d6dc22-291a-4368-e3ef-b32d919b7fa7"
      },
      "outputs": [
        {
          "data": {
            "text/html": [
              "<div>\n",
              "<style scoped>\n",
              "    .dataframe tbody tr th:only-of-type {\n",
              "        vertical-align: middle;\n",
              "    }\n",
              "\n",
              "    .dataframe tbody tr th {\n",
              "        vertical-align: top;\n",
              "    }\n",
              "\n",
              "    .dataframe thead th {\n",
              "        text-align: right;\n",
              "    }\n",
              "</style>\n",
              "<table border=\"1\" class=\"dataframe\">\n",
              "  <thead>\n",
              "    <tr style=\"text-align: right;\">\n",
              "      <th></th>\n",
              "      <th>count</th>\n",
              "    </tr>\n",
              "    <tr>\n",
              "      <th>Clasif_costo</th>\n",
              "      <th></th>\n",
              "    </tr>\n",
              "  </thead>\n",
              "  <tbody>\n",
              "    <tr>\n",
              "      <th>Costo_normal</th>\n",
              "      <td>2006</td>\n",
              "    </tr>\n",
              "    <tr>\n",
              "      <th>Costo_bajo</th>\n",
              "      <td>2005</td>\n",
              "    </tr>\n",
              "    <tr>\n",
              "      <th>Costo_elevado</th>\n",
              "      <td>2002</td>\n",
              "    </tr>\n",
              "  </tbody>\n",
              "</table>\n",
              "</div><br><label><b>dtype:</b> int64</label>"
            ],
            "text/plain": [
              "Clasif_costo\n",
              "Costo_normal     2006\n",
              "Costo_bajo       2005\n",
              "Costo_elevado    2002\n",
              "Name: count, dtype: int64"
            ]
          },
          "execution_count": 136,
          "metadata": {},
          "output_type": "execute_result"
        }
      ],
      "source": [
        "data_sayer['Clasif_costo'].value_counts()"
      ]
    },
    {
      "cell_type": "markdown",
      "metadata": {
        "id": "U0y0z1Mb9f5G"
      },
      "source": [
        "## One-hot encoding\n",
        "Para las variables **categóricas** que consideren necesarias."
      ]
    },
    {
      "cell_type": "code",
      "execution_count": null,
      "metadata": {
        "colab": {
          "base_uri": "https://localhost:8080/"
        },
        "id": "_Nr5OfzNX1hr",
        "outputId": "7a7c5efd-d18b-43a2-9ad2-4eef3f818a43"
      },
      "outputs": [
        {
          "name": "stdout",
          "output_type": "stream",
          "text": [
            "['SIN CITA', 'CON CITA', 'EXPRES', '', 'CITA TARDE', 'CITA A TIEMP']\n"
          ]
        }
      ],
      "source": [
        "data_sayer['CITA'] = data_sayer['CITA'].str.strip()\n",
        "print(list(data_sayer['CITA'].value_counts().index))"
      ]
    },
    {
      "cell_type": "code",
      "execution_count": null,
      "metadata": {
        "id": "OEBMDAZ4X5It"
      },
      "outputs": [],
      "source": [
        "data_sayer['CITA'].replace([''], 'DESCONOCIDO', inplace=True)"
      ]
    },
    {
      "cell_type": "code",
      "execution_count": null,
      "metadata": {
        "colab": {
          "base_uri": "https://localhost:8080/"
        },
        "id": "XASyjCWyX-43",
        "outputId": "f8a51288-2923-42a3-f46a-39d235eddf89"
      },
      "outputs": [
        {
          "name": "stdout",
          "output_type": "stream",
          "text": [
            "Collecting category_encoders\n",
            "  Downloading category_encoders-2.6.3-py2.py3-none-any.whl.metadata (8.0 kB)\n",
            "Requirement already satisfied: numpy>=1.14.0 in /usr/local/lib/python3.10/dist-packages (from category_encoders) (1.26.4)\n",
            "Requirement already satisfied: scikit-learn>=0.20.0 in /usr/local/lib/python3.10/dist-packages (from category_encoders) (1.3.2)\n",
            "Requirement already satisfied: scipy>=1.0.0 in /usr/local/lib/python3.10/dist-packages (from category_encoders) (1.13.1)\n",
            "Requirement already satisfied: statsmodels>=0.9.0 in /usr/local/lib/python3.10/dist-packages (from category_encoders) (0.14.2)\n",
            "Requirement already satisfied: pandas>=1.0.5 in /usr/local/lib/python3.10/dist-packages (from category_encoders) (2.1.4)\n",
            "Requirement already satisfied: patsy>=0.5.1 in /usr/local/lib/python3.10/dist-packages (from category_encoders) (0.5.6)\n",
            "Requirement already satisfied: python-dateutil>=2.8.2 in /usr/local/lib/python3.10/dist-packages (from pandas>=1.0.5->category_encoders) (2.8.2)\n",
            "Requirement already satisfied: pytz>=2020.1 in /usr/local/lib/python3.10/dist-packages (from pandas>=1.0.5->category_encoders) (2024.2)\n",
            "Requirement already satisfied: tzdata>=2022.1 in /usr/local/lib/python3.10/dist-packages (from pandas>=1.0.5->category_encoders) (2024.1)\n",
            "Requirement already satisfied: six in /usr/local/lib/python3.10/dist-packages (from patsy>=0.5.1->category_encoders) (1.16.0)\n",
            "Requirement already satisfied: joblib>=1.1.1 in /usr/local/lib/python3.10/dist-packages (from scikit-learn>=0.20.0->category_encoders) (1.4.2)\n",
            "Requirement already satisfied: threadpoolctl>=2.0.0 in /usr/local/lib/python3.10/dist-packages (from scikit-learn>=0.20.0->category_encoders) (3.5.0)\n",
            "Requirement already satisfied: packaging>=21.3 in /usr/local/lib/python3.10/dist-packages (from statsmodels>=0.9.0->category_encoders) (24.1)\n",
            "Downloading category_encoders-2.6.3-py2.py3-none-any.whl (81 kB)\n",
            "\u001b[2K   \u001b[90m━━━━━━━━━━━━━━━━━━━━━━━━━━━━━━━━━━━━━━━━\u001b[0m \u001b[32m81.9/81.9 kB\u001b[0m \u001b[31m2.2 MB/s\u001b[0m eta \u001b[36m0:00:00\u001b[0m\n",
            "\u001b[?25hInstalling collected packages: category_encoders\n",
            "Successfully installed category_encoders-2.6.3\n"
          ]
        }
      ],
      "source": [
        "!pip install category_encoders"
      ]
    },
    {
      "cell_type": "code",
      "execution_count": null,
      "metadata": {
        "colab": {
          "base_uri": "https://localhost:8080/",
          "height": 237
        },
        "id": "JdqmNtgHYA-k",
        "outputId": "9eaf1d97-6993-4d3a-84df-9e0ca6f9cc50"
      },
      "outputs": [
        {
          "data": {
            "application/vnd.google.colaboratory.intrinsic+json": {
              "summary": "{\n  \"name\": \"col_cat\",\n  \"rows\": 6013,\n  \"fields\": [\n    {\n      \"column\": \"OrderID\",\n      \"properties\": {\n        \"dtype\": \"category\",\n        \"num_unique_values\": 1618,\n        \"samples\": [\n          \"MEX-00027195\",\n          \"SAAP-0004429\",\n          \"QRO-00046067\"\n        ],\n        \"semantic_type\": \"\",\n        \"description\": \"\"\n      }\n    },\n    {\n      \"column\": \"RepReason\",\n      \"properties\": {\n        \"dtype\": \"category\",\n        \"num_unique_values\": 50,\n        \"samples\": [\n          \"IN TRACTOR  \",\n          \"MANGUERA-FRE\",\n          \"AMORTIGUADOR\"\n        ],\n        \"semantic_type\": \"\",\n        \"description\": \"\"\n      }\n    },\n    {\n      \"column\": \"UnitID\",\n      \"properties\": {\n        \"dtype\": \"category\",\n        \"num_unique_values\": 51,\n        \"samples\": [\n          \"10197\",\n          \"D-2172\",\n          \"10193\"\n        ],\n        \"semantic_type\": \"\",\n        \"description\": \"\"\n      }\n    },\n    {\n      \"column\": \"UnitType\",\n      \"properties\": {\n        \"dtype\": \"category\",\n        \"num_unique_values\": 3,\n        \"samples\": [\n          \"TRACTOR     \",\n          \"TRAILER     \",\n          \"DOLLY       \"\n        ],\n        \"semantic_type\": \"\",\n        \"description\": \"\"\n      }\n    },\n    {\n      \"column\": \"Flota\",\n      \"properties\": {\n        \"dtype\": \"category\",\n        \"num_unique_values\": 1,\n        \"samples\": [\n          \"Sayer Full\"\n        ],\n        \"semantic_type\": \"\",\n        \"description\": \"\"\n      }\n    },\n    {\n      \"column\": \"COMPLAINT\",\n      \"properties\": {\n        \"dtype\": \"category\",\n        \"num_unique_values\": 43,\n        \"samples\": [\n          \"FALLA GPS   \"\n        ],\n        \"semantic_type\": \"\",\n        \"description\": \"\"\n      }\n    },\n    {\n      \"column\": \"TipoLinea\",\n      \"properties\": {\n        \"dtype\": \"category\",\n        \"num_unique_values\": 3,\n        \"samples\": [\n          \"PART        \"\n        ],\n        \"semantic_type\": \"\",\n        \"description\": \"\"\n      }\n    },\n    {\n      \"column\": \"NumParte\",\n      \"properties\": {\n        \"dtype\": \"category\",\n        \"num_unique_values\": 657,\n        \"samples\": [\n          \"VP_RK-351-A-L\"\n        ],\n        \"semantic_type\": \"\",\n        \"description\": \"\"\n      }\n    },\n    {\n      \"column\": \"CITA\",\n      \"properties\": {\n        \"dtype\": \"category\",\n        \"num_unique_values\": 6,\n        \"samples\": [\n          \"CON CITA\"\n        ],\n        \"semantic_type\": \"\",\n        \"description\": \"\"\n      }\n    },\n    {\n      \"column\": \"Clasif_rep\",\n      \"properties\": {\n        \"dtype\": \"category\",\n        \"num_unique_values\": 3,\n        \"samples\": [\n          \"Reparacion_lenta\"\n        ],\n        \"semantic_type\": \"\",\n        \"description\": \"\"\n      }\n    },\n    {\n      \"column\": \"Clasif_costo\",\n      \"properties\": {\n        \"dtype\": \"category\",\n        \"num_unique_values\": 3,\n        \"samples\": [\n          \"Costo_normal\"\n        ],\n        \"semantic_type\": \"\",\n        \"description\": \"\"\n      }\n    }\n  ]\n}",
              "type": "dataframe",
              "variable_name": "col_cat"
            },
            "text/html": [
              "\n",
              "  <div id=\"df-317bf89c-6443-4ef4-9235-0245130614e9\" class=\"colab-df-container\">\n",
              "    <div>\n",
              "<style scoped>\n",
              "    .dataframe tbody tr th:only-of-type {\n",
              "        vertical-align: middle;\n",
              "    }\n",
              "\n",
              "    .dataframe tbody tr th {\n",
              "        vertical-align: top;\n",
              "    }\n",
              "\n",
              "    .dataframe thead th {\n",
              "        text-align: right;\n",
              "    }\n",
              "</style>\n",
              "<table border=\"1\" class=\"dataframe\">\n",
              "  <thead>\n",
              "    <tr style=\"text-align: right;\">\n",
              "      <th></th>\n",
              "      <th>RepReason</th>\n",
              "      <th>UnitID</th>\n",
              "      <th>UnitType</th>\n",
              "      <th>Flota</th>\n",
              "      <th>COMPLAINT</th>\n",
              "      <th>TipoLinea</th>\n",
              "      <th>NumParte</th>\n",
              "      <th>CITA</th>\n",
              "      <th>Clasif_rep</th>\n",
              "      <th>Clasif_costo</th>\n",
              "    </tr>\n",
              "    <tr>\n",
              "      <th>OrderID</th>\n",
              "      <th></th>\n",
              "      <th></th>\n",
              "      <th></th>\n",
              "      <th></th>\n",
              "      <th></th>\n",
              "      <th></th>\n",
              "      <th></th>\n",
              "      <th></th>\n",
              "      <th></th>\n",
              "      <th></th>\n",
              "    </tr>\n",
              "  </thead>\n",
              "  <tbody>\n",
              "    <tr>\n",
              "      <th>QRO-00032562</th>\n",
              "      <td>MC</td>\n",
              "      <td>1801</td>\n",
              "      <td>TRACTOR</td>\n",
              "      <td>Sayer Full</td>\n",
              "      <td>CORRECTIVO</td>\n",
              "      <td>PART</td>\n",
              "      <td>BO3002200</td>\n",
              "      <td>CON CITA</td>\n",
              "      <td>Reparacion_lenta</td>\n",
              "      <td>Costo_normal</td>\n",
              "    </tr>\n",
              "    <tr>\n",
              "      <th>QRO-00032562</th>\n",
              "      <td>PM</td>\n",
              "      <td>1801</td>\n",
              "      <td>TRACTOR</td>\n",
              "      <td>Sayer Full</td>\n",
              "      <td>PREVENT VENC</td>\n",
              "      <td>PART</td>\n",
              "      <td>LF14001NN</td>\n",
              "      <td>CON CITA</td>\n",
              "      <td>Reparacion_lenta</td>\n",
              "      <td>Costo_normal</td>\n",
              "    </tr>\n",
              "    <tr>\n",
              "      <th>QRO-00032562</th>\n",
              "      <td>PM</td>\n",
              "      <td>1801</td>\n",
              "      <td>TRACTOR</td>\n",
              "      <td>Sayer Full</td>\n",
              "      <td>PREVENT VENC</td>\n",
              "      <td>PART</td>\n",
              "      <td>2510993C2</td>\n",
              "      <td>CON CITA</td>\n",
              "      <td>Reparacion_lenta</td>\n",
              "      <td>Costo_elevado</td>\n",
              "    </tr>\n",
              "    <tr>\n",
              "      <th>QRO-00032562</th>\n",
              "      <td>PM</td>\n",
              "      <td>1801</td>\n",
              "      <td>TRACTOR</td>\n",
              "      <td>Sayer Full</td>\n",
              "      <td>PREVENT VENC</td>\n",
              "      <td>PART</td>\n",
              "      <td>G CHASIS E-LIT GRAMOS</td>\n",
              "      <td>CON CITA</td>\n",
              "      <td>Reparacion_lenta</td>\n",
              "      <td>Costo_normal</td>\n",
              "    </tr>\n",
              "    <tr>\n",
              "      <th>QRO-00032562</th>\n",
              "      <td>PM</td>\n",
              "      <td>1801</td>\n",
              "      <td>TRACTOR</td>\n",
              "      <td>Sayer Full</td>\n",
              "      <td>PREVENT VENC</td>\n",
              "      <td>PART</td>\n",
              "      <td>15W-40</td>\n",
              "      <td>CON CITA</td>\n",
              "      <td>Reparacion_lenta</td>\n",
              "      <td>Costo_elevado</td>\n",
              "    </tr>\n",
              "  </tbody>\n",
              "</table>\n",
              "</div>\n",
              "    <div class=\"colab-df-buttons\">\n",
              "\n",
              "  <div class=\"colab-df-container\">\n",
              "    <button class=\"colab-df-convert\" onclick=\"convertToInteractive('df-317bf89c-6443-4ef4-9235-0245130614e9')\"\n",
              "            title=\"Convert this dataframe to an interactive table.\"\n",
              "            style=\"display:none;\">\n",
              "\n",
              "  <svg xmlns=\"http://www.w3.org/2000/svg\" height=\"24px\" viewBox=\"0 -960 960 960\">\n",
              "    <path d=\"M120-120v-720h720v720H120Zm60-500h600v-160H180v160Zm220 220h160v-160H400v160Zm0 220h160v-160H400v160ZM180-400h160v-160H180v160Zm440 0h160v-160H620v160ZM180-180h160v-160H180v160Zm440 0h160v-160H620v160Z\"/>\n",
              "  </svg>\n",
              "    </button>\n",
              "\n",
              "  <style>\n",
              "    .colab-df-container {\n",
              "      display:flex;\n",
              "      gap: 12px;\n",
              "    }\n",
              "\n",
              "    .colab-df-convert {\n",
              "      background-color: #E8F0FE;\n",
              "      border: none;\n",
              "      border-radius: 50%;\n",
              "      cursor: pointer;\n",
              "      display: none;\n",
              "      fill: #1967D2;\n",
              "      height: 32px;\n",
              "      padding: 0 0 0 0;\n",
              "      width: 32px;\n",
              "    }\n",
              "\n",
              "    .colab-df-convert:hover {\n",
              "      background-color: #E2EBFA;\n",
              "      box-shadow: 0px 1px 2px rgba(60, 64, 67, 0.3), 0px 1px 3px 1px rgba(60, 64, 67, 0.15);\n",
              "      fill: #174EA6;\n",
              "    }\n",
              "\n",
              "    .colab-df-buttons div {\n",
              "      margin-bottom: 4px;\n",
              "    }\n",
              "\n",
              "    [theme=dark] .colab-df-convert {\n",
              "      background-color: #3B4455;\n",
              "      fill: #D2E3FC;\n",
              "    }\n",
              "\n",
              "    [theme=dark] .colab-df-convert:hover {\n",
              "      background-color: #434B5C;\n",
              "      box-shadow: 0px 1px 3px 1px rgba(0, 0, 0, 0.15);\n",
              "      filter: drop-shadow(0px 1px 2px rgba(0, 0, 0, 0.3));\n",
              "      fill: #FFFFFF;\n",
              "    }\n",
              "  </style>\n",
              "\n",
              "    <script>\n",
              "      const buttonEl =\n",
              "        document.querySelector('#df-317bf89c-6443-4ef4-9235-0245130614e9 button.colab-df-convert');\n",
              "      buttonEl.style.display =\n",
              "        google.colab.kernel.accessAllowed ? 'block' : 'none';\n",
              "\n",
              "      async function convertToInteractive(key) {\n",
              "        const element = document.querySelector('#df-317bf89c-6443-4ef4-9235-0245130614e9');\n",
              "        const dataTable =\n",
              "          await google.colab.kernel.invokeFunction('convertToInteractive',\n",
              "                                                    [key], {});\n",
              "        if (!dataTable) return;\n",
              "\n",
              "        const docLinkHtml = 'Like what you see? Visit the ' +\n",
              "          '<a target=\"_blank\" href=https://colab.research.google.com/notebooks/data_table.ipynb>data table notebook</a>'\n",
              "          + ' to learn more about interactive tables.';\n",
              "        element.innerHTML = '';\n",
              "        dataTable['output_type'] = 'display_data';\n",
              "        await google.colab.output.renderOutput(dataTable, element);\n",
              "        const docLink = document.createElement('div');\n",
              "        docLink.innerHTML = docLinkHtml;\n",
              "        element.appendChild(docLink);\n",
              "      }\n",
              "    </script>\n",
              "  </div>\n",
              "\n",
              "\n",
              "<div id=\"df-27e8e0fb-5fa8-4757-808c-6fa15408b55b\">\n",
              "  <button class=\"colab-df-quickchart\" onclick=\"quickchart('df-27e8e0fb-5fa8-4757-808c-6fa15408b55b')\"\n",
              "            title=\"Suggest charts\"\n",
              "            style=\"display:none;\">\n",
              "\n",
              "<svg xmlns=\"http://www.w3.org/2000/svg\" height=\"24px\"viewBox=\"0 0 24 24\"\n",
              "     width=\"24px\">\n",
              "    <g>\n",
              "        <path d=\"M19 3H5c-1.1 0-2 .9-2 2v14c0 1.1.9 2 2 2h14c1.1 0 2-.9 2-2V5c0-1.1-.9-2-2-2zM9 17H7v-7h2v7zm4 0h-2V7h2v10zm4 0h-2v-4h2v4z\"/>\n",
              "    </g>\n",
              "</svg>\n",
              "  </button>\n",
              "\n",
              "<style>\n",
              "  .colab-df-quickchart {\n",
              "      --bg-color: #E8F0FE;\n",
              "      --fill-color: #1967D2;\n",
              "      --hover-bg-color: #E2EBFA;\n",
              "      --hover-fill-color: #174EA6;\n",
              "      --disabled-fill-color: #AAA;\n",
              "      --disabled-bg-color: #DDD;\n",
              "  }\n",
              "\n",
              "  [theme=dark] .colab-df-quickchart {\n",
              "      --bg-color: #3B4455;\n",
              "      --fill-color: #D2E3FC;\n",
              "      --hover-bg-color: #434B5C;\n",
              "      --hover-fill-color: #FFFFFF;\n",
              "      --disabled-bg-color: #3B4455;\n",
              "      --disabled-fill-color: #666;\n",
              "  }\n",
              "\n",
              "  .colab-df-quickchart {\n",
              "    background-color: var(--bg-color);\n",
              "    border: none;\n",
              "    border-radius: 50%;\n",
              "    cursor: pointer;\n",
              "    display: none;\n",
              "    fill: var(--fill-color);\n",
              "    height: 32px;\n",
              "    padding: 0;\n",
              "    width: 32px;\n",
              "  }\n",
              "\n",
              "  .colab-df-quickchart:hover {\n",
              "    background-color: var(--hover-bg-color);\n",
              "    box-shadow: 0 1px 2px rgba(60, 64, 67, 0.3), 0 1px 3px 1px rgba(60, 64, 67, 0.15);\n",
              "    fill: var(--button-hover-fill-color);\n",
              "  }\n",
              "\n",
              "  .colab-df-quickchart-complete:disabled,\n",
              "  .colab-df-quickchart-complete:disabled:hover {\n",
              "    background-color: var(--disabled-bg-color);\n",
              "    fill: var(--disabled-fill-color);\n",
              "    box-shadow: none;\n",
              "  }\n",
              "\n",
              "  .colab-df-spinner {\n",
              "    border: 2px solid var(--fill-color);\n",
              "    border-color: transparent;\n",
              "    border-bottom-color: var(--fill-color);\n",
              "    animation:\n",
              "      spin 1s steps(1) infinite;\n",
              "  }\n",
              "\n",
              "  @keyframes spin {\n",
              "    0% {\n",
              "      border-color: transparent;\n",
              "      border-bottom-color: var(--fill-color);\n",
              "      border-left-color: var(--fill-color);\n",
              "    }\n",
              "    20% {\n",
              "      border-color: transparent;\n",
              "      border-left-color: var(--fill-color);\n",
              "      border-top-color: var(--fill-color);\n",
              "    }\n",
              "    30% {\n",
              "      border-color: transparent;\n",
              "      border-left-color: var(--fill-color);\n",
              "      border-top-color: var(--fill-color);\n",
              "      border-right-color: var(--fill-color);\n",
              "    }\n",
              "    40% {\n",
              "      border-color: transparent;\n",
              "      border-right-color: var(--fill-color);\n",
              "      border-top-color: var(--fill-color);\n",
              "    }\n",
              "    60% {\n",
              "      border-color: transparent;\n",
              "      border-right-color: var(--fill-color);\n",
              "    }\n",
              "    80% {\n",
              "      border-color: transparent;\n",
              "      border-right-color: var(--fill-color);\n",
              "      border-bottom-color: var(--fill-color);\n",
              "    }\n",
              "    90% {\n",
              "      border-color: transparent;\n",
              "      border-bottom-color: var(--fill-color);\n",
              "    }\n",
              "  }\n",
              "</style>\n",
              "\n",
              "  <script>\n",
              "    async function quickchart(key) {\n",
              "      const quickchartButtonEl =\n",
              "        document.querySelector('#' + key + ' button');\n",
              "      quickchartButtonEl.disabled = true;  // To prevent multiple clicks.\n",
              "      quickchartButtonEl.classList.add('colab-df-spinner');\n",
              "      try {\n",
              "        const charts = await google.colab.kernel.invokeFunction(\n",
              "            'suggestCharts', [key], {});\n",
              "      } catch (error) {\n",
              "        console.error('Error during call to suggestCharts:', error);\n",
              "      }\n",
              "      quickchartButtonEl.classList.remove('colab-df-spinner');\n",
              "      quickchartButtonEl.classList.add('colab-df-quickchart-complete');\n",
              "    }\n",
              "    (() => {\n",
              "      let quickchartButtonEl =\n",
              "        document.querySelector('#df-27e8e0fb-5fa8-4757-808c-6fa15408b55b button');\n",
              "      quickchartButtonEl.style.display =\n",
              "        google.colab.kernel.accessAllowed ? 'block' : 'none';\n",
              "    })();\n",
              "  </script>\n",
              "</div>\n",
              "\n",
              "    </div>\n",
              "  </div>\n"
            ],
            "text/plain": [
              "                 RepReason UnitID      UnitType       Flota     COMPLAINT  \\\n",
              "OrderID                                                                     \n",
              "QRO-00032562  MC             1801  TRACTOR       Sayer Full  CORRECTIVO     \n",
              "QRO-00032562  PM             1801  TRACTOR       Sayer Full  PREVENT VENC   \n",
              "QRO-00032562  PM             1801  TRACTOR       Sayer Full  PREVENT VENC   \n",
              "QRO-00032562  PM             1801  TRACTOR       Sayer Full  PREVENT VENC   \n",
              "QRO-00032562  PM             1801  TRACTOR       Sayer Full  PREVENT VENC   \n",
              "\n",
              "                 TipoLinea               NumParte      CITA        Clasif_rep  \\\n",
              "OrderID                                                                         \n",
              "QRO-00032562  PART                      BO3002200  CON CITA  Reparacion_lenta   \n",
              "QRO-00032562  PART                      LF14001NN  CON CITA  Reparacion_lenta   \n",
              "QRO-00032562  PART                      2510993C2  CON CITA  Reparacion_lenta   \n",
              "QRO-00032562  PART          G CHASIS E-LIT GRAMOS  CON CITA  Reparacion_lenta   \n",
              "QRO-00032562  PART                         15W-40  CON CITA  Reparacion_lenta   \n",
              "\n",
              "               Clasif_costo  \n",
              "OrderID                      \n",
              "QRO-00032562   Costo_normal  \n",
              "QRO-00032562   Costo_normal  \n",
              "QRO-00032562  Costo_elevado  \n",
              "QRO-00032562   Costo_normal  \n",
              "QRO-00032562  Costo_elevado  "
            ]
          },
          "execution_count": 140,
          "metadata": {},
          "output_type": "execute_result"
        }
      ],
      "source": [
        "col_cat = data_sayer.select_dtypes(include=['object', 'category'])\n",
        "col_cat.head(5)"
      ]
    },
    {
      "cell_type": "code",
      "execution_count": null,
      "metadata": {
        "id": "rabuWQXEYEmX"
      },
      "outputs": [],
      "source": [
        "from category_encoders import CountEncoder\n",
        "# codificación por conteo\n",
        "data_sayer = CountEncoder(cols=['CITA']).fit(data_sayer).transform(data_sayer)"
      ]
    },
    {
      "cell_type": "code",
      "execution_count": null,
      "metadata": {
        "id": "KjRyYEEsYMW9"
      },
      "outputs": [],
      "source": [
        "from category_encoders import OneHotEncoder\n",
        "# codificación por OneHot\n",
        "data_sayer = OneHotEncoder(cols=['TipoLinea']).fit(data_sayer).transform(data_sayer)"
      ]
    },
    {
      "cell_type": "code",
      "execution_count": null,
      "metadata": {
        "id": "KXSFHMVdYT-l"
      },
      "outputs": [],
      "source": [
        "from category_encoders import OneHotEncoder\n",
        "# codificación por OneHot\n",
        "data_sayer = OneHotEncoder(cols=['UnitType']).fit(data_sayer).transform(data_sayer)"
      ]
    },
    {
      "cell_type": "code",
      "execution_count": null,
      "metadata": {
        "colab": {
          "base_uri": "https://localhost:8080/",
          "height": 666
        },
        "id": "wMvx3XRTYYww",
        "outputId": "ab0e773a-1527-4a69-f10b-3cf14b94b629"
      },
      "outputs": [
        {
          "data": {
            "application/vnd.google.colaboratory.intrinsic+json": {
              "summary": "{\n  \"name\": \"data_sayer\",\n  \"rows\": 6013,\n  \"fields\": [\n    {\n      \"column\": \"OrderID\",\n      \"properties\": {\n        \"dtype\": \"category\",\n        \"num_unique_values\": 1618,\n        \"samples\": [\n          \"MEX-00027195\",\n          \"SAAP-0004429\",\n          \"QRO-00046067\"\n        ],\n        \"semantic_type\": \"\",\n        \"description\": \"\"\n      }\n    },\n    {\n      \"column\": \"kMS\",\n      \"properties\": {\n        \"dtype\": \"number\",\n        \"std\": 110878.49086110514,\n        \"min\": 34105.0,\n        \"max\": 770460.0,\n        \"num_unique_values\": 352,\n        \"samples\": [\n          455541.0,\n          300231.0,\n          225883.0\n        ],\n        \"semantic_type\": \"\",\n        \"description\": \"\"\n      }\n    },\n    {\n      \"column\": \"lagdias\",\n      \"properties\": {\n        \"dtype\": \"number\",\n        \"std\": 7,\n        \"min\": 0,\n        \"max\": 91,\n        \"num_unique_values\": 52,\n        \"samples\": [\n          36,\n          25,\n          57\n        ],\n        \"semantic_type\": \"\",\n        \"description\": \"\"\n      }\n    },\n    {\n      \"column\": \"laghoras\",\n      \"properties\": {\n        \"dtype\": \"number\",\n        \"std\": 181,\n        \"min\": 1,\n        \"max\": 2183,\n        \"num_unique_values\": 251,\n        \"samples\": [\n          263,\n          3,\n          1010\n        ],\n        \"semantic_type\": \"\",\n        \"description\": \"\"\n      }\n    },\n    {\n      \"column\": \"RepReason\",\n      \"properties\": {\n        \"dtype\": \"category\",\n        \"num_unique_values\": 50,\n        \"samples\": [\n          \"IN TRACTOR  \",\n          \"MANGUERA-FRE\",\n          \"AMORTIGUADOR\"\n        ],\n        \"semantic_type\": \"\",\n        \"description\": \"\"\n      }\n    },\n    {\n      \"column\": \"TOTAL\",\n      \"properties\": {\n        \"dtype\": \"number\",\n        \"std\": 1973.8969015209225,\n        \"min\": 0.09,\n        \"max\": 28156.22,\n        \"num_unique_values\": 3527,\n        \"samples\": [\n          1421.2,\n          362.47,\n          226.83\n        ],\n        \"semantic_type\": \"\",\n        \"description\": \"\"\n      }\n    },\n    {\n      \"column\": \"UnitID\",\n      \"properties\": {\n        \"dtype\": \"category\",\n        \"num_unique_values\": 51,\n        \"samples\": [\n          \"10197\",\n          \"D-2172\",\n          \"10193\"\n        ],\n        \"semantic_type\": \"\",\n        \"description\": \"\"\n      }\n    },\n    {\n      \"column\": \"TRACTOR\",\n      \"properties\": {\n        \"dtype\": \"number\",\n        \"std\": 0,\n        \"min\": 0,\n        \"max\": 1,\n        \"num_unique_values\": 2,\n        \"samples\": [\n          0,\n          1\n        ],\n        \"semantic_type\": \"\",\n        \"description\": \"\"\n      }\n    },\n    {\n      \"column\": \"TRAILER\",\n      \"properties\": {\n        \"dtype\": \"number\",\n        \"std\": 0,\n        \"min\": 0,\n        \"max\": 1,\n        \"num_unique_values\": 2,\n        \"samples\": [\n          1,\n          0\n        ],\n        \"semantic_type\": \"\",\n        \"description\": \"\"\n      }\n    },\n    {\n      \"column\": \"DOLLY\",\n      \"properties\": {\n        \"dtype\": \"number\",\n        \"std\": 0,\n        \"min\": 0,\n        \"max\": 1,\n        \"num_unique_values\": 2,\n        \"samples\": [\n          1,\n          0\n        ],\n        \"semantic_type\": \"\",\n        \"description\": \"\"\n      }\n    },\n    {\n      \"column\": \"UnitYear\",\n      \"properties\": {\n        \"dtype\": \"number\",\n        \"std\": 2,\n        \"min\": 2016,\n        \"max\": 2022,\n        \"num_unique_values\": 5,\n        \"samples\": [\n          2016,\n          2019\n        ],\n        \"semantic_type\": \"\",\n        \"description\": \"\"\n      }\n    },\n    {\n      \"column\": \"Flota\",\n      \"properties\": {\n        \"dtype\": \"category\",\n        \"num_unique_values\": 1,\n        \"samples\": [\n          \"Sayer Full\"\n        ],\n        \"semantic_type\": \"\",\n        \"description\": \"\"\n      }\n    },\n    {\n      \"column\": \"COMPLAINT\",\n      \"properties\": {\n        \"dtype\": \"category\",\n        \"num_unique_values\": 43,\n        \"samples\": [\n          \"FALLA GPS   \"\n        ],\n        \"semantic_type\": \"\",\n        \"description\": \"\"\n      }\n    },\n    {\n      \"column\": \"PART\",\n      \"properties\": {\n        \"dtype\": \"number\",\n        \"std\": 0,\n        \"min\": 0,\n        \"max\": 1,\n        \"num_unique_values\": 2,\n        \"samples\": [\n          0\n        ],\n        \"semantic_type\": \"\",\n        \"description\": \"\"\n      }\n    },\n    {\n      \"column\": \"SERVICES\",\n      \"properties\": {\n        \"dtype\": \"number\",\n        \"std\": 0,\n        \"min\": 0,\n        \"max\": 1,\n        \"num_unique_values\": 2,\n        \"samples\": [\n          1\n        ],\n        \"semantic_type\": \"\",\n        \"description\": \"\"\n      }\n    },\n    {\n      \"column\": \"LABOR\",\n      \"properties\": {\n        \"dtype\": \"number\",\n        \"std\": 0,\n        \"min\": 0,\n        \"max\": 1,\n        \"num_unique_values\": 2,\n        \"samples\": [\n          1\n        ],\n        \"semantic_type\": \"\",\n        \"description\": \"\"\n      }\n    },\n    {\n      \"column\": \"NumParte\",\n      \"properties\": {\n        \"dtype\": \"category\",\n        \"num_unique_values\": 657,\n        \"samples\": [\n          \"VP_RK-351-A-L\"\n        ],\n        \"semantic_type\": \"\",\n        \"description\": \"\"\n      }\n    },\n    {\n      \"column\": \"CITA\",\n      \"properties\": {\n        \"dtype\": \"number\",\n        \"std\": 1382,\n        \"min\": 68,\n        \"max\": 3709,\n        \"num_unique_values\": 6,\n        \"samples\": [\n          1360\n        ],\n        \"semantic_type\": \"\",\n        \"description\": \"\"\n      }\n    },\n    {\n      \"column\": \"Falla carretera\",\n      \"properties\": {\n        \"dtype\": \"number\",\n        \"std\": 0,\n        \"min\": 0,\n        \"max\": 1,\n        \"num_unique_values\": 2,\n        \"samples\": [\n          0\n        ],\n        \"semantic_type\": \"\",\n        \"description\": \"\"\n      }\n    },\n    {\n      \"column\": \"Clasif_rep\",\n      \"properties\": {\n        \"dtype\": \"category\",\n        \"num_unique_values\": 3,\n        \"samples\": [\n          \"Reparacion_lenta\"\n        ],\n        \"semantic_type\": \"\",\n        \"description\": \"\"\n      }\n    },\n    {\n      \"column\": \"Clasif_costo\",\n      \"properties\": {\n        \"dtype\": \"category\",\n        \"num_unique_values\": 3,\n        \"samples\": [\n          \"Costo_normal\"\n        ],\n        \"semantic_type\": \"\",\n        \"description\": \"\"\n      }\n    }\n  ]\n}",
              "type": "dataframe",
              "variable_name": "data_sayer"
            },
            "text/html": [
              "\n",
              "  <div id=\"df-6ee7310d-9571-4381-aace-cb4357199942\" class=\"colab-df-container\">\n",
              "    <div>\n",
              "<style scoped>\n",
              "    .dataframe tbody tr th:only-of-type {\n",
              "        vertical-align: middle;\n",
              "    }\n",
              "\n",
              "    .dataframe tbody tr th {\n",
              "        vertical-align: top;\n",
              "    }\n",
              "\n",
              "    .dataframe thead th {\n",
              "        text-align: right;\n",
              "    }\n",
              "</style>\n",
              "<table border=\"1\" class=\"dataframe\">\n",
              "  <thead>\n",
              "    <tr style=\"text-align: right;\">\n",
              "      <th></th>\n",
              "      <th>kMS</th>\n",
              "      <th>lagdias</th>\n",
              "      <th>laghoras</th>\n",
              "      <th>RepReason</th>\n",
              "      <th>TOTAL</th>\n",
              "      <th>UnitID</th>\n",
              "      <th>TRACTOR</th>\n",
              "      <th>TRAILER</th>\n",
              "      <th>DOLLY</th>\n",
              "      <th>UnitYear</th>\n",
              "      <th>Flota</th>\n",
              "      <th>COMPLAINT</th>\n",
              "      <th>PART</th>\n",
              "      <th>SERVICES</th>\n",
              "      <th>LABOR</th>\n",
              "      <th>NumParte</th>\n",
              "      <th>CITA</th>\n",
              "      <th>Falla carretera</th>\n",
              "      <th>Clasif_rep</th>\n",
              "      <th>Clasif_costo</th>\n",
              "    </tr>\n",
              "    <tr>\n",
              "      <th>OrderID</th>\n",
              "      <th></th>\n",
              "      <th></th>\n",
              "      <th></th>\n",
              "      <th></th>\n",
              "      <th></th>\n",
              "      <th></th>\n",
              "      <th></th>\n",
              "      <th></th>\n",
              "      <th></th>\n",
              "      <th></th>\n",
              "      <th></th>\n",
              "      <th></th>\n",
              "      <th></th>\n",
              "      <th></th>\n",
              "      <th></th>\n",
              "      <th></th>\n",
              "      <th></th>\n",
              "      <th></th>\n",
              "      <th></th>\n",
              "      <th></th>\n",
              "    </tr>\n",
              "  </thead>\n",
              "  <tbody>\n",
              "    <tr>\n",
              "      <th>QRO-00032562</th>\n",
              "      <td>244708.0</td>\n",
              "      <td>38</td>\n",
              "      <td>914</td>\n",
              "      <td>MC</td>\n",
              "      <td>443.260</td>\n",
              "      <td>1801</td>\n",
              "      <td>1</td>\n",
              "      <td>0</td>\n",
              "      <td>0</td>\n",
              "      <td>2021</td>\n",
              "      <td>Sayer Full</td>\n",
              "      <td>CORRECTIVO</td>\n",
              "      <td>1</td>\n",
              "      <td>0</td>\n",
              "      <td>0</td>\n",
              "      <td>BO3002200</td>\n",
              "      <td>1360</td>\n",
              "      <td>1</td>\n",
              "      <td>Reparacion_lenta</td>\n",
              "      <td>Costo_normal</td>\n",
              "    </tr>\n",
              "    <tr>\n",
              "      <th>QRO-00032562</th>\n",
              "      <td>244708.0</td>\n",
              "      <td>38</td>\n",
              "      <td>914</td>\n",
              "      <td>PM</td>\n",
              "      <td>378.030</td>\n",
              "      <td>1801</td>\n",
              "      <td>1</td>\n",
              "      <td>0</td>\n",
              "      <td>0</td>\n",
              "      <td>2021</td>\n",
              "      <td>Sayer Full</td>\n",
              "      <td>PREVENT VENC</td>\n",
              "      <td>1</td>\n",
              "      <td>0</td>\n",
              "      <td>0</td>\n",
              "      <td>LF14001NN</td>\n",
              "      <td>1360</td>\n",
              "      <td>0</td>\n",
              "      <td>Reparacion_lenta</td>\n",
              "      <td>Costo_normal</td>\n",
              "    </tr>\n",
              "    <tr>\n",
              "      <th>QRO-00032562</th>\n",
              "      <td>244708.0</td>\n",
              "      <td>38</td>\n",
              "      <td>914</td>\n",
              "      <td>PM</td>\n",
              "      <td>994.750</td>\n",
              "      <td>1801</td>\n",
              "      <td>1</td>\n",
              "      <td>0</td>\n",
              "      <td>0</td>\n",
              "      <td>2021</td>\n",
              "      <td>Sayer Full</td>\n",
              "      <td>PREVENT VENC</td>\n",
              "      <td>1</td>\n",
              "      <td>0</td>\n",
              "      <td>0</td>\n",
              "      <td>2510993C2</td>\n",
              "      <td>1360</td>\n",
              "      <td>0</td>\n",
              "      <td>Reparacion_lenta</td>\n",
              "      <td>Costo_elevado</td>\n",
              "    </tr>\n",
              "    <tr>\n",
              "      <th>QRO-00032562</th>\n",
              "      <td>244708.0</td>\n",
              "      <td>38</td>\n",
              "      <td>914</td>\n",
              "      <td>PM</td>\n",
              "      <td>162.459</td>\n",
              "      <td>1801</td>\n",
              "      <td>1</td>\n",
              "      <td>0</td>\n",
              "      <td>0</td>\n",
              "      <td>2021</td>\n",
              "      <td>Sayer Full</td>\n",
              "      <td>PREVENT VENC</td>\n",
              "      <td>1</td>\n",
              "      <td>0</td>\n",
              "      <td>0</td>\n",
              "      <td>G CHASIS E-LIT GRAMOS</td>\n",
              "      <td>1360</td>\n",
              "      <td>0</td>\n",
              "      <td>Reparacion_lenta</td>\n",
              "      <td>Costo_normal</td>\n",
              "    </tr>\n",
              "    <tr>\n",
              "      <th>QRO-00032562</th>\n",
              "      <td>244708.0</td>\n",
              "      <td>38</td>\n",
              "      <td>914</td>\n",
              "      <td>PM</td>\n",
              "      <td>2323.478</td>\n",
              "      <td>1801</td>\n",
              "      <td>1</td>\n",
              "      <td>0</td>\n",
              "      <td>0</td>\n",
              "      <td>2021</td>\n",
              "      <td>Sayer Full</td>\n",
              "      <td>PREVENT VENC</td>\n",
              "      <td>1</td>\n",
              "      <td>0</td>\n",
              "      <td>0</td>\n",
              "      <td>15W-40</td>\n",
              "      <td>1360</td>\n",
              "      <td>0</td>\n",
              "      <td>Reparacion_lenta</td>\n",
              "      <td>Costo_elevado</td>\n",
              "    </tr>\n",
              "    <tr>\n",
              "      <th>...</th>\n",
              "      <td>...</td>\n",
              "      <td>...</td>\n",
              "      <td>...</td>\n",
              "      <td>...</td>\n",
              "      <td>...</td>\n",
              "      <td>...</td>\n",
              "      <td>...</td>\n",
              "      <td>...</td>\n",
              "      <td>...</td>\n",
              "      <td>...</td>\n",
              "      <td>...</td>\n",
              "      <td>...</td>\n",
              "      <td>...</td>\n",
              "      <td>...</td>\n",
              "      <td>...</td>\n",
              "      <td>...</td>\n",
              "      <td>...</td>\n",
              "      <td>...</td>\n",
              "      <td>...</td>\n",
              "      <td>...</td>\n",
              "    </tr>\n",
              "    <tr>\n",
              "      <th>SAAP-0007337</th>\n",
              "      <td>510974.0</td>\n",
              "      <td>4</td>\n",
              "      <td>92</td>\n",
              "      <td>FUGA AIRE</td>\n",
              "      <td>495.000</td>\n",
              "      <td>D-2168</td>\n",
              "      <td>0</td>\n",
              "      <td>0</td>\n",
              "      <td>1</td>\n",
              "      <td>2022</td>\n",
              "      <td>Sayer Full</td>\n",
              "      <td>CORREC DOLLY</td>\n",
              "      <td>0</td>\n",
              "      <td>1</td>\n",
              "      <td>0</td>\n",
              "      <td>DESCONOCIDO</td>\n",
              "      <td>3709</td>\n",
              "      <td>1</td>\n",
              "      <td>Reparacion_Normal</td>\n",
              "      <td>Costo_normal</td>\n",
              "    </tr>\n",
              "    <tr>\n",
              "      <th>QRO-00046340</th>\n",
              "      <td>712128.0</td>\n",
              "      <td>2</td>\n",
              "      <td>55</td>\n",
              "      <td>CAMBIO DAÑO</td>\n",
              "      <td>72.000</td>\n",
              "      <td>1803</td>\n",
              "      <td>1</td>\n",
              "      <td>0</td>\n",
              "      <td>0</td>\n",
              "      <td>2021</td>\n",
              "      <td>Sayer Full</td>\n",
              "      <td>DESGASTADO</td>\n",
              "      <td>0</td>\n",
              "      <td>0</td>\n",
              "      <td>1</td>\n",
              "      <td>DESCONOCIDO</td>\n",
              "      <td>473</td>\n",
              "      <td>1</td>\n",
              "      <td>Reparacion_Normal</td>\n",
              "      <td>Costo_bajo</td>\n",
              "    </tr>\n",
              "    <tr>\n",
              "      <th>QRO-00046344</th>\n",
              "      <td>709372.0</td>\n",
              "      <td>2</td>\n",
              "      <td>51</td>\n",
              "      <td>ACC-NO-REPO</td>\n",
              "      <td>693.320</td>\n",
              "      <td>1799</td>\n",
              "      <td>1</td>\n",
              "      <td>0</td>\n",
              "      <td>0</td>\n",
              "      <td>2021</td>\n",
              "      <td>Sayer Full</td>\n",
              "      <td>ACCIDENTE</td>\n",
              "      <td>0</td>\n",
              "      <td>0</td>\n",
              "      <td>1</td>\n",
              "      <td>DESCONOCIDO</td>\n",
              "      <td>473</td>\n",
              "      <td>1</td>\n",
              "      <td>Reparacion_Normal</td>\n",
              "      <td>Costo_elevado</td>\n",
              "    </tr>\n",
              "    <tr>\n",
              "      <th>QRO-00046344</th>\n",
              "      <td>709372.0</td>\n",
              "      <td>2</td>\n",
              "      <td>51</td>\n",
              "      <td>ACC-NO-REPO</td>\n",
              "      <td>11342.000</td>\n",
              "      <td>1799</td>\n",
              "      <td>1</td>\n",
              "      <td>0</td>\n",
              "      <td>0</td>\n",
              "      <td>2021</td>\n",
              "      <td>Sayer Full</td>\n",
              "      <td>ACCIDENTE</td>\n",
              "      <td>1</td>\n",
              "      <td>0</td>\n",
              "      <td>0</td>\n",
              "      <td>4049968C99</td>\n",
              "      <td>473</td>\n",
              "      <td>1</td>\n",
              "      <td>Reparacion_Normal</td>\n",
              "      <td>Costo_elevado</td>\n",
              "    </tr>\n",
              "    <tr>\n",
              "      <th>SAAP-0007347</th>\n",
              "      <td>510974.0</td>\n",
              "      <td>1</td>\n",
              "      <td>17</td>\n",
              "      <td>TAPA MAZA</td>\n",
              "      <td>3057.390</td>\n",
              "      <td>10221</td>\n",
              "      <td>0</td>\n",
              "      <td>1</td>\n",
              "      <td>0</td>\n",
              "      <td>2018</td>\n",
              "      <td>Sayer Full</td>\n",
              "      <td>CORRECT CAJA</td>\n",
              "      <td>1</td>\n",
              "      <td>0</td>\n",
              "      <td>0</td>\n",
              "      <td>VS-32070-3</td>\n",
              "      <td>3709</td>\n",
              "      <td>1</td>\n",
              "      <td>Reparacion_rapida</td>\n",
              "      <td>Costo_elevado</td>\n",
              "    </tr>\n",
              "  </tbody>\n",
              "</table>\n",
              "<p>6013 rows × 20 columns</p>\n",
              "</div>\n",
              "    <div class=\"colab-df-buttons\">\n",
              "\n",
              "  <div class=\"colab-df-container\">\n",
              "    <button class=\"colab-df-convert\" onclick=\"convertToInteractive('df-6ee7310d-9571-4381-aace-cb4357199942')\"\n",
              "            title=\"Convert this dataframe to an interactive table.\"\n",
              "            style=\"display:none;\">\n",
              "\n",
              "  <svg xmlns=\"http://www.w3.org/2000/svg\" height=\"24px\" viewBox=\"0 -960 960 960\">\n",
              "    <path d=\"M120-120v-720h720v720H120Zm60-500h600v-160H180v160Zm220 220h160v-160H400v160Zm0 220h160v-160H400v160ZM180-400h160v-160H180v160Zm440 0h160v-160H620v160ZM180-180h160v-160H180v160Zm440 0h160v-160H620v160Z\"/>\n",
              "  </svg>\n",
              "    </button>\n",
              "\n",
              "  <style>\n",
              "    .colab-df-container {\n",
              "      display:flex;\n",
              "      gap: 12px;\n",
              "    }\n",
              "\n",
              "    .colab-df-convert {\n",
              "      background-color: #E8F0FE;\n",
              "      border: none;\n",
              "      border-radius: 50%;\n",
              "      cursor: pointer;\n",
              "      display: none;\n",
              "      fill: #1967D2;\n",
              "      height: 32px;\n",
              "      padding: 0 0 0 0;\n",
              "      width: 32px;\n",
              "    }\n",
              "\n",
              "    .colab-df-convert:hover {\n",
              "      background-color: #E2EBFA;\n",
              "      box-shadow: 0px 1px 2px rgba(60, 64, 67, 0.3), 0px 1px 3px 1px rgba(60, 64, 67, 0.15);\n",
              "      fill: #174EA6;\n",
              "    }\n",
              "\n",
              "    .colab-df-buttons div {\n",
              "      margin-bottom: 4px;\n",
              "    }\n",
              "\n",
              "    [theme=dark] .colab-df-convert {\n",
              "      background-color: #3B4455;\n",
              "      fill: #D2E3FC;\n",
              "    }\n",
              "\n",
              "    [theme=dark] .colab-df-convert:hover {\n",
              "      background-color: #434B5C;\n",
              "      box-shadow: 0px 1px 3px 1px rgba(0, 0, 0, 0.15);\n",
              "      filter: drop-shadow(0px 1px 2px rgba(0, 0, 0, 0.3));\n",
              "      fill: #FFFFFF;\n",
              "    }\n",
              "  </style>\n",
              "\n",
              "    <script>\n",
              "      const buttonEl =\n",
              "        document.querySelector('#df-6ee7310d-9571-4381-aace-cb4357199942 button.colab-df-convert');\n",
              "      buttonEl.style.display =\n",
              "        google.colab.kernel.accessAllowed ? 'block' : 'none';\n",
              "\n",
              "      async function convertToInteractive(key) {\n",
              "        const element = document.querySelector('#df-6ee7310d-9571-4381-aace-cb4357199942');\n",
              "        const dataTable =\n",
              "          await google.colab.kernel.invokeFunction('convertToInteractive',\n",
              "                                                    [key], {});\n",
              "        if (!dataTable) return;\n",
              "\n",
              "        const docLinkHtml = 'Like what you see? Visit the ' +\n",
              "          '<a target=\"_blank\" href=https://colab.research.google.com/notebooks/data_table.ipynb>data table notebook</a>'\n",
              "          + ' to learn more about interactive tables.';\n",
              "        element.innerHTML = '';\n",
              "        dataTable['output_type'] = 'display_data';\n",
              "        await google.colab.output.renderOutput(dataTable, element);\n",
              "        const docLink = document.createElement('div');\n",
              "        docLink.innerHTML = docLinkHtml;\n",
              "        element.appendChild(docLink);\n",
              "      }\n",
              "    </script>\n",
              "  </div>\n",
              "\n",
              "\n",
              "<div id=\"df-ef8f5ed7-088b-43a5-94aa-55900f07a11a\">\n",
              "  <button class=\"colab-df-quickchart\" onclick=\"quickchart('df-ef8f5ed7-088b-43a5-94aa-55900f07a11a')\"\n",
              "            title=\"Suggest charts\"\n",
              "            style=\"display:none;\">\n",
              "\n",
              "<svg xmlns=\"http://www.w3.org/2000/svg\" height=\"24px\"viewBox=\"0 0 24 24\"\n",
              "     width=\"24px\">\n",
              "    <g>\n",
              "        <path d=\"M19 3H5c-1.1 0-2 .9-2 2v14c0 1.1.9 2 2 2h14c1.1 0 2-.9 2-2V5c0-1.1-.9-2-2-2zM9 17H7v-7h2v7zm4 0h-2V7h2v10zm4 0h-2v-4h2v4z\"/>\n",
              "    </g>\n",
              "</svg>\n",
              "  </button>\n",
              "\n",
              "<style>\n",
              "  .colab-df-quickchart {\n",
              "      --bg-color: #E8F0FE;\n",
              "      --fill-color: #1967D2;\n",
              "      --hover-bg-color: #E2EBFA;\n",
              "      --hover-fill-color: #174EA6;\n",
              "      --disabled-fill-color: #AAA;\n",
              "      --disabled-bg-color: #DDD;\n",
              "  }\n",
              "\n",
              "  [theme=dark] .colab-df-quickchart {\n",
              "      --bg-color: #3B4455;\n",
              "      --fill-color: #D2E3FC;\n",
              "      --hover-bg-color: #434B5C;\n",
              "      --hover-fill-color: #FFFFFF;\n",
              "      --disabled-bg-color: #3B4455;\n",
              "      --disabled-fill-color: #666;\n",
              "  }\n",
              "\n",
              "  .colab-df-quickchart {\n",
              "    background-color: var(--bg-color);\n",
              "    border: none;\n",
              "    border-radius: 50%;\n",
              "    cursor: pointer;\n",
              "    display: none;\n",
              "    fill: var(--fill-color);\n",
              "    height: 32px;\n",
              "    padding: 0;\n",
              "    width: 32px;\n",
              "  }\n",
              "\n",
              "  .colab-df-quickchart:hover {\n",
              "    background-color: var(--hover-bg-color);\n",
              "    box-shadow: 0 1px 2px rgba(60, 64, 67, 0.3), 0 1px 3px 1px rgba(60, 64, 67, 0.15);\n",
              "    fill: var(--button-hover-fill-color);\n",
              "  }\n",
              "\n",
              "  .colab-df-quickchart-complete:disabled,\n",
              "  .colab-df-quickchart-complete:disabled:hover {\n",
              "    background-color: var(--disabled-bg-color);\n",
              "    fill: var(--disabled-fill-color);\n",
              "    box-shadow: none;\n",
              "  }\n",
              "\n",
              "  .colab-df-spinner {\n",
              "    border: 2px solid var(--fill-color);\n",
              "    border-color: transparent;\n",
              "    border-bottom-color: var(--fill-color);\n",
              "    animation:\n",
              "      spin 1s steps(1) infinite;\n",
              "  }\n",
              "\n",
              "  @keyframes spin {\n",
              "    0% {\n",
              "      border-color: transparent;\n",
              "      border-bottom-color: var(--fill-color);\n",
              "      border-left-color: var(--fill-color);\n",
              "    }\n",
              "    20% {\n",
              "      border-color: transparent;\n",
              "      border-left-color: var(--fill-color);\n",
              "      border-top-color: var(--fill-color);\n",
              "    }\n",
              "    30% {\n",
              "      border-color: transparent;\n",
              "      border-left-color: var(--fill-color);\n",
              "      border-top-color: var(--fill-color);\n",
              "      border-right-color: var(--fill-color);\n",
              "    }\n",
              "    40% {\n",
              "      border-color: transparent;\n",
              "      border-right-color: var(--fill-color);\n",
              "      border-top-color: var(--fill-color);\n",
              "    }\n",
              "    60% {\n",
              "      border-color: transparent;\n",
              "      border-right-color: var(--fill-color);\n",
              "    }\n",
              "    80% {\n",
              "      border-color: transparent;\n",
              "      border-right-color: var(--fill-color);\n",
              "      border-bottom-color: var(--fill-color);\n",
              "    }\n",
              "    90% {\n",
              "      border-color: transparent;\n",
              "      border-bottom-color: var(--fill-color);\n",
              "    }\n",
              "  }\n",
              "</style>\n",
              "\n",
              "  <script>\n",
              "    async function quickchart(key) {\n",
              "      const quickchartButtonEl =\n",
              "        document.querySelector('#' + key + ' button');\n",
              "      quickchartButtonEl.disabled = true;  // To prevent multiple clicks.\n",
              "      quickchartButtonEl.classList.add('colab-df-spinner');\n",
              "      try {\n",
              "        const charts = await google.colab.kernel.invokeFunction(\n",
              "            'suggestCharts', [key], {});\n",
              "      } catch (error) {\n",
              "        console.error('Error during call to suggestCharts:', error);\n",
              "      }\n",
              "      quickchartButtonEl.classList.remove('colab-df-spinner');\n",
              "      quickchartButtonEl.classList.add('colab-df-quickchart-complete');\n",
              "    }\n",
              "    (() => {\n",
              "      let quickchartButtonEl =\n",
              "        document.querySelector('#df-ef8f5ed7-088b-43a5-94aa-55900f07a11a button');\n",
              "      quickchartButtonEl.style.display =\n",
              "        google.colab.kernel.accessAllowed ? 'block' : 'none';\n",
              "    })();\n",
              "  </script>\n",
              "</div>\n",
              "\n",
              "  <div id=\"id_f7079134-2b2a-4376-b3af-44beef694211\">\n",
              "    <style>\n",
              "      .colab-df-generate {\n",
              "        background-color: #E8F0FE;\n",
              "        border: none;\n",
              "        border-radius: 50%;\n",
              "        cursor: pointer;\n",
              "        display: none;\n",
              "        fill: #1967D2;\n",
              "        height: 32px;\n",
              "        padding: 0 0 0 0;\n",
              "        width: 32px;\n",
              "      }\n",
              "\n",
              "      .colab-df-generate:hover {\n",
              "        background-color: #E2EBFA;\n",
              "        box-shadow: 0px 1px 2px rgba(60, 64, 67, 0.3), 0px 1px 3px 1px rgba(60, 64, 67, 0.15);\n",
              "        fill: #174EA6;\n",
              "      }\n",
              "\n",
              "      [theme=dark] .colab-df-generate {\n",
              "        background-color: #3B4455;\n",
              "        fill: #D2E3FC;\n",
              "      }\n",
              "\n",
              "      [theme=dark] .colab-df-generate:hover {\n",
              "        background-color: #434B5C;\n",
              "        box-shadow: 0px 1px 3px 1px rgba(0, 0, 0, 0.15);\n",
              "        filter: drop-shadow(0px 1px 2px rgba(0, 0, 0, 0.3));\n",
              "        fill: #FFFFFF;\n",
              "      }\n",
              "    </style>\n",
              "    <button class=\"colab-df-generate\" onclick=\"generateWithVariable('data_sayer')\"\n",
              "            title=\"Generate code using this dataframe.\"\n",
              "            style=\"display:none;\">\n",
              "\n",
              "  <svg xmlns=\"http://www.w3.org/2000/svg\" height=\"24px\"viewBox=\"0 0 24 24\"\n",
              "       width=\"24px\">\n",
              "    <path d=\"M7,19H8.4L18.45,9,17,7.55,7,17.6ZM5,21V16.75L18.45,3.32a2,2,0,0,1,2.83,0l1.4,1.43a1.91,1.91,0,0,1,.58,1.4,1.91,1.91,0,0,1-.58,1.4L9.25,21ZM18.45,9,17,7.55Zm-12,3A5.31,5.31,0,0,0,4.9,8.1,5.31,5.31,0,0,0,1,6.5,5.31,5.31,0,0,0,4.9,4.9,5.31,5.31,0,0,0,6.5,1,5.31,5.31,0,0,0,8.1,4.9,5.31,5.31,0,0,0,12,6.5,5.46,5.46,0,0,0,6.5,12Z\"/>\n",
              "  </svg>\n",
              "    </button>\n",
              "    <script>\n",
              "      (() => {\n",
              "      const buttonEl =\n",
              "        document.querySelector('#id_f7079134-2b2a-4376-b3af-44beef694211 button.colab-df-generate');\n",
              "      buttonEl.style.display =\n",
              "        google.colab.kernel.accessAllowed ? 'block' : 'none';\n",
              "\n",
              "      buttonEl.onclick = () => {\n",
              "        google.colab.notebook.generateWithVariable('data_sayer');\n",
              "      }\n",
              "      })();\n",
              "    </script>\n",
              "  </div>\n",
              "\n",
              "    </div>\n",
              "  </div>\n"
            ],
            "text/plain": [
              "                   kMS  lagdias  laghoras     RepReason      TOTAL  UnitID  \\\n",
              "OrderID                                                                      \n",
              "QRO-00032562  244708.0       38       914  MC              443.260    1801   \n",
              "QRO-00032562  244708.0       38       914  PM              378.030    1801   \n",
              "QRO-00032562  244708.0       38       914  PM              994.750    1801   \n",
              "QRO-00032562  244708.0       38       914  PM              162.459    1801   \n",
              "QRO-00032562  244708.0       38       914  PM             2323.478    1801   \n",
              "...                ...      ...       ...           ...        ...     ...   \n",
              "SAAP-0007337  510974.0        4        92  FUGA AIRE       495.000  D-2168   \n",
              "QRO-00046340  712128.0        2        55  CAMBIO DAÑO      72.000    1803   \n",
              "QRO-00046344  709372.0        2        51  ACC-NO-REPO     693.320    1799   \n",
              "QRO-00046344  709372.0        2        51  ACC-NO-REPO   11342.000    1799   \n",
              "SAAP-0007347  510974.0        1        17  TAPA MAZA      3057.390   10221   \n",
              "\n",
              "              TRACTOR  TRAILER  DOLLY  UnitYear       Flota     COMPLAINT  \\\n",
              "OrderID                                                                     \n",
              "QRO-00032562        1        0      0      2021  Sayer Full  CORRECTIVO     \n",
              "QRO-00032562        1        0      0      2021  Sayer Full  PREVENT VENC   \n",
              "QRO-00032562        1        0      0      2021  Sayer Full  PREVENT VENC   \n",
              "QRO-00032562        1        0      0      2021  Sayer Full  PREVENT VENC   \n",
              "QRO-00032562        1        0      0      2021  Sayer Full  PREVENT VENC   \n",
              "...               ...      ...    ...       ...         ...           ...   \n",
              "SAAP-0007337        0        0      1      2022  Sayer Full  CORREC DOLLY   \n",
              "QRO-00046340        1        0      0      2021  Sayer Full  DESGASTADO     \n",
              "QRO-00046344        1        0      0      2021  Sayer Full  ACCIDENTE      \n",
              "QRO-00046344        1        0      0      2021  Sayer Full  ACCIDENTE      \n",
              "SAAP-0007347        0        1      0      2018  Sayer Full  CORRECT CAJA   \n",
              "\n",
              "              PART  SERVICES  LABOR               NumParte  CITA  \\\n",
              "OrderID                                                            \n",
              "QRO-00032562     1         0      0              BO3002200  1360   \n",
              "QRO-00032562     1         0      0              LF14001NN  1360   \n",
              "QRO-00032562     1         0      0              2510993C2  1360   \n",
              "QRO-00032562     1         0      0  G CHASIS E-LIT GRAMOS  1360   \n",
              "QRO-00032562     1         0      0                 15W-40  1360   \n",
              "...            ...       ...    ...                    ...   ...   \n",
              "SAAP-0007337     0         1      0            DESCONOCIDO  3709   \n",
              "QRO-00046340     0         0      1            DESCONOCIDO   473   \n",
              "QRO-00046344     0         0      1            DESCONOCIDO   473   \n",
              "QRO-00046344     1         0      0             4049968C99   473   \n",
              "SAAP-0007347     1         0      0             VS-32070-3  3709   \n",
              "\n",
              "              Falla carretera         Clasif_rep   Clasif_costo  \n",
              "OrderID                                                          \n",
              "QRO-00032562                1   Reparacion_lenta   Costo_normal  \n",
              "QRO-00032562                0   Reparacion_lenta   Costo_normal  \n",
              "QRO-00032562                0   Reparacion_lenta  Costo_elevado  \n",
              "QRO-00032562                0   Reparacion_lenta   Costo_normal  \n",
              "QRO-00032562                0   Reparacion_lenta  Costo_elevado  \n",
              "...                       ...                ...            ...  \n",
              "SAAP-0007337                1  Reparacion_Normal   Costo_normal  \n",
              "QRO-00046340                1  Reparacion_Normal     Costo_bajo  \n",
              "QRO-00046344                1  Reparacion_Normal  Costo_elevado  \n",
              "QRO-00046344                1  Reparacion_Normal  Costo_elevado  \n",
              "SAAP-0007347                1  Reparacion_rapida  Costo_elevado  \n",
              "\n",
              "[6013 rows x 20 columns]"
            ]
          },
          "execution_count": 144,
          "metadata": {},
          "output_type": "execute_result"
        }
      ],
      "source": [
        "data_sayer.rename(columns={'UnitType_1': 'TRACTOR', 'UnitType_2': 'TRAILER', 'UnitType_3': 'DOLLY', 'TipoLinea_1': 'PART', 'TipoLinea_2': 'SERVICES', 'TipoLinea_3': 'LABOR'}, inplace = True)\n",
        "data_sayer"
      ]
    },
    {
      "cell_type": "markdown",
      "metadata": {
        "id": "NZLsMjkwZ4YZ"
      },
      "source": [
        "Para la parte de 'One-Hot Encoding' se decidio codificar unicamente 3 variables. 'CITA', 'TipoLinea', 'UnitType'.\n",
        "\n",
        "Para las variables 'TipoLinea' y 'UnitType' se decidio codificar con OneHot ya que de esta manera será mucho mas facil encontrar y leer que tipo de unidad de esta manejando y que tipo de linea.\n",
        "\n",
        "La variable 'CITA' se codificó con Count ya que de esta manera se podrá conocer la cantidad de registros por cada situación de las citas y así tener un mayor control."
      ]
    },
    {
      "cell_type": "markdown",
      "metadata": {
        "id": "t3OgJG6J-IAo"
      },
      "source": [
        "## Feature transformation\n",
        "Para las variables con valores atípicos identificados."
      ]
    },
    {
      "cell_type": "code",
      "execution_count": null,
      "metadata": {
        "colab": {
          "base_uri": "https://localhost:8080/"
        },
        "id": "AxEqEs3X_SDi",
        "outputId": "4e75e3ff-61b1-4f4a-af6d-adf995fb6df1"
      },
      "outputs": [
        {
          "name": "stdout",
          "output_type": "stream",
          "text": [
            "<class 'pandas.core.frame.DataFrame'>\n",
            "Index: 6013 entries, QRO-00032562 to SAAP-0007347\n",
            "Data columns (total 20 columns):\n",
            " #   Column           Non-Null Count  Dtype   \n",
            "---  ------           --------------  -----   \n",
            " 0   kMS              6013 non-null   float64 \n",
            " 1   lagdias          6013 non-null   int64   \n",
            " 2   laghoras         6013 non-null   int64   \n",
            " 3   RepReason        6013 non-null   object  \n",
            " 4   TOTAL            6013 non-null   float64 \n",
            " 5   UnitID           6013 non-null   object  \n",
            " 6   TRACTOR          6013 non-null   int64   \n",
            " 7   TRAILER          6013 non-null   int64   \n",
            " 8   DOLLY            6013 non-null   int64   \n",
            " 9   UnitYear         6013 non-null   int64   \n",
            " 10  Flota            6013 non-null   object  \n",
            " 11  COMPLAINT        6013 non-null   object  \n",
            " 12  PART             6013 non-null   int64   \n",
            " 13  SERVICES         6013 non-null   int64   \n",
            " 14  LABOR            6013 non-null   int64   \n",
            " 15  NumParte         6013 non-null   object  \n",
            " 16  CITA             6013 non-null   int64   \n",
            " 17  Falla carretera  6013 non-null   int64   \n",
            " 18  Clasif_rep       6013 non-null   category\n",
            " 19  Clasif_costo     6013 non-null   category\n",
            "dtypes: category(2), float64(2), int64(11), object(5)\n",
            "memory usage: 904.6+ KB\n"
          ]
        }
      ],
      "source": [
        "# Verificamos que columnas vamos a trabajar\n",
        "# (Deben ser numericas, para poder transformarlas)\n",
        "data_sayer.info()"
      ]
    },
    {
      "cell_type": "code",
      "execution_count": null,
      "metadata": {
        "colab": {
          "base_uri": "https://localhost:8080/",
          "height": 337
        },
        "id": "AwiH74uSAa47",
        "outputId": "89f2ee51-0b93-486a-8bc0-3fd9d26d1b46"
      },
      "outputs": [
        {
          "data": {
            "application/vnd.google.colaboratory.intrinsic+json": {
              "summary": "{\n  \"name\": \"data_sayer\",\n  \"rows\": 8,\n  \"fields\": [\n    {\n      \"column\": \"kMS\",\n      \"properties\": {\n        \"dtype\": \"number\",\n        \"std\": 280671.6056426603,\n        \"min\": 6013.0,\n        \"max\": 770460.0,\n        \"num_unique_values\": 8,\n        \"samples\": [\n          502542.78563113254,\n          510974.0,\n          6013.0\n        ],\n        \"semantic_type\": \"\",\n        \"description\": \"\"\n      }\n    },\n    {\n      \"column\": \"lagdias\",\n      \"properties\": {\n        \"dtype\": \"number\",\n        \"std\": 2120.6011251539258,\n        \"min\": 0.0,\n        \"max\": 6013.0,\n        \"num_unique_values\": 7,\n        \"samples\": [\n          6013.0,\n          4.120738400133045,\n          5.0\n        ],\n        \"semantic_type\": \"\",\n        \"description\": \"\"\n      }\n    },\n    {\n      \"column\": \"laghoras\",\n      \"properties\": {\n        \"dtype\": \"number\",\n        \"std\": 2125.6436412344456,\n        \"min\": 1.0,\n        \"max\": 6013.0,\n        \"num_unique_values\": 8,\n        \"samples\": [\n          100.72792283385996,\n          42.0,\n          6013.0\n        ],\n        \"semantic_type\": \"\",\n        \"description\": \"\"\n      }\n    },\n    {\n      \"column\": \"TOTAL\",\n      \"properties\": {\n        \"dtype\": \"number\",\n        \"std\": 9634.900362068263,\n        \"min\": 0.09,\n        \"max\": 28156.22,\n        \"num_unique_values\": 8,\n        \"samples\": [\n          975.0695366705471,\n          276.62,\n          6013.0\n        ],\n        \"semantic_type\": \"\",\n        \"description\": \"\"\n      }\n    },\n    {\n      \"column\": \"TRACTOR\",\n      \"properties\": {\n        \"dtype\": \"number\",\n        \"std\": 2125.7123073287826,\n        \"min\": 0.0,\n        \"max\": 6013.0,\n        \"num_unique_values\": 5,\n        \"samples\": [\n          0.5464826209878596,\n          1.0,\n          0.49787607901852887\n        ],\n        \"semantic_type\": \"\",\n        \"description\": \"\"\n      }\n    },\n    {\n      \"column\": \"TRAILER\",\n      \"properties\": {\n        \"dtype\": \"number\",\n        \"std\": 2125.776426377279,\n        \"min\": 0.0,\n        \"max\": 6013.0,\n        \"num_unique_values\": 5,\n        \"samples\": [\n          0.311658074172626,\n          1.0,\n          0.46320945819620846\n        ],\n        \"semantic_type\": \"\",\n        \"description\": \"\"\n      }\n    },\n    {\n      \"column\": \"DOLLY\",\n      \"properties\": {\n        \"dtype\": \"number\",\n        \"std\": 2125.841268864115,\n        \"min\": 0.0,\n        \"max\": 6013.0,\n        \"num_unique_values\": 5,\n        \"samples\": [\n          0.1418593048395144,\n          1.0,\n          0.348934795025694\n        ],\n        \"semantic_type\": \"\",\n        \"description\": \"\"\n      }\n    },\n    {\n      \"column\": \"UnitYear\",\n      \"properties\": {\n        \"dtype\": \"number\",\n        \"std\": 1670.2790557292599,\n        \"min\": 2.1203072317787655,\n        \"max\": 6013.0,\n        \"num_unique_values\": 7,\n        \"samples\": [\n          6013.0,\n          2019.8819225012473,\n          2021.0\n        ],\n        \"semantic_type\": \"\",\n        \"description\": \"\"\n      }\n    },\n    {\n      \"column\": \"PART\",\n      \"properties\": {\n        \"dtype\": \"number\",\n        \"std\": 2125.7056627425122,\n        \"min\": 0.0,\n        \"max\": 6013.0,\n        \"num_unique_values\": 5,\n        \"samples\": [\n          0.7340761683020123,\n          1.0,\n          0.4418606309890599\n        ],\n        \"semantic_type\": \"\",\n        \"description\": \"\"\n      }\n    },\n    {\n      \"column\": \"SERVICES\",\n      \"properties\": {\n        \"dtype\": \"number\",\n        \"std\": 2125.834231890282,\n        \"min\": 0.0,\n        \"max\": 6013.0,\n        \"num_unique_values\": 5,\n        \"samples\": [\n          0.21752868784300683,\n          1.0,\n          0.41259940561178965\n        ],\n        \"semantic_type\": \"\",\n        \"description\": \"\"\n      }\n    },\n    {\n      \"column\": \"LABOR\",\n      \"properties\": {\n        \"dtype\": \"number\",\n        \"std\": 2125.8527734298577,\n        \"min\": 0.0,\n        \"max\": 6013.0,\n        \"num_unique_values\": 5,\n        \"samples\": [\n          0.04839514385498087,\n          1.0,\n          0.2146175996856822\n        ],\n        \"semantic_type\": \"\",\n        \"description\": \"\"\n      }\n    },\n    {\n      \"column\": \"CITA\",\n      \"properties\": {\n        \"dtype\": \"number\",\n        \"std\": 1865.696284533512,\n        \"min\": 68.0,\n        \"max\": 6013.0,\n        \"num_unique_values\": 6,\n        \"samples\": [\n          6013.0,\n          2648.1628139032096,\n          3709.0\n        ],\n        \"semantic_type\": \"\",\n        \"description\": \"\"\n      }\n    },\n    {\n      \"column\": \"Falla carretera\",\n      \"properties\": {\n        \"dtype\": \"number\",\n        \"std\": 2125.6536736562416,\n        \"min\": 0.0,\n        \"max\": 6013.0,\n        \"num_unique_values\": 5,\n        \"samples\": [\n          0.8255446532512889,\n          1.0,\n          0.37953212548463394\n        ],\n        \"semantic_type\": \"\",\n        \"description\": \"\"\n      }\n    }\n  ]\n}",
              "type": "dataframe"
            },
            "text/html": [
              "\n",
              "  <div id=\"df-905d33db-a304-4c35-9948-20852584b2b9\" class=\"colab-df-container\">\n",
              "    <div>\n",
              "<style scoped>\n",
              "    .dataframe tbody tr th:only-of-type {\n",
              "        vertical-align: middle;\n",
              "    }\n",
              "\n",
              "    .dataframe tbody tr th {\n",
              "        vertical-align: top;\n",
              "    }\n",
              "\n",
              "    .dataframe thead th {\n",
              "        text-align: right;\n",
              "    }\n",
              "</style>\n",
              "<table border=\"1\" class=\"dataframe\">\n",
              "  <thead>\n",
              "    <tr style=\"text-align: right;\">\n",
              "      <th></th>\n",
              "      <th>kMS</th>\n",
              "      <th>lagdias</th>\n",
              "      <th>laghoras</th>\n",
              "      <th>TOTAL</th>\n",
              "      <th>TRACTOR</th>\n",
              "      <th>TRAILER</th>\n",
              "      <th>DOLLY</th>\n",
              "      <th>UnitYear</th>\n",
              "      <th>PART</th>\n",
              "      <th>SERVICES</th>\n",
              "      <th>LABOR</th>\n",
              "      <th>CITA</th>\n",
              "      <th>Falla carretera</th>\n",
              "    </tr>\n",
              "  </thead>\n",
              "  <tbody>\n",
              "    <tr>\n",
              "      <th>count</th>\n",
              "      <td>6013.000000</td>\n",
              "      <td>6013.000000</td>\n",
              "      <td>6013.000000</td>\n",
              "      <td>6013.000000</td>\n",
              "      <td>6013.000000</td>\n",
              "      <td>6013.000000</td>\n",
              "      <td>6013.000000</td>\n",
              "      <td>6013.000000</td>\n",
              "      <td>6013.000000</td>\n",
              "      <td>6013.000000</td>\n",
              "      <td>6013.000000</td>\n",
              "      <td>6013.000000</td>\n",
              "      <td>6013.000000</td>\n",
              "    </tr>\n",
              "    <tr>\n",
              "      <th>mean</th>\n",
              "      <td>502542.785631</td>\n",
              "      <td>4.120738</td>\n",
              "      <td>100.727923</td>\n",
              "      <td>975.069537</td>\n",
              "      <td>0.546483</td>\n",
              "      <td>0.311658</td>\n",
              "      <td>0.141859</td>\n",
              "      <td>2019.881923</td>\n",
              "      <td>0.734076</td>\n",
              "      <td>0.217529</td>\n",
              "      <td>0.048395</td>\n",
              "      <td>2648.162814</td>\n",
              "      <td>0.825545</td>\n",
              "    </tr>\n",
              "    <tr>\n",
              "      <th>std</th>\n",
              "      <td>110878.490861</td>\n",
              "      <td>7.564475</td>\n",
              "      <td>181.413731</td>\n",
              "      <td>1973.896902</td>\n",
              "      <td>0.497876</td>\n",
              "      <td>0.463209</td>\n",
              "      <td>0.348935</td>\n",
              "      <td>2.120307</td>\n",
              "      <td>0.441861</td>\n",
              "      <td>0.412599</td>\n",
              "      <td>0.214618</td>\n",
              "      <td>1382.952466</td>\n",
              "      <td>0.379532</td>\n",
              "    </tr>\n",
              "    <tr>\n",
              "      <th>min</th>\n",
              "      <td>34105.000000</td>\n",
              "      <td>0.000000</td>\n",
              "      <td>1.000000</td>\n",
              "      <td>0.090000</td>\n",
              "      <td>0.000000</td>\n",
              "      <td>0.000000</td>\n",
              "      <td>0.000000</td>\n",
              "      <td>2016.000000</td>\n",
              "      <td>0.000000</td>\n",
              "      <td>0.000000</td>\n",
              "      <td>0.000000</td>\n",
              "      <td>68.000000</td>\n",
              "      <td>0.000000</td>\n",
              "    </tr>\n",
              "    <tr>\n",
              "      <th>25%</th>\n",
              "      <td>492345.000000</td>\n",
              "      <td>0.000000</td>\n",
              "      <td>6.000000</td>\n",
              "      <td>80.000000</td>\n",
              "      <td>0.000000</td>\n",
              "      <td>0.000000</td>\n",
              "      <td>0.000000</td>\n",
              "      <td>2019.000000</td>\n",
              "      <td>0.000000</td>\n",
              "      <td>0.000000</td>\n",
              "      <td>0.000000</td>\n",
              "      <td>1360.000000</td>\n",
              "      <td>1.000000</td>\n",
              "    </tr>\n",
              "    <tr>\n",
              "      <th>50%</th>\n",
              "      <td>510974.000000</td>\n",
              "      <td>2.000000</td>\n",
              "      <td>42.000000</td>\n",
              "      <td>276.620000</td>\n",
              "      <td>1.000000</td>\n",
              "      <td>0.000000</td>\n",
              "      <td>0.000000</td>\n",
              "      <td>2021.000000</td>\n",
              "      <td>1.000000</td>\n",
              "      <td>0.000000</td>\n",
              "      <td>0.000000</td>\n",
              "      <td>3709.000000</td>\n",
              "      <td>1.000000</td>\n",
              "    </tr>\n",
              "    <tr>\n",
              "      <th>75%</th>\n",
              "      <td>531871.000000</td>\n",
              "      <td>5.000000</td>\n",
              "      <td>123.000000</td>\n",
              "      <td>1000.000000</td>\n",
              "      <td>1.000000</td>\n",
              "      <td>1.000000</td>\n",
              "      <td>0.000000</td>\n",
              "      <td>2021.000000</td>\n",
              "      <td>1.000000</td>\n",
              "      <td>0.000000</td>\n",
              "      <td>0.000000</td>\n",
              "      <td>3709.000000</td>\n",
              "      <td>1.000000</td>\n",
              "    </tr>\n",
              "    <tr>\n",
              "      <th>max</th>\n",
              "      <td>770460.000000</td>\n",
              "      <td>91.000000</td>\n",
              "      <td>2183.000000</td>\n",
              "      <td>28156.220000</td>\n",
              "      <td>1.000000</td>\n",
              "      <td>1.000000</td>\n",
              "      <td>1.000000</td>\n",
              "      <td>2022.000000</td>\n",
              "      <td>1.000000</td>\n",
              "      <td>1.000000</td>\n",
              "      <td>1.000000</td>\n",
              "      <td>3709.000000</td>\n",
              "      <td>1.000000</td>\n",
              "    </tr>\n",
              "  </tbody>\n",
              "</table>\n",
              "</div>\n",
              "    <div class=\"colab-df-buttons\">\n",
              "\n",
              "  <div class=\"colab-df-container\">\n",
              "    <button class=\"colab-df-convert\" onclick=\"convertToInteractive('df-905d33db-a304-4c35-9948-20852584b2b9')\"\n",
              "            title=\"Convert this dataframe to an interactive table.\"\n",
              "            style=\"display:none;\">\n",
              "\n",
              "  <svg xmlns=\"http://www.w3.org/2000/svg\" height=\"24px\" viewBox=\"0 -960 960 960\">\n",
              "    <path d=\"M120-120v-720h720v720H120Zm60-500h600v-160H180v160Zm220 220h160v-160H400v160Zm0 220h160v-160H400v160ZM180-400h160v-160H180v160Zm440 0h160v-160H620v160ZM180-180h160v-160H180v160Zm440 0h160v-160H620v160Z\"/>\n",
              "  </svg>\n",
              "    </button>\n",
              "\n",
              "  <style>\n",
              "    .colab-df-container {\n",
              "      display:flex;\n",
              "      gap: 12px;\n",
              "    }\n",
              "\n",
              "    .colab-df-convert {\n",
              "      background-color: #E8F0FE;\n",
              "      border: none;\n",
              "      border-radius: 50%;\n",
              "      cursor: pointer;\n",
              "      display: none;\n",
              "      fill: #1967D2;\n",
              "      height: 32px;\n",
              "      padding: 0 0 0 0;\n",
              "      width: 32px;\n",
              "    }\n",
              "\n",
              "    .colab-df-convert:hover {\n",
              "      background-color: #E2EBFA;\n",
              "      box-shadow: 0px 1px 2px rgba(60, 64, 67, 0.3), 0px 1px 3px 1px rgba(60, 64, 67, 0.15);\n",
              "      fill: #174EA6;\n",
              "    }\n",
              "\n",
              "    .colab-df-buttons div {\n",
              "      margin-bottom: 4px;\n",
              "    }\n",
              "\n",
              "    [theme=dark] .colab-df-convert {\n",
              "      background-color: #3B4455;\n",
              "      fill: #D2E3FC;\n",
              "    }\n",
              "\n",
              "    [theme=dark] .colab-df-convert:hover {\n",
              "      background-color: #434B5C;\n",
              "      box-shadow: 0px 1px 3px 1px rgba(0, 0, 0, 0.15);\n",
              "      filter: drop-shadow(0px 1px 2px rgba(0, 0, 0, 0.3));\n",
              "      fill: #FFFFFF;\n",
              "    }\n",
              "  </style>\n",
              "\n",
              "    <script>\n",
              "      const buttonEl =\n",
              "        document.querySelector('#df-905d33db-a304-4c35-9948-20852584b2b9 button.colab-df-convert');\n",
              "      buttonEl.style.display =\n",
              "        google.colab.kernel.accessAllowed ? 'block' : 'none';\n",
              "\n",
              "      async function convertToInteractive(key) {\n",
              "        const element = document.querySelector('#df-905d33db-a304-4c35-9948-20852584b2b9');\n",
              "        const dataTable =\n",
              "          await google.colab.kernel.invokeFunction('convertToInteractive',\n",
              "                                                    [key], {});\n",
              "        if (!dataTable) return;\n",
              "\n",
              "        const docLinkHtml = 'Like what you see? Visit the ' +\n",
              "          '<a target=\"_blank\" href=https://colab.research.google.com/notebooks/data_table.ipynb>data table notebook</a>'\n",
              "          + ' to learn more about interactive tables.';\n",
              "        element.innerHTML = '';\n",
              "        dataTable['output_type'] = 'display_data';\n",
              "        await google.colab.output.renderOutput(dataTable, element);\n",
              "        const docLink = document.createElement('div');\n",
              "        docLink.innerHTML = docLinkHtml;\n",
              "        element.appendChild(docLink);\n",
              "      }\n",
              "    </script>\n",
              "  </div>\n",
              "\n",
              "\n",
              "<div id=\"df-adbb9037-ad0b-4644-b9c6-42b2bf7a7b27\">\n",
              "  <button class=\"colab-df-quickchart\" onclick=\"quickchart('df-adbb9037-ad0b-4644-b9c6-42b2bf7a7b27')\"\n",
              "            title=\"Suggest charts\"\n",
              "            style=\"display:none;\">\n",
              "\n",
              "<svg xmlns=\"http://www.w3.org/2000/svg\" height=\"24px\"viewBox=\"0 0 24 24\"\n",
              "     width=\"24px\">\n",
              "    <g>\n",
              "        <path d=\"M19 3H5c-1.1 0-2 .9-2 2v14c0 1.1.9 2 2 2h14c1.1 0 2-.9 2-2V5c0-1.1-.9-2-2-2zM9 17H7v-7h2v7zm4 0h-2V7h2v10zm4 0h-2v-4h2v4z\"/>\n",
              "    </g>\n",
              "</svg>\n",
              "  </button>\n",
              "\n",
              "<style>\n",
              "  .colab-df-quickchart {\n",
              "      --bg-color: #E8F0FE;\n",
              "      --fill-color: #1967D2;\n",
              "      --hover-bg-color: #E2EBFA;\n",
              "      --hover-fill-color: #174EA6;\n",
              "      --disabled-fill-color: #AAA;\n",
              "      --disabled-bg-color: #DDD;\n",
              "  }\n",
              "\n",
              "  [theme=dark] .colab-df-quickchart {\n",
              "      --bg-color: #3B4455;\n",
              "      --fill-color: #D2E3FC;\n",
              "      --hover-bg-color: #434B5C;\n",
              "      --hover-fill-color: #FFFFFF;\n",
              "      --disabled-bg-color: #3B4455;\n",
              "      --disabled-fill-color: #666;\n",
              "  }\n",
              "\n",
              "  .colab-df-quickchart {\n",
              "    background-color: var(--bg-color);\n",
              "    border: none;\n",
              "    border-radius: 50%;\n",
              "    cursor: pointer;\n",
              "    display: none;\n",
              "    fill: var(--fill-color);\n",
              "    height: 32px;\n",
              "    padding: 0;\n",
              "    width: 32px;\n",
              "  }\n",
              "\n",
              "  .colab-df-quickchart:hover {\n",
              "    background-color: var(--hover-bg-color);\n",
              "    box-shadow: 0 1px 2px rgba(60, 64, 67, 0.3), 0 1px 3px 1px rgba(60, 64, 67, 0.15);\n",
              "    fill: var(--button-hover-fill-color);\n",
              "  }\n",
              "\n",
              "  .colab-df-quickchart-complete:disabled,\n",
              "  .colab-df-quickchart-complete:disabled:hover {\n",
              "    background-color: var(--disabled-bg-color);\n",
              "    fill: var(--disabled-fill-color);\n",
              "    box-shadow: none;\n",
              "  }\n",
              "\n",
              "  .colab-df-spinner {\n",
              "    border: 2px solid var(--fill-color);\n",
              "    border-color: transparent;\n",
              "    border-bottom-color: var(--fill-color);\n",
              "    animation:\n",
              "      spin 1s steps(1) infinite;\n",
              "  }\n",
              "\n",
              "  @keyframes spin {\n",
              "    0% {\n",
              "      border-color: transparent;\n",
              "      border-bottom-color: var(--fill-color);\n",
              "      border-left-color: var(--fill-color);\n",
              "    }\n",
              "    20% {\n",
              "      border-color: transparent;\n",
              "      border-left-color: var(--fill-color);\n",
              "      border-top-color: var(--fill-color);\n",
              "    }\n",
              "    30% {\n",
              "      border-color: transparent;\n",
              "      border-left-color: var(--fill-color);\n",
              "      border-top-color: var(--fill-color);\n",
              "      border-right-color: var(--fill-color);\n",
              "    }\n",
              "    40% {\n",
              "      border-color: transparent;\n",
              "      border-right-color: var(--fill-color);\n",
              "      border-top-color: var(--fill-color);\n",
              "    }\n",
              "    60% {\n",
              "      border-color: transparent;\n",
              "      border-right-color: var(--fill-color);\n",
              "    }\n",
              "    80% {\n",
              "      border-color: transparent;\n",
              "      border-right-color: var(--fill-color);\n",
              "      border-bottom-color: var(--fill-color);\n",
              "    }\n",
              "    90% {\n",
              "      border-color: transparent;\n",
              "      border-bottom-color: var(--fill-color);\n",
              "    }\n",
              "  }\n",
              "</style>\n",
              "\n",
              "  <script>\n",
              "    async function quickchart(key) {\n",
              "      const quickchartButtonEl =\n",
              "        document.querySelector('#' + key + ' button');\n",
              "      quickchartButtonEl.disabled = true;  // To prevent multiple clicks.\n",
              "      quickchartButtonEl.classList.add('colab-df-spinner');\n",
              "      try {\n",
              "        const charts = await google.colab.kernel.invokeFunction(\n",
              "            'suggestCharts', [key], {});\n",
              "      } catch (error) {\n",
              "        console.error('Error during call to suggestCharts:', error);\n",
              "      }\n",
              "      quickchartButtonEl.classList.remove('colab-df-spinner');\n",
              "      quickchartButtonEl.classList.add('colab-df-quickchart-complete');\n",
              "    }\n",
              "    (() => {\n",
              "      let quickchartButtonEl =\n",
              "        document.querySelector('#df-adbb9037-ad0b-4644-b9c6-42b2bf7a7b27 button');\n",
              "      quickchartButtonEl.style.display =\n",
              "        google.colab.kernel.accessAllowed ? 'block' : 'none';\n",
              "    })();\n",
              "  </script>\n",
              "</div>\n",
              "\n",
              "    </div>\n",
              "  </div>\n"
            ],
            "text/plain": [
              "                 kMS      lagdias     laghoras         TOTAL      TRACTOR  \\\n",
              "count    6013.000000  6013.000000  6013.000000   6013.000000  6013.000000   \n",
              "mean   502542.785631     4.120738   100.727923    975.069537     0.546483   \n",
              "std    110878.490861     7.564475   181.413731   1973.896902     0.497876   \n",
              "min     34105.000000     0.000000     1.000000      0.090000     0.000000   \n",
              "25%    492345.000000     0.000000     6.000000     80.000000     0.000000   \n",
              "50%    510974.000000     2.000000    42.000000    276.620000     1.000000   \n",
              "75%    531871.000000     5.000000   123.000000   1000.000000     1.000000   \n",
              "max    770460.000000    91.000000  2183.000000  28156.220000     1.000000   \n",
              "\n",
              "           TRAILER        DOLLY     UnitYear         PART     SERVICES  \\\n",
              "count  6013.000000  6013.000000  6013.000000  6013.000000  6013.000000   \n",
              "mean      0.311658     0.141859  2019.881923     0.734076     0.217529   \n",
              "std       0.463209     0.348935     2.120307     0.441861     0.412599   \n",
              "min       0.000000     0.000000  2016.000000     0.000000     0.000000   \n",
              "25%       0.000000     0.000000  2019.000000     0.000000     0.000000   \n",
              "50%       0.000000     0.000000  2021.000000     1.000000     0.000000   \n",
              "75%       1.000000     0.000000  2021.000000     1.000000     0.000000   \n",
              "max       1.000000     1.000000  2022.000000     1.000000     1.000000   \n",
              "\n",
              "             LABOR         CITA  Falla carretera  \n",
              "count  6013.000000  6013.000000      6013.000000  \n",
              "mean      0.048395  2648.162814         0.825545  \n",
              "std       0.214618  1382.952466         0.379532  \n",
              "min       0.000000    68.000000         0.000000  \n",
              "25%       0.000000  1360.000000         1.000000  \n",
              "50%       0.000000  3709.000000         1.000000  \n",
              "75%       0.000000  3709.000000         1.000000  \n",
              "max       1.000000  3709.000000         1.000000  "
            ]
          },
          "execution_count": 146,
          "metadata": {},
          "output_type": "execute_result"
        }
      ],
      "source": [
        "# Analizamos cual es el valor minimo para cada una, es muy importante\n",
        "# para obtener el metodo para transformar\n",
        "data_sayer.describe()"
      ]
    },
    {
      "cell_type": "code",
      "execution_count": null,
      "metadata": {
        "id": "LvFcsA9bAlSe"
      },
      "outputs": [],
      "source": [
        "# Importamos una libreria para la visualizacion de la distribucion de los datos en nuestras columnas\n",
        "# nominales\n",
        "import matplotlib.pyplot as plt"
      ]
    },
    {
      "cell_type": "code",
      "execution_count": null,
      "metadata": {
        "colab": {
          "base_uri": "https://localhost:8080/",
          "height": 871
        },
        "id": "_RkomSFpBLyQ",
        "outputId": "d7a2ddd5-3fcf-4cee-b50b-69301b5c3ef1"
      },
      "outputs": [
        {
          "data": {
            "image/png": "[encoded data removed]",
            "text/plain": [
              "<Figure size 1200x1000 with 16 Axes>"
            ]
          },
          "metadata": {},
          "output_type": "display_data"
        }
      ],
      "source": [
        "pd.plotting.scatter_matrix(data_sayer[['lagdias', 'laghoras', 'TOTAL', 'UnitYear']],\n",
        "                           figsize=(12,10))\n",
        "plt.show()\n",
        "\n",
        "# Aqui debemos identificar aquellas que no tienen una distribucion normal, y que tenga sentidos aplicarlas\n",
        "# una transformacion. En este caso, podriamos ocupar las variables 'dias, horas y TOTAL'"
      ]
    },
    {
      "cell_type": "code",
      "execution_count": null,
      "metadata": {
        "id": "jVc819iCC8K3"
      },
      "outputs": [],
      "source": [
        "# Dada la naturaleza de nuestros datos, no seria posible aplicar una 'Transformada\n",
        "# Logaritmica', porque contamos con valores entre 0 y 1.\n",
        "# Ademas si intentamos utilizar un metodo como el de 'Box-Cox', nos daria un error\n",
        "# en la ejecucion, pues este solo permite valores mayores a 1.\n",
        "# Es por ello que nuestro unico metodo de transformacion plausible para utilizar\n",
        "# seria el de Yeo-johnson, que acepta un rango de valores de negativos, positivos\n",
        "# y 0.\n",
        "\n",
        "import seaborn as sns\n",
        "from sklearn.preprocessing import PowerTransformer\n",
        "\n",
        "scaler = PowerTransformer(method='yeo-johnson')\n",
        "\n",
        "pow_trans = scaler.fit_transform(data_sayer[['lagdias', 'laghoras', 'TOTAL']])\n",
        "data_sayer['pow_lagdias'] = pow_trans[:, 0]\n",
        "data_sayer['pow_laghoras'] = pow_trans[:, 1]\n",
        "data_sayer['pow_total'] = pow_trans[:, 2]"
      ]
    },
    {
      "cell_type": "code",
      "execution_count": null,
      "metadata": {
        "colab": {
          "base_uri": "https://localhost:8080/",
          "height": 507
        },
        "id": "DSIXtGpcFAAr",
        "outputId": "aa2e2b93-562b-4fa6-dd32-e692c254cd40"
      },
      "outputs": [
        {
          "name": "stderr",
          "output_type": "stream",
          "text": [
            "/usr/local/lib/python3.10/dist-packages/pandas/core/arraylike.py:396: RuntimeWarning: invalid value encountered in log\n",
            "  result = getattr(ufunc, method)(*inputs, **kwargs)\n"
          ]
        },
        {
          "data": {
            "text/plain": [
              "Text(0.5, 1.0, 'Pow LAGDIAS')"
            ]
          },
          "execution_count": 150,
          "metadata": {},
          "output_type": "execute_result"
        },
        {
          "data": {
            "image/png": "[encoded data removed]",
            "text/plain": [
              "<Figure size 640x480 with 2 Axes>"
            ]
          },
          "metadata": {},
          "output_type": "display_data"
        }
      ],
      "source": [
        "# Comparativa entre las distribuciones anteriores y posteriores a la transformacion\n",
        "fig, ax = plt.subplots(1, 2)\n",
        "ax[0].hist(data_sayer.lagdias)\n",
        "ax[0].set_title('LAGDIAS')\n",
        "ax[1].hist(np.log(data_sayer.pow_lagdias))\n",
        "ax[1].set_title('Pow LAGDIAS')"
      ]
    },
    {
      "cell_type": "code",
      "execution_count": null,
      "metadata": {
        "colab": {
          "base_uri": "https://localhost:8080/",
          "height": 470
        },
        "id": "Ss9RNXn6GZbi",
        "outputId": "7b655b29-29db-4022-cf05-7e7e8cc6bf62"
      },
      "outputs": [
        {
          "data": {
            "text/plain": [
              "Text(0.5, 1.0, 'Pow LAGHORAS')"
            ]
          },
          "execution_count": 152,
          "metadata": {},
          "output_type": "execute_result"
        },
        {
          "data": {
            "image/png": "[encoded data removed]",
            "text/plain": [
              "<Figure size 640x480 with 2 Axes>"
            ]
          },
          "metadata": {},
          "output_type": "display_data"
        }
      ],
      "source": [
        "# Comparativa entre las distribuciones anteriores y posteriores a la transformacion\n",
        "fig, ax = plt.subplots(1, 2)\n",
        "ax[0].hist(data_sayer.laghoras)\n",
        "ax[0].set_title('LAGHORAS')\n",
        "ax[1].hist(np.log(data_sayer.pow_laghoras))\n",
        "ax[1].set_title('Pow LAGHORAS')"
      ]
    },
    {
      "cell_type": "code",
      "execution_count": null,
      "metadata": {
        "colab": {
          "base_uri": "https://localhost:8080/",
          "height": 470
        },
        "id": "HqdfpoZQGukW",
        "outputId": "49899511-6d41-4e41-b390-2daf18d6f659"
      },
      "outputs": [
        {
          "data": {
            "text/plain": [
              "Text(0.5, 1.0, 'Pow TOTAL')"
            ]
          },
          "execution_count": 153,
          "metadata": {},
          "output_type": "execute_result"
        },
        {
          "data": {
            "image/png": "[encoded data removed]",
            "text/plain": [
              "<Figure size 640x480 with 2 Axes>"
            ]
          },
          "metadata": {},
          "output_type": "display_data"
        }
      ],
      "source": [
        "# Comparativa entre las distribuciones anteriores y posteriores a la transformacion\n",
        "fig, ax = plt.subplots(1, 2)\n",
        "ax[0].hist(data_sayer.TOTAL)\n",
        "ax[0].set_title('TOTAL')\n",
        "ax[1].hist(np.log(data_sayer.pow_total))\n",
        "ax[1].set_title('Pow TOTAL')"
      ]
    },
    {
      "cell_type": "code",
      "execution_count": null,
      "metadata": {
        "colab": {
          "base_uri": "https://localhost:8080/",
          "height": 563
        },
        "id": "JW1XVFfSHjIQ",
        "outputId": "38f1ea88-caca-4fd7-9219-2460864d747f"
      },
      "outputs": [
        {
          "data": {
            "text/plain": [
              "Text(0.5, 1.0, 'Pow Transformed data')"
            ]
          },
          "execution_count": 154,
          "metadata": {},
          "output_type": "execute_result"
        },
        {
          "data": {
            "image/png": "[encoded data removed]",
            "text/plain": [
              "<Figure size 1600x600 with 4 Axes>"
            ]
          },
          "metadata": {},
          "output_type": "display_data"
        }
      ],
      "source": [
        "# Finalmente hacemos una comparativa con su covarianza, para afirmar el incremento\n",
        "# entre la variabilidad entre una y otra\n",
        "fig, (ax1, ax2) = plt.subplots(1, 2, figsize=(16,6))\n",
        "sns.heatmap(data_sayer[['lagdias', 'laghoras', 'TOTAL']].corr(), annot=True, ax=ax1).set_title('Original data')\n",
        "sns.heatmap(data_sayer[['pow_lagdias', 'pow_laghoras', 'pow_total']].corr(), annot=True, ax=ax2).set_title('Pow Transformed data')"
      ]
    },
    {
      "cell_type": "markdown",
      "metadata": {
        "id": "WGRP4osbZXUo"
      },
      "source": [
        "# RESULTADOS OBTENIDOS"
      ]
    },
    {
      "cell_type": "markdown",
      "metadata": {
        "id": "M1CULgucb8mk"
      },
      "source": [
        "En este entregable se logró encontrar el porcentaje significativo del número de rescates en carretera respecto al total.\n",
        "\n",
        "Además, se clasificaron las reparaciones realizadas acorde a su periodo de tiempo, y los costos de las mismas según su rango.\n",
        "\n",
        "Por último, se trabajaron los valores atípicos afirmando el incremento entre la variabilidad de los valores importantes para el proyecto."
      ]
    },
    {
      "cell_type": "markdown",
      "metadata": {
        "id": "BxJrGqT98_Vk"
      },
      "source": [
        "# Convertir a HTML"
      ]
    },
    {
      "cell_type": "code",
      "execution_count": null,
      "metadata": {
        "colab": {
          "base_uri": "https://localhost:8080/"
        },
        "id": "tMplvWHyVGNp",
        "outputId": "4e80646e-3b17-4fd6-821a-707921e57d23"
      },
      "outputs": [
        {
          "name": "stdout",
          "output_type": "stream",
          "text": [
            "[NbConvertApp] Converting notebook /content/E5_Construcción_y_transformación_de_datos.ipynb to html\n",
            "[NbConvertApp] Writing 1426808 bytes to /content/E5_Construcción_y_transformación_de_datos.html\n"
          ]
        },
        {
          "data": {
            "text/plain": []
          },
          "execution_count": 1,
          "metadata": {},
          "output_type": "execute_result"
        }
      ],
      "source": [
        "%%shell\n",
        "jupyter nbconvert --to html /content/E5_Construcción_y_transformación_de_datos.ipynb"
      ]
    }
  ],
  "metadata": {
    "colab": {
      "include_colab_link": true,
      "provenance": []
    },
    "kernelspec": {
      "display_name": "Python 3",
      "name": "python3"
    },
    "language_info": {
      "codemirror_mode": {
        "name": "ipython",
        "version": 3
      },
      "file_extension": ".py",
      "mimetype": "text/x-python",
      "name": "python",
      "nbconvert_exporter": "python",
      "pygments_lexer": "ipython3",
      "version": "3.10.12"
    }
  },
  "nbformat": 4,
  "nbformat_minor": 0
}
