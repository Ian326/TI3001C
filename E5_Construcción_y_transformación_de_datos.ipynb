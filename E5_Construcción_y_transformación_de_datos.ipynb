{
 "cells": [
  {
   "cell_type": "markdown",
   "metadata": {},
   "source": [
    "<a href=\"https://colab.research.google.com/github/Ian326/TI3001C/blob/main/E5_Construcci%C3%B3n_y_transformaci%C3%B3n_de_datos.ipynb\" target=\"_parent\"><img src=\"https://colab.research.google.com/assets/colab-badge.svg\" alt=\"Open In Colab\"/></a>"
   ]
  },
  {
   "cell_type": "markdown",
   "metadata": {},
   "source": [
    "# Recolección y descripción de datos\n",
    "---\n",
    "***Equipo:***\n",
    "\n",
    "**Ruth Jiménez Vázquez - A01351923**\n",
    "\n",
    "**José Ignacio Gómez Moreno - A01067362**\n",
    "\n",
    "**Harry Hernández Grande - A01736341**\n",
    "\n",
    "**Ian Joab Padrón Corona - A01708940**\n",
    "\n",
    "---\n",
    "\n"
   ]
  },
  {
   "cell_type": "markdown",
   "metadata": {},
   "source": [
    "## Carga de datos"
   ]
  },
  {
   "cell_type": "code",
   "execution_count": null,
   "outputs": [],
   "metadata": {},
   "source": [
    "'''\n",
    "===============================================================================\n",
    "Librerias de Python a utilizar en el proyecto\n",
    "===============================================================================\n",
    "pandas: Libreria de manipulacion de datos en DataFrames\n",
    "numpy: Libreria de manipulacion de datos en arrays o funciones matematicas\n",
    "missingno: Libreria de visualizacion de datos nulos\n",
    "CountEncoder: Convertir variables categoricas en numericas asignandoles un valor de acuerdo a su relevancia\n",
    "OneHotEncoder: Convertir variables categoricas en numericas creando columnas binarias\n",
    "matplotlib: Libreria de visualizacion de datos a traves de graficos\n",
    "seaborn: Libreria de visualizacion de datos a traves de graficos. (Extension de matplotlib)\n",
    "PowerTransformer: Transformar variables numericas a traves de una transformacion de potencia. Para normalizar los datos\n",
    "'''\n",
    "\n",
    "import pandas as pd\n",
    "import numpy as np\n",
    "\n",
    "import missingno as msno\n",
    "\n",
    "from category_encoders import CountEncoder\n",
    "from category_encoders import OneHotEncoder\n",
    "\n",
    "import matplotlib.pyplot as plt\n",
    "\n",
    "import seaborn as sns\n",
    "\n",
    "from sklearn.preprocessing import PowerTransformer"
   ]
  },
  {
   "cell_type": "code",
   "execution_count": null,
   "metadata": {},
   "outputs": [],
   "source": [
    "print(pd.read_csv('../content/vista_repdetail_tec.csv', low_memory=False).info())\n",
    "# Como se puede observar, el archivo .CSV no contiene el nombre de las columnas a utilizar.\n",
    "# Debido a esto, utiliza el primer registro como nombre de las columnas.\n",
    "# Por tanto, se debera asignar manualmente el nombre de las columnas según el diccionario de datos \n",
    "# proporcionado por el cliente."
   ]
  },
  {
   "cell_type": "code",
   "execution_count": null,
   "metadata": {},
   "outputs": [],
   "source": [
    "# Nombres de las columnas según el Diccionario de Datos proporcionado\n",
    "columns = [\n",
    "    \"Column\", \"Taller\", \"OrderID\", \"kMS\", \"OpenedDate\", \"ClosedDate\", \"Status\",\n",
    "    \"lagdias\", \"laghoras\", \"ClosedDay\", \"ClosedMonth\", \"ClosedYear\", \"OpenedDay\",\n",
    "    \"OpenedMonth\", \"OpenedYear\", \"CreatedBy\", \"ClosedBy\", \"RepReason\",\n",
    "    \"OrderType\", \"Supplier\", \"COMPCDKEY\", \"COMPCODE\", \"DESCRIP\", \"QTYRCVD\",\n",
    "    \"QTYREQD\", \"CHGAMT\", \"TAXAMT\", \"SUBTOTAL\", \"TOTAL\", \"UnitID\", \"UnitType\",\n",
    "    \"UnitYear\", \"EC\", \"Flota\", \"ReasonType\", \"COMPLAINT\", \"Jobcode\", \"TipoLinea\",\n",
    "    \"NumParte\", \"FechaPromesa\", \"Estimate\", \"CompleteDay\", \"CompleteMonth\",\n",
    "    \"CompleteYear\", \"CompleteDate\", \"MECHANIC\", \"CITA\"\n",
    "]\n",
    "\n",
    "# Cargar el archivo .CSV con los nombres de las columnas asignados a un DataFrame 'data'\n",
    "data = pd.read_csv('../content/vista_repdetail_tec.csv', names=columns, low_memory=False)\n",
    "# Mostrar la informacion del DataFrame creado\n",
    "data.info()"
   ]
  },
  {
   "cell_type": "code",
   "execution_count": null,
   "metadata": {},
   "outputs": [],
   "source": [
    "# Visualizacion de una muestra de los datos en el DataFrame\n",
    "data.sample(3)"
   ]
  },
  {
   "cell_type": "markdown",
   "metadata": {},
   "source": [
    "## Documentación de los esquemas de datos"
   ]
  },
  {
   "cell_type": "markdown",
   "metadata": {},
   "source": [
    "* ¿Cuál es nuestra fuente de datos?\n",
    "\n",
    "Actualmente, la información es recabada por nuestro SocioFormador TDR. Tenemos acceso a un escritorio remoto que está a su vez conectado con un servidor de Microsoft SQL Server.\n",
    "\n",
    "A partir de dicho servidor, llamamos a una de las vistas a las que nos dieron acceso, para recabar toda la información sobre las reparaciones de su flota.\n",
    "\n",
    "\n",
    "* ¿Cómo obtenemos la información?\n",
    "\n",
    "A traves de una Query de SQL a la que nos autorizaron, que seria la siguiente:\n",
    "\n",
    "\n",
    "```\n",
    "SELECT * FROM [TMWSuite].[dbo].[vista_repdetail_tec]\n",
    "```\n",
    "\n",
    "\n"
   ]
  },
  {
   "cell_type": "markdown",
   "metadata": {},
   "source": [
    "## Diccionario de datos"
   ]
  },
  {
   "cell_type": "markdown",
   "metadata": {},
   "source": [
    "| Column        | Descripción                                                                                       |\n",
    "| ------------- | ------------------------------------------------------------------------------------------------- |\n",
    "| OrderID       | ID de la orden de reparación                                                                      |\n",
    "| Taller        | Acrónimo del taller donde se realizó la reparación                                                |\n",
    "| kMS         | Kilometros viajados por la unidad                                                                     |\n",
    "| OpenedDate    | Fecha de apertura de la orden de reparación                                                       |\n",
    "| ClosedDate    | Fecha de cierre de la orden de reparación                                                         |\n",
    "| Status        | Estatus de la orden de reparación                                                                 |\n",
    "| lagdias       | Días entre cierre y apertura de la orden de reparación                                            |\n",
    "| laghoras      | Horas entre cierre y apertura de la orden de reparación                                           |\n",
    "| ClosedDay     | Día del mes en que se cerró la orden de reparación                                                |\n",
    "| ClosedMonth   | Mes que se cerró la orden de reparación                                                           |\n",
    "| ClosedYear    | Año en que se cerró la orden de reparación                                                        |\n",
    "| OpenedDay     | Día del mes en que se abrió la orden de reparación                                                |\n",
    "| OpenedMonth   | Mes que se abrió la orden de reparación                                                           |\n",
    "| OpenedYear    | Año en que se abrió la orden de reparación                                                        |\n",
    "| CreatedBy     | Usuario que creó la orden de reparación                                                           |\n",
    "| ClosedBy      | Usuario que cerro la orden de reparación                                                          |\n",
    "| RepReason     | Razón de reparación                                                                               |\n",
    "| OrderType     | Tipo de orden. Standar es en uno de nuestros talleres propios. Vendor es con un proveedor externo |\n",
    "| Supplier      | Proveedor que realizó la reparación                                                               |\n",
    "| COMPCDKEY     | Codigo de componente (No aporta info importante)                                                  |\n",
    "| COMPCODE      | Codigo utilizado para identificar el tipo de reparación                                           |\n",
    "| DESCRIP       | Descripción de la reparación                                                                      |\n",
    "| QTYRCVD       | Cantidad de piezas o trabajo recibidas                                                            |\n",
    "| QTYREQD       | Cantidad de piezas o trabajo requeridas                                                           |\n",
    "| CHGAMT        | Costo unitario                                                                                    |\n",
    "| TAXAMT        | IVA                                                                                               |\n",
    "| SUBTOTAL      | Subtotal de la reparación (No incluye IVA)                                                        |\n",
    "| TOTAL         | Total de la reparación (Incluye IVA)                                                              |\n",
    "| UnitID        | Numero de unidad                                                                                  |\n",
    "| UnitType      | Tipo de unidad (Tracto, Caja Seca, Dolly, etc.)                                                   |\n",
    "| UnitYear      | Año del modelo de la unidad                                                                       |\n",
    "| EC            | Equipo administrativo que se encarga de la operación de un conjunto de proyectos                  |\n",
    "| Flota         | Nombre del proyecto en que trabaja el tracto. (Cliente)                                           |\n",
    "| ReasonType    | Razón (No aporta info importante)                                                                 |\n",
    "| COMPLAINT     | Queja reportada                                                                                   |\n",
    "| Jobcode       | Numero para identificar el tipo de reparación                                                     |\n",
    "| TipoLinea     | Describe el tipo de línea en la orden de reparación (Piezas, mano de obra, servicios, etc.)       |\n",
    "| NumParte      | Numero de parte descarga en la línea de reparación                                                |\n",
    "| FechaPromesa  | Fecha de promesa para terminar las reparaciones de la unidad                                      |\n",
    "| Estimate      | Monto estimado (No lo utilizamos)                                                                 |\n",
    "| CompleteDay   | Día del mes en que se completó la orden                                                           |\n",
    "| CompleteMonth | Mes que se completó la orden de reparación                                                        |\n",
    "| CompleteYear  | Año en que se completó la orden de reparación                                                     |\n",
    "| CompleteDate  | Fecha en que se completó la orden de reparación                                                   |\n",
    "| MECHANIC      | Mecánico interno que realizó la reparación                                                        |\n",
    "| CITA          | Indica si la unidad tenía una cita agenda previamente                                             |"
   ]
  },
  {
   "cell_type": "markdown",
   "metadata": {},
   "source": [
    "## Análisis de la estructura de los datos"
   ]
  },
  {
   "cell_type": "markdown",
   "metadata": {},
   "source": [
    "* ¿Que tipo de datos tenemos? **Tenemos 13 de tipo float, 4 int, y 30 object.**\n",
    "* ¿Requerimos modificar el tipo de datos de alguna columna? **Sí, para ser precisos, debemos convertir las siguientes columnas:**\n",
    "  * **A int64**:\n",
    "    * lagdias: Son cantidad de dias, no pueden venir con decimales\n",
    "    * laghoras: Son cantidad de horas, no pueden venir con decimales\n",
    "    * ClosedDay: Es el numero del dia en que fue cerrada (puede ser de 1 - 31)\n",
    "    * QTYRCVD: Es una cantidad de piezas, no puede venir con decimales\n",
    "    * QTYREQD: Es una cantidad de piezas, no puede venir con decimales\n",
    "    * CompleteDay: Es el numero del dia en que fue cerrada (puede ser de 1 - 31)\n",
    "    * CompleteYear: Es un año (no puede tener punto decimal o ser un string)\n",
    "  \n",
    "  * **A datetime64**\n",
    "    * OpenedDate: Actualmente es un object, debe ser fecha\n",
    "    * ClosedDate: Actualmente es un object, debe ser fecha\n",
    "    * FechaPromesa: Actualmente es un object, debe ser fecha\n",
    "    * CompleteDate: Actualmente es un object, debe ser fecha\n",
    "\n",
    "* ¿Existen nulos? **Sí, actualmente hay 689,643 registros faltantes en toda la informacion que tenemos**"
   ]
  },
  {
   "cell_type": "code",
   "execution_count": null,
   "metadata": {},
   "outputs": [],
   "source": [
    "# Conteo de valores nulos en el DataFrame\n",
    "data.isnull().sum()"
   ]
  },
  {
   "cell_type": "code",
   "execution_count": null,
   "metadata": {},
   "outputs": [],
   "source": [
    "print(data.isnull().sum().sum()) # <- Cantidad de nulos"
   ]
  },
  {
   "cell_type": "markdown",
   "metadata": {},
   "source": [
    "## Perfiles involucrados"
   ]
  },
  {
   "cell_type": "markdown",
   "metadata": {},
   "source": [
    "*   Equipo de TDR que nos puede ayudar con los datos (Identificar por nombre y cargo)\n",
    "\n",
    "\n",
    "### Ing. Emmanuel Vargas Pérez\n",
    "\n",
    "**Jefe de Administración de Equipo**\n",
    "\n",
    "Nos proporcionará información sobre el proyecto que desarrollaremos (Sayer), incluyendo configuraciones de las flotas de tractocamiones y las fallas más comunes que suelen presentar estos vehículos.\n",
    "\n",
    "\n"
   ]
  },
  {
   "cell_type": "markdown",
   "metadata": {},
   "source": [
    "\n",
    "\n",
    "### Ing. Mauricio Romo Ávila\n",
    "\n",
    "**Subdirector de Mantenimiento**\n",
    "\n",
    "Nos brindará información sobre el mantenimiento de los tractocamiones, incluyendo las fallas comunes, los costos asociados a estas fallas, las ubicaciones donde ocurren con mayor frecuencia, el número de talleres disponibles (tanto propios como generales), y responderá dudas sobre sus mantenimientos correctivos."
   ]
  },
  {
   "cell_type": "markdown",
   "metadata": {},
   "source": [
    "\n",
    "### Ing. Brandon Velazco\n",
    "\n",
    "**Jefe de Taller**\n",
    "\n",
    "Aportará información relevante sobre los tractocamiones, incluyendo detalles sobre las partes y componentes específicos que suelen fallar, en qué consisten estas fallas, así como la duración y el costo de las mismas."
   ]
  },
  {
   "cell_type": "markdown",
   "metadata": {},
   "source": [
    "*   Los profesores nos brindarán las herramientas y conocimientos\n",
    "necesarios para lograr las metas y objetivos."
   ]
  },
  {
   "cell_type": "markdown",
   "metadata": {},
   "source": [
    "## Limpieza de Indices y Columnas"
   ]
  },
  {
   "cell_type": "markdown",
   "metadata": {},
   "source": [
    "* ¿Qué indices vamos a utilizar?\n",
    " **La mejor opcion seria dejar un valor numérico discreto como índice, con el fin de que no tenga valores repetidos**\n",
    "\n",
    "* ¿Qué columnas requieren un cambio de Tipo de Dato?\n",
    "  * **A int64**:\n",
    "      * lagdias: Son cantidad de días (enteros), no pueden venir con decimales\n",
    "      * laghoras: Son cantidad de horas (enteros), no pueden venir con decimales\n",
    "      * ClosedDay: Es el número del día en que fue cerrada (puede ser de 1 - 31)\n",
    "      * QTYRCVD: Es una cantidad de piezas (enteras), no puede venir con decimales\n",
    "      * QTYREQD: Es una cantidad de piezas (enteras), no puede venir con decimales\n",
    "      * CompleteDay: Es el número del día en que fue cerrada (puede ser de 1 - 31)\n",
    "      * CompleteYear: Es un año (no puede tener punto decimal o ser un string)\n",
    "\n",
    "  * **A float64**:\n",
    "    * Estimate: Se encuentra como object actualmente, debe ser un precio en decimal\n",
    "  \n",
    "  * **A datetime64**\n",
    "    * OpenedDate: Actualmente es un object, debe ser fecha\n",
    "    * ClosedDate: Actualmente es un object, debe ser fecha\n",
    "    * FechaPromesa: Actualmente es un object, debe ser fecha\n",
    "    * CompleteDate: Actualmente es un object, debe ser fecha\n"
   ]
  },
  {
   "cell_type": "code",
   "execution_count": null,
   "metadata": {},
   "outputs": [],
   "source": [
    "# Convertir las columnas requeridas a 'DateTime'\n",
    "data['OpenedDate'] = pd.to_datetime(data['OpenedDate'])\n",
    "data['ClosedDate'] = pd.to_datetime(data['ClosedDate'])\n",
    "data['FechaPromesa'] = pd.to_datetime(data['FechaPromesa'])\n",
    "data['CompleteDate'] = pd.to_datetime(data['CompleteDate'])"
   ]
  },
  {
   "cell_type": "code",
   "execution_count": null,
   "metadata": {},
   "outputs": [],
   "source": [
    "# Redondear los decimales de las columnas requeridas a 0, para posteriormente convertirlas a 'Int'\n",
    "data['lagdias'] = data['lagdias'].round(0)\n",
    "data['laghoras'] = data['laghoras'].round(0)\n",
    "data['ClosedDay'] = data['ClosedDay'].round(0)\n",
    "data['ClosedYear'] = data['ClosedYear'].round(0)\n",
    "data['QTYRCVD'] = data['QTYRCVD'].round(0)\n",
    "data['QTYREQD'] = data['QTYREQD'].round(0)\n",
    "data['CompleteDay'] = data['CompleteDay'].round(0)\n",
    "data['CompleteYear'] = data['CompleteYear'].round(0)"
   ]
  },
  {
   "cell_type": "code",
   "execution_count": null,
   "metadata": {},
   "outputs": [],
   "source": [
    "# Llenar los valores nulos de las columnas requeridas con 0, para posteriormente convertirlas a 'Int'\n",
    "data['lagdias'] = data['lagdias'].fillna(0)\n",
    "data['laghoras'] = data['laghoras'].fillna(0)\n",
    "data['ClosedDay'] = data['ClosedDay'].fillna(0)\n",
    "data['ClosedYear'] = data['ClosedYear'].fillna(0)\n",
    "data['QTYRCVD'] = data['QTYRCVD'].fillna(0)\n",
    "data['QTYREQD'] = data['QTYREQD'].fillna(0)\n",
    "data['CompleteDay'] = data['CompleteDay'].fillna(0)\n",
    "data['CompleteYear'] = data['CompleteYear'].fillna(0)"
   ]
  },
  {
   "cell_type": "code",
   "execution_count": null,
   "metadata": {},
   "outputs": [],
   "source": [
    "# Convertir las columnas requeridas a 'Int'\n",
    "data['lagdias'] = data['lagdias'].astype(int)\n",
    "data['laghoras'] = data['laghoras'].astype(int)\n",
    "data['ClosedDay'] = data['ClosedDay'].astype(int)\n",
    "data['ClosedYear'] = data['ClosedYear'].astype(int)\n",
    "data['QTYRCVD'] = data['QTYRCVD'].astype(int)\n",
    "data['QTYREQD'] = data['QTYREQD'].astype(int)\n",
    "data['CompleteDay'] = data['CompleteDay'].astype(int)\n",
    "data['CompleteYear'] = data['CompleteYear'].astype(int)"
   ]
  },
  {
   "cell_type": "code",
   "execution_count": null,
   "metadata": {},
   "outputs": [],
   "source": [
    "# Convertir columnas requeridas a 'Float'\n",
    "# data['Estimate'] = data['Estimate'].astype(float)\n",
    "# No se puede, porque la informacion en la columna 'Estimate' no es realmente un estimado"
   ]
  },
  {
   "cell_type": "code",
   "execution_count": null,
   "metadata": {},
   "outputs": [],
   "source": [
    "# Volver a revisar el tipo de dato de las columnas\n",
    "data.info()"
   ]
  },
  {
   "cell_type": "markdown",
   "metadata": {},
   "source": [
    "## Análisis de los datos (Descriptiores Estadisticos)"
   ]
  },
  {
   "cell_type": "code",
   "execution_count": null,
   "metadata": {},
   "outputs": [],
   "source": [
    "# Seleccionar sólo las variables relevantes para las estadisticas\n",
    "data_descriptive = data[['lagdias', 'laghoras','TOTAL','UnitYear',\n",
    "                      'RepReason', 'UnitType', 'TipoLinea', 'CITA', 'COMPLAINT']]\n",
    "\n",
    "data_descriptive.sample(10)"
   ]
  },
  {
   "cell_type": "markdown",
   "metadata": {},
   "source": [
    "**Estadística descriptiva de las variables numéricas**"
   ]
  },
  {
   "cell_type": "code",
   "execution_count": null,
   "metadata": {},
   "outputs": [],
   "source": [
    "# Estadística descriptiva de las variables numéricas\n",
    "data_descriptive.describe()"
   ]
  },
  {
   "cell_type": "markdown",
   "metadata": {},
   "source": [
    "| Variable numérica | Descripción | Rango | Desviación estándar |\n",
    "|-----------|-----------|-----------|-----------|\n",
    "| lagdias    | Días entre cierre y apertura de la orden de reparación   | 655    | Datos no tan dispersos    |\n",
    "| laghoras    | Horas entre cierre y apertura de la orden de reparación    | 15,720    | Datos muy dispersos    |\n",
    "| TOTAL    | Total de la reparación (Incluye IVA)   | 1,086,544   | Datos demasiado dispersos   |\n",
    "| UnitYear    | Año del modelo de la unidad   | 116   | Datos no dispersos   |\n"
   ]
  },
  {
   "cell_type": "markdown",
   "metadata": {},
   "source": [
    "\n",
    "\n",
    "*   **lagdias**: Los días de apertura y cierre de una reparación están ligeramente dispersos\n",
    "*   **laghoras**: Las horas de apertura y cierre de una reparación presentan un gran rango de diferencia entre el valor máximo y mínimo, además de que están muy dispersas.\n",
    "*   **TOTAL**: El costo total de las reparaciones tienen el rango más amplio, y con una alta desviación estándar.\n",
    "*   **UnitYear**: Al tratarse de los años del modelo de cada unidad, no se presenta tanta dispersión.\n",
    "\n",
    "\n",
    "\n"
   ]
  },
  {
   "cell_type": "code",
   "execution_count": null,
   "metadata": {},
   "outputs": [],
   "source": [
    "msno.matrix(data_descriptive[['lagdias', 'laghoras', 'TOTAL', 'UnitYear']])\n",
    "#No hay notoria presencia de valores null"
   ]
  },
  {
   "cell_type": "code",
   "execution_count": null,
   "metadata": {},
   "outputs": [],
   "source": [
    "data_descriptive.boxplot(figsize = (16, 8))\n",
    "#El costo total de una reparación presenta la mayor cantidad de outliers, valores extremos\n",
    "#Es importante consultar si estos valores son correctos, o pudiera tratarse de un error, de lo contrario se deberían eliminarse o imputarse\n",
    "\n",
    "#El resto de variables no presentan tantos valores extremos"
   ]
  },
  {
   "cell_type": "code",
   "execution_count": null,
   "metadata": {},
   "outputs": [],
   "source": [
    "#Histograma para analizar la variable más dispersa, TOTAL\n",
    "\n",
    "data_descriptive.hist(['TOTAL'], figsize = (16,8))"
   ]
  },
  {
   "cell_type": "markdown",
   "metadata": {},
   "source": [
    "**Estadística descripctiva de variables categóricas**"
   ]
  },
  {
   "cell_type": "code",
   "execution_count": null,
   "metadata": {},
   "outputs": [],
   "source": [
    "# Estadística descripctiva de variables categóricas\n",
    "data_descriptive.describe(include=object)"
   ]
  },
  {
   "cell_type": "code",
   "execution_count": null,
   "metadata": {},
   "outputs": [],
   "source": [
    "# Valores más repetidos en las variables cualitativas\n",
    "data_categorical = data_descriptive.select_dtypes(include=object)\n",
    "for column in data_categorical.columns:\n",
    "  print(data_categorical[column].value_counts().head(5))\n",
    "  print()\n",
    "# Borrar las variables temporales de la memoria\n",
    "del column"
   ]
  },
  {
   "cell_type": "markdown",
   "metadata": {},
   "source": [
    "Identificar si hay columnas comunes en los dataframes empleados que permitan “enlazar” los registros en las siguientes fases.\n",
    "\n",
    "**Debido a que solo utilizamos un dataframe para esta parte inicial del proyecto, no contamos con columnas por las que se pueda enlazar a otros dataframes. A futuro sería posible que tengamos más de uno que sí valdría la pena enlazar a traves de llaves o columnas en común.**"
   ]
  },
  {
   "cell_type": "markdown",
   "metadata": {},
   "source": [
    "# **Selección y limpieza de datos**"
   ]
  },
  {
   "cell_type": "markdown",
   "metadata": {},
   "source": [
    "## Eliminar las columnas no relevantes"
   ]
  },
  {
   "cell_type": "markdown",
   "metadata": {},
   "source": [
    "Columna|Justificacion\n",
    "------|--------------\n",
    "Column| No sabemos que es\n",
    "Taller| Viene implicito en el OrderID\n",
    "ClosedDate| Tenemos una metrica mas precisa (laghoras)\n",
    "ClosedDay| \"\"\n",
    "ClosedMonth| \"\"\n",
    "ClosedYear| \"\"\n",
    "OpenedDay| Tenemos una metrica mas general (OpenedDate)\n",
    "OpenedMonth| \"\"\n",
    "OpenedYear| \"\"\n",
    "CreatedBy| No afecta realmente quien inicio la orden de reparacion\n",
    "ClosedBy| No afecta realmente quien cerro la orden de reparacion\n",
    "OrderType| Solo existen 2 tipos 'Standard' & 'Vendor'. Asumimos que no tiene efecto en la reparacion\n",
    "Supplier| No afecta realmente de donde se obtuvo la pieza de reparacion\n",
    "**COMPCDKEY**| **No sabemos si tiene utilidad o no**\n",
    "**COMPCODE**| **No sabemos si tiene utilidad o no**\n",
    "DESCRIP| Tiene informacion demasiado especifica para cada caso, no nos seria util\n",
    "QTYRCVD| No afecta realmente si se daño 1 o mas piezas, si no, que fallaron\n",
    "QTYREQD| Similar al anterior.\n",
    "CHGAMT| Lo importante es la metrica del costo por reparacion (TOTAL)\n",
    "TAXAMT| \"\"\n",
    "SUBTOTAL| \"\"\n",
    "EC| No afecta realmente el equipo administrativo del proyecto\n",
    "ReasonType| Segun el diccionario de datos, no aporta informacion relevante\n",
    "FechaPromesa| No genera impacto en la reparacion\n",
    "Estimate| \" \"\n",
    "CompleteDay| Tenemos una metrica mas precisa (laghoras)\n",
    "CompleteMonth| \"\"\n",
    "CompleteYear| \"\"\n",
    "CompleteDate| \"\"\n",
    "MECHANIC| Asumimos que no genera impacto en la reparacion quien la hizo"
   ]
  },
  {
   "cell_type": "code",
   "execution_count": null,
   "metadata": {},
   "outputs": [],
   "source": [
    "# Seleccionar sólo las columnas relevantes para las estadisticas\n",
    "data_filtered_cols = data.drop(['Column', 'Taller', 'ClosedDate', 'Status',\n",
    "                   'ClosedDay', 'ClosedMonth', 'ClosedYear', 'OpenedDay', 'OpenedMonth', 'OpenedYear',\n",
    "                   'CreatedBy', 'ClosedBy', 'OrderType', 'Supplier', 'COMPCDKEY', 'COMPCODE',\n",
    "                   'DESCRIP', 'QTYRCVD', 'QTYREQD', 'CHGAMT', 'TAXAMT', 'SUBTOTAL', 'EC',\n",
    "                   'ReasonType', 'FechaPromesa', 'Estimate', 'CompleteDay',\n",
    "                   'CompleteMonth', 'CompleteYear', 'CompleteDate', 'MECHANIC'], axis=1)\n",
    "\n",
    "# Visualizacion de una muestra de los datos en el DataFrame\n",
    "data_filtered_cols.sample(10)"
   ]
  },
  {
   "cell_type": "markdown",
   "metadata": {},
   "source": [
    "## Limpieza de las columnas (Trim)"
   ]
  },
  {
   "cell_type": "markdown",
   "metadata": {},
   "source": [
    "Notamos que algunas de las columnas extraídas desde el archivo .CSV tenían espacios en blanco. Dichos espacios deben ser removidos para evitar complicaciones más adelante en la agrupación y filtrado de información. Es por eso que procedemos a arreglar dichos errores en la captura de la información"
   ]
  },
  {
   "cell_type": "code",
   "execution_count": null,
   "metadata": {},
   "outputs": [],
   "source": [
    "# Visualizacion de la informacion del DataFrame\n",
    "data_filtered_cols.info()"
   ]
  },
  {
   "cell_type": "code",
   "execution_count": null,
   "metadata": {},
   "outputs": [],
   "source": [
    "# Eliminacion de espacios en blanco al inicio y final de los valores de la columna 'RepReason'\n",
    "data_filtered_cols['RepReason'] = data_filtered_cols['RepReason'].str.strip()\n",
    "# Verificar que se haya hecho correctamente\n",
    "data_filtered_cols['RepReason'].value_counts().index[0:5]"
   ]
  },
  {
   "cell_type": "code",
   "execution_count": null,
   "metadata": {},
   "outputs": [],
   "source": [
    "# Eliminacion de espacios en blanco al inicio y final de los valores de la columna 'UnitType'\n",
    "data_filtered_cols['UnitType'] = data_filtered_cols['UnitType'].str.strip()\n",
    "# Verificar que se haya hecho correctamente\n",
    "data_filtered_cols['UnitType'].value_counts().index"
   ]
  },
  {
   "cell_type": "code",
   "execution_count": null,
   "metadata": {},
   "outputs": [],
   "source": [
    "# Eliminacion de espacios en blanco al inicio y final de los valores de la columna 'TipoLinea'\n",
    "data_filtered_cols['Flota'] = data_filtered_cols['Flota'].str.strip()\n",
    "# Verificar que se haya hecho correctamente\n",
    "data_filtered_cols['Flota'].value_counts().index[0:5]"
   ]
  },
  {
   "cell_type": "code",
   "execution_count": null,
   "metadata": {},
   "outputs": [],
   "source": [
    "# Eliminacion de espacios en blanco al inicio y final de los valores de la columna 'COMPLAINT'\n",
    "data_filtered_cols['COMPLAINT'] = data_filtered_cols['COMPLAINT'].str.strip()\n",
    "# Verificar que se haya hecho correctamente\n",
    "data_filtered_cols['COMPLAINT'].value_counts().index[0:5]"
   ]
  },
  {
   "cell_type": "code",
   "execution_count": null,
   "metadata": {},
   "outputs": [],
   "source": [
    "# Eliminacion de espacios en blanco al inicio y final de los valores de la columna 'Jobcode'\n",
    "data_filtered_cols['Jobcode'] = data_filtered_cols['Jobcode'].str.strip()\n",
    "# Verificar que se haya hecho correctamente\n",
    "data_filtered_cols['Jobcode'].value_counts().index[0:5]"
   ]
  },
  {
   "cell_type": "code",
   "execution_count": null,
   "metadata": {},
   "outputs": [],
   "source": [
    "# Eliminacion de espacios en blanco al inicio y final de los valores de la columna 'TipoLinea'\n",
    "data_filtered_cols['TipoLinea'] = data_filtered_cols['TipoLinea'].str.strip()\n",
    "# Verificar que se haya hecho correctamente\n",
    "data_filtered_cols['TipoLinea'].value_counts().index"
   ]
  },
  {
   "cell_type": "code",
   "execution_count": null,
   "metadata": {},
   "outputs": [],
   "source": [
    "# Eliminacion de espacios en blanco al inicio y final de los valores de la columna 'NumParte'\n",
    "data_filtered_cols['NumParte'] = data_filtered_cols['NumParte'].str.strip()\n",
    "# Verificar que se haya hecho correctamente\n",
    "data_filtered_cols['NumParte'].value_counts().index[0:5]"
   ]
  },
  {
   "cell_type": "code",
   "execution_count": null,
   "metadata": {},
   "outputs": [],
   "source": [
    "# Eliminacion de espacios en blanco al inicio y final de los valores de la columna 'CITA'\n",
    "data_filtered_cols['CITA'] = data_filtered_cols['CITA'].str.strip()\n",
    "# Verificar que se haya hecho correctamente\n",
    "data_filtered_cols['CITA'].value_counts().index"
   ]
  },
  {
   "cell_type": "markdown",
   "metadata": {},
   "source": [
    "Para la ultima columna 'CITA' se observa que existen registros con un campo vacio, por lo que se procede a sustituir este campo N/A por un texto de referencia (DESCONOCIDO). Además podemos corregir los nombres de algunos tipos de cita: \n",
    "\n",
    "* 'CITA A TIEMP' -> 'CITA A TIEMPO'\n",
    "* 'EXPRES' -> 'EXPRESS'\n",
    "* 'SCHEDULED' -> 'CON CITA'"
   ]
  },
  {
   "cell_type": "code",
   "execution_count": null,
   "metadata": {},
   "outputs": [],
   "source": [
    "# Sustituir valores de 'CITA' con un string vacio por 'Desconocido'\n",
    "data_filtered_cols['CITA'] = data_filtered_cols['CITA'].replace('', 'DESCONOCIDO')\n",
    "\n",
    "# Sustituir valores de 'CITA A TIEMP' por 'CITA A TIEMPO'\n",
    "data_filtered_cols['CITA'] = data_filtered_cols['CITA'].replace('CITA A TIEMP', 'CITA A TIEMPO')\n",
    "\n",
    "# Sustituir valores de 'EXPRES' por 'EXPRESS'\n",
    "data_filtered_cols['CITA'] = data_filtered_cols['CITA'].replace('EXPRES', 'EXPRESS')\n",
    "\n",
    "# Sustituir valores de 'SCHEDULED' por 'CON CITA'\n",
    "data_filtered_cols['CITA'] = data_filtered_cols['CITA'].replace('SCHEDULED', 'CON CITA')\n",
    "\n",
    "# Verificar que se haya hecho correctamente\n",
    "data_filtered_cols['CITA'].value_counts().index"
   ]
  },
  {
   "cell_type": "markdown",
   "metadata": {},
   "source": [
    "## Restablecer los índices con identificadores adecuados."
   ]
  },
  {
   "cell_type": "markdown",
   "metadata": {},
   "source": [
    "El índice del dataframe ya está establecido, considerando evitar los valores duplicados."
   ]
  },
  {
   "cell_type": "markdown",
   "metadata": {},
   "source": [
    "## Seleccionar o filtrar los registros u observaciones de interés\n",
    "Con la finalidad de operar dataframes de menor complejidad."
   ]
  },
  {
   "cell_type": "markdown",
   "metadata": {},
   "source": [
    "Dado el proyecto asignado al equipo, nos centraremos en la informacion sobre todas las reparaciones de la flota 'Sayer', por lo que deberemos filtrar dicha informacion."
   ]
  },
  {
   "cell_type": "code",
   "execution_count": null,
   "metadata": {},
   "outputs": [],
   "source": [
    "# Extraemos la informacion del proyecto Sayer Full\n",
    "data_sayer = data_filtered_cols[data_filtered_cols['Flota'] == 'Sayer Full'][:]\n",
    "# Borrar la columna 'Flota', pues ya no es necesaria\n",
    "data_sayer = data_sayer.drop('Flota', axis=1)\n",
    "data_sayer.info()"
   ]
  },
  {
   "cell_type": "markdown",
   "metadata": {},
   "source": [
    "## Identificar valores faltantes y eliminarlos"
   ]
  },
  {
   "cell_type": "code",
   "execution_count": null,
   "metadata": {},
   "outputs": [],
   "source": [
    "# Visualización de datos nulos en el DataFrame\n",
    "data_sayer.isnull().sum()"
   ]
  },
  {
   "cell_type": "code",
   "execution_count": null,
   "metadata": {},
   "outputs": [],
   "source": [
    "# Se identifican valores nulos en las columnas 'kMS', 'TipoLinea', 'CITA' y 'NumParte'\n",
    "data_sayer[['kMS', 'TipoLinea', 'CITA', 'NumParte']].isnull().sum()"
   ]
  },
  {
   "cell_type": "code",
   "execution_count": null,
   "metadata": {},
   "outputs": [],
   "source": [
    "# Visualizacion de datos nulos en el DataFrame\n",
    "data_sayer[data_sayer.isnull().any(axis=1)]"
   ]
  },
  {
   "cell_type": "code",
   "execution_count": null,
   "metadata": {},
   "outputs": [],
   "source": [
    "# Sustituir valores nulos de la columna 'CITA' por 'DESCONOCIDO'\n",
    "data_sayer['CITA'] = data_sayer['CITA'].fillna('DESCONOCIDO')\n",
    "data_sayer['CITA'].isnull().sum()"
   ]
  },
  {
   "cell_type": "code",
   "execution_count": null,
   "metadata": {},
   "outputs": [],
   "source": [
    "# Sustituir valores nulos de la columna 'TipoLinea' por 'DESCONOCIDO'\n",
    "data_sayer['TipoLinea'] = data_sayer['TipoLinea'].fillna('DESCONOCIDO')\n",
    "data_sayer['TipoLinea'].isnull().sum()"
   ]
  },
  {
   "cell_type": "code",
   "execution_count": null,
   "metadata": {},
   "outputs": [],
   "source": [
    "# Sustituir valores nulos de la columna 'NumParte' por 'DESCONOCIDO'\n",
    "data_sayer['NumParte'] = data_sayer['NumParte'].fillna('DESCONOCIDO')\n",
    "data_sayer['NumParte'].isnull().sum()"
   ]
  },
  {
   "cell_type": "code",
   "execution_count": null,
   "metadata": {},
   "outputs": [],
   "source": [
    "# Verificar que se hayan sustituido correctamente los valores nulos\n",
    "data_sayer.isnull().sum()"
   ]
  },
  {
   "cell_type": "markdown",
   "metadata": {},
   "source": [
    "## Detectar valores atípicos para su posterior transformación.\n"
   ]
  },
  {
   "cell_type": "code",
   "execution_count": null,
   "metadata": {},
   "outputs": [],
   "source": [
    "data_sayer.boxplot(vert=False)\n",
    "#Observamos que en la columna de TOTAL es la que aparentemente hay mas datos\n",
    "#atipicos, por lo que vamos a anilizarla a detalle\n"
   ]
  },
  {
   "cell_type": "code",
   "execution_count": null,
   "metadata": {},
   "outputs": [],
   "source": [
    "# Información estadística del DataFrame\n",
    "data_sayer.describe()"
   ]
  },
  {
   "cell_type": "code",
   "execution_count": null,
   "metadata": {},
   "outputs": [],
   "source": [
    "# Análisis de la columna 'TOTAL'\n",
    "data_sayer[['TOTAL']].boxplot(vert=False)"
   ]
  },
  {
   "cell_type": "code",
   "execution_count": null,
   "metadata": {},
   "outputs": [],
   "source": [
    "# Visualizacion de datos atipicos en la columna 'TOTAL'\n",
    "data_sayer[data_sayer['TOTAL'] > 30000]"
   ]
  },
  {
   "cell_type": "code",
   "execution_count": null,
   "metadata": {},
   "outputs": [],
   "source": [
    "# Máscaras para identificar valores atipicos en la columna 'TOTAL'\n",
    "\n",
    "# Consideramos que no es congruente que la columna 'TOTAL' tenga valores negativos\n",
    "sayer_total_atipicosBajos = data_sayer['TOTAL'] <= 0\n",
    "\n",
    "# Consideramos que es posible que una reparacion sea bastante costosa. Es por ello que \n",
    "# consideramos mantener los gastos elevados, exceptuando aquellos que están muy alejados \n",
    "# que podemos calcular en gastos superiores a $30,000\n",
    "sayer_total_atipicosAltos = data_sayer['TOTAL'] >= 30000\n",
    "\n",
    "# Concatenar las mascaras para obtener los valores atipicos\n",
    "valores_atipicos = sayer_total_atipicosBajos | sayer_total_atipicosAltos\n",
    "\n",
    "# Conteo de valores atipicos\n",
    "valores_atipicos.sum()"
   ]
  },
  {
   "cell_type": "code",
   "execution_count": null,
   "metadata": {},
   "outputs": [],
   "source": [
    "# Creación de un nuevo DataFrame sin los valores atipicos\n",
    "data_sayer_clean = data_sayer[~valores_atipicos]"
   ]
  },
  {
   "cell_type": "code",
   "execution_count": null,
   "metadata": {},
   "outputs": [],
   "source": [
    "# Análisis de la columna 'TOTAL' sin valores atipicos\n",
    "data_sayer_clean[['TOTAL']].boxplot(vert=False)"
   ]
  },
  {
   "cell_type": "code",
   "execution_count": null,
   "metadata": {},
   "outputs": [],
   "source": [
    "# Análisis de la columna 'laghoras'\n",
    "data_sayer_clean[['laghoras']].boxplot(vert=False)"
   ]
  },
  {
   "cell_type": "code",
   "execution_count": null,
   "metadata": {},
   "outputs": [],
   "source": [
    "# Visualizacion de datos atipicos en la columna 'laghoras'\n",
    "data_sayer_clean[data_sayer_clean['laghoras'] < 0]"
   ]
  },
  {
   "cell_type": "code",
   "execution_count": null,
   "metadata": {},
   "outputs": [],
   "source": [
    "# Máscaras para identificar valores atipicos en la columna 'laghoras'\n",
    "\n",
    "# Consideramos que no es congruente que la columna 'laghoras' tenga valores negativos o en 0\n",
    "sayer_laghoras_atipicosBajos = data_sayer_clean['laghoras'] <= 0\n",
    "\n",
    "# Consideramos que es posible que una reparacion sea bastante tardada. Es por ello que\n",
    "# consideramos mantener los tiempos elevados, exceptuando aquellos que están muy alejados\n",
    "# que podemos calcular en tiempos superiores a 1500 horas (62.5 dias)\n",
    "sayer_laghoras_atipicosAltos = data_sayer_clean['laghoras'] >= 1500\n",
    "\n",
    "# Concatenar las mascaras para obtener los valores atipicos\n",
    "valores_atipicos = sayer_laghoras_atipicosBajos | sayer_laghoras_atipicosAltos\n",
    "\n",
    "# Conteo de valores atipicos\n",
    "valores_atipicos.sum()"
   ]
  },
  {
   "cell_type": "code",
   "execution_count": null,
   "metadata": {},
   "outputs": [],
   "source": [
    "# Actualizacion del DataFrame sin los valores atipicos\n",
    "data_sayer_clean = data_sayer_clean[~valores_atipicos]"
   ]
  },
  {
   "cell_type": "code",
   "execution_count": null,
   "metadata": {},
   "outputs": [],
   "source": [
    "# Análisis de la columna 'laghoras' sin valores atipicos\n",
    "data_sayer_clean[['laghoras']].boxplot(vert=False)"
   ]
  },
  {
   "cell_type": "code",
   "execution_count": null,
   "metadata": {},
   "outputs": [],
   "source": [
    "# Análisis de la columna 'lagdias'. Como podemos observar, al imputar la columna 'laghoras'\n",
    "# también se imputa la columna 'lagdias' ya que ambas eran un cálculo de la diferencia entre las fechas\n",
    "data_sayer_clean[['lagdias']].boxplot(vert=False)"
   ]
  },
  {
   "cell_type": "code",
   "execution_count": null,
   "metadata": {},
   "outputs": [],
   "source": [
    "# Visualizacion de datos atipicos en la columna 'lagdias'\n",
    "data_sayer_clean[['kMS']].boxplot(vert=False)"
   ]
  },
  {
   "cell_type": "code",
   "execution_count": null,
   "metadata": {},
   "outputs": [],
   "source": [
    "# Recordemos que la columna 'kMS' es la que contiene valores nulos que todavia no hemos tratado\n",
    "# Aqui procedemos a analizar los valores atipicos en la columna 'kMS' y posteriormente tratar los valores\n",
    "# por medio de una imputacion de la mediana\n",
    "sayer_kMS_atipicosBajos = data_sayer_clean['kMS'].isna()\n",
    "\n",
    "# Concatenar las mascaras para obtener los valores atipicos\n",
    "valores_atipicos = sayer_kMS_atipicosBajos\n",
    "\n",
    "# Conteo de valores atipicos\n",
    "valores_atipicos.sum()"
   ]
  },
  {
   "cell_type": "code",
   "execution_count": null,
   "metadata": {},
   "outputs": [],
   "source": [
    "# Actualizacion del DataFrame sin los valores atipicos\n",
    "data_sayer_clean = data_sayer_clean.fillna(data_sayer_clean['kMS'].median())\n",
    "data_sayer_clean.info()"
   ]
  },
  {
   "cell_type": "code",
   "execution_count": null,
   "metadata": {},
   "outputs": [],
   "source": [
    "# Análisis del DataFrame original de 'data_sayer' sin valores atipicos\n",
    "data_sayer = data_sayer_clean"
   ]
  },
  {
   "cell_type": "code",
   "execution_count": null,
   "metadata": {},
   "outputs": [],
   "source": [
    "# Eliminacion de las variables temporales utilizadas para los valores atipicos\n",
    "del sayer_total_atipicosBajos, sayer_total_atipicosAltos, sayer_laghoras_atipicosBajos \n",
    "del sayer_laghoras_atipicosAltos, sayer_kMS_atipicosBajos, valores_atipicos, data_sayer_clean"
   ]
  },
  {
   "cell_type": "markdown",
   "metadata": {},
   "source": [
    "## Eliminar registros duplicados."
   ]
  },
  {
   "cell_type": "code",
   "execution_count": null,
   "metadata": {},
   "outputs": [],
   "source": [
    "# Cantidad de elementos en el df\n",
    "data_sayer.index.size"
   ]
  },
  {
   "cell_type": "code",
   "execution_count": null,
   "metadata": {},
   "outputs": [],
   "source": [
    "# Cantidad de elementos en el df si se eliminan las filas con informacion identica\n",
    "data_sayer.drop_duplicates().index.size"
   ]
  },
  {
   "cell_type": "markdown",
   "metadata": {},
   "source": [
    "Haciendo una resta simple, podemos calcular que actualmente existen $6378-6061 = 317$ duplicados. Esto añade un gran sesgo al análisis posterior, por lo que se procede a eliminarlos."
   ]
  },
  {
   "cell_type": "code",
   "execution_count": null,
   "metadata": {},
   "outputs": [],
   "source": [
    "# Eliminacion de filas con informacion identica\n",
    "data_sayer.drop_duplicates(inplace=True)"
   ]
  },
  {
   "cell_type": "code",
   "execution_count": null,
   "metadata": {},
   "outputs": [],
   "source": [
    "# Informacion del df despues de eliminar filas con informacion identica\n",
    "data_sayer.info()"
   ]
  },
  {
   "cell_type": "markdown",
   "metadata": {},
   "source": [
    "# **Construcción y transformación de datos**"
   ]
  },
  {
   "cell_type": "markdown",
   "metadata": {},
   "source": [
    "## Agregación y agrupamiento.\n",
    " Construir nuevas características o variables con las tecnicas descritas"
   ]
  },
  {
   "cell_type": "markdown",
   "metadata": {},
   "source": [
    "Primero, vamos a agrupar los valores de la columna 'COMPLAINT' para separar los siguientes tipos de\n",
    "mantenimiento:\n",
    "* PREVENTIVO\n",
    "* CORRECTIVO\n",
    "* DESCONOCIDO"
   ]
  },
  {
   "cell_type": "code",
   "execution_count": null,
   "metadata": {},
   "outputs": [],
   "source": [
    "#Analizar los tipos de reparaciones que se realizan a los tractos más comunes\n",
    "data_sayer['COMPLAINT'].value_counts().index"
   ]
  },
  {
   "cell_type": "code",
   "execution_count": null,
   "metadata": {},
   "outputs": [],
   "source": [
    "# Añadir una nueva columna para identificar claramente los tipos de 'COMPLAINT'\n",
    "# El valor por defecto de la columna sera 'CORRECTIVO' debido a que es el tipo de reparacion mas comun\n",
    "data_sayer['ComplaintType'] = 'CORRECTIVO'\n",
    "\n",
    "# Establecer en 'COMPLAINT' = 'PREVENTIVO' para los casos especficos que se pueden determinar\n",
    "ComplaintTypePreventive = ['PM', 'PREVENT VENC', 'GASTADO', 'DESGASTADO', 'SUCIO', 'BAJA PRESION', 'PRESIÓN BAJA', 'GOLPETEA']\n",
    "data_sayer.loc[data_sayer['COMPLAINT'].isin(ComplaintTypePreventive), 'ComplaintType'] = 'PREVENTIVO'\n",
    "\n",
    "# Excepto para los casos que no se pueden determinar por ser demasiado ambiguos.\n",
    "# Estos se clasificarán como 'DESCONOCIDO'\n",
    "ComplaintTypeUnknown = ['DAÑO OP', 'SE NEUTRALIZ', 'DESGASTE IRR', 'JALA DERECHA', 'SIN DIESEL', 'ACORTADO', 'OTROS', 'OTHER']\n",
    "data_sayer.loc[data_sayer['COMPLAINT'].isin(ComplaintTypeUnknown), 'ComplaintType'] = 'DESCONOCIDO'"
   ]
  },
  {
   "cell_type": "code",
   "execution_count": null,
   "metadata": {},
   "outputs": [],
   "source": [
    "# Muestreamos para verificar que el agrupamiento se haya hecho correctamente\n",
    "data_sayer['ComplaintType'].value_counts()"
   ]
  },
  {
   "cell_type": "code",
   "execution_count": null,
   "metadata": {},
   "outputs": [],
   "source": [
    "#¿Qué porcentaje representan los mantenimiento preventivos segun el ComplaintType respecto a todas las operaciones de mantenimiento?\n",
    "percent = (data_sayer.groupby('ComplaintType')['ComplaintType'].count() / data_sayer.shape[0] * 100).round(2)\n",
    "# Ordenar por porcentaje\n",
    "percent = percent.sort_values(ascending=False)\n",
    "\n",
    "# Imprimir los porcentajes de mantenimientos por tipo\n",
    "for i in range(len(percent)):\n",
    "    print(f\" (Complaint Type) Los mantenimientos de tipo '{percent.index[i]}' representan el {percent.iloc[i]}% de todas las operaciones de mantenimiento.\")\n"
   ]
  },
  {
   "cell_type": "markdown",
   "metadata": {},
   "source": [
    "Posteriormente, vamos a agrupar los valores de la columna 'RepReason' para identificar los tipos de\n",
    "mantenimiento:\n",
    "* PREVENTIVO\n",
    "* CORRECTIVO\n",
    "* DESCONOCIDO"
   ]
  },
  {
   "cell_type": "code",
   "execution_count": null,
   "metadata": {},
   "outputs": [],
   "source": [
    "#Analizar los tipos de reparaciones que se realizan a los tractos más comunes\n",
    "data_sayer['RepReason'].value_counts().index"
   ]
  },
  {
   "cell_type": "code",
   "execution_count": null,
   "metadata": {},
   "outputs": [],
   "source": [
    "# Añadir una nueva columna para identificar claramente los tipos de 'COMPLAINT'\n",
    "# El valor por defecto de la columna sera 'DESCONOCIDO' debido a que es el tipo de reparacion mas comun\n",
    "# Lamentablemente, es muy ambigua la informacion en esta columna, por lo que tendremos que clasificarla como 'DESCONOCIDO'\n",
    "data_sayer['RepReasonType'] = 'DESCONOCIDO'\n",
    "\n",
    "# Establecer en 'COMPLAINT' = 'PREVENTIVO' para los casos especificos que se pueden determinar\n",
    "RepReasonTypePreventive = ['PM', 'DESGASTE', 'LAVADO', 'FALTA PRESIÓ']\n",
    "data_sayer.loc[data_sayer['RepReason'].isin(RepReasonTypePreventive), 'RepReasonType'] = 'PREVENTIVO'\n",
    "\n",
    "# Establecer en 'COMPLAINT' = 'CORRECTIVO' para los casos especificos que se pueden determinar\n",
    "RepReasonTypeCorrective = ['MC', 'PERFORADA', 'PONCHADURA', 'FUGA AIRE', 'FOCOS', 'FUGA ACEITE', 'CAMBIO DAÑO', 'ROBO', '7 VIAS DAÑAD', 'BATERÍA DAÑA', 'GOLPE', 'CORTO', 'FALLA GPS']\n",
    "data_sayer.loc[data_sayer['RepReason'].isin(RepReasonTypeCorrective), 'RepReasonType'] = 'CORRECTIVO'"
   ]
  },
  {
   "cell_type": "code",
   "execution_count": null,
   "metadata": {},
   "outputs": [],
   "source": [
    "# Muestreamos para verificar que el agrupamiento se haya hecho correctamente\n",
    "data_sayer['RepReasonType'].value_counts()"
   ]
  },
  {
   "cell_type": "code",
   "execution_count": null,
   "metadata": {},
   "outputs": [],
   "source": [
    "#¿Qué porcentaje representan los mantenimiento preventivos segun el ComplaintType respecto a todas las operaciones de mantenimiento?\n",
    "percent = (data_sayer.groupby('RepReasonType')['RepReasonType'].count() / data_sayer.shape[0] * 100).round(2)\n",
    "# Ordenar por porcentaje\n",
    "percent = percent.sort_values(ascending=False)\n",
    "\n",
    "# Imprimir los porcentajes de mantenimientos por tipo\n",
    "for i in range(len(percent)):\n",
    "    print(f\" (RepReason Type) Los mantenimientos de tipo '{percent.index[i]}' representan el {percent.iloc[i]}% de todas las operaciones de mantenimiento.\")"
   ]
  },
  {
   "cell_type": "code",
   "execution_count": null,
   "metadata": {},
   "outputs": [],
   "source": [
    "# Eliminacion de las variables temporales utilizadas para categorizar los tipos de reparaciones\n",
    "del ComplaintTypePreventive, ComplaintTypeUnknown, percent\n",
    "del RepReasonTypePreventive, RepReasonTypeCorrective"
   ]
  },
  {
   "cell_type": "markdown",
   "metadata": {},
   "source": [
    "## 8. Mean Time Between Failures (MTBF)\n",
    "The average time elapsed between consecutive failures."
   ]
  },
  {
   "cell_type": "code",
   "execution_count": null,
   "metadata": {},
   "outputs": [],
   "source": [
    "data_sayer.info()"
   ]
  },
  {
   "cell_type": "code",
   "execution_count": null,
   "metadata": {},
   "outputs": [],
   "source": [
    "# Creacion de un DataFrame para el registro de reparaciones y fechas por cada unidad de la flota\n",
    "# de Sayer Full\n",
    "\n",
    "# Se agrupara la informacion por 'UnitID' y UnitType\n",
    "# Se agrega la columna 'RepairCount' que obtiene la cantidad de reparaciones de una misma unidad\n",
    "# Se agrega la columna 'RepairDates' que obtiene las fechas de las reparaciones de una misma unidad\n",
    "sayer_maintenance_byUnit = data_sayer.groupby(['UnitID', 'UnitType']).agg(\n",
    "    RepairCount=('OpenedDate', 'size'),\n",
    "    RepairDates=('OpenedDate', lambda x: list(x + pd.to_timedelta(data_sayer.loc[x.index, 'laghoras'], unit='h')))\n",
    ").reset_index()\n",
    "\n",
    "# Muestreamos para verificar que el agrupamiento se haya hecho correctamente\n",
    "sayer_maintenance_byUnit"
   ]
  },
  {
   "cell_type": "code",
   "execution_count": null,
   "metadata": {},
   "outputs": [],
   "source": [
    "# Asegurarse de que las fechas estén en formato datetime y manejar errores\n",
    "sayer_maintenance_byUnit['RepairDates'] = sayer_maintenance_byUnit['RepairDates'].apply(lambda x: pd.to_datetime(x))\n",
    "\n",
    "# Función para calcular el promedio de días entre reparaciones\n",
    "def meanBtwnRepairs(dates):\n",
    "    if len(dates) > 1:\n",
    "        dates = sorted(dates)  # Ordenar las fechas\n",
    "        # Calcular diferencias entre fechas consecutivas y regresar el promedio en días\n",
    "        return pd.Series(dates).diff().mean().days\n",
    "    else:\n",
    "        return None  # Si solo hay una fecha\n",
    "    \n",
    "# Función para calcular el promedio de días entre reparaciones\n",
    "def meanBtwnRepairsHours(dates):\n",
    "    if len(dates) > 1:\n",
    "        dates = sorted(dates)  # Ordenar las fechas\n",
    "        # Calcular diferencias entre fechas consecutivas y regresar el promedio en horas\n",
    "        return pd.Series(dates).diff().mean().total_seconds() / 3600\n",
    "    else:\n",
    "        return None  # Si solo hay una fecha\n",
    "\n",
    "# Aplicar la función a cada tipo de \"COMPLAINT\" del dataframe\n",
    "sayer_maintenance_byUnit['AvgDaysBetweenRepairs'] = sayer_maintenance_byUnit['RepairDates'].apply(meanBtwnRepairs)\n",
    "# Aplicar la función a cada tipo de \"COMPLAINT\" del dataframe por hora\n",
    "sayer_maintenance_byUnit['AvgHoursBetweenRepairs'] = sayer_maintenance_byUnit['RepairDates'].apply(meanBtwnRepairsHours)\n",
    "\n",
    "# Muestreamos para verificar que el calculo se haya hecho correctamente\n",
    "sayer_maintenance_byUnit[['UnitID', 'UnitType', 'RepairCount', 'AvgDaysBetweenRepairs', 'AvgHoursBetweenRepairs']]"
   ]
  },
  {
   "cell_type": "markdown",
   "metadata": {},
   "source": [
    "## Discretización o binning\n",
    "Reagrupar atributos de alta cardinalidad mediante los metodos descritos"
   ]
  },
  {
   "cell_type": "code",
   "execution_count": null,
   "metadata": {},
   "outputs": [],
   "source": [
    "#Elegimos el metodo de discretizacion qcut ya que no tenemos rangos bien definidos\n",
    "#de manera que con este metodo dividimos las variables en intervalos iguales,\n",
    "#a lo cual tomamos 3 criterios, Reparacion_rapida, Reparacion_Normal y\n",
    "#Reparacion_lenta con la finalidad de hacer mas descriptiva la variable de horas\n",
    "# y tener nocion si la reparacion tomo demasiado tiempo o fue muy lenta\n",
    "#Decidimos eligir la variable de horas, porque al analizar esta variable, observamos\n",
    "#que es mas exacta que la variable dias, ya que esta ultima son dias enteros.\n",
    "\n",
    "data_sayer['EficienciaRep'], cut_bin = pd.qcut(x=data_sayer['laghoras'],\n",
    "                                               q=3,\n",
    "                                               labels=['RAPIDA','NORMAL','LENTA'],\n",
    "                                               retbins=True)\n",
    "cut_bin"
   ]
  },
  {
   "cell_type": "code",
   "execution_count": null,
   "metadata": {},
   "outputs": [],
   "source": [
    "data_sayer['EficienciaRep'].value_counts()\n",
    "#Observamos que lo dividio casi exactamente en 3 partes iguales"
   ]
  },
  {
   "cell_type": "code",
   "execution_count": null,
   "metadata": {},
   "outputs": [],
   "source": [
    "#Similar al caso anterior, al no tener unos rangos bien definidos,\n",
    "#nos decidimos por el metodo de qcut para dividirlo en 3 partes,Costo_bajo\n",
    "# Costo_normal, Costo_elevado .\n",
    "\n",
    "data_sayer['ClasificacionCosto'], cut_bin = pd.qcut(x=data_sayer['TOTAL'],\n",
    "                                    q=3,\n",
    "                                    labels=['BAJO','NORMAL','ELEVADO'],\n",
    "                                    retbins=True)\n",
    "cut_bin"
   ]
  },
  {
   "cell_type": "code",
   "execution_count": null,
   "metadata": {},
   "outputs": [],
   "source": [
    "# Verificar la cantidad de valores en cada categoria de 'ClasificacionCosto'\n",
    "data_sayer['ClasificacionCosto'].value_counts()"
   ]
  },
  {
   "cell_type": "code",
   "execution_count": null,
   "metadata": {},
   "outputs": [],
   "source": [
    "# Eliminacion de las variables temporales utilizadas para la clasificacion de las variables\n",
    "del cut_bin"
   ]
  },
  {
   "cell_type": "code",
   "execution_count": null,
   "metadata": {},
   "outputs": [],
   "source": [
    "# Visualizacion de la informacion del DataFrame\n",
    "data_sayer.info()"
   ]
  },
  {
   "cell_type": "markdown",
   "metadata": {},
   "source": [
    "## One-hot encoding\n",
    "Para las variables **categóricas** que consideren necesarias."
   ]
  },
  {
   "cell_type": "code",
   "execution_count": null,
   "metadata": {},
   "outputs": [],
   "source": [
    "data_sayer.select_dtypes(include=['object', 'category'])"
   ]
  },
  {
   "cell_type": "code",
   "execution_count": null,
   "metadata": {},
   "outputs": [],
   "source": [
    "# Crear un nuevo DataFrame con las columnas a utilizar para el encoding\n",
    "sayer_encoding = data_sayer[['OrderID','UnitID','CITA', 'TipoLinea', 'UnitType']]"
   ]
  },
  {
   "cell_type": "code",
   "execution_count": null,
   "metadata": {},
   "outputs": [],
   "source": [
    "# codificación por conteo\n",
    "sayer_encoding = CountEncoder(cols=['CITA']).fit(sayer_encoding).transform(sayer_encoding)"
   ]
  },
  {
   "cell_type": "code",
   "execution_count": null,
   "metadata": {},
   "outputs": [],
   "source": [
    "# codificación por OneHot\n",
    "sayer_encoding = OneHotEncoder(cols=['TipoLinea']).fit(sayer_encoding).transform(sayer_encoding)"
   ]
  },
  {
   "cell_type": "code",
   "execution_count": null,
   "metadata": {},
   "outputs": [],
   "source": [
    "# codificación por OneHot\n",
    "sayer_encoding = OneHotEncoder(cols=['UnitType']).fit(sayer_encoding).transform(sayer_encoding)"
   ]
  },
  {
   "cell_type": "code",
   "execution_count": null,
   "metadata": {},
   "outputs": [],
   "source": [
    "# Renombrar las columnas para una mejor comprensión\n",
    "sayer_encoding.rename(columns={'UnitType_1': 'TRACTOR', 'UnitType_2': 'TRAILER', 'UnitType_3': 'DOLLY', 'TipoLinea_1': 'PART', 'TipoLinea_2': 'SERVICES', 'TipoLinea_3': 'LABOR'}, inplace = True)\n",
    "# Resetear el índice\n",
    "sayer_encoding.reset_index(drop=True, inplace=True)\n",
    "# Visualizar el DataFrame\n",
    "sayer_encoding"
   ]
  },
  {
   "cell_type": "markdown",
   "metadata": {},
   "source": [
    "Para la parte de 'One-Hot Encoding' se decidio codificar unicamente 3 variables. 'CITA', 'TipoLinea', 'UnitType'.\n",
    "\n",
    "Para las variables 'TipoLinea' y 'UnitType' se decidio codificar con OneHot ya que de esta manera será mucho mas facil encontrar y leer que tipo de unidad de esta manejando y que tipo de linea.\n",
    "\n",
    "La variable 'CITA' se codificó con Count ya que de esta manera se podrá conocer la cantidad de registros por cada situación de las citas y así tener un mayor control."
   ]
  },
  {
   "cell_type": "markdown",
   "metadata": {},
   "source": [
    "## Feature transformation\n",
    "Para las variables con valores atípicos identificados."
   ]
  },
  {
   "cell_type": "code",
   "execution_count": null,
   "metadata": {},
   "outputs": [],
   "source": [
    "# Verificamos que columnas vamos a trabajar\n",
    "# (Deben ser numericas, para poder transformarlas)\n",
    "data_sayer.info()"
   ]
  },
  {
   "cell_type": "code",
   "execution_count": null,
   "metadata": {},
   "outputs": [],
   "source": [
    "# Analizamos cual es el valor minimo para cada una, es muy importante\n",
    "# para obtener el metodo para transformar\n",
    "data_sayer.describe()"
   ]
  },
  {
   "cell_type": "code",
   "execution_count": null,
   "metadata": {},
   "outputs": [],
   "source": [
    "pd.plotting.scatter_matrix(data_sayer[['lagdias', 'laghoras', 'TOTAL', 'UnitYear']],\n",
    "                           figsize=(16,8))\n",
    "plt.show()\n",
    "\n",
    "# Aqui debemos identificar aquellas que no tienen una distribucion normal, y que tenga sentidos aplicar\n",
    "# una transformacion. En este caso, podriamos ocupar las variables 'dias, horas y TOTAL'"
   ]
  },
  {
   "cell_type": "code",
   "execution_count": null,
   "metadata": {},
   "outputs": [],
   "source": [
    "# Dada la naturaleza de nuestros datos, no seria posible aplicar una 'Transformada\n",
    "# Logaritmica', porque contamos con valores entre 0 y 1.\n",
    "# Ademas si intentamos utilizar un metodo como el de 'Box-Cox', nos daria un error\n",
    "# en la ejecucion, pues este solo permite valores mayores a 1.\n",
    "# Es por ello que nuestro unico metodo de transformacion plausible para utilizar\n",
    "# seria el de Yeo-johnson, que acepta un rango de valores de negativos, positivos\n",
    "# y 0.\n",
    "\n",
    "scaler = PowerTransformer(method='yeo-johnson')\n",
    "\n",
    "pow_trans = scaler.fit_transform(data_sayer[['lagdias', 'laghoras', 'TOTAL']])\n",
    "# creamos un DataFrame para guardar los valores transformados. Sera igual al de data_sayer, sustituyendo las columnas a transformar\n",
    "sayer_featureTransform = data_sayer.copy()\n",
    "# Sustituir las columnas a transformar por las transformadas\n",
    "sayer_featureTransform['lagdias'] = pow_trans[:, 0]\n",
    "sayer_featureTransform['laghoras'] = pow_trans[:, 1]\n",
    "sayer_featureTransform['total'] = pow_trans[:, 2]\n",
    "# Cambiamos el nombre de dichas columnas para que se identifiquen como transformadas\n",
    "sayer_featureTransform.rename(columns={'lagdias': 'pow_lagdias', 'laghoras': 'pow_laghoras', 'TOTAL': 'pow_total'}, inplace=True)"
   ]
  },
  {
   "cell_type": "code",
   "execution_count": null,
   "metadata": {},
   "outputs": [],
   "source": [
    "# Comparativa entre las distribuciones anteriores y posteriores a la transformacion\n",
    "fig, ax = plt.subplots(1, 2)\n",
    "ax[0].hist(data_sayer.lagdias)\n",
    "ax[0].set_title('LAGDIAS')\n",
    "ax[1].hist(np.log(sayer_featureTransform.pow_lagdias))\n",
    "ax[1].set_title('Pow LAGDIAS')"
   ]
  },
  {
   "cell_type": "code",
   "execution_count": null,
   "metadata": {},
   "outputs": [],
   "source": [
    "# Comparativa entre las distribuciones anteriores y posteriores a la transformacion\n",
    "fig, ax = plt.subplots(1, 2)\n",
    "ax[0].hist(data_sayer.laghoras)\n",
    "ax[0].set_title('LAGHORAS')\n",
    "ax[1].hist(np.log(sayer_featureTransform.pow_laghoras))\n",
    "ax[1].set_title('Pow LAGHORAS')"
   ]
  },
  {
   "cell_type": "code",
   "execution_count": null,
   "metadata": {},
   "outputs": [],
   "source": [
    "# Comparativa entre las distribuciones anteriores y posteriores a la transformacion\n",
    "fig, ax = plt.subplots(1, 2)\n",
    "ax[0].hist(data_sayer.TOTAL)\n",
    "ax[0].set_title('TOTAL')\n",
    "ax[1].hist(np.log(sayer_featureTransform.pow_total))\n",
    "ax[1].set_title('Pow TOTAL')"
   ]
  },
  {
   "cell_type": "code",
   "execution_count": null,
   "metadata": {},
   "outputs": [],
   "source": [
    "# Finalmente hacemos una comparativa con la correlacion entre variables anterior, para afirmar \n",
    "# el incremento entre la relacion entre una y otra\n",
    "fig, ax = plt.subplots(1, 2, figsize=(16,8))\n",
    "sns.heatmap(data_sayer[['lagdias', 'laghoras', 'TOTAL']].corr(), annot=True, ax=ax[0]).set_title('Original data')\n",
    "sns.heatmap(sayer_featureTransform[['pow_lagdias', 'pow_laghoras', 'pow_total']].corr(), annot=True, ax=ax[1]).set_title('Pow Transformed data')"
   ]
  },
  {
   "cell_type": "code",
   "execution_count": null,
   "metadata": {},
   "outputs": [],
   "source": [
    "# Eliminacion de las variables temporales utilizadas para la transformacion de las variables\n",
    "del ax, fig, pow_trans, scaler"
   ]
  },
  {
   "cell_type": "markdown",
   "metadata": {},
   "source": [
    "# RESULTADOS OBTENIDOS"
   ]
  },
  {
   "cell_type": "markdown",
   "metadata": {},
   "source": [
    "En este entregable se logró encontrar el porcentaje significativo del número de rescates en carretera respecto al total.\n",
    "\n",
    "Además, se clasificaron las reparaciones realizadas acorde a su periodo de tiempo, y los costos de las mismas según su rango.\n",
    "\n",
    "Por último, se trabajaron los valores atípicos afirmando el incremento entre la variabilidad de los valores importantes para el proyecto."
   ]
  },
  {
   "cell_type": "markdown",
   "metadata": {},
   "source": [
    "# PARTE 2"
   ]
  },
  {
   "cell_type": "markdown",
   "metadata": {},
   "source": [
    "## Antiguedad de la flota"
   ]
  },
  {
   "cell_type": "code",
   "execution_count": null,
   "metadata": {},
   "outputs": [],
   "source": [
    "# Promedio de edad por cada Unidad segun su UnitID\n",
    "print(f'El promedio de edad de las unidades de tipo DOLLY es de: ', end='')\n",
    "print(f\"{2024 - data_sayer[data_sayer['UnitType'] == 'DOLLY'].groupby('UnitID')['UnitYear'].mean().mean()} años\")\n",
    "print(f'El promedio de edad de las unidades de tipo TRACTOR es de: ', end='')\n",
    "print(f\"{2024 - data_sayer[data_sayer['UnitType'] == 'TRACTOR'].groupby('UnitID')['UnitYear'].mean().mean()} años\")\n",
    "print(f'El promedio de edad de las unidades de tipo TRAILER es de: ', end='')\n",
    "print(f\"{2024 - data_sayer[data_sayer['UnitType'] == 'TRAILER'].groupby('UnitID')['UnitYear'].mean().mean():.2f} años\")"
   ]
  },
  {
   "cell_type": "markdown",
   "metadata": {},
   "source": [
    "## Datos por año"
   ]
  },
  {
   "cell_type": "code",
   "execution_count": null,
   "metadata": {},
   "outputs": [],
   "source": [
    "# Crear columna 'ClosedMonth' para identificar el mes de cierre de la reparacion}\n",
    "# Se calcula mediante la sumna de OpenedDate y lagdias\n",
    "data_sayer['ClosedMonth'] = (data_sayer['OpenedDate'] + pd.to_timedelta(data_sayer['lagdias'], unit='d')).dt.month"
   ]
  },
  {
   "cell_type": "code",
   "execution_count": null,
   "metadata": {},
   "outputs": [],
   "source": [
    "# Creacion de una columna 'MaintenanceYear' para identificar el año de mantenimiento\n",
    "data_sayer['MaintenanceYear'] = data_sayer['OpenedDate'].dt.year\n",
    "# Análisis de la columna 'MaintenanceYear' y los años de mantenimiento\n",
    "data_sayer['MaintenanceYear'].value_counts()"
   ]
  },
  {
   "cell_type": "code",
   "execution_count": null,
   "metadata": {},
   "outputs": [],
   "source": [
    "# Creacion de un DataFrame para los mantenimientos del año 2022\n",
    "data_sayer_2022 = data_sayer[data_sayer['MaintenanceYear'] == 2022]\n",
    "data_sayer_2022.sample(5)"
   ]
  },
  {
   "cell_type": "code",
   "execution_count": null,
   "metadata": {},
   "outputs": [],
   "source": [
    "# Creacion de un DataFrame para los mantenimientos del año 2023\n",
    "data_sayer_2023 = data_sayer[data_sayer['MaintenanceYear'] == 2023]\n",
    "data_sayer_2023.sample(5)"
   ]
  },
  {
   "cell_type": "code",
   "execution_count": null,
   "metadata": {},
   "outputs": [],
   "source": [
    "# Creacion de un DataFrame para los mantenimientos del año 2024\n",
    "data_sayer_2024 = data_sayer[data_sayer['MaintenanceYear'] == 2024]\n",
    "data_sayer_2024.sample(5)"
   ]
  },
  {
   "cell_type": "code",
   "execution_count": null,
   "metadata": {},
   "outputs": [],
   "source": [
    "# Borrado de la columna 'MaintenanceYear' de los DataFrames creados, pues ya no es necesaria\n",
    "data_sayer_2022 = data_sayer_2022.drop('MaintenanceYear', axis=1)\n",
    "data_sayer_2023 = data_sayer_2023.drop('MaintenanceYear', axis=1)\n",
    "data_sayer_2024 = data_sayer_2024.drop('MaintenanceYear', axis=1)"
   ]
  },
  {
   "cell_type": "markdown",
   "metadata": {},
   "source": [
    "## Estadística hasta el momento"
   ]
  },
  {
   "cell_type": "markdown",
   "metadata": {},
   "source": [
    "### Muestras"
   ]
  },
  {
   "cell_type": "code",
   "execution_count": null,
   "metadata": {},
   "outputs": [],
   "source": [
    "# Cantidad de elementos en la poblablacion (data)\n",
    "print(f'Nuestra poblacion (toda la base de datos) es de \\033[4m{data.index.size}\\033[0m elementos')\n",
    "# Cantida de elementos en la muestra (data_sayer)\n",
    "print(f'Nuestra muestra (proyecto Sayer Full) es de \\033[4m{data_sayer.index.size}\\033[0m elementos')\n",
    "# Cantidad de elementos en la muestra (data_sayer_2022)\n",
    "print(f'Nuestra muestra (Sayer 2022) es de \\033[4m{data_sayer_2022.index.size}\\033[0m elementos')\n",
    "# Cantidad de elementos en la muestra (data_sayer_2023)\n",
    "print(f'Nuestra muestra (Sayer 2023) es de \\033[4m{data_sayer_2023.index.size}\\033[0m elementos')\n",
    "# Cantidad de elementos en la muestra (data_sayer_2024)\n",
    "print(f'Nuestra muestra (Sayer 2024) es de \\033[4m{data_sayer_2024.index.size}\\033[0m elementos')\n",
    "# Tipos de unidades en la muestra (data_sayer). Agrupar por tipo de unidad y contar cuantas distintas hay segun su UnitID\n",
    "print(f'\\nEn  Sayer Full, se cuenta con:')\n",
    "print(data_sayer.groupby(\"UnitType\")[\"UnitID\"].nunique())"
   ]
  },
  {
   "cell_type": "markdown",
   "metadata": {},
   "source": [
    "### Reparaciones"
   ]
  },
  {
   "cell_type": "code",
   "execution_count": null,
   "metadata": {},
   "outputs": [],
   "source": [
    "# Cantidad de reparaciones por unidad de la flota de Sayer Full\n",
    "print(f'\\nEn Sayer Full, se tiene la siguiente \\033[4m\\033[1mfrecuencia de reparaciones:\\033[0m')\n",
    "sayer_maintenance_byUnit[['UnitID', 'UnitType','RepairCount', 'AvgDaysBetweenRepairs']]"
   ]
  },
  {
   "cell_type": "code",
   "execution_count": null,
   "metadata": {},
   "outputs": [],
   "source": [
    "# Cantidad de reparaciones segun el tipo de reparacion (ComplaintType)\n",
    "print(f'\\nEn Sayer Full, se tiene la siguiente \\033[4m\\033[1mdistribucion de reparaciones:\\033[0m')\n",
    "print(f\"{data_sayer.groupby(['ComplaintType'])['OrderID'].count()}\\n\")\n",
    "print(f\"{data_sayer.groupby(['MaintenanceYear'])['OrderID'].count()}\\n\")\n",
    "print(f\"{data_sayer.groupby(['MaintenanceYear', 'ComplaintType'])['OrderID'].count()}\\n\")\n"
   ]
  },
  {
   "cell_type": "code",
   "execution_count": null,
   "metadata": {},
   "outputs": [],
   "source": [
    "# Tiempo promedio entre reparaciones por 'UnitType' en la flota de Sayer Full\n",
    "print(f'\\nEn Sayer Full, se tiene el siguiente \\033[4m\\033[1mpromedio de tiempo entre reparaciones:\\033[0m')\n",
    "sayer_maintenance_byUnit.groupby('UnitType')['AvgHoursBetweenRepairs'].mean()"
   ]
  },
  {
   "cell_type": "code",
   "execution_count": null,
   "metadata": {},
   "outputs": [],
   "source": [
    "# Tiempo promedio en reparacion segun el tipo de reparacion (ComplaintType)\n",
    "print(f'\\nEn Sayer Full, se tiene el siguiente \\033[4m\\033[1mpromedio de tiempo en reparacion:\\033[0m')\n",
    "data_sayer.groupby('ComplaintType')['laghoras'].mean()"
   ]
  },
  {
   "cell_type": "code",
   "execution_count": null,
   "metadata": {},
   "outputs": [],
   "source": [
    "# Graficar la cantidad de reparaciones por mes para los distintos años\n",
    "\n",
    "# Cantidad de graficas a mostrar\n",
    "figure, axis = plt.subplots(1, 3)\n",
    "# Tamaño de las graficas\n",
    "figure.set_size_inches(16, 6)\n",
    "# Grafica 2022\n",
    "sns.countplot(data=data_sayer_2022, ax=axis[0], x='ClosedMonth', color='dimgray')\n",
    "axis[0].set_title('Cantidad de reparaciones por mes en 2022')\n",
    "axis[0].set_xlabel('Mes')\n",
    "axis[0].set_ylabel('Cantidad de reparaciones')\n",
    "# Grafica 2023\n",
    "sns.countplot(data=data_sayer_2023, ax=axis[1], x='ClosedMonth', color='dimgray')\n",
    "axis[1].set_title('Cantidad de reparaciones por mes en 2023')\n",
    "axis[1].set_xlabel('Mes')\n",
    "axis[1].set_ylabel('Cantidad de reparaciones')\n",
    "# Grafica 2024\n",
    "sns.countplot(data=data_sayer_2024, ax=axis[2], x='ClosedMonth', color='dimgray')\n",
    "axis[2].set_title('Cantidad de reparaciones por mes en 2024')\n",
    "axis[2].set_xlabel('Mes')\n",
    "axis[2].set_ylabel('Cantidad de reparaciones')\n",
    "\n",
    "# Añadir el conteo de reparaciones por tipo (ComplaintType) en cada mes\n",
    "sns.countplot(data=data_sayer_2022, ax=axis[0], x='ClosedMonth', hue='ComplaintType', hue_order=['CORRECTIVO', 'PREVENTIVO', 'DESCONOCIDO'], palette='Accent_r')\n",
    "sns.countplot(data=data_sayer_2023, ax=axis[1], x='ClosedMonth', hue='ComplaintType', hue_order=['CORRECTIVO', 'PREVENTIVO', 'DESCONOCIDO'], palette='Accent_r')\n",
    "sns.countplot(data=data_sayer_2024, ax=axis[2], x='ClosedMonth', hue='ComplaintType', hue_order=['CORRECTIVO', 'PREVENTIVO', 'DESCONOCIDO'], palette='Accent_r')\n",
    "\n",
    "plt.show()"
   ]
  },
  {
   "cell_type": "code",
   "execution_count": null,
   "metadata": {},
   "outputs": [],
   "source": [
    "# Graficar la cantidad de reparaciones por mes para los distintos años\n",
    "\n",
    "# Cantidad de graficas a mostrar\n",
    "figure, axis = plt.subplots(1, 3)\n",
    "# Tamaño de las graficas\n",
    "figure.set_size_inches(16, 6)\n",
    "# Grafica 2022\n",
    "sns.countplot(data=data_sayer_2022, ax=axis[0], x='ClosedMonth', color='dimgray')\n",
    "axis[0].set_title('Cantidad de reparaciones por mes en 2022')\n",
    "axis[0].set_xlabel('Mes')\n",
    "axis[0].set_ylabel('Cantidad de reparaciones')\n",
    "# Grafica 2023\n",
    "sns.countplot(data=data_sayer_2023, ax=axis[1], x='ClosedMonth', color='dimgray')\n",
    "axis[1].set_title('Cantidad de reparaciones por mes en 2023')\n",
    "axis[1].set_xlabel('Mes')\n",
    "axis[1].set_ylabel('Cantidad de reparaciones')\n",
    "# Grafica 2024\n",
    "sns.countplot(data=data_sayer_2024, ax=axis[2], x='ClosedMonth', color='dimgray')\n",
    "axis[2].set_title('Cantidad de reparaciones por mes en 2024')\n",
    "axis[2].set_xlabel('Mes')\n",
    "axis[2].set_ylabel('Cantidad de reparaciones')\n",
    "\n",
    "# Añadir el conteo de reparaciones por tipo (RepReason) en cada mes\n",
    "sns.countplot(data=data_sayer_2022, ax=axis[0], x='ClosedMonth', hue='RepReasonType', hue_order=['CORRECTIVO', 'PREVENTIVO', 'DESCONOCIDO'], palette='Accent_r')\n",
    "sns.countplot(data=data_sayer_2023, ax=axis[1], x='ClosedMonth', hue='RepReasonType', hue_order=['CORRECTIVO', 'PREVENTIVO', 'DESCONOCIDO'], palette='Accent_r')\n",
    "sns.countplot(data=data_sayer_2024, ax=axis[2], x='ClosedMonth', hue='RepReasonType', hue_order=['CORRECTIVO', 'PREVENTIVO', 'DESCONOCIDO'], palette='Accent_r')\n",
    "\n",
    "plt.show()"
   ]
  },
  {
   "cell_type": "markdown",
   "metadata": {},
   "source": [
    "### Costos"
   ]
  },
  {
   "cell_type": "code",
   "execution_count": null,
   "metadata": {},
   "outputs": [],
   "source": [
    "# Calcular la suma del costo total de las reparaciones para cada unidad de la flota\n",
    "print(f'Costo total de las reparaciones por unidad de la flota de Sayer Full:')\n",
    "data_sayer.groupby(['UnitID', 'UnitType'])['TOTAL'].sum().reset_index()"
   ]
  },
  {
   "cell_type": "code",
   "execution_count": null,
   "metadata": {},
   "outputs": [],
   "source": [
    "# Costo promedio por tipo de unidad\n",
    "print(f'Costo promedio de las reparaciones por tipo de unidad:')\n",
    "data_sayer.groupby('UnitType')['TOTAL'].mean().reset_index()"
   ]
  },
  {
   "cell_type": "code",
   "execution_count": null,
   "metadata": {},
   "outputs": [],
   "source": [
    "# Costo promedio por año de unidad\n",
    "print(f'Costo promedio de las reparaciones por tipo de unidad:')\n",
    "data_sayer.groupby(['UnitYear', 'UnitType'])['TOTAL'].mean().reset_index()"
   ]
  },
  {
   "cell_type": "code",
   "execution_count": null,
   "metadata": {},
   "outputs": [],
   "source": [
    "# Costo promedio por tipo de reparacion (ComplaintType)\n",
    "print(f'Costo promedio de las reparaciones por tipo de reparacion:')\n",
    "data_sayer.groupby('ComplaintType')['TOTAL'].mean().reset_index()"
   ]
  },
  {
   "cell_type": "code",
   "execution_count": null,
   "metadata": {},
   "outputs": [],
   "source": [
    "# Agrupar por 'ComplaintType' y calcular el costo promedio de las reparaciones\n",
    "data_sayer.groupby('ComplaintType')['TOTAL'].mean()"
   ]
  },
  {
   "cell_type": "markdown",
   "metadata": {},
   "source": [
    "# Parte 3 (Hipótesis Estadística)"
   ]
  },
  {
   "cell_type": "code",
   "execution_count": null,
   "metadata": {},
   "outputs": [],
   "source": [
    "# Reordenar la columnas del dataframe 'data_sayer'\n",
    "# Debe tener el siguiente orden: [UnitID, UnitType, UnitYear, kMS, ComplaintType, OpenedDate, lagdias, laghoras, MaintenanceYear, ClosedMonth, TOTAL, COMPLAINT, Jobcode, NumParte, EficienciaRep, ClasificacionCosto]\n",
    "sayer_analysis = data_sayer[['UnitID', 'UnitType', 'UnitYear', 'kMS', 'ComplaintType', 'OpenedDate', 'lagdias', 'laghoras', 'MaintenanceYear', 'ClosedMonth', 'TOTAL', 'COMPLAINT', 'Jobcode', 'NumParte', 'EficienciaRep', 'ClasificacionCosto']]\n",
    "# Reset index to avoid problems\n",
    "sayer_analysis.reset_index(drop=True, inplace=True)\n",
    "\n",
    "# Conteo de las reparaciones por año, tipo de unidad y tipo de reparacion a traves del conteo de registros\n",
    "sayer_analysis.groupby(['UnitYear', 'UnitType', 'ComplaintType'])['UnitID'].count()\n",
    "\n",
    "# Guardar el agrupamiento en un nuevo DataFrame\n",
    "sayer_analysis2 = sayer_analysis.groupby(['UnitYear', 'UnitType', 'ComplaintType'])['UnitID'].count().reset_index()\n",
    "\n",
    "# Renombrar la columna 'UnitID' por 'RepairCount'\n",
    "sayer_analysis2.rename(columns={'UnitID': 'RepairCount'}, inplace=True)\n",
    "\n",
    "# Porcentaje de reparaciones correctivas sobre el total de reparaciones por año y tipo de unidad\n",
    "sayer_analysis2['PercentOverTotal'] = sayer_analysis2['RepairCount'] / sayer_analysis2.groupby(['UnitYear', 'UnitType'])['RepairCount'].transform('sum')\n",
    "sayer_analysis2\n",
    "\n",
    "print(f'Porcentaje de reparaciones correctivas de Trailers en 2016:')\n",
    "print(f'{sayer_analysis2.iloc[0, 4] * 100:.2f}%')\n",
    "\n",
    "print(f'Porcentaje de reparaciones correctivas de Trailers en 2017:')\n",
    "print(f'{sayer_analysis2.iloc[3, 4] * 100:.2f}%')\n",
    "\n",
    "print(f'Porcentaje de reparaciones correctivas de Trailers en 2018:')\n",
    "print(f'{sayer_analysis2.iloc[6, 4] * 100:.2f}%')\n",
    "\n",
    "sayer_analysis2.groupby(['UnitYear'])['RepairCount'].sum()"
   ]
  },
  {
   "cell_type": "markdown",
   "metadata": {},
   "source": [
    "# Convertir a HTML"
   ]
  },
  {
   "cell_type": "code",
   "execution_count": null,
   "metadata": {},
   "outputs": [],
   "source": [
    "# %%shell\n",
    "# jupyter nbconvert --to html /content/E5_Construcción_y_transformación_de_datos.ipynb"
   ]
  }
 ],
 "metadata": {
  "language_info": {
   "name": "python",
   "pygments_lexer": "ipython3"
  }
 },
 "nbformat": 4,
 "nbformat_minor": 0
}
